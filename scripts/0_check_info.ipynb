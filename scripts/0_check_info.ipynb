{
 "cells": [
  {
   "cell_type": "code",
   "execution_count": 1,
   "id": "f34d2442",
   "metadata": {},
   "outputs": [],
   "source": [
    "import os\n",
    "import random\n",
    "import numpy as np\n",
    "import pandas as pd\n",
    "from tqdm import tqdm\n",
    "import matplotlib.pyplot as plt\n",
    "from collections import Counter"
   ]
  },
  {
   "cell_type": "markdown",
   "id": "84239686",
   "metadata": {},
   "source": [
    "# Plot Histograms"
   ]
  },
  {
   "cell_type": "code",
   "execution_count": 2,
   "id": "fe065caa",
   "metadata": {},
   "outputs": [
    {
     "data": {
      "text/html": [
       "<div>\n",
       "<style scoped>\n",
       "    .dataframe tbody tr th:only-of-type {\n",
       "        vertical-align: middle;\n",
       "    }\n",
       "\n",
       "    .dataframe tbody tr th {\n",
       "        vertical-align: top;\n",
       "    }\n",
       "\n",
       "    .dataframe thead th {\n",
       "        text-align: right;\n",
       "    }\n",
       "</style>\n",
       "<table border=\"1\" class=\"dataframe\">\n",
       "  <thead>\n",
       "    <tr style=\"text-align: right;\">\n",
       "      <th></th>\n",
       "      <th>id</th>\n",
       "      <th>summarized</th>\n",
       "      <th>text</th>\n",
       "      <th>root</th>\n",
       "      <th>length</th>\n",
       "    </tr>\n",
       "  </thead>\n",
       "  <tbody>\n",
       "    <tr>\n",
       "      <th>0</th>\n",
       "      <td>r2wyka</td>\n",
       "      <td>0</td>\n",
       "      <td>Can you learn to be less afraid?</td>\n",
       "      <td>learn</td>\n",
       "      <td>8</td>\n",
       "    </tr>\n",
       "    <tr>\n",
       "      <th>1</th>\n",
       "      <td>r2woiu</td>\n",
       "      <td>1</td>\n",
       "      <td>Do you like persons with a little edge to them?</td>\n",
       "      <td>like</td>\n",
       "      <td>11</td>\n",
       "    </tr>\n",
       "    <tr>\n",
       "      <th>2</th>\n",
       "      <td>r2wc2q</td>\n",
       "      <td>0</td>\n",
       "      <td>Why doesn't Activia use the word \"yogurt\" on t...</td>\n",
       "      <td>use</td>\n",
       "      <td>14</td>\n",
       "    </tr>\n",
       "    <tr>\n",
       "      <th>3</th>\n",
       "      <td>r2w43k</td>\n",
       "      <td>0</td>\n",
       "      <td>Do you ever feel like everyone else has it tog...</td>\n",
       "      <td>feel</td>\n",
       "      <td>13</td>\n",
       "    </tr>\n",
       "    <tr>\n",
       "      <th>4</th>\n",
       "      <td>r2vbm3</td>\n",
       "      <td>0</td>\n",
       "      <td>Does pressing keyboard keys reflect your perso...</td>\n",
       "      <td>reflect</td>\n",
       "      <td>8</td>\n",
       "    </tr>\n",
       "  </tbody>\n",
       "</table>\n",
       "</div>"
      ],
      "text/plain": [
       "       id  summarized                                               text  \\\n",
       "0  r2wyka           0                   Can you learn to be less afraid?   \n",
       "1  r2woiu           1    Do you like persons with a little edge to them?   \n",
       "2  r2wc2q           0  Why doesn't Activia use the word \"yogurt\" on t...   \n",
       "3  r2w43k           0  Do you ever feel like everyone else has it tog...   \n",
       "4  r2vbm3           0  Does pressing keyboard keys reflect your perso...   \n",
       "\n",
       "      root  length  \n",
       "0    learn       8  \n",
       "1     like      11  \n",
       "2      use      14  \n",
       "3     feel      13  \n",
       "4  reflect       8  "
      ]
     },
     "execution_count": 2,
     "metadata": {},
     "output_type": "execute_result"
    }
   ],
   "source": [
    "all_posts_df = pd.read_csv('../data/merged_q/all_posts.csv')\n",
    "all_posts_df.head()"
   ]
  },
  {
   "cell_type": "code",
   "execution_count": 3,
   "id": "37e50ceb",
   "metadata": {},
   "outputs": [
    {
     "name": "stdout",
     "output_type": "stream",
     "text": [
      "Min = 2\n",
      "Max = 105\n",
      "Mean = 11.84353245332413\n",
      "Median = 10.0\n"
     ]
    },
    {
     "data": {
      "image/png": "[encoded data removed]",
      "text/plain": [
       "<Figure size 432x288 with 1 Axes>"
      ]
     },
     "metadata": {
      "needs_background": "light"
     },
     "output_type": "display_data"
    }
   ],
   "source": [
    "lens = all_posts_df['length'].tolist()\n",
    "print('Min = {}'.format(min(lens)))\n",
    "print('Max = {}'.format(max(lens)))\n",
    "print('Mean = {}'.format(np.mean(lens)))\n",
    "print('Median = {}'.format(np.median(lens)))\n",
    "\n",
    "n, bins, patches = plt.hist(lens, range(60), facecolor='g', alpha=0.75)\n",
    "\n",
    "plt.xlabel('Length of Post')\n",
    "plt.ylabel('Count')\n",
    "plt.xlim(0, 60)\n",
    "plt.grid(True)\n",
    "plt.show()"
   ]
  },
  {
   "cell_type": "code",
   "execution_count": 4,
   "id": "4fc08d49",
   "metadata": {},
   "outputs": [
    {
     "data": {
      "text/html": [
       "<div>\n",
       "<style scoped>\n",
       "    .dataframe tbody tr th:only-of-type {\n",
       "        vertical-align: middle;\n",
       "    }\n",
       "\n",
       "    .dataframe tbody tr th {\n",
       "        vertical-align: top;\n",
       "    }\n",
       "\n",
       "    .dataframe thead th {\n",
       "        text-align: right;\n",
       "    }\n",
       "</style>\n",
       "<table border=\"1\" class=\"dataframe\">\n",
       "  <thead>\n",
       "    <tr style=\"text-align: right;\">\n",
       "      <th></th>\n",
       "      <th>id</th>\n",
       "      <th>parent_id</th>\n",
       "      <th>summarized</th>\n",
       "      <th>text</th>\n",
       "      <th>length</th>\n",
       "    </tr>\n",
       "  </thead>\n",
       "  <tbody>\n",
       "    <tr>\n",
       "      <th>0</th>\n",
       "      <td>hm5iqwj</td>\n",
       "      <td>r2nmvy</td>\n",
       "      <td>1</td>\n",
       "      <td>Conscious Club is campy in a good way</td>\n",
       "      <td>8</td>\n",
       "    </tr>\n",
       "    <tr>\n",
       "      <th>1</th>\n",
       "      <td>hm5jftd</td>\n",
       "      <td>r2npa3</td>\n",
       "      <td>0</td>\n",
       "      <td>I take one to two hours a day where I listen t...</td>\n",
       "      <td>24</td>\n",
       "    </tr>\n",
       "    <tr>\n",
       "      <th>2</th>\n",
       "      <td>hm5kaqv</td>\n",
       "      <td>r2nmvy</td>\n",
       "      <td>0</td>\n",
       "      <td>I like Scary Pockets.</td>\n",
       "      <td>5</td>\n",
       "    </tr>\n",
       "    <tr>\n",
       "      <th>3</th>\n",
       "      <td>hm5kddu</td>\n",
       "      <td>r2nylj</td>\n",
       "      <td>0</td>\n",
       "      <td>what keeps me calm is my prescription medication</td>\n",
       "      <td>8</td>\n",
       "    </tr>\n",
       "    <tr>\n",
       "      <th>4</th>\n",
       "      <td>hm5kig9</td>\n",
       "      <td>r2nylj</td>\n",
       "      <td>1</td>\n",
       "      <td>Wow you're amazingly talented.</td>\n",
       "      <td>6</td>\n",
       "    </tr>\n",
       "  </tbody>\n",
       "</table>\n",
       "</div>"
      ],
      "text/plain": [
       "        id parent_id  summarized  \\\n",
       "0  hm5iqwj    r2nmvy           1   \n",
       "1  hm5jftd    r2npa3           0   \n",
       "2  hm5kaqv    r2nmvy           0   \n",
       "3  hm5kddu    r2nylj           0   \n",
       "4  hm5kig9    r2nylj           1   \n",
       "\n",
       "                                                text  length  \n",
       "0              Conscious Club is campy in a good way       8  \n",
       "1  I take one to two hours a day where I listen t...      24  \n",
       "2                              I like Scary Pockets.       5  \n",
       "3   what keeps me calm is my prescription medication       8  \n",
       "4                     Wow you're amazingly talented.       6  "
      ]
     },
     "execution_count": 4,
     "metadata": {},
     "output_type": "execute_result"
    }
   ],
   "source": [
    "all_replies_df = pd.read_csv('../data/merged_q/all_replies.csv')\n",
    "all_replies_df.head()"
   ]
  },
  {
   "cell_type": "code",
   "execution_count": 5,
   "id": "a806da1a",
   "metadata": {},
   "outputs": [
    {
     "name": "stdout",
     "output_type": "stream",
     "text": [
      "Min = 2\n",
      "Max = 360\n",
      "Mean = 11.509432207808716\n",
      "Median = 9.0\n"
     ]
    },
    {
     "data": {
      "image/png": "[encoded data removed]",
      "text/plain": [
       "<Figure size 432x288 with 1 Axes>"
      ]
     },
     "metadata": {
      "needs_background": "light"
     },
     "output_type": "display_data"
    }
   ],
   "source": [
    "lens = all_replies_df['length'].tolist()\n",
    "print('Min = {}'.format(min(lens)))\n",
    "print('Max = {}'.format(max(lens)))\n",
    "print('Mean = {}'.format(np.mean(lens)))\n",
    "print('Median = {}'.format(np.median(lens)))\n",
    "\n",
    "n, bins, patches = plt.hist(lens, range(60), facecolor='g', alpha=0.75)\n",
    "\n",
    "plt.xlabel('Length of Reply')\n",
    "plt.ylabel('Count')\n",
    "plt.xlim(0, 60)\n",
    "plt.grid(True)\n",
    "plt.show()"
   ]
  },
  {
   "cell_type": "markdown",
   "id": "6147362f",
   "metadata": {},
   "source": [
    "# Check Number"
   ]
  },
  {
   "cell_type": "code",
   "execution_count": 6,
   "id": "222de1ef",
   "metadata": {},
   "outputs": [],
   "source": [
    "date_suffices = [\n",
    "    '20210501_20211231',\n",
    "    '20210101_20210430',\n",
    "    '20200101_20201231',\n",
    "    '20190101_20191231',\n",
    "    '20180101_20181231',\n",
    "    '20170101_20171231',\n",
    "    '20160101_20161231'\n",
    "]"
   ]
  },
  {
   "cell_type": "code",
   "execution_count": 7,
   "id": "f7d744bb",
   "metadata": {},
   "outputs": [
    {
     "name": "stdout",
     "output_type": "stream",
     "text": [
      "20210501_20211231 20756\n",
      "20210101_20210430 8470\n",
      "20200101_20201231 60261\n",
      "20190101_20191231 47595\n",
      "20180101_20181231 47640\n",
      "20170101_20171231 34064\n",
      "20160101_20161231 20968\n"
     ]
    }
   ],
   "source": [
    "for date_suffix in date_suffices:\n",
    "    submissions_df = pd.read_csv('../data/reddit/filtered_q/casual_conv_submissions_{}.csv'.format(date_suffix))\n",
    "    print(date_suffix, submissions_df.shape[0])"
   ]
  },
  {
   "cell_type": "code",
   "execution_count": 14,
   "id": "1cd574e8",
   "metadata": {},
   "outputs": [
    {
     "name": "stdout",
     "output_type": "stream",
     "text": [
      "20210501_20211231 #All: 311185, #2nd: 165434\n",
      "20210101_20210430 #All: 114924, #2nd: 60303\n",
      "20200101_20201231 #All: 936414, #2nd: 475643\n",
      "20190101_20191231 #All: 765173, #2nd: 368159\n",
      "20180101_20181231 #All: 1051149, #2nd: 457794\n",
      "20170101_20171231 #All: 967407, #2nd: 381294\n",
      "20160101_20161231 #All: 6400, #2nd: 240\n"
     ]
    }
   ],
   "source": [
    "for date_suffix in date_suffices:\n",
    "    comments_df = pd.read_csv('../data/reddit/raw/casual_conv_comments_{}.csv'.format(date_suffix))\n",
    "    print('{} #All: {}, #2nd: {}'.format(date_suffix, comments_df.shape[0],\n",
    "          comments_df[comments_df['link_id'] == comments_df['parent_id']].shape[0]))"
   ]
  },
  {
   "cell_type": "code",
   "execution_count": 16,
   "id": "ee2259fd",
   "metadata": {},
   "outputs": [
    {
     "name": "stdout",
     "output_type": "stream",
     "text": [
      "20210501_20211231 73077\n",
      "20210101_20210430 28280\n",
      "20200101_20201231 194411\n",
      "20190101_20191231 165944\n",
      "20180101_20181231 203263\n",
      "20170101_20171231 171235\n",
      "20160101_20161231 67\n"
     ]
    }
   ],
   "source": [
    "for date_suffix in date_suffices:\n",
    "    comments_df = pd.read_csv('../data/reddit/filtered_q/casual_conv_comments_{}.csv'.format(date_suffix))\n",
    "    print(date_suffix, comments_df.shape[0])"
   ]
  },
  {
   "cell_type": "code",
   "execution_count": 2,
   "id": "8b9d89eb",
   "metadata": {},
   "outputs": [
    {
     "data": {
      "text/html": [
       "<div>\n",
       "<style scoped>\n",
       "    .dataframe tbody tr th:only-of-type {\n",
       "        vertical-align: middle;\n",
       "    }\n",
       "\n",
       "    .dataframe tbody tr th {\n",
       "        vertical-align: top;\n",
       "    }\n",
       "\n",
       "    .dataframe thead th {\n",
       "        text-align: right;\n",
       "    }\n",
       "</style>\n",
       "<table border=\"1\" class=\"dataframe\">\n",
       "  <thead>\n",
       "    <tr style=\"text-align: right;\">\n",
       "      <th></th>\n",
       "      <th>id</th>\n",
       "      <th>summarized</th>\n",
       "      <th>text</th>\n",
       "      <th>root</th>\n",
       "      <th>length</th>\n",
       "    </tr>\n",
       "  </thead>\n",
       "  <tbody>\n",
       "    <tr>\n",
       "      <th>0</th>\n",
       "      <td>r2wyka</td>\n",
       "      <td>0</td>\n",
       "      <td>Can you learn to be less afraid?</td>\n",
       "      <td>learn</td>\n",
       "      <td>8</td>\n",
       "    </tr>\n",
       "    <tr>\n",
       "      <th>1</th>\n",
       "      <td>r2woiu</td>\n",
       "      <td>1</td>\n",
       "      <td>Do you like persons with a little edge to them?</td>\n",
       "      <td>like</td>\n",
       "      <td>11</td>\n",
       "    </tr>\n",
       "    <tr>\n",
       "      <th>2</th>\n",
       "      <td>r2wc2q</td>\n",
       "      <td>0</td>\n",
       "      <td>Why doesn't Activia use the word \"yogurt\" on t...</td>\n",
       "      <td>use</td>\n",
       "      <td>14</td>\n",
       "    </tr>\n",
       "    <tr>\n",
       "      <th>3</th>\n",
       "      <td>r2w43k</td>\n",
       "      <td>0</td>\n",
       "      <td>Do you ever feel like everyone else has it tog...</td>\n",
       "      <td>feel</td>\n",
       "      <td>13</td>\n",
       "    </tr>\n",
       "    <tr>\n",
       "      <th>4</th>\n",
       "      <td>r2vbm3</td>\n",
       "      <td>0</td>\n",
       "      <td>Does pressing keyboard keys reflect your perso...</td>\n",
       "      <td>reflect</td>\n",
       "      <td>8</td>\n",
       "    </tr>\n",
       "  </tbody>\n",
       "</table>\n",
       "</div>"
      ],
      "text/plain": [
       "       id  summarized                                               text  \\\n",
       "0  r2wyka           0                   Can you learn to be less afraid?   \n",
       "1  r2woiu           1    Do you like persons with a little edge to them?   \n",
       "2  r2wc2q           0  Why doesn't Activia use the word \"yogurt\" on t...   \n",
       "3  r2w43k           0  Do you ever feel like everyone else has it tog...   \n",
       "4  r2vbm3           0  Does pressing keyboard keys reflect your perso...   \n",
       "\n",
       "      root  length  \n",
       "0    learn       8  \n",
       "1     like      11  \n",
       "2      use      14  \n",
       "3     feel      13  \n",
       "4  reflect       8  "
      ]
     },
     "execution_count": 2,
     "metadata": {},
     "output_type": "execute_result"
    }
   ],
   "source": [
    "all_posts_df = pd.read_csv('../data/merged_q/all_posts.csv')\n",
    "all_posts_df.head()"
   ]
  },
  {
   "cell_type": "code",
   "execution_count": 3,
   "id": "13aadacd",
   "metadata": {},
   "outputs": [
    {
     "name": "stdout",
     "output_type": "stream",
     "text": [
      "(153559, 5)\n"
     ]
    }
   ],
   "source": [
    "print(all_posts_df.shape)"
   ]
  },
  {
   "cell_type": "code",
   "execution_count": 4,
   "id": "c7efa0ac",
   "metadata": {},
   "outputs": [
    {
     "data": {
      "text/html": [
       "<div>\n",
       "<style scoped>\n",
       "    .dataframe tbody tr th:only-of-type {\n",
       "        vertical-align: middle;\n",
       "    }\n",
       "\n",
       "    .dataframe tbody tr th {\n",
       "        vertical-align: top;\n",
       "    }\n",
       "\n",
       "    .dataframe thead th {\n",
       "        text-align: right;\n",
       "    }\n",
       "</style>\n",
       "<table border=\"1\" class=\"dataframe\">\n",
       "  <thead>\n",
       "    <tr style=\"text-align: right;\">\n",
       "      <th></th>\n",
       "      <th>id</th>\n",
       "      <th>parent_id</th>\n",
       "      <th>summarized</th>\n",
       "      <th>text</th>\n",
       "      <th>length</th>\n",
       "    </tr>\n",
       "  </thead>\n",
       "  <tbody>\n",
       "    <tr>\n",
       "      <th>0</th>\n",
       "      <td>hm5iqwj</td>\n",
       "      <td>r2nmvy</td>\n",
       "      <td>1</td>\n",
       "      <td>Conscious Club is campy in a good way</td>\n",
       "      <td>8</td>\n",
       "    </tr>\n",
       "    <tr>\n",
       "      <th>1</th>\n",
       "      <td>hm5jftd</td>\n",
       "      <td>r2npa3</td>\n",
       "      <td>0</td>\n",
       "      <td>I take one to two hours a day where I listen t...</td>\n",
       "      <td>24</td>\n",
       "    </tr>\n",
       "    <tr>\n",
       "      <th>2</th>\n",
       "      <td>hm5kaqv</td>\n",
       "      <td>r2nmvy</td>\n",
       "      <td>0</td>\n",
       "      <td>I like Scary Pockets.</td>\n",
       "      <td>5</td>\n",
       "    </tr>\n",
       "    <tr>\n",
       "      <th>3</th>\n",
       "      <td>hm5kddu</td>\n",
       "      <td>r2nylj</td>\n",
       "      <td>0</td>\n",
       "      <td>what keeps me calm is my prescription medication</td>\n",
       "      <td>8</td>\n",
       "    </tr>\n",
       "    <tr>\n",
       "      <th>4</th>\n",
       "      <td>hm5kig9</td>\n",
       "      <td>r2nylj</td>\n",
       "      <td>1</td>\n",
       "      <td>Wow you're amazingly talented.</td>\n",
       "      <td>6</td>\n",
       "    </tr>\n",
       "  </tbody>\n",
       "</table>\n",
       "</div>"
      ],
      "text/plain": [
       "        id parent_id  summarized  \\\n",
       "0  hm5iqwj    r2nmvy           1   \n",
       "1  hm5jftd    r2npa3           0   \n",
       "2  hm5kaqv    r2nmvy           0   \n",
       "3  hm5kddu    r2nylj           0   \n",
       "4  hm5kig9    r2nylj           1   \n",
       "\n",
       "                                                text  length  \n",
       "0              Conscious Club is campy in a good way       8  \n",
       "1  I take one to two hours a day where I listen t...      24  \n",
       "2                              I like Scary Pockets.       5  \n",
       "3   what keeps me calm is my prescription medication       8  \n",
       "4                     Wow you're amazingly talented.       6  "
      ]
     },
     "execution_count": 4,
     "metadata": {},
     "output_type": "execute_result"
    }
   ],
   "source": [
    "all_replies_df = pd.read_csv('../data/merged_q/all_replies.csv')\n",
    "all_replies_df.head()"
   ]
  },
  {
   "cell_type": "code",
   "execution_count": 5,
   "id": "e67e0319",
   "metadata": {},
   "outputs": [
    {
     "name": "stdout",
     "output_type": "stream",
     "text": [
      "(849589, 5)\n"
     ]
    }
   ],
   "source": [
    "print(all_replies_df.shape)"
   ]
  },
  {
   "cell_type": "code",
   "execution_count": 8,
   "id": "bf2215a0",
   "metadata": {},
   "outputs": [
    {
     "name": "stdout",
     "output_type": "stream",
     "text": [
      "(65017, 5)\n",
      "15.747585479170084\n",
      "(236322, 5)\n",
      "208.0503392368555\n"
     ]
    }
   ],
   "source": [
    "all_posts_df = pd.read_csv('../data/merged_q/all_posts_max_len_10.csv')\n",
    "print(all_posts_df.shape)\n",
    "N = all_posts_df.shape[0]\n",
    "print(N*N*32/8/1024/1024/1024)\n",
    "all_replies_df = pd.read_csv('../data/merged_q/all_replies_max_len_10.csv')\n",
    "print(all_replies_df.shape)\n",
    "N = all_replies_df.shape[0]\n",
    "print(N*N*32/8/1024/1024/1024)"
   ]
  },
  {
   "cell_type": "code",
   "execution_count": 7,
   "id": "3ff62491",
   "metadata": {},
   "outputs": [
    {
     "name": "stdout",
     "output_type": "stream",
     "text": [
      "(13312, 6)\n",
      "(13312, 4)\n"
     ]
    }
   ],
   "source": [
    "ed_first_turns_df = pd.read_csv('../data/ed/filtered_q/ed_first_turns.csv')\n",
    "print(ed_first_turns_df.shape)\n",
    "ed_second_turns_df = pd.read_csv('../data/ed/filtered_q/ed_second_turns.csv')\n",
    "print(ed_second_turns_df.shape)"
   ]
  },
  {
   "cell_type": "markdown",
   "id": "230e74cb",
   "metadata": {},
   "source": [
    "# Questions"
   ]
  },
  {
   "cell_type": "code",
   "execution_count": 11,
   "id": "f92c1fb8",
   "metadata": {},
   "outputs": [
    {
     "data": {
      "text/html": [
       "<div>\n",
       "<style scoped>\n",
       "    .dataframe tbody tr th:only-of-type {\n",
       "        vertical-align: middle;\n",
       "    }\n",
       "\n",
       "    .dataframe tbody tr th {\n",
       "        vertical-align: top;\n",
       "    }\n",
       "\n",
       "    .dataframe thead th {\n",
       "        text-align: right;\n",
       "    }\n",
       "</style>\n",
       "<table border=\"1\" class=\"dataframe\">\n",
       "  <thead>\n",
       "    <tr style=\"text-align: right;\">\n",
       "      <th></th>\n",
       "      <th>id</th>\n",
       "      <th>summarized</th>\n",
       "      <th>text</th>\n",
       "      <th>root</th>\n",
       "      <th>length</th>\n",
       "    </tr>\n",
       "  </thead>\n",
       "  <tbody>\n",
       "    <tr>\n",
       "      <th>0</th>\n",
       "      <td>r2vbm3</td>\n",
       "      <td>0</td>\n",
       "      <td>Does pressing keyboard keys reflect your perso...</td>\n",
       "      <td>reflect</td>\n",
       "      <td>8</td>\n",
       "    </tr>\n",
       "    <tr>\n",
       "      <th>1</th>\n",
       "      <td>r2unhy</td>\n",
       "      <td>0</td>\n",
       "      <td>Need some socialization this week ☺️</td>\n",
       "      <td>need</td>\n",
       "      <td>7</td>\n",
       "    </tr>\n",
       "    <tr>\n",
       "      <th>2</th>\n",
       "      <td>r2tj6o</td>\n",
       "      <td>1</td>\n",
       "      <td>Quarter life crises starts now maybe haha?</td>\n",
       "      <td>start</td>\n",
       "      <td>8</td>\n",
       "    </tr>\n",
       "    <tr>\n",
       "      <th>3</th>\n",
       "      <td>r2sz0f</td>\n",
       "      <td>1</td>\n",
       "      <td>Do I want to get better?</td>\n",
       "      <td>want</td>\n",
       "      <td>7</td>\n",
       "    </tr>\n",
       "    <tr>\n",
       "      <th>4</th>\n",
       "      <td>r2sj5n</td>\n",
       "      <td>0</td>\n",
       "      <td>Should I drop them?</td>\n",
       "      <td>drop</td>\n",
       "      <td>5</td>\n",
       "    </tr>\n",
       "  </tbody>\n",
       "</table>\n",
       "</div>"
      ],
      "text/plain": [
       "       id  summarized                                               text  \\\n",
       "0  r2vbm3           0  Does pressing keyboard keys reflect your perso...   \n",
       "1  r2unhy           0               Need some socialization this week ☺️   \n",
       "2  r2tj6o           1         Quarter life crises starts now maybe haha?   \n",
       "3  r2sz0f           1                           Do I want to get better?   \n",
       "4  r2sj5n           0                                Should I drop them?   \n",
       "\n",
       "      root  length  \n",
       "0  reflect       8  \n",
       "1     need       7  \n",
       "2    start       8  \n",
       "3     want       7  \n",
       "4     drop       5  "
      ]
     },
     "execution_count": 11,
     "metadata": {},
     "output_type": "execute_result"
    }
   ],
   "source": [
    "all_posts_df = pd.read_csv('../data/merged_q/all_posts_max_len_10.csv')\n",
    "all_posts_df.head()"
   ]
  },
  {
   "cell_type": "code",
   "execution_count": 12,
   "id": "e2529228",
   "metadata": {},
   "outputs": [
    {
     "name": "stderr",
     "output_type": "stream",
     "text": [
      "100%|████████████████████████████████████████████████████████████████████████████████████████████████████████| 65017/65017 [00:04<00:00, 15646.89it/s]\n"
     ]
    },
    {
     "data": {
      "text/html": [
       "<div>\n",
       "<style scoped>\n",
       "    .dataframe tbody tr th:only-of-type {\n",
       "        vertical-align: middle;\n",
       "    }\n",
       "\n",
       "    .dataframe tbody tr th {\n",
       "        vertical-align: top;\n",
       "    }\n",
       "\n",
       "    .dataframe thead th {\n",
       "        text-align: right;\n",
       "    }\n",
       "</style>\n",
       "<table border=\"1\" class=\"dataframe\">\n",
       "  <thead>\n",
       "    <tr style=\"text-align: right;\">\n",
       "      <th></th>\n",
       "      <th>id</th>\n",
       "      <th>summarized</th>\n",
       "      <th>text</th>\n",
       "      <th>root</th>\n",
       "      <th>length</th>\n",
       "    </tr>\n",
       "  </thead>\n",
       "  <tbody>\n",
       "    <tr>\n",
       "      <th>0</th>\n",
       "      <td>r2vbm3</td>\n",
       "      <td>0</td>\n",
       "      <td>Does pressing keyboard keys reflect your perso...</td>\n",
       "      <td>reflect</td>\n",
       "      <td>8</td>\n",
       "    </tr>\n",
       "    <tr>\n",
       "      <th>2</th>\n",
       "      <td>r2tj6o</td>\n",
       "      <td>1</td>\n",
       "      <td>Quarter life crises starts now maybe haha?</td>\n",
       "      <td>start</td>\n",
       "      <td>8</td>\n",
       "    </tr>\n",
       "    <tr>\n",
       "      <th>3</th>\n",
       "      <td>r2sz0f</td>\n",
       "      <td>1</td>\n",
       "      <td>Do I want to get better?</td>\n",
       "      <td>want</td>\n",
       "      <td>7</td>\n",
       "    </tr>\n",
       "    <tr>\n",
       "      <th>4</th>\n",
       "      <td>r2sj5n</td>\n",
       "      <td>0</td>\n",
       "      <td>Should I drop them?</td>\n",
       "      <td>drop</td>\n",
       "      <td>5</td>\n",
       "    </tr>\n",
       "    <tr>\n",
       "      <th>7</th>\n",
       "      <td>r2r2mi</td>\n",
       "      <td>1</td>\n",
       "      <td>Does anyone here work 2nd shift?</td>\n",
       "      <td>work</td>\n",
       "      <td>7</td>\n",
       "    </tr>\n",
       "  </tbody>\n",
       "</table>\n",
       "</div>"
      ],
      "text/plain": [
       "       id  summarized                                               text  \\\n",
       "0  r2vbm3           0  Does pressing keyboard keys reflect your perso...   \n",
       "2  r2tj6o           1         Quarter life crises starts now maybe haha?   \n",
       "3  r2sz0f           1                           Do I want to get better?   \n",
       "4  r2sj5n           0                                Should I drop them?   \n",
       "7  r2r2mi           1                   Does anyone here work 2nd shift?   \n",
       "\n",
       "      root  length  \n",
       "0  reflect       8  \n",
       "2    start       8  \n",
       "3     want       7  \n",
       "4     drop       5  \n",
       "7     work       7  "
      ]
     },
     "execution_count": 12,
     "metadata": {},
     "output_type": "execute_result"
    }
   ],
   "source": [
    "indices = []\n",
    "for i in tqdm(range(all_posts_df.shape[0])):\n",
    "    text = all_posts_df.iloc[i]['text']\n",
    "    if text.endswith('?'):\n",
    "        indices.append(i)\n",
    "all_posts_q_df = all_posts_df.iloc[indices]\n",
    "all_posts_q_df.head()"
   ]
  },
  {
   "cell_type": "code",
   "execution_count": 16,
   "id": "0a820b07",
   "metadata": {},
   "outputs": [
    {
     "data": {
      "text/html": [
       "<div>\n",
       "<style scoped>\n",
       "    .dataframe tbody tr th:only-of-type {\n",
       "        vertical-align: middle;\n",
       "    }\n",
       "\n",
       "    .dataframe tbody tr th {\n",
       "        vertical-align: top;\n",
       "    }\n",
       "\n",
       "    .dataframe thead th {\n",
       "        text-align: right;\n",
       "    }\n",
       "</style>\n",
       "<table border=\"1\" class=\"dataframe\">\n",
       "  <thead>\n",
       "    <tr style=\"text-align: right;\">\n",
       "      <th></th>\n",
       "      <th>id</th>\n",
       "      <th>summarized</th>\n",
       "      <th>text</th>\n",
       "      <th>root</th>\n",
       "      <th>length</th>\n",
       "    </tr>\n",
       "  </thead>\n",
       "  <tbody>\n",
       "    <tr>\n",
       "      <th>27025</th>\n",
       "      <td>ckrwfr</td>\n",
       "      <td>0</td>\n",
       "      <td>Should I quit my new job?</td>\n",
       "      <td>quit</td>\n",
       "      <td>7</td>\n",
       "    </tr>\n",
       "    <tr>\n",
       "      <th>40947</th>\n",
       "      <td>8uyjmx</td>\n",
       "      <td>0</td>\n",
       "      <td>Does hard work really ever pay off?</td>\n",
       "      <td>pay</td>\n",
       "      <td>8</td>\n",
       "    </tr>\n",
       "    <tr>\n",
       "      <th>11702</th>\n",
       "      <td>hc3zct</td>\n",
       "      <td>0</td>\n",
       "      <td>Why does my brother never take my side?</td>\n",
       "      <td>take</td>\n",
       "      <td>9</td>\n",
       "    </tr>\n",
       "    <tr>\n",
       "      <th>35269</th>\n",
       "      <td>9xwj30</td>\n",
       "      <td>1</td>\n",
       "      <td>How do you guys keep positive?</td>\n",
       "      <td>keep</td>\n",
       "      <td>7</td>\n",
       "    </tr>\n",
       "    <tr>\n",
       "      <th>4980</th>\n",
       "      <td>lwpcig</td>\n",
       "      <td>0</td>\n",
       "      <td>How do I survive this situation?</td>\n",
       "      <td>survive</td>\n",
       "      <td>7</td>\n",
       "    </tr>\n",
       "    <tr>\n",
       "      <th>...</th>\n",
       "      <td>...</td>\n",
       "      <td>...</td>\n",
       "      <td>...</td>\n",
       "      <td>...</td>\n",
       "      <td>...</td>\n",
       "    </tr>\n",
       "    <tr>\n",
       "      <th>28972</th>\n",
       "      <td>c25jn3</td>\n",
       "      <td>0</td>\n",
       "      <td>Have you ever had a ghost experience?</td>\n",
       "      <td>have</td>\n",
       "      <td>8</td>\n",
       "    </tr>\n",
       "    <tr>\n",
       "      <th>14697</th>\n",
       "      <td>g40jwr</td>\n",
       "      <td>0</td>\n",
       "      <td>Do you eat potato skins on baked potatoes?</td>\n",
       "      <td>eat</td>\n",
       "      <td>9</td>\n",
       "    </tr>\n",
       "    <tr>\n",
       "      <th>40385</th>\n",
       "      <td>8yrm5q</td>\n",
       "      <td>1</td>\n",
       "      <td>Cheesy or should candid photos be hung up?</td>\n",
       "      <td>hang</td>\n",
       "      <td>9</td>\n",
       "    </tr>\n",
       "    <tr>\n",
       "      <th>59427</th>\n",
       "      <td>5uq5jr</td>\n",
       "      <td>0</td>\n",
       "      <td>What TV series are you currently enjoying?</td>\n",
       "      <td>enjoy</td>\n",
       "      <td>8</td>\n",
       "    </tr>\n",
       "    <tr>\n",
       "      <th>3155</th>\n",
       "      <td>o0z3m4</td>\n",
       "      <td>1</td>\n",
       "      <td>Anybody know why that would happen?</td>\n",
       "      <td>know</td>\n",
       "      <td>7</td>\n",
       "    </tr>\n",
       "  </tbody>\n",
       "</table>\n",
       "<p>100 rows × 5 columns</p>\n",
       "</div>"
      ],
      "text/plain": [
       "           id  summarized                                        text  \\\n",
       "27025  ckrwfr           0                   Should I quit my new job?   \n",
       "40947  8uyjmx           0         Does hard work really ever pay off?   \n",
       "11702  hc3zct           0     Why does my brother never take my side?   \n",
       "35269  9xwj30           1              How do you guys keep positive?   \n",
       "4980   lwpcig           0            How do I survive this situation?   \n",
       "...       ...         ...                                         ...   \n",
       "28972  c25jn3           0       Have you ever had a ghost experience?   \n",
       "14697  g40jwr           0  Do you eat potato skins on baked potatoes?   \n",
       "40385  8yrm5q           1  Cheesy or should candid photos be hung up?   \n",
       "59427  5uq5jr           0  What TV series are you currently enjoying?   \n",
       "3155   o0z3m4           1         Anybody know why that would happen?   \n",
       "\n",
       "          root  length  \n",
       "27025     quit       7  \n",
       "40947      pay       8  \n",
       "11702     take       9  \n",
       "35269     keep       7  \n",
       "4980   survive       7  \n",
       "...        ...     ...  \n",
       "28972     have       8  \n",
       "14697      eat       9  \n",
       "40385     hang       9  \n",
       "59427    enjoy       8  \n",
       "3155      know       7  \n",
       "\n",
       "[100 rows x 5 columns]"
      ]
     },
     "execution_count": 16,
     "metadata": {},
     "output_type": "execute_result"
    }
   ],
   "source": [
    "random_idx = np.random.choice(indices, 100, replace = False)\n",
    "all_posts_q_df = all_posts_df.iloc[random_idx]\n",
    "all_posts_q_df"
   ]
  },
  {
   "cell_type": "code",
   "execution_count": 17,
   "id": "3eef278e",
   "metadata": {},
   "outputs": [],
   "source": [
    "all_posts_q_df.to_csv('../data/merged_q/all_posts_max_len_10_sample_questions.csv', index = False)"
   ]
  },
  {
   "cell_type": "code",
   "execution_count": null,
   "id": "af0c0ef8",
   "metadata": {},
   "outputs": [],
   "source": []
  }
 ],
 "metadata": {
  "kernelspec": {
   "display_name": "Python 3 (ipykernel)",
   "language": "python",
   "name": "python3"
  },
  "language_info": {
   "codemirror_mode": {
    "name": "ipython",
    "version": 3
   },
   "file_extension": ".py",
   "mimetype": "text/x-python",
   "name": "python",
   "nbconvert_exporter": "python",
   "pygments_lexer": "ipython3",
   "version": "3.10.2"
  }
 },
 "nbformat": 4,
 "nbformat_minor": 5
}
