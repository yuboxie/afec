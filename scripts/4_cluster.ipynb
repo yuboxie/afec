{
 "cells": [
  {
   "cell_type": "code",
   "execution_count": 1,
   "metadata": {},
   "outputs": [],
   "source": [
    "import os\n",
    "import csv\n",
    "import time\n",
    "import pickle\n",
    "import numpy as np\n",
    "import pandas as pd\n",
    "from tqdm import tqdm\n",
    "from sentence_transformers import SentenceTransformer, util\n",
    "# import networkx as nx\n",
    "# from pyvis.network import Network"
   ]
  },
  {
   "cell_type": "code",
   "execution_count": 2,
   "metadata": {},
   "outputs": [],
   "source": [
    "# model = SentenceTransformer('all-MiniLM-L6-v2')\n",
    "model = SentenceTransformer('all-mpnet-base-v2')"
   ]
  },
  {
   "cell_type": "markdown",
   "metadata": {},
   "source": [
    "# Read Data and Encode"
   ]
  },
  {
   "cell_type": "code",
   "execution_count": 3,
   "metadata": {},
   "outputs": [
    {
     "name": "stdout",
     "output_type": "stream",
     "text": [
      "# Posts: 152680, # Replies: 838785\n"
     ]
    }
   ],
   "source": [
    "all_posts_df = pd.read_csv('../data/merged_q/all_posts_max_len_40.csv')\n",
    "all_replies_df = pd.read_csv('../data/merged_q/all_replies_max_len_40.csv')\n",
    "print('# Posts: {}, # Replies: {}'.format(all_posts_df.shape[0], all_replies_df.shape[0]))"
   ]
  },
  {
   "cell_type": "code",
   "execution_count": 4,
   "metadata": {},
   "outputs": [],
   "source": [
    "all_posts_text = all_posts_df['text'].tolist()\n",
    "all_replies_text = all_replies_df['text'].tolist()"
   ]
  },
  {
   "cell_type": "code",
   "execution_count": 5,
   "metadata": {},
   "outputs": [
    {
     "data": {
      "application/vnd.jupyter.widget-view+json": {
       "model_id": "e421c2fec6064e97b52608efb4afcd64",
       "version_major": 2,
       "version_minor": 0
      },
      "text/plain": [
       "Batches:   0%|          | 0/1193 [00:00<?, ?it/s]"
      ]
     },
     "metadata": {},
     "output_type": "display_data"
    }
   ],
   "source": [
    "all_posts_embed = model.encode(all_posts_text, batch_size = 128, show_progress_bar = True, convert_to_numpy = True)"
   ]
  },
  {
   "cell_type": "code",
   "execution_count": 6,
   "metadata": {},
   "outputs": [
    {
     "data": {
      "text/plain": [
       "(152680, 768)"
      ]
     },
     "execution_count": 6,
     "metadata": {},
     "output_type": "execute_result"
    }
   ],
   "source": [
    "all_posts_embed.shape"
   ]
  },
  {
   "cell_type": "code",
   "execution_count": 7,
   "metadata": {},
   "outputs": [
    {
     "data": {
      "application/vnd.jupyter.widget-view+json": {
       "model_id": "c4218cd1e8c6424eaae48e856425a9df",
       "version_major": 2,
       "version_minor": 0
      },
      "text/plain": [
       "Batches:   0%|          | 0/6554 [00:00<?, ?it/s]"
      ]
     },
     "metadata": {},
     "output_type": "display_data"
    }
   ],
   "source": [
    "all_replies_embed = model.encode(all_replies_text, batch_size = 128, show_progress_bar = True, convert_to_numpy = True)"
   ]
  },
  {
   "cell_type": "code",
   "execution_count": 8,
   "metadata": {},
   "outputs": [
    {
     "data": {
      "text/plain": [
       "(838785, 768)"
      ]
     },
     "execution_count": 8,
     "metadata": {},
     "output_type": "execute_result"
    }
   ],
   "source": [
    "all_replies_embed.shape"
   ]
  },
  {
   "cell_type": "code",
   "execution_count": 9,
   "metadata": {},
   "outputs": [],
   "source": [
    "np.save('../data/merged_q/all_posts_max_len_40_embed.npy', all_posts_embed)\n",
    "np.save('../data/merged_q/all_replies_max_len_40_embed.npy', all_replies_embed)"
   ]
  },
  {
   "cell_type": "markdown",
   "metadata": {},
   "source": [
    "# Clustering"
   ]
  },
  {
   "cell_type": "code",
   "execution_count": 7,
   "metadata": {},
   "outputs": [],
   "source": [
    "def community_detection(embeddings, threshold=0.75, min_community_size=10, init_max_size=1000):\n",
    "    \"\"\"\n",
    "    Function for Fast Community Detection\n",
    "    Finds in the embeddings all communities, i.e. embeddings that are close (closer than threshold).\n",
    "    Returns only communities that are larger than min_community_size. The communities are returned\n",
    "    in decreasing order. The first element in each list is the central point in the community.\n",
    "    \"\"\"\n",
    "\n",
    "    # Compute cosine similarity scores\n",
    "    cos_scores = util.pytorch_cos_sim(embeddings, embeddings)\n",
    "\n",
    "    # Minimum size for a community\n",
    "    top_k_values, _ = cos_scores.topk(k=min_community_size, largest=True)\n",
    "\n",
    "    # Filter for rows >= min_threshold\n",
    "    extracted_communities = []\n",
    "    for i in range(len(top_k_values)):\n",
    "        if top_k_values[i][-1] >= threshold:\n",
    "            new_cluster = []\n",
    "\n",
    "            # Only check top k most similar entries\n",
    "            top_val_large, top_idx_large = cos_scores[i].topk(k=init_max_size, largest=True)\n",
    "            top_idx_large = top_idx_large.tolist()\n",
    "            top_val_large = top_val_large.tolist()\n",
    "\n",
    "            if top_val_large[-1] < threshold:\n",
    "                for idx, val in zip(top_idx_large, top_val_large):\n",
    "                    if val < threshold:\n",
    "                        break\n",
    "\n",
    "                    new_cluster.append(idx)\n",
    "            else:\n",
    "                # Iterate over all entries (slow)\n",
    "                for idx, val in enumerate(cos_scores[i].tolist()):\n",
    "                    if val >= threshold:\n",
    "                        new_cluster.append(idx)\n",
    "\n",
    "            extracted_communities.append(new_cluster)\n",
    "\n",
    "    # Largest cluster first\n",
    "    extracted_communities = sorted(extracted_communities, key=lambda x: len(x), reverse=True)\n",
    "\n",
    "    # Step 2) Remove overlapping communities\n",
    "    unique_communities = []\n",
    "    extracted_ids = set()\n",
    "\n",
    "    for community in extracted_communities:\n",
    "        add_cluster = True\n",
    "        for idx in community:\n",
    "            if idx in extracted_ids:\n",
    "                add_cluster = False\n",
    "                break\n",
    "\n",
    "        if add_cluster:\n",
    "            unique_communities.append(community)\n",
    "            for idx in community:\n",
    "                extracted_ids.add(idx)\n",
    "\n",
    "    return unique_communities"
   ]
  },
  {
   "cell_type": "code",
   "execution_count": 10,
   "metadata": {},
   "outputs": [],
   "source": [
    "# all_events_clusters = community_detection(all_events_embed, min_community_size=2, threshold=0.8)\n",
    "all_posts_clusters = util.community_detection(all_posts_embed, min_community_size=2, threshold=0.8)"
   ]
  },
  {
   "cell_type": "code",
   "execution_count": 11,
   "metadata": {},
   "outputs": [],
   "source": [
    "# with open('all_events_clusters.pickle', 'rb') as f:\n",
    "#     all_events_clusters = pickle.load(f)\n",
    "with open('../data/merged_q/all_posts_max_len_10_clusters.pickle', 'wb') as f:\n",
    "    pickle.dump(all_posts_clusters, f)"
   ]
  },
  {
   "cell_type": "code",
   "execution_count": 13,
   "metadata": {
    "scrolled": true
   },
   "outputs": [
    {
     "data": {
      "text/plain": [
       "4786"
      ]
     },
     "execution_count": 13,
     "metadata": {},
     "output_type": "execute_result"
    }
   ],
   "source": [
    "len(all_posts_clusters)"
   ]
  },
  {
   "cell_type": "code",
   "execution_count": 10,
   "metadata": {},
   "outputs": [],
   "source": [
    "# for i, cluster in enumerate(all_events_clusters):\n",
    "#     print(\"\\nCluster {}, #{} Elements \".format(i+1, len(cluster)))\n",
    "#     for j in cluster:\n",
    "#         print(\"\\t\", all_events_df.iloc[j]['text'])"
   ]
  },
  {
   "cell_type": "code",
   "execution_count": 12,
   "metadata": {},
   "outputs": [],
   "source": [
    "# all_replies_clusters = community_detection(all_replies_embed, min_community_size=2, threshold=0.8)"
   ]
  },
  {
   "cell_type": "code",
   "execution_count": 11,
   "metadata": {},
   "outputs": [],
   "source": [
    "with open('all_replies_clusters.pickle', 'rb') as f:\n",
    "    all_replies_clusters = pickle.load(f)"
   ]
  },
  {
   "cell_type": "code",
   "execution_count": 12,
   "metadata": {},
   "outputs": [
    {
     "data": {
      "text/plain": [
       "8316"
      ]
     },
     "execution_count": 12,
     "metadata": {},
     "output_type": "execute_result"
    }
   ],
   "source": [
    "len(all_replies_clusters)"
   ]
  },
  {
   "cell_type": "code",
   "execution_count": 13,
   "metadata": {},
   "outputs": [],
   "source": [
    "# for i, cluster in enumerate(all_replies_clusters):\n",
    "#     print(\"\\nCluster {}, #{} Elements \".format(i+1, len(cluster)))\n",
    "#     for j in cluster:\n",
    "#         print(\"\\t\", all_replies_df.iloc[j]['text'])"
   ]
  },
  {
   "cell_type": "code",
   "execution_count": 18,
   "metadata": {},
   "outputs": [
    {
     "name": "stdout",
     "output_type": "stream",
     "text": [
      "Num posts clustered = 20798\n",
      "Remaining num posts = 44219\n",
      "Total num post nodes = 49005\n"
     ]
    }
   ],
   "source": [
    "num_posts_clustered = 0\n",
    "for i in all_posts_clusters:\n",
    "    num_posts_clustered += len(i)\n",
    "print('Num posts clustered = {}'.format(num_posts_clustered))\n",
    "print('Remaining num posts = {}'.format(all_posts_df.shape[0] - num_posts_clustered))\n",
    "print('Total num post nodes = {}'.format(all_posts_df.shape[0] - num_posts_clustered + len(all_posts_clusters)))"
   ]
  },
  {
   "cell_type": "code",
   "execution_count": 14,
   "metadata": {},
   "outputs": [],
   "source": [
    "cluster_post_ids = []\n",
    "for i in all_posts_clusters:\n",
    "    tmp_list = []\n",
    "    for j in i:\n",
    "        tmp_list.append(all_posts_df.iloc[j]['id'])\n",
    "    cluster_post_ids.append(tmp_list)\n",
    "\n",
    "all_posts_clusters_dict = {'cluster_id': ['post_cluster_' + str(i) for i in range(len(all_posts_clusters))],\n",
    "                           'text': [all_posts_df.iloc[i[0]]['text'] for i in all_posts_clusters],\n",
    "                           'post_id': cluster_post_ids,\n",
    "                           'num_posts': [len(i) for i in all_posts_clusters]}"
   ]
  },
  {
   "cell_type": "code",
   "execution_count": 15,
   "metadata": {},
   "outputs": [],
   "source": [
    "all_posts_clusters_df = pd.DataFrame(all_posts_clusters_dict)"
   ]
  },
  {
   "cell_type": "code",
   "execution_count": 16,
   "metadata": {},
   "outputs": [
    {
     "data": {
      "text/html": [
       "<div>\n",
       "<style scoped>\n",
       "    .dataframe tbody tr th:only-of-type {\n",
       "        vertical-align: middle;\n",
       "    }\n",
       "\n",
       "    .dataframe tbody tr th {\n",
       "        vertical-align: top;\n",
       "    }\n",
       "\n",
       "    .dataframe thead th {\n",
       "        text-align: right;\n",
       "    }\n",
       "</style>\n",
       "<table border=\"1\" class=\"dataframe\">\n",
       "  <thead>\n",
       "    <tr style=\"text-align: right;\">\n",
       "      <th></th>\n",
       "      <th>cluster_id</th>\n",
       "      <th>text</th>\n",
       "      <th>post_id</th>\n",
       "      <th>num_posts</th>\n",
       "    </tr>\n",
       "  </thead>\n",
       "  <tbody>\n",
       "    <tr>\n",
       "      <th>0</th>\n",
       "      <td>post_cluster_0</td>\n",
       "      <td>How is everyone’s day going?</td>\n",
       "      <td>[8voq6u, fi7zg1, 638arm, 7555f1, aem2mz, ay8bi...</td>\n",
       "      <td>268</td>\n",
       "    </tr>\n",
       "    <tr>\n",
       "      <th>1</th>\n",
       "      <td>post_cluster_1</td>\n",
       "      <td>Does anybody want to talk?</td>\n",
       "      <td>[745ahc, 8rpitj, 8ccu0s, 5xr44k, 6pblh9, aouvy...</td>\n",
       "      <td>197</td>\n",
       "    </tr>\n",
       "    <tr>\n",
       "      <th>2</th>\n",
       "      <td>post_cluster_2</td>\n",
       "      <td>Does anyone else ever feel the same?</td>\n",
       "      <td>[8mbot2, 5t4cq2, 9gc6r1, 9l0t51, fxo8kh, ijkrs...</td>\n",
       "      <td>191</td>\n",
       "    </tr>\n",
       "    <tr>\n",
       "      <th>3</th>\n",
       "      <td>post_cluster_3</td>\n",
       "      <td>I finally got my first job!</td>\n",
       "      <td>[benn1f, qq5ofe, dk5d7u, ilivj9, fbiyqx, hficf...</td>\n",
       "      <td>164</td>\n",
       "    </tr>\n",
       "    <tr>\n",
       "      <th>4</th>\n",
       "      <td>post_cluster_4</td>\n",
       "      <td>Let's chat.</td>\n",
       "      <td>[6tivnq, 6zqggi, 6s1shl, mkgp0e, eyffxr, 5ou2u...</td>\n",
       "      <td>119</td>\n",
       "    </tr>\n",
       "    <tr>\n",
       "      <th>...</th>\n",
       "      <td>...</td>\n",
       "      <td>...</td>\n",
       "      <td>...</td>\n",
       "      <td>...</td>\n",
       "    </tr>\n",
       "    <tr>\n",
       "      <th>4781</th>\n",
       "      <td>post_cluster_4781</td>\n",
       "      <td>I watched Wimbledon for the first time last su...</td>\n",
       "      <td>[hit:7499_conv:14999_uttr:1, hit:9923_conv:198...</td>\n",
       "      <td>2</td>\n",
       "    </tr>\n",
       "    <tr>\n",
       "      <th>4782</th>\n",
       "      <td>post_cluster_4782</td>\n",
       "      <td>Do you feel anything like that</td>\n",
       "      <td>[hit:7546_conv:15093_uttr:1, 7b0emb]</td>\n",
       "      <td>2</td>\n",
       "    </tr>\n",
       "    <tr>\n",
       "      <th>4783</th>\n",
       "      <td>post_cluster_4783</td>\n",
       "      <td>I love volunteering.</td>\n",
       "      <td>[hit:10706_conv:21412_uttr:1, hit:10708_conv:2...</td>\n",
       "      <td>2</td>\n",
       "    </tr>\n",
       "    <tr>\n",
       "      <th>4784</th>\n",
       "      <td>post_cluster_4784</td>\n",
       "      <td>I have been feeling great about life recently.</td>\n",
       "      <td>[hit:7261_conv:14522_uttr:1, fa34o4]</td>\n",
       "      <td>2</td>\n",
       "    </tr>\n",
       "    <tr>\n",
       "      <th>4785</th>\n",
       "      <td>post_cluster_4785</td>\n",
       "      <td>I feel terrible about it now</td>\n",
       "      <td>[hit:12209_conv:24418_uttr:1, hit:12224_conv:2...</td>\n",
       "      <td>2</td>\n",
       "    </tr>\n",
       "  </tbody>\n",
       "</table>\n",
       "<p>4786 rows × 4 columns</p>\n",
       "</div>"
      ],
      "text/plain": [
       "             cluster_id                                               text  \\\n",
       "0        post_cluster_0                       How is everyone’s day going?   \n",
       "1        post_cluster_1                         Does anybody want to talk?   \n",
       "2        post_cluster_2               Does anyone else ever feel the same?   \n",
       "3        post_cluster_3                        I finally got my first job!   \n",
       "4        post_cluster_4                                        Let's chat.   \n",
       "...                 ...                                                ...   \n",
       "4781  post_cluster_4781  I watched Wimbledon for the first time last su...   \n",
       "4782  post_cluster_4782                     Do you feel anything like that   \n",
       "4783  post_cluster_4783                               I love volunteering.   \n",
       "4784  post_cluster_4784     I have been feeling great about life recently.   \n",
       "4785  post_cluster_4785                       I feel terrible about it now   \n",
       "\n",
       "                                                post_id  num_posts  \n",
       "0     [8voq6u, fi7zg1, 638arm, 7555f1, aem2mz, ay8bi...        268  \n",
       "1     [745ahc, 8rpitj, 8ccu0s, 5xr44k, 6pblh9, aouvy...        197  \n",
       "2     [8mbot2, 5t4cq2, 9gc6r1, 9l0t51, fxo8kh, ijkrs...        191  \n",
       "3     [benn1f, qq5ofe, dk5d7u, ilivj9, fbiyqx, hficf...        164  \n",
       "4     [6tivnq, 6zqggi, 6s1shl, mkgp0e, eyffxr, 5ou2u...        119  \n",
       "...                                                 ...        ...  \n",
       "4781  [hit:7499_conv:14999_uttr:1, hit:9923_conv:198...          2  \n",
       "4782               [hit:7546_conv:15093_uttr:1, 7b0emb]          2  \n",
       "4783  [hit:10706_conv:21412_uttr:1, hit:10708_conv:2...          2  \n",
       "4784               [hit:7261_conv:14522_uttr:1, fa34o4]          2  \n",
       "4785  [hit:12209_conv:24418_uttr:1, hit:12224_conv:2...          2  \n",
       "\n",
       "[4786 rows x 4 columns]"
      ]
     },
     "execution_count": 16,
     "metadata": {},
     "output_type": "execute_result"
    }
   ],
   "source": [
    "all_posts_clusters_df"
   ]
  },
  {
   "cell_type": "code",
   "execution_count": 17,
   "metadata": {},
   "outputs": [],
   "source": [
    "all_posts_clusters_df.to_csv('../data/merged_q/all_posts_max_len_10_clusters.csv', index = False)"
   ]
  },
  {
   "cell_type": "code",
   "execution_count": 18,
   "metadata": {},
   "outputs": [],
   "source": [
    "cluster_reply_ids = []\n",
    "for i in all_replies_clusters:\n",
    "    tmp_list = []\n",
    "    for j in i:\n",
    "        tmp_list.append(all_replies_df.iloc[j]['id'])\n",
    "    cluster_reply_ids.append(tmp_list)\n",
    "    \n",
    "all_replies_clusters_dict = {'cluster_id': ['reply_cluster_' + str(i) for i in range(len(all_replies_clusters))],\n",
    "                           'text': [all_replies_df.iloc[i[0]]['text'] for i in all_replies_clusters],\n",
    "                           'reply_id': cluster_reply_ids,\n",
    "                           'num_replies': [len(i) for i in all_replies_clusters]}"
   ]
  },
  {
   "cell_type": "code",
   "execution_count": 19,
   "metadata": {},
   "outputs": [],
   "source": [
    "all_replies_clusters_df = pd.DataFrame(all_replies_clusters_dict)"
   ]
  },
  {
   "cell_type": "code",
   "execution_count": 20,
   "metadata": {},
   "outputs": [
    {
     "data": {
      "text/html": [
       "<div>\n",
       "<style scoped>\n",
       "    .dataframe tbody tr th:only-of-type {\n",
       "        vertical-align: middle;\n",
       "    }\n",
       "\n",
       "    .dataframe tbody tr th {\n",
       "        vertical-align: top;\n",
       "    }\n",
       "\n",
       "    .dataframe thead th {\n",
       "        text-align: right;\n",
       "    }\n",
       "</style>\n",
       "<table border=\"1\" class=\"dataframe\">\n",
       "  <thead>\n",
       "    <tr style=\"text-align: right;\">\n",
       "      <th></th>\n",
       "      <th>cluster_id</th>\n",
       "      <th>text</th>\n",
       "      <th>reply_id</th>\n",
       "      <th>num_replies</th>\n",
       "    </tr>\n",
       "  </thead>\n",
       "  <tbody>\n",
       "    <tr>\n",
       "      <td>0</td>\n",
       "      <td>reply_cluster_0</td>\n",
       "      <td>Congratulations!</td>\n",
       "      <td>[gwgluk8, gwhavf3, gwd1yno, gweddd4, gw90rgv, ...</td>\n",
       "      <td>5575</td>\n",
       "    </tr>\n",
       "    <tr>\n",
       "      <td>1</td>\n",
       "      <td>reply_cluster_1</td>\n",
       "      <td>Good luck!</td>\n",
       "      <td>[gwgfu44, gvnwix1, gvo1yc1, gvoaf4f, gvol5bj, ...</td>\n",
       "      <td>2043</td>\n",
       "    </tr>\n",
       "    <tr>\n",
       "      <td>2</td>\n",
       "      <td>reply_cluster_2</td>\n",
       "      <td>Happy birthday to you.</td>\n",
       "      <td>[gwdw9bm, gw4myxl, gw55osc, gtnfy5r, gtng3kr, ...</td>\n",
       "      <td>1348</td>\n",
       "    </tr>\n",
       "    <tr>\n",
       "      <td>3</td>\n",
       "      <td>reply_cluster_3</td>\n",
       "      <td>Good job!</td>\n",
       "      <td>[gwg7r2e, gwgcl7k, gw51stz, gvirk7h, gvivplo, ...</td>\n",
       "      <td>1223</td>\n",
       "    </tr>\n",
       "    <tr>\n",
       "      <td>4</td>\n",
       "      <td>reply_cluster_4</td>\n",
       "      <td>oh yes.</td>\n",
       "      <td>[eyu2h3l, etgtnqs, fo1y2bv, drxzbb6, gtrx75r, ...</td>\n",
       "      <td>849</td>\n",
       "    </tr>\n",
       "    <tr>\n",
       "      <td>...</td>\n",
       "      <td>...</td>\n",
       "      <td>...</td>\n",
       "      <td>...</td>\n",
       "      <td>...</td>\n",
       "    </tr>\n",
       "    <tr>\n",
       "      <td>8311</td>\n",
       "      <td>reply_cluster_8311</td>\n",
       "      <td>Were you able to find someone?</td>\n",
       "      <td>[hit:11488_conv:22977_uttr:2, fshzh4g]</td>\n",
       "      <td>2</td>\n",
       "    </tr>\n",
       "    <tr>\n",
       "      <td>8312</td>\n",
       "      <td>reply_cluster_8312</td>\n",
       "      <td>Did you study for it?</td>\n",
       "      <td>[hit:11805_conv:23610_uttr:2, hit:2542_conv:50...</td>\n",
       "      <td>2</td>\n",
       "    </tr>\n",
       "    <tr>\n",
       "      <td>8313</td>\n",
       "      <td>reply_cluster_8313</td>\n",
       "      <td>How long has she been gone?</td>\n",
       "      <td>[hit:4299_conv:8599_uttr:2, dw3sj23]</td>\n",
       "      <td>2</td>\n",
       "    </tr>\n",
       "    <tr>\n",
       "      <td>8314</td>\n",
       "      <td>reply_cluster_8314</td>\n",
       "      <td>yuck, how gross!!</td>\n",
       "      <td>[hit:11345_conv:22691_uttr:2, hit:3471_conv:69...</td>\n",
       "      <td>2</td>\n",
       "    </tr>\n",
       "    <tr>\n",
       "      <td>8315</td>\n",
       "      <td>reply_cluster_8315</td>\n",
       "      <td>Maybe it's time to get new friends?</td>\n",
       "      <td>[hit:1627_conv:3255_uttr:2, hit:6761_conv:1352...</td>\n",
       "      <td>2</td>\n",
       "    </tr>\n",
       "  </tbody>\n",
       "</table>\n",
       "<p>8316 rows × 4 columns</p>\n",
       "</div>"
      ],
      "text/plain": [
       "              cluster_id                                 text  \\\n",
       "0        reply_cluster_0                     Congratulations!   \n",
       "1        reply_cluster_1                           Good luck!   \n",
       "2        reply_cluster_2               Happy birthday to you.   \n",
       "3        reply_cluster_3                            Good job!   \n",
       "4        reply_cluster_4                              oh yes.   \n",
       "...                  ...                                  ...   \n",
       "8311  reply_cluster_8311       Were you able to find someone?   \n",
       "8312  reply_cluster_8312                Did you study for it?   \n",
       "8313  reply_cluster_8313          How long has she been gone?   \n",
       "8314  reply_cluster_8314                    yuck, how gross!!   \n",
       "8315  reply_cluster_8315  Maybe it's time to get new friends?   \n",
       "\n",
       "                                               reply_id  num_replies  \n",
       "0     [gwgluk8, gwhavf3, gwd1yno, gweddd4, gw90rgv, ...         5575  \n",
       "1     [gwgfu44, gvnwix1, gvo1yc1, gvoaf4f, gvol5bj, ...         2043  \n",
       "2     [gwdw9bm, gw4myxl, gw55osc, gtnfy5r, gtng3kr, ...         1348  \n",
       "3     [gwg7r2e, gwgcl7k, gw51stz, gvirk7h, gvivplo, ...         1223  \n",
       "4     [eyu2h3l, etgtnqs, fo1y2bv, drxzbb6, gtrx75r, ...          849  \n",
       "...                                                 ...          ...  \n",
       "8311             [hit:11488_conv:22977_uttr:2, fshzh4g]            2  \n",
       "8312  [hit:11805_conv:23610_uttr:2, hit:2542_conv:50...            2  \n",
       "8313               [hit:4299_conv:8599_uttr:2, dw3sj23]            2  \n",
       "8314  [hit:11345_conv:22691_uttr:2, hit:3471_conv:69...            2  \n",
       "8315  [hit:1627_conv:3255_uttr:2, hit:6761_conv:1352...            2  \n",
       "\n",
       "[8316 rows x 4 columns]"
      ]
     },
     "execution_count": 20,
     "metadata": {},
     "output_type": "execute_result"
    }
   ],
   "source": [
    "all_replies_clusters_df"
   ]
  },
  {
   "cell_type": "code",
   "execution_count": 35,
   "metadata": {},
   "outputs": [],
   "source": [
    "# all_replies_clusters_df.to_csv('all_replies_clusters.csv', index = False)"
   ]
  },
  {
   "cell_type": "markdown",
   "metadata": {},
   "source": [
    "# Visualization"
   ]
  },
  {
   "cell_type": "code",
   "execution_count": 21,
   "metadata": {},
   "outputs": [],
   "source": [
    "pair_dict = {}\n",
    "for i in range(len(all_replies_df)):\n",
    "    event_id = all_replies_df.iloc[i]['parent_id']\n",
    "    reply_id = all_replies_df.iloc[i]['id']\n",
    "    if event_id in pair_dict:\n",
    "        pair_dict[event_id].append(reply_id)\n",
    "    else:\n",
    "        pair_dict[event_id] = [reply_id]"
   ]
  },
  {
   "cell_type": "code",
   "execution_count": 22,
   "metadata": {},
   "outputs": [],
   "source": [
    "event_to_cluster_dict = {}\n",
    "for i in range(len(all_events_clusters_df)):\n",
    "    event_cluster_id = all_events_clusters_df.iloc[i]['cluster_id']\n",
    "    event_cluster_event_ids = all_events_clusters_df.iloc[i]['event_id']\n",
    "    for j in event_cluster_event_ids:\n",
    "        event_to_cluster_dict[j] = event_cluster_id"
   ]
  },
  {
   "cell_type": "code",
   "execution_count": 23,
   "metadata": {},
   "outputs": [
    {
     "data": {
      "text/plain": [
       "11579"
      ]
     },
     "execution_count": 23,
     "metadata": {},
     "output_type": "execute_result"
    }
   ],
   "source": [
    "len(event_to_cluster_dict)"
   ]
  },
  {
   "cell_type": "code",
   "execution_count": 25,
   "metadata": {},
   "outputs": [],
   "source": [
    "reply_to_cluster_dict = {}\n",
    "for i in range(len(all_replies_clusters_df)):\n",
    "    reply_cluster_id = all_replies_clusters_df.iloc[i]['cluster_id']\n",
    "    reply_cluster_reply_ids = all_replies_clusters_df.iloc[i]['reply_id']\n",
    "    for j in reply_cluster_reply_ids:\n",
    "        reply_to_cluster_dict[j] = reply_cluster_id"
   ]
  },
  {
   "cell_type": "code",
   "execution_count": 26,
   "metadata": {},
   "outputs": [
    {
     "data": {
      "text/plain": [
       "58691"
      ]
     },
     "execution_count": 26,
     "metadata": {},
     "output_type": "execute_result"
    }
   ],
   "source": [
    "len(reply_to_cluster_dict)"
   ]
  },
  {
   "cell_type": "code",
   "execution_count": 27,
   "metadata": {},
   "outputs": [],
   "source": [
    "cluster_connection_mat = np.zeros((len(all_events_clusters_df), len(all_replies_clusters_df)))"
   ]
  },
  {
   "cell_type": "code",
   "execution_count": 28,
   "metadata": {},
   "outputs": [
    {
     "name": "stderr",
     "output_type": "stream",
     "text": [
      "100%|██████████| 165759/165759 [01:10<00:00, 2345.85it/s]\n"
     ]
    }
   ],
   "source": [
    "for i in tqdm(range(len(all_replies_df))):\n",
    "    event_id = all_replies_df.iloc[i]['parent_id']\n",
    "    reply_id = all_replies_df.iloc[i]['id']\n",
    "    if event_id in event_to_cluster_dict and reply_id in reply_to_cluster_dict:\n",
    "        event_cluster_id = int(event_to_cluster_dict[event_id].split('_')[2])\n",
    "        reply_cluster_id = int(reply_to_cluster_dict[reply_id].split('_')[2])\n",
    "        cluster_connection_mat[event_cluster_id, reply_cluster_id] = 1"
   ]
  },
  {
   "cell_type": "code",
   "execution_count": 29,
   "metadata": {},
   "outputs": [
    {
     "data": {
      "text/plain": [
       "(2772, 8316)"
      ]
     },
     "execution_count": 29,
     "metadata": {},
     "output_type": "execute_result"
    }
   ],
   "source": [
    "cluster_connection_mat.shape"
   ]
  },
  {
   "cell_type": "code",
   "execution_count": 170,
   "metadata": {},
   "outputs": [],
   "source": [
    "connect_pairs = []\n",
    "for i in range(cluster_connection_mat.shape[0])[70:100]:\n",
    "    for j in range(cluster_connection_mat.shape[1])[50:800]:\n",
    "        if cluster_connection_mat[i, j] == 1:\n",
    "            connect_pairs.append(('event_cluster_' + str(i), 'reply_cluster_' + str(j)))"
   ]
  },
  {
   "cell_type": "code",
   "execution_count": 171,
   "metadata": {},
   "outputs": [
    {
     "data": {
      "text/plain": [
       "192"
      ]
     },
     "execution_count": 171,
     "metadata": {},
     "output_type": "execute_result"
    }
   ],
   "source": [
    "len(connect_pairs)"
   ]
  },
  {
   "cell_type": "code",
   "execution_count": 172,
   "metadata": {},
   "outputs": [],
   "source": [
    "source_text_list = []\n",
    "target_text_list = []\n",
    "for i in connect_pairs:\n",
    "    source_text_list.append(list(all_events_clusters_df[all_events_clusters_df['cluster_id'] == i[0]]['text'])[0])\n",
    "    target_text_list.append(list(all_replies_clusters_df[all_replies_clusters_df['cluster_id'] == i[1]]['text'])[0])"
   ]
  },
  {
   "cell_type": "code",
   "execution_count": 173,
   "metadata": {},
   "outputs": [],
   "source": [
    "network_df = pd.DataFrame({\n",
    "    'source': source_text_list,\n",
    "    'target': target_text_list\n",
    "})"
   ]
  },
  {
   "cell_type": "code",
   "execution_count": 174,
   "metadata": {},
   "outputs": [
    {
     "data": {
      "text/html": [
       "<div>\n",
       "<style scoped>\n",
       "    .dataframe tbody tr th:only-of-type {\n",
       "        vertical-align: middle;\n",
       "    }\n",
       "\n",
       "    .dataframe tbody tr th {\n",
       "        vertical-align: top;\n",
       "    }\n",
       "\n",
       "    .dataframe thead th {\n",
       "        text-align: right;\n",
       "    }\n",
       "</style>\n",
       "<table border=\"1\" class=\"dataframe\">\n",
       "  <thead>\n",
       "    <tr style=\"text-align: right;\">\n",
       "      <th></th>\n",
       "      <th>source</th>\n",
       "      <th>target</th>\n",
       "    </tr>\n",
       "  </thead>\n",
       "  <tbody>\n",
       "    <tr>\n",
       "      <td>0</td>\n",
       "      <td>Let's play a game.</td>\n",
       "      <td>How's your day going?</td>\n",
       "    </tr>\n",
       "    <tr>\n",
       "      <td>1</td>\n",
       "      <td>Let's play a game.</td>\n",
       "      <td>what's up?</td>\n",
       "    </tr>\n",
       "    <tr>\n",
       "      <td>2</td>\n",
       "      <td>Let's play a game.</td>\n",
       "      <td>What's your favorite movie?</td>\n",
       "    </tr>\n",
       "    <tr>\n",
       "      <td>3</td>\n",
       "      <td>Let's play a game.</td>\n",
       "      <td>What is your favourite color?</td>\n",
       "    </tr>\n",
       "    <tr>\n",
       "      <td>4</td>\n",
       "      <td>Let's play a game.</td>\n",
       "      <td>What is the meaning of life?</td>\n",
       "    </tr>\n",
       "    <tr>\n",
       "      <td>...</td>\n",
       "      <td>...</td>\n",
       "      <td>...</td>\n",
       "    </tr>\n",
       "    <tr>\n",
       "      <td>187</td>\n",
       "      <td>Lets chat!</td>\n",
       "      <td>That made my day</td>\n",
       "    </tr>\n",
       "    <tr>\n",
       "      <td>188</td>\n",
       "      <td>Lets chat!</td>\n",
       "      <td>Wish me luck :D</td>\n",
       "    </tr>\n",
       "    <tr>\n",
       "      <td>189</td>\n",
       "      <td>Lets chat!</td>\n",
       "      <td>Do you like anime?</td>\n",
       "    </tr>\n",
       "    <tr>\n",
       "      <td>190</td>\n",
       "      <td>Lets chat!</td>\n",
       "      <td>Howdy!</td>\n",
       "    </tr>\n",
       "    <tr>\n",
       "      <td>191</td>\n",
       "      <td>Lets chat!</td>\n",
       "      <td>That sounds like an awesome job!</td>\n",
       "    </tr>\n",
       "  </tbody>\n",
       "</table>\n",
       "<p>192 rows × 2 columns</p>\n",
       "</div>"
      ],
      "text/plain": [
       "                 source                            target\n",
       "0    Let's play a game.             How's your day going?\n",
       "1    Let's play a game.                        what's up?\n",
       "2    Let's play a game.       What's your favorite movie?\n",
       "3    Let's play a game.     What is your favourite color?\n",
       "4    Let's play a game.      What is the meaning of life?\n",
       "..                  ...                               ...\n",
       "187          Lets chat!                  That made my day\n",
       "188          Lets chat!                   Wish me luck :D\n",
       "189          Lets chat!                Do you like anime?\n",
       "190          Lets chat!                            Howdy!\n",
       "191          Lets chat!  That sounds like an awesome job!\n",
       "\n",
       "[192 rows x 2 columns]"
      ]
     },
     "execution_count": 174,
     "metadata": {},
     "output_type": "execute_result"
    }
   ],
   "source": [
    "network_df"
   ]
  },
  {
   "cell_type": "code",
   "execution_count": 175,
   "metadata": {},
   "outputs": [],
   "source": [
    "G = nx.from_pandas_edgelist(network_df, source = 'source', target = 'target')"
   ]
  },
  {
   "cell_type": "code",
   "execution_count": 176,
   "metadata": {},
   "outputs": [],
   "source": [
    "source_nodes = set(list(network_df['source']))"
   ]
  },
  {
   "cell_type": "code",
   "execution_count": 177,
   "metadata": {},
   "outputs": [],
   "source": [
    "net = Network('1000px', '1000px')"
   ]
  },
  {
   "cell_type": "code",
   "execution_count": 178,
   "metadata": {},
   "outputs": [],
   "source": [
    "net.from_nx(G)"
   ]
  },
  {
   "cell_type": "code",
   "execution_count": 179,
   "metadata": {},
   "outputs": [],
   "source": [
    "node_list = []\n",
    "for i in net.nodes:\n",
    "    if i['id'] in source_nodes:\n",
    "        i['color'] = '#f4cccd'\n",
    "    else:\n",
    "        i['color'] = '#cde0f1'\n",
    "    node_list.append(i)\n",
    "net.nodes = node_list"
   ]
  },
  {
   "cell_type": "code",
   "execution_count": 180,
   "metadata": {},
   "outputs": [],
   "source": [
    "edge_list = []\n",
    "for i in net.edges:\n",
    "    i['color'] = '#162347'\n",
    "    edge_list.append(i)\n",
    "net.edges = edge_list"
   ]
  },
  {
   "cell_type": "code",
   "execution_count": 181,
   "metadata": {
    "scrolled": false
   },
   "outputs": [],
   "source": [
    "net.show('example3.html')"
   ]
  },
  {
   "cell_type": "code",
   "execution_count": 46,
   "metadata": {},
   "outputs": [],
   "source": [
    "# source_list = []\n",
    "# source_text_list = []\n",
    "# target_list = []\n",
    "# target_text_list = []\n",
    "# for i in tqdm(range(len(all_events_clusters_df))):\n",
    "#     event_flag = 0\n",
    "#     event_cluster_id = all_events_clusters_df.iloc[i]['cluster_id']\n",
    "#     event_cluster_text = all_events_clusters_df.iloc[i]['text']\n",
    "#     event_cluster_event_ids = all_events_clusters_df.iloc[i]['event_id']\n",
    "#     for eid in event_cluster_event_ids:\n",
    "#         for j in range(len(all_replies_clusters_df)):\n",
    "#             reply_flag = 0\n",
    "#             reply_cluster_id = all_replies_clusters_df.iloc[j]['cluster_id']\n",
    "#             reply_cluster_text = all_replies_clusters_df.iloc[j]['text']\n",
    "#             reply_cluster_reply_ids = all_replies_clusters_df.iloc[j]['reply_id']\n",
    "#             for rid in reply_cluster_reply_ids:\n",
    "#                 if rid in pair_dict[eid]:\n",
    "#                     source_list.append(event_cluster_id)\n",
    "#                     source_text_list.append(event_cluster_text)\n",
    "#                     target_list.append(reply_cluster_id)\n",
    "#                     target_text_list.append(reply_cluster_text)\n",
    "#                     event_flag = 1\n",
    "#                     reply_flag = 1\n",
    "#                     break\n",
    "#             if reply_flag == 1:\n",
    "#                 break\n",
    "#         if event_flag == 1:\n",
    "#             break\n",
    "                "
   ]
  },
  {
   "cell_type": "code",
   "execution_count": null,
   "metadata": {},
   "outputs": [],
   "source": []
  }
 ],
 "metadata": {
  "kernelspec": {
   "display_name": "Python 3 (ipykernel)",
   "language": "python",
   "name": "python3"
  },
  "language_info": {
   "codemirror_mode": {
    "name": "ipython",
    "version": 3
   },
   "file_extension": ".py",
   "mimetype": "text/x-python",
   "name": "python",
   "nbconvert_exporter": "python",
   "pygments_lexer": "ipython3",
   "version": "3.8.10"
  }
 },
 "nbformat": 4,
 "nbformat_minor": 4
}
