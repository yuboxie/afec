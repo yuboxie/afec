{
 "cells": [
  {
   "cell_type": "code",
   "execution_count": 1,
   "id": "0e2e0c3d",
   "metadata": {},
   "outputs": [],
   "source": [
    "import os\n",
    "import re\n",
    "import nltk\n",
    "import spacy\n",
    "import random\n",
    "import neuralcoref\n",
    "import numpy as np\n",
    "import pandas as pd\n",
    "from tqdm import tqdm\n",
    "from nltk.stem import WordNetLemmatizer \n",
    "from nltk.stem.porter import PorterStemmer\n",
    "from nltk.corpus import stopwords"
   ]
  },
  {
   "cell_type": "markdown",
   "id": "a96cee6d",
   "metadata": {},
   "source": [
    "# Preparation"
   ]
  },
  {
   "cell_type": "code",
   "execution_count": 2,
   "id": "77626c39",
   "metadata": {},
   "outputs": [],
   "source": [
    "wnl = WordNetLemmatizer()\n",
    "stemmer = PorterStemmer()\n",
    "stop_words = set(stopwords.words('english'))"
   ]
  },
  {
   "cell_type": "code",
   "execution_count": 3,
   "id": "c403f14c",
   "metadata": {},
   "outputs": [
    {
     "data": {
      "text/plain": [
       "<spacy.lang.en.English at 0x7fa4dfae9ee0>"
      ]
     },
     "execution_count": 3,
     "metadata": {},
     "output_type": "execute_result"
    }
   ],
   "source": [
    "nlp = spacy.load('en_core_web_sm')\n",
    "neuralcoref.add_to_pipe(nlp)"
   ]
  },
  {
   "cell_type": "markdown",
   "id": "92e2fd95",
   "metadata": {},
   "source": [
    "# The SMMRY Algorithm"
   ]
  },
  {
   "cell_type": "code",
   "execution_count": 4,
   "id": "9d1d7638",
   "metadata": {},
   "outputs": [],
   "source": [
    "transition_phrases = ['thus', 'for example', 'for instance', 'namely', 'to illustrate',\n",
    "                      'in other words', 'in particular', 'specifically', 'such as',\n",
    "                      'on the contrary', 'contrarily', 'notwithstanding', 'but', 'however',\n",
    "                      'nevertheless', 'in spite of', 'in contrast', 'yet', 'on one hand',\n",
    "                      'on the other hand', 'rather', 'or', 'nor', 'conversely', 'at the same time',\n",
    "                      'while this may be true', 'and', 'in addition to', 'furthermore',\n",
    "                      'moreover', 'besides', 'than', 'too', 'also', 'both-and', 'another',\n",
    "                      'equally important', 'second', 'etc.', 'again', 'further', 'last',\n",
    "                      'finally', 'not only-but also', 'as well as', 'in the second place',\n",
    "                      'next', 'likewise', 'similarly', 'in fact', 'as a result', 'consequently',\n",
    "                      'in the same way', 'for example', 'for instance', 'however', 'thus',\n",
    "                      'therefore', 'otherwise', 'after that', 'afterward', 'then', 'next',\n",
    "                      'last', 'at last', 'at length', 'at first', 'formerly', 'another', 'finally',\n",
    "                      'meanwhile', 'at the same time', 'afterwards', 'subsequently',\n",
    "                      'in the meantime', 'eventually', 'concurrently', 'simultaneously', 'although',\n",
    "                      'at least', 'still', 'even though', 'granted that', 'while it may be true',\n",
    "                      'in spite of', 'of course', 'similarly', 'likewise', 'in like fashion',\n",
    "                      'in like manner', 'analogous to', 'above all', 'indeed', 'of course',\n",
    "                      'certainly', 'surely', 'in fact', 'really', 'in truth', 'again', 'besides',\n",
    "                      'also', 'furthermore', 'in addition', 'specifically', 'especially',\n",
    "                      'in particular', 'to explain', 'to list', 'to enumerate', 'in detail',\n",
    "                      'namely', 'including', 'for example', 'for instance', 'to illustrate',\n",
    "                      'thus', 'in other words', 'as an illustration', 'in particular', 'so that',\n",
    "                      'with the result that', 'consequently', 'hence', 'accordingly', 'for this reason',\n",
    "                      'therefore', 'because', 'due to', 'as a result', 'in other words', 'then',\n",
    "                      'therefore', 'finally', 'consequently', 'thus', 'in conclusion', 'as a result',\n",
    "                      'accordingly', 'for this purpose', 'to this end', 'with this in mind',\n",
    "                      'with this purpose in mind', 'therefore']"
   ]
  },
  {
   "cell_type": "code",
   "execution_count": 5,
   "id": "5800b605",
   "metadata": {},
   "outputs": [],
   "source": [
    "def transition_start(first_sent, dialog_turn):\n",
    "    if dialog_turn == 1:\n",
    "        for phrase in transition_phrases:\n",
    "            if first_sent.lower().startswith(phrase):\n",
    "                return True\n",
    "        return False\n",
    "    else:\n",
    "        return False"
   ]
  },
  {
   "cell_type": "code",
   "execution_count": 6,
   "id": "3dcd663b",
   "metadata": {},
   "outputs": [],
   "source": [
    "def smmry(text, doc, sent_count, dialog_turn):\n",
    "\n",
    "    # some preprocessing to omit text within brackets and replace u with you. \n",
    "    \n",
    "    # text = re.sub(\"[\\(\\[].*?[\\)\\]]\", \"\", text)\n",
    "    # text = text.replace(' u ', ' you ')\n",
    "\n",
    "    formatted_text = re.sub('[^a-zA-Z]', ' ', text)\n",
    "    formatted_text = re.sub(r'\\s+', ' ', formatted_text)\n",
    "\n",
    "    # doc = nlp(text)\n",
    "\n",
    "    fdist = {}\n",
    "    word_arr = nltk.word_tokenize(formatted_text.lower())\n",
    "\n",
    "    # preparing a frequency dictionary without considering stop words\n",
    "    \n",
    "    for word in word_arr:\n",
    "        if not word in stop_words:\n",
    "            word = wnl.lemmatize(word)\n",
    "            if word not in fdist.keys():\n",
    "                    fdist[word] = 1\n",
    "            else:\n",
    "                    fdist[word] += 1\n",
    "\n",
    "    sent_arr = nltk.sent_tokenize(text)\n",
    "    sent_score_arr = []\n",
    "    summary_arr = []\n",
    "\n",
    "    sent_arr_coref_resolved = nltk.sent_tokenize(doc._.coref_resolved)\n",
    "\n",
    "    # compute scores for each sentence\n",
    "\n",
    "    for sent in sent_arr:\n",
    "        score = 0\n",
    "        token_arr = nltk.word_tokenize(sent.lower())\n",
    "        for word in token_arr:\n",
    "            word = wnl.lemmatize(word)\n",
    "            if word in fdist.keys():\n",
    "                score += fdist[word]\n",
    "\n",
    "        sent_score_arr.append(score/len(token_arr))\n",
    "\n",
    "    sent_score_arr = np.array(sent_score_arr)\n",
    "\n",
    "    all_ind_arr = sent_score_arr.argsort()[-len(sent_score_arr):][::-1]\n",
    "\n",
    "    ind_arr_unsorted = sent_score_arr.argsort()[-sent_count:][::-1]\n",
    "\n",
    "    ind_arr = np.sort(ind_arr_unsorted) \n",
    "\n",
    "    summary = ''\n",
    "    changed_first = False\n",
    "\n",
    "    if len(ind_arr) > 0:\n",
    "\n",
    "        try:\n",
    "\n",
    "            ind = ind_arr[0]\n",
    "            first_sent = sent_arr[ind]\n",
    "\n",
    "            while (first_sent != sent_arr_coref_resolved[ind] or transition_start(first_sent, dialog_turn)):\n",
    "                changed_first = True\n",
    "                for index in all_ind_arr:\n",
    "                    if index < ind:\n",
    "                        ind = index\n",
    "                        break\n",
    "                first_sent = sent_arr[ind]\n",
    "                if ind == 0:\n",
    "                    break\n",
    "            summary = summary + first_sent + ' '     \n",
    "            \n",
    "            if (changed_first):\n",
    "                first_ind = ind\n",
    "                sent_score_modified = sent_score_arr[first_ind+1:]\n",
    "                ind_arr_unsorted = sent_score_modified.argsort()[-(sent_count-1):][::-1]\n",
    "                ind_arr_next = np.sort(ind_arr_unsorted) \n",
    "                \n",
    "                for i in range(0, len(ind_arr_next)):\n",
    "                    ind = (first_ind+1) + ind_arr_next[i]\n",
    "                    if i == len(ind_arr_next) - 1:\n",
    "                        summary = summary + sent_arr[ind]\n",
    "                    else:\n",
    "                        summary = summary + sent_arr[ind] + ' '\n",
    "            \n",
    "            else:\n",
    "                for i in range(1, len(ind_arr)):\n",
    "                    ind = ind_arr[i]\n",
    "                    if i == len(ind_arr) - 1:\n",
    "                        summary = summary + sent_arr[ind]\n",
    "                    else:\n",
    "                        summary = summary + sent_arr[ind] + ' '\n",
    "\n",
    "            return summary\n",
    "\n",
    "        except Exception as e:\n",
    "\n",
    "            print(\"EXCEPTION occured\")\n",
    "            return text\n",
    "\n",
    "    else:\n",
    "        print(text)\n",
    "        print(sent_arr)\n",
    "        print(\"EXCEPTION occured: length of sentence array is not > 0\")\n",
    "        return text"
   ]
  },
  {
   "cell_type": "markdown",
   "id": "def225aa",
   "metadata": {},
   "source": [
    "# Data Cleaning Functions"
   ]
  },
  {
   "cell_type": "code",
   "execution_count": 7,
   "id": "dd6b55c8",
   "metadata": {},
   "outputs": [],
   "source": [
    "# aux_verbs = ['be', 'can', 'could', 'dare', 'do', 'have', 'may', 'might', 'must',\n",
    "#              'need', 'ought', 'shall', 'should', 'will', 'would']\n",
    "# wh_words = ['what', 'when', 'where', 'which', 'who', 'whom', 'whose', 'why', 'how']\n",
    "# q_words = aux_verbs + wh_words"
   ]
  },
  {
   "cell_type": "code",
   "execution_count": 8,
   "id": "4fd98163",
   "metadata": {},
   "outputs": [],
   "source": [
    "def preprocess_raw(text):\n",
    "    # Check if text is a str\n",
    "    if not isinstance(text, str):\n",
    "        return None\n",
    "\n",
    "    # Replace HTML escape chars\n",
    "    text = text.replace('&gt;', '>')\n",
    "    text = text.replace('&lt;', '<')\n",
    "    text = text.replace('&amp;', '&')\n",
    "    text = text.replace('#x200B;', ' ')\n",
    "    text = text.replace('nbsp;', ' ')\n",
    "\n",
    "    # Remove brackets\n",
    "    b_pattern = re.compile(r'(\\([^\\(\\)]*\\))|(\\[[^\\[\\]]*\\])')\n",
    "    while b_pattern.search(text):\n",
    "        text = re.sub(r'(\\([^\\(\\)]*\\))|(\\[[^\\[\\]]*\\])', '', text)\n",
    "\n",
    "    # Remove redundant spaces (including breaklines)\n",
    "    text = ' '.join(text.split())\n",
    "\n",
    "    # Check if text is empty\n",
    "    if not text:\n",
    "        return None\n",
    "\n",
    "    text_lower = text.lower()\n",
    "\n",
    "    # Check if text is [deleted] or [removed]\n",
    "    if text_lower == '[deleted]' or text_lower == '[removed]':\n",
    "        return None\n",
    "\n",
    "    # Check if text contains URL\n",
    "    url_pattern = re.compile(r'[-a-zA-Z0-9@:%._\\+~#=]{1,256}\\.[a-zA-Z0-9()]{1,6}\\b([-a-zA-Z0-9()@:%_\\+.~#?&//=]*)')\n",
    "    if url_pattern.search(text_lower):\n",
    "        return None\n",
    "\n",
    "    # Check if text contains 'r/<subreddit>' or 'u/<username>'\n",
    "    r_pattern = re.compile(r'(^| )\\/?r\\/[^ ]*')\n",
    "    if r_pattern.search(text_lower):\n",
    "        return None\n",
    "    u_pattern = re.compile(r'(^| )\\/?u\\/[^ ]*')\n",
    "    if u_pattern.search(text_lower):\n",
    "        return None\n",
    "\n",
    "    # Check if text contains 'reddit'\n",
    "    if 'reddit' in text_lower:\n",
    "        return None\n",
    "\n",
    "    # Check the percentage of alphabetical letters\n",
    "    num_alphas = 0\n",
    "    for ch in text:\n",
    "        if ch.isalpha():\n",
    "            num_alphas += 1\n",
    "    if num_alphas / len(text) < 0.7:\n",
    "        return None\n",
    "\n",
    "    doc = nlp(text)\n",
    "\n",
    "    # Check the number of tokens\n",
    "    if len(doc) < 2:\n",
    "        return None\n",
    "\n",
    "    return {'text': text, 'doc': doc}"
   ]
  },
  {
   "cell_type": "code",
   "execution_count": 9,
   "id": "2c44555b",
   "metadata": {},
   "outputs": [],
   "source": [
    "def preprocess_summary(text):\n",
    "    # Check if text is a str\n",
    "    if not isinstance(text, str):\n",
    "        return None\n",
    "\n",
    "    # Remove redundant spaces (including breaklines)\n",
    "    text = ' '.join(text.split())\n",
    "\n",
    "    # Check if text is empty\n",
    "    if not text:\n",
    "        return None\n",
    "\n",
    "    # Check the percentage of alphabetical letters\n",
    "    num_alphas = 0\n",
    "    for ch in text:\n",
    "        if ch.isalpha():\n",
    "            num_alphas += 1\n",
    "    if num_alphas / len(text) < 0.7:\n",
    "        return None\n",
    "\n",
    "    doc = nlp(text)\n",
    "\n",
    "    # Check the number of tokens\n",
    "    if len(doc) < 2:\n",
    "        return None\n",
    "\n",
    "    return {'text': text, 'doc': doc}"
   ]
  },
  {
   "cell_type": "code",
   "execution_count": 10,
   "id": "c2050e8c",
   "metadata": {},
   "outputs": [],
   "source": [
    "def extract_root(text, sent):\n",
    "#     # Check if the last character is a question mark\n",
    "#     if sent[-1].text == '?':\n",
    "#         return None\n",
    "\n",
    "    if sent.root.pos_ == 'VERB':\n",
    "#         # Check the first token\n",
    "#         if sent[0].lemma_.lower() in q_words:\n",
    "#             return None\n",
    "        return sent.root.lemma_\n",
    "\n",
    "    return None"
   ]
  },
  {
   "cell_type": "code",
   "execution_count": 11,
   "id": "4dff749e",
   "metadata": {},
   "outputs": [],
   "source": [
    "def summarize(preprocessed_text, dialog_turn):\n",
    "    if preprocessed_text is None:\n",
    "        return None\n",
    "\n",
    "    text = preprocessed_text['text']\n",
    "    doc = preprocessed_text['doc']\n",
    "\n",
    "    summarized = 0\n",
    "    sents = [sent for sent in doc.sents]\n",
    "    if len(sents) > 1:\n",
    "        summarized = 1\n",
    "        summary = smmry(text, doc, 1, dialog_turn)\n",
    "        preprocessed_summary = preprocess_summary(summary)\n",
    "        if preprocessed_summary is None:\n",
    "            return None\n",
    "        summarized_text = preprocessed_summary['text']\n",
    "        summarized_doc = preprocessed_summary['doc']\n",
    "        summarized_sents = [sent for sent in summarized_doc.sents]\n",
    "        if len(summarized_sents) != 1:\n",
    "            return None\n",
    "    elif len(sents) == 1:\n",
    "        summarized_text = text\n",
    "        summarized_doc = doc\n",
    "        summarized_sents = sents\n",
    "    else:\n",
    "        return None\n",
    "\n",
    "    if dialog_turn > 1:\n",
    "        return {'text': summarized_text, 'summarized': summarized, 'length': len(summarized_sents[0])}\n",
    "\n",
    "    root = extract_root(summarized_text, summarized_sents[0])\n",
    "    if root is not None:\n",
    "        return {'text': summarized_text, 'summarized': summarized, 'root': root, 'length': len(summarized_sents[0])}\n",
    "    else:\n",
    "        return None"
   ]
  },
  {
   "cell_type": "markdown",
   "id": "97031942",
   "metadata": {},
   "source": [
    "# Filter Submissions"
   ]
  },
  {
   "cell_type": "code",
   "execution_count": 34,
   "id": "b8171921",
   "metadata": {},
   "outputs": [],
   "source": [
    "date_suffix = '20200101_20201231'"
   ]
  },
  {
   "cell_type": "code",
   "execution_count": 35,
   "id": "62c18508",
   "metadata": {},
   "outputs": [
    {
     "data": {
      "text/plain": [
       "(97279, 10)"
      ]
     },
     "execution_count": 35,
     "metadata": {},
     "output_type": "execute_result"
    }
   ],
   "source": [
    "submission_df = pd.read_csv('../data/reddit/raw/casual_conv_submissions_{}.csv'.format(date_suffix))\n",
    "submission_df.shape"
   ]
  },
  {
   "cell_type": "code",
   "execution_count": 36,
   "id": "f0f75efe",
   "metadata": {},
   "outputs": [
    {
     "data": {
      "text/html": [
       "<div>\n",
       "<style scoped>\n",
       "    .dataframe tbody tr th:only-of-type {\n",
       "        vertical-align: middle;\n",
       "    }\n",
       "\n",
       "    .dataframe tbody tr th {\n",
       "        vertical-align: top;\n",
       "    }\n",
       "\n",
       "    .dataframe thead th {\n",
       "        text-align: right;\n",
       "    }\n",
       "</style>\n",
       "<table border=\"1\" class=\"dataframe\">\n",
       "  <thead>\n",
       "    <tr style=\"text-align: right;\">\n",
       "      <th></th>\n",
       "      <th>id</th>\n",
       "      <th>created_utc</th>\n",
       "      <th>title</th>\n",
       "      <th>selftext</th>\n",
       "      <th>num_comments</th>\n",
       "      <th>subreddit</th>\n",
       "      <th>subreddit_id</th>\n",
       "      <th>score</th>\n",
       "      <th>author_fullname</th>\n",
       "      <th>link_flair_text</th>\n",
       "    </tr>\n",
       "  </thead>\n",
       "  <tbody>\n",
       "    <tr>\n",
       "      <th>0</th>\n",
       "      <td>ko0y56</td>\n",
       "      <td>1609458941</td>\n",
       "      <td>Fireworks is banned for this newyear here and ...</td>\n",
       "      <td>[removed]</td>\n",
       "      <td>0</td>\n",
       "      <td>CasualConversation</td>\n",
       "      <td>t5_323oy</td>\n",
       "      <td>1</td>\n",
       "      <td>t2_4l6jcegg</td>\n",
       "      <td>NaN</td>\n",
       "    </tr>\n",
       "    <tr>\n",
       "      <th>1</th>\n",
       "      <td>ko0xfy</td>\n",
       "      <td>1609458866</td>\n",
       "      <td>HAPPY 2021 from Italy!!!</td>\n",
       "      <td>To those that had it rough,\\nTo the ones that ...</td>\n",
       "      <td>17</td>\n",
       "      <td>CasualConversation</td>\n",
       "      <td>t5_323oy</td>\n",
       "      <td>1</td>\n",
       "      <td>t2_5quydde8</td>\n",
       "      <td>:chat: Just Chatting</td>\n",
       "    </tr>\n",
       "    <tr>\n",
       "      <th>2</th>\n",
       "      <td>ko0ue3</td>\n",
       "      <td>1609458544</td>\n",
       "      <td>Positivity Blog/Community</td>\n",
       "      <td>[removed]</td>\n",
       "      <td>2</td>\n",
       "      <td>CasualConversation</td>\n",
       "      <td>t5_323oy</td>\n",
       "      <td>1</td>\n",
       "      <td>t2_2t9bipf6</td>\n",
       "      <td>NaN</td>\n",
       "    </tr>\n",
       "    <tr>\n",
       "      <th>3</th>\n",
       "      <td>ko0uby</td>\n",
       "      <td>1609458537</td>\n",
       "      <td>Can i get some last minute advice?</td>\n",
       "      <td>I know mental health is apparently against the...</td>\n",
       "      <td>13</td>\n",
       "      <td>CasualConversation</td>\n",
       "      <td>t5_323oy</td>\n",
       "      <td>1</td>\n",
       "      <td>t2_7qyyey38</td>\n",
       "      <td>:question: Questions</td>\n",
       "    </tr>\n",
       "    <tr>\n",
       "      <th>4</th>\n",
       "      <td>ko0tyb</td>\n",
       "      <td>1609458499</td>\n",
       "      <td>New Year</td>\n",
       "      <td>Hello everyone!\\nJust wanted to wish everyone ...</td>\n",
       "      <td>1</td>\n",
       "      <td>CasualConversation</td>\n",
       "      <td>t5_323oy</td>\n",
       "      <td>1</td>\n",
       "      <td>t2_43cjc0iu</td>\n",
       "      <td>:chat: Just Chatting</td>\n",
       "    </tr>\n",
       "  </tbody>\n",
       "</table>\n",
       "</div>"
      ],
      "text/plain": [
       "       id  created_utc                                              title  \\\n",
       "0  ko0y56   1609458941  Fireworks is banned for this newyear here and ...   \n",
       "1  ko0xfy   1609458866                           HAPPY 2021 from Italy!!!   \n",
       "2  ko0ue3   1609458544                          Positivity Blog/Community   \n",
       "3  ko0uby   1609458537                 Can i get some last minute advice?   \n",
       "4  ko0tyb   1609458499                                           New Year   \n",
       "\n",
       "                                            selftext  num_comments  \\\n",
       "0                                          [removed]             0   \n",
       "1  To those that had it rough,\\nTo the ones that ...            17   \n",
       "2                                          [removed]             2   \n",
       "3  I know mental health is apparently against the...            13   \n",
       "4  Hello everyone!\\nJust wanted to wish everyone ...             1   \n",
       "\n",
       "            subreddit subreddit_id  score author_fullname  \\\n",
       "0  CasualConversation     t5_323oy      1     t2_4l6jcegg   \n",
       "1  CasualConversation     t5_323oy      1     t2_5quydde8   \n",
       "2  CasualConversation     t5_323oy      1     t2_2t9bipf6   \n",
       "3  CasualConversation     t5_323oy      1     t2_7qyyey38   \n",
       "4  CasualConversation     t5_323oy      1     t2_43cjc0iu   \n",
       "\n",
       "        link_flair_text  \n",
       "0                   NaN  \n",
       "1  :chat: Just Chatting  \n",
       "2                   NaN  \n",
       "3  :question: Questions  \n",
       "4  :chat: Just Chatting  "
      ]
     },
     "execution_count": 36,
     "metadata": {},
     "output_type": "execute_result"
    }
   ],
   "source": [
    "submission_df.head()"
   ]
  },
  {
   "cell_type": "code",
   "execution_count": 37,
   "id": "de875e36",
   "metadata": {},
   "outputs": [],
   "source": [
    "submission_filtered_cols = ['id', 'summarized', 'from', 'text', 'root', 'length']\n",
    "submission_filtered_dict = {col: [] for col in submission_filtered_cols}"
   ]
  },
  {
   "cell_type": "code",
   "execution_count": 38,
   "id": "275315f1",
   "metadata": {
    "scrolled": true
   },
   "outputs": [
    {
     "name": "stderr",
     "output_type": "stream",
     "text": [
      "  8%|████████                                                                                                    | 7296/97279 [03:00<23:53, 62.78it/s]"
     ]
    },
    {
     "name": "stdout",
     "output_type": "stream",
     "text": [
      "EXCEPTION occured\n"
     ]
    },
    {
     "name": "stderr",
     "output_type": "stream",
     "text": [
      " 11%|███████████▌                                                                                               | 10515/97279 [04:17<22:04, 65.52it/s]"
     ]
    },
    {
     "name": "stdout",
     "output_type": "stream",
     "text": [
      "EXCEPTION occured\n"
     ]
    },
    {
     "name": "stderr",
     "output_type": "stream",
     "text": [
      " 18%|██████████████████▉                                                                                        | 17161/97279 [07:03<34:06, 39.14it/s]"
     ]
    },
    {
     "name": "stdout",
     "output_type": "stream",
     "text": [
      "EXCEPTION occured\n"
     ]
    },
    {
     "name": "stderr",
     "output_type": "stream",
     "text": [
      " 21%|█████████████████████▉                                                                                     | 19950/97279 [08:19<30:33, 42.17it/s]"
     ]
    },
    {
     "name": "stdout",
     "output_type": "stream",
     "text": [
      "EXCEPTION occured\n"
     ]
    },
    {
     "name": "stderr",
     "output_type": "stream",
     "text": [
      " 26%|███████████████████████████▊                                                                               | 25328/97279 [10:38<38:29, 31.15it/s]"
     ]
    },
    {
     "name": "stdout",
     "output_type": "stream",
     "text": [
      "EXCEPTION occured\n"
     ]
    },
    {
     "name": "stderr",
     "output_type": "stream",
     "text": [
      " 32%|██████████████████████████████████                                                                         | 30960/97279 [13:00<19:27, 56.82it/s]"
     ]
    },
    {
     "name": "stdout",
     "output_type": "stream",
     "text": [
      "EXCEPTION occured\n"
     ]
    },
    {
     "name": "stderr",
     "output_type": "stream",
     "text": [
      " 34%|███████████████████████████████████▌                                                                     | 32908/97279 [13:47<1:07:58, 15.78it/s]"
     ]
    },
    {
     "name": "stdout",
     "output_type": "stream",
     "text": [
      "EXCEPTION occured\n"
     ]
    },
    {
     "name": "stderr",
     "output_type": "stream",
     "text": [
      " 34%|████████████████████████████████████▊                                                                      | 33489/97279 [14:03<21:42, 48.97it/s]"
     ]
    },
    {
     "name": "stdout",
     "output_type": "stream",
     "text": [
      "EXCEPTION occured\n"
     ]
    },
    {
     "name": "stderr",
     "output_type": "stream",
     "text": [
      " 36%|██████████████████████████████████████▋                                                                    | 35134/97279 [14:49<19:10, 54.01it/s]"
     ]
    },
    {
     "name": "stdout",
     "output_type": "stream",
     "text": [
      "EXCEPTION occured\n"
     ]
    },
    {
     "name": "stderr",
     "output_type": "stream",
     "text": [
      " 45%|███████████████████████████████████████████████▌                                                         | 44082/97279 [18:21<1:03:18, 14.01it/s]"
     ]
    },
    {
     "name": "stdout",
     "output_type": "stream",
     "text": [
      "EXCEPTION occured\n"
     ]
    },
    {
     "name": "stderr",
     "output_type": "stream",
     "text": [
      " 64%|████████████████████████████████████████████████████████████████████▌                                      | 62281/97279 [26:09<26:49, 21.75it/s]"
     ]
    },
    {
     "name": "stdout",
     "output_type": "stream",
     "text": [
      "EXCEPTION occured\n"
     ]
    },
    {
     "name": "stderr",
     "output_type": "stream",
     "text": [
      " 75%|████████████████████████████████████████████████████████████████████████████████▍                          | 73147/97279 [30:44<08:10, 49.21it/s]"
     ]
    },
    {
     "name": "stdout",
     "output_type": "stream",
     "text": [
      "EXCEPTION occured\n"
     ]
    },
    {
     "name": "stderr",
     "output_type": "stream",
     "text": [
      " 77%|██████████████████████████████████████████████████████████████████████████████████▌                        | 75009/97279 [31:38<11:39, 31.86it/s]"
     ]
    },
    {
     "name": "stdout",
     "output_type": "stream",
     "text": [
      "EXCEPTION occured\n"
     ]
    },
    {
     "name": "stderr",
     "output_type": "stream",
     "text": [
      " 79%|████████████████████████████████████████████████████████████████████████████████████▉                      | 77265/97279 [32:38<05:40, 58.72it/s]"
     ]
    },
    {
     "name": "stdout",
     "output_type": "stream",
     "text": [
      "EXCEPTION occured\n"
     ]
    },
    {
     "name": "stderr",
     "output_type": "stream",
     "text": [
      " 91%|█████████████████████████████████████████████████████████████████████████████████████████████████▎         | 88514/97279 [37:52<04:20, 33.61it/s]"
     ]
    },
    {
     "name": "stdout",
     "output_type": "stream",
     "text": [
      "EXCEPTION occured\n"
     ]
    },
    {
     "name": "stderr",
     "output_type": "stream",
     "text": [
      " 99%|██████████████████████████████████████████████████████████████████████████████████████████████████████████▍| 96721/97279 [41:33<00:09, 60.34it/s]"
     ]
    },
    {
     "name": "stdout",
     "output_type": "stream",
     "text": [
      "EXCEPTION occured\n"
     ]
    },
    {
     "name": "stderr",
     "output_type": "stream",
     "text": [
      "100%|███████████████████████████████████████████████████████████████████████████████████████████████████████████| 97279/97279 [41:46<00:00, 38.82it/s]\n"
     ]
    }
   ],
   "source": [
    "for i in tqdm(range(submission_df.shape[0])):\n",
    "    submission_id = submission_df.iloc[i]['id']\n",
    "    title = submission_df.iloc[i]['title']\n",
    "    preprocessed_title = preprocess_raw(title)\n",
    "    summarized_title = summarize(preprocessed_title, dialog_turn = 1)\n",
    "    if summarized_title is not None:\n",
    "        submission_filtered_dict['id'].append(submission_id)\n",
    "        submission_filtered_dict['summarized'].append(summarized_title['summarized'])\n",
    "        submission_filtered_dict['from'].append('title')\n",
    "        submission_filtered_dict['text'].append(summarized_title['text'])\n",
    "        submission_filtered_dict['root'].append(summarized_title['root'])\n",
    "        submission_filtered_dict['length'].append(summarized_title['length'])\n",
    "    else:\n",
    "        selftext = submission_df.iloc[i]['selftext']\n",
    "        preprocessed_selftext = preprocess_raw(selftext)\n",
    "        summarized_selftext = summarize(preprocessed_selftext, dialog_turn = 1)\n",
    "        if summarized_selftext is not None:\n",
    "            submission_filtered_dict['id'].append(submission_id)\n",
    "            submission_filtered_dict['summarized'].append(summarized_selftext['summarized'])\n",
    "            submission_filtered_dict['from'].append('selftext')\n",
    "            submission_filtered_dict['text'].append(summarized_selftext['text'])\n",
    "            submission_filtered_dict['root'].append(summarized_selftext['root'])\n",
    "            submission_filtered_dict['length'].append(summarized_selftext['length'])"
   ]
  },
  {
   "cell_type": "code",
   "execution_count": 39,
   "id": "f993395e",
   "metadata": {},
   "outputs": [],
   "source": [
    "submission_filtered_df = pd.DataFrame(submission_filtered_dict)"
   ]
  },
  {
   "cell_type": "code",
   "execution_count": 40,
   "id": "eaa5c618",
   "metadata": {},
   "outputs": [
    {
     "data": {
      "text/html": [
       "<div>\n",
       "<style scoped>\n",
       "    .dataframe tbody tr th:only-of-type {\n",
       "        vertical-align: middle;\n",
       "    }\n",
       "\n",
       "    .dataframe tbody tr th {\n",
       "        vertical-align: top;\n",
       "    }\n",
       "\n",
       "    .dataframe thead th {\n",
       "        text-align: right;\n",
       "    }\n",
       "</style>\n",
       "<table border=\"1\" class=\"dataframe\">\n",
       "  <thead>\n",
       "    <tr style=\"text-align: right;\">\n",
       "      <th></th>\n",
       "      <th>id</th>\n",
       "      <th>summarized</th>\n",
       "      <th>from</th>\n",
       "      <th>text</th>\n",
       "      <th>root</th>\n",
       "      <th>length</th>\n",
       "    </tr>\n",
       "  </thead>\n",
       "  <tbody>\n",
       "    <tr>\n",
       "      <th>0</th>\n",
       "      <td>ko0xfy</td>\n",
       "      <td>0</td>\n",
       "      <td>selftext</td>\n",
       "      <td>To those that had it rough, To the ones that b...</td>\n",
       "      <td>wish</td>\n",
       "      <td>41</td>\n",
       "    </tr>\n",
       "    <tr>\n",
       "      <th>1</th>\n",
       "      <td>ko0sa9</td>\n",
       "      <td>0</td>\n",
       "      <td>title</td>\n",
       "      <td>Assassins Creed rekindled</td>\n",
       "      <td>rekindle</td>\n",
       "      <td>3</td>\n",
       "    </tr>\n",
       "    <tr>\n",
       "      <th>2</th>\n",
       "      <td>ko0nsh</td>\n",
       "      <td>0</td>\n",
       "      <td>title</td>\n",
       "      <td>What's everyone drinking tonight?</td>\n",
       "      <td>drink</td>\n",
       "      <td>6</td>\n",
       "    </tr>\n",
       "    <tr>\n",
       "      <th>3</th>\n",
       "      <td>ko0mjr</td>\n",
       "      <td>1</td>\n",
       "      <td>selftext</td>\n",
       "      <td>I also hope everyone achieves a writhing you p...</td>\n",
       "      <td>hope</td>\n",
       "      <td>10</td>\n",
       "    </tr>\n",
       "    <tr>\n",
       "      <th>4</th>\n",
       "      <td>ko0j1p</td>\n",
       "      <td>0</td>\n",
       "      <td>title</td>\n",
       "      <td>I Stand Against All Domestic Abuse</td>\n",
       "      <td>stand</td>\n",
       "      <td>6</td>\n",
       "    </tr>\n",
       "    <tr>\n",
       "      <th>...</th>\n",
       "      <td>...</td>\n",
       "      <td>...</td>\n",
       "      <td>...</td>\n",
       "      <td>...</td>\n",
       "      <td>...</td>\n",
       "      <td>...</td>\n",
       "    </tr>\n",
       "    <tr>\n",
       "      <th>60256</th>\n",
       "      <td>eibhr2</td>\n",
       "      <td>1</td>\n",
       "      <td>selftext</td>\n",
       "      <td>Here take a hug.</td>\n",
       "      <td>take</td>\n",
       "      <td>5</td>\n",
       "    </tr>\n",
       "    <tr>\n",
       "      <th>60257</th>\n",
       "      <td>eibeib</td>\n",
       "      <td>0</td>\n",
       "      <td>title</td>\n",
       "      <td>If you need an excuse to separate from the cro...</td>\n",
       "      <td>use</td>\n",
       "      <td>29</td>\n",
       "    </tr>\n",
       "    <tr>\n",
       "      <th>60258</th>\n",
       "      <td>eibbz3</td>\n",
       "      <td>0</td>\n",
       "      <td>title</td>\n",
       "      <td>You know when your dogs comfortable with you w...</td>\n",
       "      <td>know</td>\n",
       "      <td>17</td>\n",
       "    </tr>\n",
       "    <tr>\n",
       "      <th>60259</th>\n",
       "      <td>eib70r</td>\n",
       "      <td>0</td>\n",
       "      <td>title</td>\n",
       "      <td>In the month of December alone i got over 2000...</td>\n",
       "      <td>get</td>\n",
       "      <td>13</td>\n",
       "    </tr>\n",
       "    <tr>\n",
       "      <th>60260</th>\n",
       "      <td>eib6ol</td>\n",
       "      <td>0</td>\n",
       "      <td>title</td>\n",
       "      <td>Can a creator make something canon in his head...</td>\n",
       "      <td>make</td>\n",
       "      <td>17</td>\n",
       "    </tr>\n",
       "  </tbody>\n",
       "</table>\n",
       "<p>60261 rows × 6 columns</p>\n",
       "</div>"
      ],
      "text/plain": [
       "           id  summarized      from  \\\n",
       "0      ko0xfy           0  selftext   \n",
       "1      ko0sa9           0     title   \n",
       "2      ko0nsh           0     title   \n",
       "3      ko0mjr           1  selftext   \n",
       "4      ko0j1p           0     title   \n",
       "...       ...         ...       ...   \n",
       "60256  eibhr2           1  selftext   \n",
       "60257  eibeib           0     title   \n",
       "60258  eibbz3           0     title   \n",
       "60259  eib70r           0     title   \n",
       "60260  eib6ol           0     title   \n",
       "\n",
       "                                                    text      root  length  \n",
       "0      To those that had it rough, To the ones that b...      wish      41  \n",
       "1                              Assassins Creed rekindled  rekindle       3  \n",
       "2                      What's everyone drinking tonight?     drink       6  \n",
       "3      I also hope everyone achieves a writhing you p...      hope      10  \n",
       "4                     I Stand Against All Domestic Abuse     stand       6  \n",
       "...                                                  ...       ...     ...  \n",
       "60256                                   Here take a hug.      take       5  \n",
       "60257  If you need an excuse to separate from the cro...       use      29  \n",
       "60258  You know when your dogs comfortable with you w...      know      17  \n",
       "60259  In the month of December alone i got over 2000...       get      13  \n",
       "60260  Can a creator make something canon in his head...      make      17  \n",
       "\n",
       "[60261 rows x 6 columns]"
      ]
     },
     "execution_count": 40,
     "metadata": {},
     "output_type": "execute_result"
    }
   ],
   "source": [
    "submission_filtered_df"
   ]
  },
  {
   "cell_type": "code",
   "execution_count": 41,
   "id": "c5515e8c",
   "metadata": {},
   "outputs": [],
   "source": [
    "submission_filtered_df.to_csv('../data/reddit/filtered_q/casual_conv_submissions_{}.csv'.format(date_suffix), index = False)"
   ]
  },
  {
   "cell_type": "markdown",
   "id": "080a0238",
   "metadata": {},
   "source": [
    "## Batch Process"
   ]
  },
  {
   "cell_type": "code",
   "execution_count": 42,
   "id": "b63d2ad6",
   "metadata": {},
   "outputs": [
    {
     "name": "stdout",
     "output_type": "stream",
     "text": [
      "(75381, 10)\n"
     ]
    },
    {
     "name": "stderr",
     "output_type": "stream",
     "text": [
      " 13%|██████████████                                                                                              | 9782/75381 [04:20<29:34, 36.97it/s]"
     ]
    },
    {
     "name": "stdout",
     "output_type": "stream",
     "text": [
      "EXCEPTION occured\n"
     ]
    },
    {
     "name": "stderr",
     "output_type": "stream",
     "text": [
      " 27%|████████████████████████████▊                                                                              | 20288/75381 [09:25<30:13, 30.38it/s]"
     ]
    },
    {
     "name": "stdout",
     "output_type": "stream",
     "text": [
      "EXCEPTION occured\n"
     ]
    },
    {
     "name": "stderr",
     "output_type": "stream",
     "text": [
      " 33%|███████████████████████████████████                                                                        | 24702/75381 [11:28<24:24, 34.61it/s]"
     ]
    },
    {
     "name": "stdout",
     "output_type": "stream",
     "text": [
      "EXCEPTION occured\n"
     ]
    },
    {
     "name": "stderr",
     "output_type": "stream",
     "text": [
      " 35%|█████████████████████████████████████▍                                                                     | 26379/75381 [12:15<13:39, 59.77it/s]"
     ]
    },
    {
     "name": "stdout",
     "output_type": "stream",
     "text": [
      "EXCEPTION occured\n"
     ]
    },
    {
     "name": "stderr",
     "output_type": "stream",
     "text": [
      " 38%|████████████████████████████████████████▊                                                                  | 28762/75381 [13:16<34:55, 22.25it/s]"
     ]
    },
    {
     "name": "stdout",
     "output_type": "stream",
     "text": [
      "EXCEPTION occured\n"
     ]
    },
    {
     "name": "stderr",
     "output_type": "stream",
     "text": [
      " 53%|█████████████████████████████████████████████████████████▏                                                 | 40291/75381 [18:53<15:18, 38.22it/s]"
     ]
    },
    {
     "name": "stdout",
     "output_type": "stream",
     "text": [
      "EXCEPTION occured\n"
     ]
    },
    {
     "name": "stderr",
     "output_type": "stream",
     "text": [
      " 55%|██████████████████████████████████████████████████████████▋                                                | 41329/75381 [19:23<11:14, 50.49it/s]"
     ]
    },
    {
     "name": "stdout",
     "output_type": "stream",
     "text": [
      "EXCEPTION occured\n"
     ]
    },
    {
     "name": "stderr",
     "output_type": "stream",
     "text": [
      " 73%|█████████████████████████████████████████████████████████████████████████████▋                             | 54715/75381 [25:44<07:13, 47.72it/s]"
     ]
    },
    {
     "name": "stdout",
     "output_type": "stream",
     "text": [
      "EXCEPTION occured\n"
     ]
    },
    {
     "name": "stderr",
     "output_type": "stream",
     "text": [
      " 76%|████████████████████████████████████████████████████████████████████████████████▉                          | 57016/75381 [26:48<07:33, 40.49it/s]"
     ]
    },
    {
     "name": "stdout",
     "output_type": "stream",
     "text": [
      "EXCEPTION occured\n"
     ]
    },
    {
     "name": "stderr",
     "output_type": "stream",
     "text": [
      " 84%|█████████████████████████████████████████████████████████████████████████████████████████▊                 | 63229/75381 [29:39<03:10, 63.82it/s]"
     ]
    },
    {
     "name": "stdout",
     "output_type": "stream",
     "text": [
      "EXCEPTION occured\n"
     ]
    },
    {
     "name": "stderr",
     "output_type": "stream",
     "text": [
      " 93%|███████████████████████████████████████████████████████████████████████████████████████████████████▋       | 70207/75381 [32:46<01:50, 46.88it/s]"
     ]
    },
    {
     "name": "stdout",
     "output_type": "stream",
     "text": [
      "EXCEPTION occured\n"
     ]
    },
    {
     "name": "stderr",
     "output_type": "stream",
     "text": [
      "100%|███████████████████████████████████████████████████████████████████████████████████████████████████████████| 75381/75381 [34:59<00:00, 35.90it/s]\n"
     ]
    },
    {
     "name": "stdout",
     "output_type": "stream",
     "text": [
      "(47595, 6)\n"
     ]
    },
    {
     "name": "stderr",
     "output_type": "stream",
     "text": [
      "/tmp/ipykernel_2438/3461075786.py:4: DtypeWarning: Columns (8) have mixed types. Specify dtype option on import or set low_memory=False.\n",
      "  submission_df = pd.read_csv('../data/reddit/raw/casual_conv_submissions_{}.csv'.format(date_suffix))\n"
     ]
    },
    {
     "name": "stdout",
     "output_type": "stream",
     "text": [
      "(76633, 10)\n"
     ]
    },
    {
     "name": "stderr",
     "output_type": "stream",
     "text": [
      "  2%|██▌                                                                                                         | 1783/76633 [00:45<28:04, 44.43it/s]"
     ]
    },
    {
     "name": "stdout",
     "output_type": "stream",
     "text": [
      "EXCEPTION occured\n"
     ]
    },
    {
     "name": "stderr",
     "output_type": "stream",
     "text": [
      " 29%|███████████████████████████████▍                                                                           | 22489/76633 [10:02<25:07, 35.91it/s]"
     ]
    },
    {
     "name": "stdout",
     "output_type": "stream",
     "text": [
      "EXCEPTION occured\n"
     ]
    },
    {
     "name": "stderr",
     "output_type": "stream",
     "text": [
      " 34%|███████████████████████████████████▉                                                                       | 25713/76633 [11:36<25:57, 32.70it/s]"
     ]
    },
    {
     "name": "stdout",
     "output_type": "stream",
     "text": [
      "EXCEPTION occured\n"
     ]
    },
    {
     "name": "stderr",
     "output_type": "stream",
     "text": [
      " 39%|██████████████████████████████████████████                                                                 | 30086/76633 [13:38<12:20, 62.88it/s]"
     ]
    },
    {
     "name": "stdout",
     "output_type": "stream",
     "text": [
      "EXCEPTION occured\n"
     ]
    },
    {
     "name": "stderr",
     "output_type": "stream",
     "text": [
      " 42%|█████████████████████████████████████████████▍                                                             | 32537/76633 [14:41<17:23, 42.25it/s]"
     ]
    },
    {
     "name": "stdout",
     "output_type": "stream",
     "text": [
      "EXCEPTION occured\n"
     ]
    },
    {
     "name": "stderr",
     "output_type": "stream",
     "text": [
      " 45%|████████████████████████████████████████████████                                                           | 34378/76633 [15:30<18:05, 38.91it/s]"
     ]
    },
    {
     "name": "stdout",
     "output_type": "stream",
     "text": [
      "EXCEPTION occured\n"
     ]
    },
    {
     "name": "stderr",
     "output_type": "stream",
     "text": [
      " 45%|████████████████████████████████████████████████▎                                                          | 34604/76633 [15:36<17:51, 39.22it/s]"
     ]
    },
    {
     "name": "stdout",
     "output_type": "stream",
     "text": [
      "EXCEPTION occured\n"
     ]
    },
    {
     "name": "stderr",
     "output_type": "stream",
     "text": [
      " 47%|██████████████████████████████████████████████████▌                                                        | 36251/76633 [16:18<09:23, 71.68it/s]"
     ]
    },
    {
     "name": "stdout",
     "output_type": "stream",
     "text": [
      "EXCEPTION occured\n"
     ]
    },
    {
     "name": "stderr",
     "output_type": "stream",
     "text": [
      " 60%|████████████████████████████████████████████████████████████████▍                                          | 46151/76633 [20:34<21:55, 23.17it/s]"
     ]
    },
    {
     "name": "stdout",
     "output_type": "stream",
     "text": [
      "EXCEPTION occured\n"
     ]
    },
    {
     "name": "stderr",
     "output_type": "stream",
     "text": [
      " 74%|██████████████████████████████████████████████████████████████████████████████▊                            | 56463/76633 [25:06<08:16, 40.66it/s]"
     ]
    },
    {
     "name": "stdout",
     "output_type": "stream",
     "text": [
      "EXCEPTION occured\n"
     ]
    },
    {
     "name": "stderr",
     "output_type": "stream",
     "text": [
      " 78%|███████████████████████████████████████████████████████████████████████████████████                        | 59510/76633 [26:14<06:53, 41.45it/s]"
     ]
    },
    {
     "name": "stdout",
     "output_type": "stream",
     "text": [
      "EXCEPTION occured\n"
     ]
    },
    {
     "name": "stderr",
     "output_type": "stream",
     "text": [
      "100%|███████████████████████████████████████████████████████████████████████████████████████████████████████████| 76633/76633 [32:10<00:00, 39.69it/s]\n"
     ]
    },
    {
     "name": "stdout",
     "output_type": "stream",
     "text": [
      "(47640, 6)\n",
      "(55543, 10)\n"
     ]
    },
    {
     "name": "stderr",
     "output_type": "stream",
     "text": [
      " 16%|█████████████████▍                                                                                          | 8955/55543 [03:02<23:56, 32.43it/s]"
     ]
    },
    {
     "name": "stdout",
     "output_type": "stream",
     "text": [
      "EXCEPTION occured\n"
     ]
    },
    {
     "name": "stderr",
     "output_type": "stream",
     "text": [
      " 61%|████████████████████████████████████████████████████████████████▊                                          | 33665/55543 [10:17<04:00, 90.82it/s]"
     ]
    },
    {
     "name": "stdout",
     "output_type": "stream",
     "text": [
      "EXCEPTION occured\n"
     ]
    },
    {
     "name": "stderr",
     "output_type": "stream",
     "text": [
      " 87%|█████████████████████████████████████████████████████████████████████████████████████████████▎             | 48459/55543 [14:54<02:54, 40.70it/s]"
     ]
    },
    {
     "name": "stdout",
     "output_type": "stream",
     "text": [
      "EXCEPTION occured\n"
     ]
    },
    {
     "name": "stderr",
     "output_type": "stream",
     "text": [
      "100%|███████████████████████████████████████████████████████████████████████████████████████████████████████████| 55543/55543 [17:06<00:00, 54.12it/s]\n"
     ]
    },
    {
     "name": "stdout",
     "output_type": "stream",
     "text": [
      "(34064, 6)\n",
      "(35681, 10)\n"
     ]
    },
    {
     "name": "stderr",
     "output_type": "stream",
     "text": [
      " 62%|█████████████████████████████████████████████████████████████████▉                                         | 21974/35681 [05:50<04:16, 53.42it/s]"
     ]
    },
    {
     "name": "stdout",
     "output_type": "stream",
     "text": [
      "EXCEPTION occured\n"
     ]
    },
    {
     "name": "stderr",
     "output_type": "stream",
     "text": [
      "100%|███████████████████████████████████████████████████████████████████████████████████████████████████████████| 35681/35681 [09:28<00:00, 62.82it/s]\n"
     ]
    },
    {
     "name": "stdout",
     "output_type": "stream",
     "text": [
      "(20968, 6)\n",
      "(39868, 10)\n"
     ]
    },
    {
     "name": "stderr",
     "output_type": "stream",
     "text": [
      " 17%|██████████████████▌                                                                                         | 6862/39868 [01:57<12:12, 45.06it/s]"
     ]
    },
    {
     "name": "stdout",
     "output_type": "stream",
     "text": [
      "EXCEPTION occured\n"
     ]
    },
    {
     "name": "stderr",
     "output_type": "stream",
     "text": [
      " 51%|██████████████████████████████████████████████████████▌                                                    | 20339/39868 [06:25<04:59, 65.31it/s]"
     ]
    },
    {
     "name": "stdout",
     "output_type": "stream",
     "text": [
      "EXCEPTION occured\n"
     ]
    },
    {
     "name": "stderr",
     "output_type": "stream",
     "text": [
      " 51%|██████████████████████████████████████████████████████▉                                                    | 20482/39868 [06:27<03:58, 81.13it/s]"
     ]
    },
    {
     "name": "stdout",
     "output_type": "stream",
     "text": [
      "EXCEPTION occured\n"
     ]
    },
    {
     "name": "stderr",
     "output_type": "stream",
     "text": [
      " 61%|█████████████████████████████████████████████████████████████████                                          | 24241/39868 [07:43<04:43, 55.20it/s]"
     ]
    },
    {
     "name": "stdout",
     "output_type": "stream",
     "text": [
      "EXCEPTION occured\n"
     ]
    },
    {
     "name": "stderr",
     "output_type": "stream",
     "text": [
      " 65%|█████████████████████████████████████████████████████████████████████▎                                     | 25824/39868 [08:12<03:45, 62.20it/s]"
     ]
    },
    {
     "name": "stdout",
     "output_type": "stream",
     "text": [
      "EXCEPTION occured\n"
     ]
    },
    {
     "name": "stderr",
     "output_type": "stream",
     "text": [
      " 68%|█████████████████████████████████████████████████████████████████████████▏                                 | 27251/39868 [08:42<06:06, 34.42it/s]"
     ]
    },
    {
     "name": "stdout",
     "output_type": "stream",
     "text": [
      "EXCEPTION occured\n"
     ]
    },
    {
     "name": "stderr",
     "output_type": "stream",
     "text": [
      " 87%|████████████████████████████████████████████████████████████████████████████████████████████▋              | 34525/39868 [11:15<02:12, 40.29it/s]"
     ]
    },
    {
     "name": "stdout",
     "output_type": "stream",
     "text": [
      "EXCEPTION occured\n"
     ]
    },
    {
     "name": "stderr",
     "output_type": "stream",
     "text": [
      " 95%|█████████████████████████████████████████████████████████████████████████████████████████████████████▎     | 37744/39868 [12:29<00:38, 55.83it/s]"
     ]
    },
    {
     "name": "stdout",
     "output_type": "stream",
     "text": [
      "EXCEPTION occured\n"
     ]
    },
    {
     "name": "stderr",
     "output_type": "stream",
     "text": [
      "100%|███████████████████████████████████████████████████████████████████████████████████████████████████████████| 39868/39868 [13:18<00:00, 49.90it/s]\n"
     ]
    },
    {
     "name": "stdout",
     "output_type": "stream",
     "text": [
      "(25014, 6)\n",
      "(16949, 10)\n"
     ]
    },
    {
     "name": "stderr",
     "output_type": "stream",
     "text": [
      " 11%|███████████▌                                                                                                | 1815/16949 [00:41<04:40, 53.90it/s]"
     ]
    },
    {
     "name": "stdout",
     "output_type": "stream",
     "text": [
      "EXCEPTION occured\n"
     ]
    },
    {
     "name": "stderr",
     "output_type": "stream",
     "text": [
      " 18%|███████████████████                                                                                         | 2986/16949 [01:07<06:37, 35.13it/s]"
     ]
    },
    {
     "name": "stdout",
     "output_type": "stream",
     "text": [
      "EXCEPTION occured\n"
     ]
    },
    {
     "name": "stderr",
     "output_type": "stream",
     "text": [
      " 71%|███████████████████████████████████████████████████████████████████████████▋                               | 11995/16949 [04:56<03:08, 26.25it/s]"
     ]
    },
    {
     "name": "stdout",
     "output_type": "stream",
     "text": [
      "EXCEPTION occured\n"
     ]
    },
    {
     "name": "stderr",
     "output_type": "stream",
     "text": [
      " 73%|██████████████████████████████████████████████████████████████████████████████▎                            | 12409/16949 [05:06<02:16, 33.18it/s]"
     ]
    },
    {
     "name": "stdout",
     "output_type": "stream",
     "text": [
      "EXCEPTION occured\n"
     ]
    },
    {
     "name": "stderr",
     "output_type": "stream",
     "text": [
      "100%|███████████████████████████████████████████████████████████████████████████████████████████████████████████| 16949/16949 [06:48<00:00, 41.46it/s]"
     ]
    },
    {
     "name": "stdout",
     "output_type": "stream",
     "text": [
      "(10781, 6)\n"
     ]
    },
    {
     "name": "stderr",
     "output_type": "stream",
     "text": [
      "\n"
     ]
    }
   ],
   "source": [
    "date_suffices = ['20190101_20191231', '20180101_20181231', '20170101_20171231',\n",
    "                 '20160101_20161231', '20150101_20151231', '20140608_20141231']\n",
    "for date_suffix in date_suffices:\n",
    "    submission_df = pd.read_csv('../data/reddit/raw/casual_conv_submissions_{}.csv'.format(date_suffix))\n",
    "    print(submission_df.shape)\n",
    "    submission_filtered_cols = ['id', 'summarized', 'from', 'text', 'root', 'length']\n",
    "    submission_filtered_dict = {col: [] for col in submission_filtered_cols}\n",
    "    for i in tqdm(range(submission_df.shape[0])):\n",
    "        submission_id = submission_df.iloc[i]['id']\n",
    "        title = submission_df.iloc[i]['title']\n",
    "        preprocessed_title = preprocess_raw(title)\n",
    "        summarized_title = summarize(preprocessed_title, dialog_turn = 1)\n",
    "        if summarized_title is not None:\n",
    "            submission_filtered_dict['id'].append(submission_id)\n",
    "            submission_filtered_dict['summarized'].append(summarized_title['summarized'])\n",
    "            submission_filtered_dict['from'].append('title')\n",
    "            submission_filtered_dict['text'].append(summarized_title['text'])\n",
    "            submission_filtered_dict['root'].append(summarized_title['root'])\n",
    "            submission_filtered_dict['length'].append(summarized_title['length'])\n",
    "        else:\n",
    "            selftext = submission_df.iloc[i]['selftext']\n",
    "            preprocessed_selftext = preprocess_raw(selftext)\n",
    "            summarized_selftext = summarize(preprocessed_selftext, dialog_turn = 1)\n",
    "            if summarized_selftext is not None:\n",
    "                submission_filtered_dict['id'].append(submission_id)\n",
    "                submission_filtered_dict['summarized'].append(summarized_selftext['summarized'])\n",
    "                submission_filtered_dict['from'].append('selftext')\n",
    "                submission_filtered_dict['text'].append(summarized_selftext['text'])\n",
    "                submission_filtered_dict['root'].append(summarized_selftext['root'])\n",
    "                submission_filtered_dict['length'].append(summarized_selftext['length'])\n",
    "    submission_filtered_df = pd.DataFrame(submission_filtered_dict)\n",
    "    print(submission_filtered_df.shape)\n",
    "    submission_filtered_df.to_csv('../data/reddit/filtered_q/casual_conv_submissions_{}.csv'.format(date_suffix), index = False)"
   ]
  },
  {
   "cell_type": "markdown",
   "id": "5c20baef",
   "metadata": {},
   "source": [
    "## Check Questions"
   ]
  },
  {
   "cell_type": "code",
   "execution_count": 32,
   "id": "e1520562",
   "metadata": {},
   "outputs": [
    {
     "name": "stderr",
     "output_type": "stream",
     "text": [
      "100%|███████████████████████████████████████████████████████████████████████████████████████████████████████████| 8470/8470 [00:00<00:00, 9562.37it/s]\n"
     ]
    }
   ],
   "source": [
    "questions = []\n",
    "for i in tqdm(range(submission_filtered_df.shape[0])):\n",
    "    if submission_filtered_df.iloc[i]['text'].endswith('?'):\n",
    "        questions.append(submission_filtered_df.iloc[i]['text'])"
   ]
  },
  {
   "cell_type": "code",
   "execution_count": 33,
   "id": "de92f533",
   "metadata": {},
   "outputs": [
    {
     "data": {
      "text/plain": [
       "['How do you deal with not having family or any close relationships?',\n",
       " 'Why do I intuitively find this surprising?',\n",
       " 'How will lack of romantic relationship in your teen and young adult years affect you in the long run?',\n",
       " 'How will lack of romantic relationship in your teen and young adult years affect you in the long run?',\n",
       " 'What would teenage you think about who you are now?',\n",
       " \"Let's chat?\",\n",
       " 'Why do Americans think adults living with parents is bad?',\n",
       " \"Do you guys feel like life's not that much fun anymore?\",\n",
       " \"Why do schools teach things you don't need to know like algebra?\",\n",
       " \"How can I make sure my mom doesn't feel lonely?\"]"
      ]
     },
     "execution_count": 33,
     "metadata": {},
     "output_type": "execute_result"
    }
   ],
   "source": [
    "questions[:10]"
   ]
  },
  {
   "cell_type": "markdown",
   "id": "68e81e0d",
   "metadata": {},
   "source": [
    "# Filter Comments"
   ]
  },
  {
   "cell_type": "code",
   "execution_count": 29,
   "id": "6bd2ef61",
   "metadata": {},
   "outputs": [
    {
     "data": {
      "text/plain": [
       "(311185, 9)"
      ]
     },
     "execution_count": 29,
     "metadata": {},
     "output_type": "execute_result"
    }
   ],
   "source": [
    "comment_df = pd.read_csv('../data/reddit/raw/casual_conv_comments_{}.csv'.format(date_suffix))\n",
    "comment_df.shape"
   ]
  },
  {
   "cell_type": "code",
   "execution_count": 30,
   "id": "04cae330",
   "metadata": {},
   "outputs": [
    {
     "data": {
      "text/html": [
       "<div>\n",
       "<style scoped>\n",
       "    .dataframe tbody tr th:only-of-type {\n",
       "        vertical-align: middle;\n",
       "    }\n",
       "\n",
       "    .dataframe tbody tr th {\n",
       "        vertical-align: top;\n",
       "    }\n",
       "\n",
       "    .dataframe thead th {\n",
       "        text-align: right;\n",
       "    }\n",
       "</style>\n",
       "<table border=\"1\" class=\"dataframe\">\n",
       "  <thead>\n",
       "    <tr style=\"text-align: right;\">\n",
       "      <th></th>\n",
       "      <th>id</th>\n",
       "      <th>link_id</th>\n",
       "      <th>parent_id</th>\n",
       "      <th>created_utc</th>\n",
       "      <th>body</th>\n",
       "      <th>subreddit</th>\n",
       "      <th>subreddit_id</th>\n",
       "      <th>score</th>\n",
       "      <th>author_fullname</th>\n",
       "    </tr>\n",
       "  </thead>\n",
       "  <tbody>\n",
       "    <tr>\n",
       "      <th>0</th>\n",
       "      <td>hm5iqwj</td>\n",
       "      <td>t3_r2nmvy</td>\n",
       "      <td>t3_r2nmvy</td>\n",
       "      <td>1637933885</td>\n",
       "      <td>Yeah, they’re fun! Conscious Club is campy in ...</td>\n",
       "      <td>CasualConversation</td>\n",
       "      <td>t5_323oy</td>\n",
       "      <td>1.0</td>\n",
       "      <td>t2_5yhjayls</td>\n",
       "    </tr>\n",
       "    <tr>\n",
       "      <th>1</th>\n",
       "      <td>hm5iup9</td>\n",
       "      <td>t3_r2nlu7</td>\n",
       "      <td>t3_r2nlu7</td>\n",
       "      <td>1637933947</td>\n",
       "      <td>Sounds like fate, but also disgusting. I hope ...</td>\n",
       "      <td>CasualConversation</td>\n",
       "      <td>t5_323oy</td>\n",
       "      <td>62.0</td>\n",
       "      <td>t2_g7sdcvpm</td>\n",
       "    </tr>\n",
       "    <tr>\n",
       "      <th>2</th>\n",
       "      <td>hm5iuth</td>\n",
       "      <td>t3_r2nmvy</td>\n",
       "      <td>t1_hm5iqwj</td>\n",
       "      <td>1637933949</td>\n",
       "      <td>I know!</td>\n",
       "      <td>CasualConversation</td>\n",
       "      <td>t5_323oy</td>\n",
       "      <td>1.0</td>\n",
       "      <td>t2_dvd2sbpi</td>\n",
       "    </tr>\n",
       "    <tr>\n",
       "      <th>3</th>\n",
       "      <td>hm5iw7v</td>\n",
       "      <td>t3_r2nlu7</td>\n",
       "      <td>t3_r2nlu7</td>\n",
       "      <td>1637933973</td>\n",
       "      <td>That is an amazing story and even bigger coinc...</td>\n",
       "      <td>CasualConversation</td>\n",
       "      <td>t5_323oy</td>\n",
       "      <td>18.0</td>\n",
       "      <td>t2_xeg58lg</td>\n",
       "    </tr>\n",
       "    <tr>\n",
       "      <th>4</th>\n",
       "      <td>hm5j61n</td>\n",
       "      <td>t3_r2nlu7</td>\n",
       "      <td>t1_hm5iup9</td>\n",
       "      <td>1637934133</td>\n",
       "      <td>He’s a doctor now so I hope he’s grown out of ...</td>\n",
       "      <td>CasualConversation</td>\n",
       "      <td>t5_323oy</td>\n",
       "      <td>66.0</td>\n",
       "      <td>t2_5t1dsc17</td>\n",
       "    </tr>\n",
       "  </tbody>\n",
       "</table>\n",
       "</div>"
      ],
      "text/plain": [
       "        id    link_id   parent_id  created_utc  \\\n",
       "0  hm5iqwj  t3_r2nmvy   t3_r2nmvy   1637933885   \n",
       "1  hm5iup9  t3_r2nlu7   t3_r2nlu7   1637933947   \n",
       "2  hm5iuth  t3_r2nmvy  t1_hm5iqwj   1637933949   \n",
       "3  hm5iw7v  t3_r2nlu7   t3_r2nlu7   1637933973   \n",
       "4  hm5j61n  t3_r2nlu7  t1_hm5iup9   1637934133   \n",
       "\n",
       "                                                body           subreddit  \\\n",
       "0  Yeah, they’re fun! Conscious Club is campy in ...  CasualConversation   \n",
       "1  Sounds like fate, but also disgusting. I hope ...  CasualConversation   \n",
       "2                                            I know!  CasualConversation   \n",
       "3  That is an amazing story and even bigger coinc...  CasualConversation   \n",
       "4  He’s a doctor now so I hope he’s grown out of ...  CasualConversation   \n",
       "\n",
       "  subreddit_id  score author_fullname  \n",
       "0     t5_323oy    1.0     t2_5yhjayls  \n",
       "1     t5_323oy   62.0     t2_g7sdcvpm  \n",
       "2     t5_323oy    1.0     t2_dvd2sbpi  \n",
       "3     t5_323oy   18.0      t2_xeg58lg  \n",
       "4     t5_323oy   66.0     t2_5t1dsc17  "
      ]
     },
     "execution_count": 30,
     "metadata": {},
     "output_type": "execute_result"
    }
   ],
   "source": [
    "comment_df.head()"
   ]
  },
  {
   "cell_type": "code",
   "execution_count": 31,
   "id": "c1f0f9c1",
   "metadata": {},
   "outputs": [],
   "source": [
    "submission_filtered_df = pd.read_csv('../data/reddit/filtered/casual_conv_submissions_{}.csv'.format(date_suffix))\n",
    "submission_filtered_ids = submission_filtered_df['id'].tolist()\n",
    "submission_filtered_ids = ['t3_' + x for x in submission_filtered_ids]"
   ]
  },
  {
   "cell_type": "code",
   "execution_count": 32,
   "id": "e2233be3",
   "metadata": {},
   "outputs": [
    {
     "data": {
      "text/plain": [
       "(85598, 9)"
      ]
     },
     "execution_count": 32,
     "metadata": {},
     "output_type": "execute_result"
    }
   ],
   "source": [
    "comment_df = comment_df[comment_df['parent_id'].isin(submission_filtered_ids)]\n",
    "comment_df.shape"
   ]
  },
  {
   "cell_type": "code",
   "execution_count": 33,
   "id": "e70c37c0",
   "metadata": {},
   "outputs": [],
   "source": [
    "comment_filtered_cols = ['id', 'parent_id', 'summarized', 'text', 'length']\n",
    "comment_filtered_dict = {col: [] for col in comment_filtered_cols}"
   ]
  },
  {
   "cell_type": "code",
   "execution_count": 34,
   "id": "c44b3649",
   "metadata": {
    "collapsed": true
   },
   "outputs": [
    {
     "name": "stderr",
     "output_type": "stream",
     "text": [
      "  2%|██▌                                                                                                         | 2051/85598 [00:39<19:59, 69.65it/s]"
     ]
    },
    {
     "name": "stdout",
     "output_type": "stream",
     "text": [
      "EXCEPTION occured\n"
     ]
    },
    {
     "name": "stderr",
     "output_type": "stream",
     "text": [
      " 10%|██████████▉                                                                                               | 8871/85598 [03:10<1:39:55, 12.80it/s]"
     ]
    },
    {
     "name": "stdout",
     "output_type": "stream",
     "text": [
      "EXCEPTION occured\n"
     ]
    },
    {
     "name": "stderr",
     "output_type": "stream",
     "text": [
      " 12%|█████████████                                                                                              | 10498/85598 [04:05<25:35, 48.89it/s]"
     ]
    },
    {
     "name": "stdout",
     "output_type": "stream",
     "text": [
      "EXCEPTION occured\n"
     ]
    },
    {
     "name": "stderr",
     "output_type": "stream",
     "text": [
      " 18%|███████████████████▏                                                                                       | 15392/85598 [05:47<22:41, 51.58it/s]"
     ]
    },
    {
     "name": "stdout",
     "output_type": "stream",
     "text": [
      "EXCEPTION occured\n"
     ]
    },
    {
     "name": "stderr",
     "output_type": "stream",
     "text": [
      " 21%|██████████████████████▋                                                                                    | 18192/85598 [06:53<21:34, 52.07it/s]"
     ]
    },
    {
     "name": "stdout",
     "output_type": "stream",
     "text": [
      "EXCEPTION occured\n"
     ]
    },
    {
     "name": "stderr",
     "output_type": "stream",
     "text": [
      " 25%|██████████████████████████▉                                                                                | 21590/85598 [07:55<26:06, 40.85it/s]"
     ]
    },
    {
     "name": "stdout",
     "output_type": "stream",
     "text": [
      "EXCEPTION occured\n"
     ]
    },
    {
     "name": "stderr",
     "output_type": "stream",
     "text": [
      " 41%|███████████████████████████████████████████▍                                                               | 34740/85598 [12:37<31:27, 26.94it/s]"
     ]
    },
    {
     "name": "stdout",
     "output_type": "stream",
     "text": [
      "EXCEPTION occured\n"
     ]
    },
    {
     "name": "stderr",
     "output_type": "stream",
     "text": [
      " 48%|███████████████████████████████████████████████████▌                                                       | 41224/85598 [15:03<16:53, 43.76it/s]"
     ]
    },
    {
     "name": "stdout",
     "output_type": "stream",
     "text": [
      "EXCEPTION occured\n"
     ]
    },
    {
     "name": "stderr",
     "output_type": "stream",
     "text": [
      " 51%|██████████████████████████████████████████████████████▌                                                    | 43652/85598 [16:03<14:02, 49.81it/s]"
     ]
    },
    {
     "name": "stdout",
     "output_type": "stream",
     "text": [
      "EXCEPTION occured\n"
     ]
    },
    {
     "name": "stderr",
     "output_type": "stream",
     "text": [
      " 55%|██████████████████████████████████████████████████████████▋                                                | 46939/85598 [17:14<22:37, 28.48it/s]"
     ]
    },
    {
     "name": "stdout",
     "output_type": "stream",
     "text": [
      "EXCEPTION occured\n"
     ]
    },
    {
     "name": "stderr",
     "output_type": "stream",
     "text": [
      " 77%|██████████████████████████████████████████████████████████████████████████████████▋                        | 66111/85598 [24:19<06:49, 47.62it/s]"
     ]
    },
    {
     "name": "stdout",
     "output_type": "stream",
     "text": [
      "EXCEPTION occured\n"
     ]
    },
    {
     "name": "stderr",
     "output_type": "stream",
     "text": [
      " 81%|██████████████████████████████████████████████████████████████████████████████████████▏                    | 68914/85598 [25:24<07:33, 36.79it/s]"
     ]
    },
    {
     "name": "stdout",
     "output_type": "stream",
     "text": [
      "EXCEPTION occured\n"
     ]
    },
    {
     "name": "stderr",
     "output_type": "stream",
     "text": [
      " 82%|███████████████████████████████████████████████████████████████████████████████████████▍                   | 69986/85598 [25:55<09:54, 26.24it/s]"
     ]
    },
    {
     "name": "stdout",
     "output_type": "stream",
     "text": [
      "EXCEPTION occured\n"
     ]
    },
    {
     "name": "stderr",
     "output_type": "stream",
     "text": [
      " 88%|█████████████████████████████████████████████████████████████████████████████████████████████▊             | 75077/85598 [28:21<05:32, 31.67it/s]"
     ]
    },
    {
     "name": "stdout",
     "output_type": "stream",
     "text": [
      "EXCEPTION occured\n"
     ]
    },
    {
     "name": "stderr",
     "output_type": "stream",
     "text": [
      " 88%|██████████████████████████████████████████████████████████████████████████████████████████████▌            | 75680/85598 [28:39<05:12, 31.78it/s]"
     ]
    },
    {
     "name": "stdout",
     "output_type": "stream",
     "text": [
      "EXCEPTION occured\n"
     ]
    },
    {
     "name": "stderr",
     "output_type": "stream",
     "text": [
      " 96%|███████████████████████████████████████████████████████████████████████████████████████████████████████    | 82410/85598 [31:08<01:09, 46.06it/s]"
     ]
    },
    {
     "name": "stdout",
     "output_type": "stream",
     "text": [
      "EXCEPTION occured\n"
     ]
    },
    {
     "name": "stderr",
     "output_type": "stream",
     "text": [
      "100%|███████████████████████████████████████████████████████████████████████████████████████████████████████████| 85598/85598 [32:13<00:00, 44.27it/s]\n"
     ]
    }
   ],
   "source": [
    "for i in tqdm(range(comment_df.shape[0])):\n",
    "    comment_id = comment_df.iloc[i]['id']\n",
    "    parent_id = comment_df.iloc[i]['parent_id']\n",
    "    body = comment_df.iloc[i]['body']\n",
    "    preprocessed_body = preprocess_raw(body)\n",
    "    summarized_body = summarize(preprocessed_body, dialog_turn = 2)\n",
    "    if summarized_body is not None:\n",
    "        comment_filtered_dict['id'].append(comment_id)\n",
    "        comment_filtered_dict['parent_id'].append(parent_id)\n",
    "        comment_filtered_dict['summarized'].append(summarized_body['summarized'])\n",
    "        comment_filtered_dict['text'].append(summarized_body['text'])\n",
    "        comment_filtered_dict['length'].append(summarized_body['length'])"
   ]
  },
  {
   "cell_type": "code",
   "execution_count": 35,
   "id": "f2a590f1",
   "metadata": {},
   "outputs": [],
   "source": [
    "comment_filtered_df = pd.DataFrame(comment_filtered_dict)"
   ]
  },
  {
   "cell_type": "code",
   "execution_count": 36,
   "id": "38c963da",
   "metadata": {},
   "outputs": [
    {
     "data": {
      "text/html": [
       "<div>\n",
       "<style scoped>\n",
       "    .dataframe tbody tr th:only-of-type {\n",
       "        vertical-align: middle;\n",
       "    }\n",
       "\n",
       "    .dataframe tbody tr th {\n",
       "        vertical-align: top;\n",
       "    }\n",
       "\n",
       "    .dataframe thead th {\n",
       "        text-align: right;\n",
       "    }\n",
       "</style>\n",
       "<table border=\"1\" class=\"dataframe\">\n",
       "  <thead>\n",
       "    <tr style=\"text-align: right;\">\n",
       "      <th></th>\n",
       "      <th>id</th>\n",
       "      <th>parent_id</th>\n",
       "      <th>summarized</th>\n",
       "      <th>text</th>\n",
       "      <th>length</th>\n",
       "    </tr>\n",
       "  </thead>\n",
       "  <tbody>\n",
       "    <tr>\n",
       "      <th>0</th>\n",
       "      <td>hm5jftd</td>\n",
       "      <td>t3_r2npa3</td>\n",
       "      <td>0</td>\n",
       "      <td>I take one to two hours a day where I listen t...</td>\n",
       "      <td>24</td>\n",
       "    </tr>\n",
       "    <tr>\n",
       "      <th>1</th>\n",
       "      <td>hm5kl30</td>\n",
       "      <td>t3_r2npa3</td>\n",
       "      <td>0</td>\n",
       "      <td>Walking in the countryside withan audiobook.</td>\n",
       "      <td>7</td>\n",
       "    </tr>\n",
       "    <tr>\n",
       "      <th>2</th>\n",
       "      <td>hm5klmc</td>\n",
       "      <td>t3_r2nz4v</td>\n",
       "      <td>0</td>\n",
       "      <td>I look outside my window and ask myself this a...</td>\n",
       "      <td>13</td>\n",
       "    </tr>\n",
       "    <tr>\n",
       "      <th>3</th>\n",
       "      <td>hm5l7rv</td>\n",
       "      <td>t3_r2npa3</td>\n",
       "      <td>1</td>\n",
       "      <td>I completed a course in Transcendental Meditat...</td>\n",
       "      <td>22</td>\n",
       "    </tr>\n",
       "    <tr>\n",
       "      <th>4</th>\n",
       "      <td>hm5q97a</td>\n",
       "      <td>t3_r2nz4v</td>\n",
       "      <td>1</td>\n",
       "      <td>Movies and Video games require thousands of pe...</td>\n",
       "      <td>14</td>\n",
       "    </tr>\n",
       "    <tr>\n",
       "      <th>...</th>\n",
       "      <td>...</td>\n",
       "      <td>...</td>\n",
       "      <td>...</td>\n",
       "      <td>...</td>\n",
       "      <td>...</td>\n",
       "    </tr>\n",
       "    <tr>\n",
       "      <th>53689</th>\n",
       "      <td>gxn9pkb</td>\n",
       "      <td>t3_n8se6e</td>\n",
       "      <td>1</td>\n",
       "      <td>Good luck!</td>\n",
       "      <td>3</td>\n",
       "    </tr>\n",
       "    <tr>\n",
       "      <th>53690</th>\n",
       "      <td>gxnbhpi</td>\n",
       "      <td>t3_n8se6e</td>\n",
       "      <td>0</td>\n",
       "      <td>It's really hard to get work right now so well...</td>\n",
       "      <td>14</td>\n",
       "    </tr>\n",
       "    <tr>\n",
       "      <th>53691</th>\n",
       "      <td>gxnxjei</td>\n",
       "      <td>t3_n8se6e</td>\n",
       "      <td>1</td>\n",
       "      <td>Glad you found work.</td>\n",
       "      <td>5</td>\n",
       "    </tr>\n",
       "    <tr>\n",
       "      <th>53692</th>\n",
       "      <td>gxocvzh</td>\n",
       "      <td>t3_n8sdhl</td>\n",
       "      <td>1</td>\n",
       "      <td>I've never lived anywhere with fireflies, and ...</td>\n",
       "      <td>18</td>\n",
       "    </tr>\n",
       "    <tr>\n",
       "      <th>53693</th>\n",
       "      <td>gxx1b73</td>\n",
       "      <td>t3_n8se6e</td>\n",
       "      <td>0</td>\n",
       "      <td>Good luck mate!</td>\n",
       "      <td>4</td>\n",
       "    </tr>\n",
       "  </tbody>\n",
       "</table>\n",
       "<p>53694 rows × 5 columns</p>\n",
       "</div>"
      ],
      "text/plain": [
       "            id  parent_id  summarized  \\\n",
       "0      hm5jftd  t3_r2npa3           0   \n",
       "1      hm5kl30  t3_r2npa3           0   \n",
       "2      hm5klmc  t3_r2nz4v           0   \n",
       "3      hm5l7rv  t3_r2npa3           1   \n",
       "4      hm5q97a  t3_r2nz4v           1   \n",
       "...        ...        ...         ...   \n",
       "53689  gxn9pkb  t3_n8se6e           1   \n",
       "53690  gxnbhpi  t3_n8se6e           0   \n",
       "53691  gxnxjei  t3_n8se6e           1   \n",
       "53692  gxocvzh  t3_n8sdhl           1   \n",
       "53693  gxx1b73  t3_n8se6e           0   \n",
       "\n",
       "                                                    text  length  \n",
       "0      I take one to two hours a day where I listen t...      24  \n",
       "1           Walking in the countryside withan audiobook.       7  \n",
       "2      I look outside my window and ask myself this a...      13  \n",
       "3      I completed a course in Transcendental Meditat...      22  \n",
       "4      Movies and Video games require thousands of pe...      14  \n",
       "...                                                  ...     ...  \n",
       "53689                                         Good luck!       3  \n",
       "53690  It's really hard to get work right now so well...      14  \n",
       "53691                               Glad you found work.       5  \n",
       "53692  I've never lived anywhere with fireflies, and ...      18  \n",
       "53693                                    Good luck mate!       4  \n",
       "\n",
       "[53694 rows x 5 columns]"
      ]
     },
     "execution_count": 36,
     "metadata": {},
     "output_type": "execute_result"
    }
   ],
   "source": [
    "comment_filtered_df"
   ]
  },
  {
   "cell_type": "code",
   "execution_count": 37,
   "id": "b7432490",
   "metadata": {},
   "outputs": [],
   "source": [
    "comment_filtered_df.to_csv('../data/reddit/filtered/casual_conv_comments_{}.csv'.format(date_suffix), index = False)"
   ]
  },
  {
   "cell_type": "markdown",
   "id": "9537ffe8",
   "metadata": {},
   "source": [
    "## Batch Process"
   ]
  },
  {
   "cell_type": "code",
   "execution_count": 43,
   "id": "563b39ba",
   "metadata": {},
   "outputs": [
    {
     "name": "stdout",
     "output_type": "stream",
     "text": [
      "(311185, 9)\n",
      "(115319, 9)\n"
     ]
    },
    {
     "name": "stderr",
     "output_type": "stream",
     "text": [
      "  2%|██▍                                                                                                        | 2650/115319 [00:52<28:24, 66.12it/s]"
     ]
    },
    {
     "name": "stdout",
     "output_type": "stream",
     "text": [
      "EXCEPTION occured\n"
     ]
    },
    {
     "name": "stderr",
     "output_type": "stream",
     "text": [
      " 10%|██████████▎                                                                                             | 11370/115319 [04:10<2:10:01, 13.32it/s]"
     ]
    },
    {
     "name": "stdout",
     "output_type": "stream",
     "text": [
      "EXCEPTION occured\n"
     ]
    },
    {
     "name": "stderr",
     "output_type": "stream",
     "text": [
      " 10%|███████████                                                                                               | 12058/115319 [04:37<34:49, 49.41it/s]"
     ]
    },
    {
     "name": "stdout",
     "output_type": "stream",
     "text": [
      "EXCEPTION occured\n"
     ]
    },
    {
     "name": "stderr",
     "output_type": "stream",
     "text": [
      " 12%|████████████▍                                                                                             | 13561/115319 [05:17<29:38, 57.23it/s]"
     ]
    },
    {
     "name": "stdout",
     "output_type": "stream",
     "text": [
      "EXCEPTION occured\n"
     ]
    },
    {
     "name": "stderr",
     "output_type": "stream",
     "text": [
      " 18%|███████████████████▏                                                                                      | 20823/115319 [07:56<47:15, 33.33it/s]"
     ]
    },
    {
     "name": "stdout",
     "output_type": "stream",
     "text": [
      "EXCEPTION occured\n"
     ]
    },
    {
     "name": "stderr",
     "output_type": "stream",
     "text": [
      " 21%|██████████████████████▍                                                                                   | 24469/115319 [09:20<26:54, 56.27it/s]"
     ]
    },
    {
     "name": "stdout",
     "output_type": "stream",
     "text": [
      "EXCEPTION occured\n"
     ]
    },
    {
     "name": "stderr",
     "output_type": "stream",
     "text": [
      " 25%|██████████████████████████                                                                                | 28388/115319 [10:31<27:24, 52.87it/s]"
     ]
    },
    {
     "name": "stdout",
     "output_type": "stream",
     "text": [
      "EXCEPTION occured\n"
     ]
    },
    {
     "name": "stderr",
     "output_type": "stream",
     "text": [
      " 38%|████████████████████████████████████████▌                                                                 | 44163/115319 [15:16<43:42, 27.13it/s]"
     ]
    },
    {
     "name": "stdout",
     "output_type": "stream",
     "text": [
      "EXCEPTION occured\n"
     ]
    },
    {
     "name": "stderr",
     "output_type": "stream",
     "text": [
      " 45%|███████████████████████████████████████████████▉                                                          | 52169/115319 [18:19<36:17, 29.00it/s]"
     ]
    },
    {
     "name": "stdout",
     "output_type": "stream",
     "text": [
      "EXCEPTION occured\n"
     ]
    },
    {
     "name": "stderr",
     "output_type": "stream",
     "text": [
      " 52%|██████████████████████████████████████████████████████▉                                                   | 59708/115319 [21:04<22:48, 40.64it/s]"
     ]
    },
    {
     "name": "stdout",
     "output_type": "stream",
     "text": [
      "EXCEPTION occured\n"
     ]
    },
    {
     "name": "stderr",
     "output_type": "stream",
     "text": [
      " 54%|█████████████████████████████████████████████████████████▌                                                | 62654/115319 [22:13<19:33, 44.86it/s]"
     ]
    },
    {
     "name": "stdout",
     "output_type": "stream",
     "text": [
      "EXCEPTION occured\n"
     ]
    },
    {
     "name": "stderr",
     "output_type": "stream",
     "text": [
      " 58%|█████████████████████████████████████████████████████████████▏                                            | 66572/115319 [23:36<28:25, 28.57it/s]"
     ]
    },
    {
     "name": "stdout",
     "output_type": "stream",
     "text": [
      "EXCEPTION occured\n"
     ]
    },
    {
     "name": "stderr",
     "output_type": "stream",
     "text": [
      " 79%|███████████████████████████████████████████████████████████████████████████████████▎                      | 90653/115319 [32:20<08:09, 50.40it/s]"
     ]
    },
    {
     "name": "stdout",
     "output_type": "stream",
     "text": [
      "EXCEPTION occured\n"
     ]
    },
    {
     "name": "stderr",
     "output_type": "stream",
     "text": [
      " 82%|██████████████████████████████████████████████████████████████████████████████████████▍                   | 94025/115319 [33:36<07:06, 49.90it/s]"
     ]
    },
    {
     "name": "stdout",
     "output_type": "stream",
     "text": [
      "EXCEPTION occured\n"
     ]
    },
    {
     "name": "stderr",
     "output_type": "stream",
     "text": [
      " 83%|███████████████████████████████████████████████████████████████████████████████████████▌                  | 95198/115319 [34:07<10:36, 31.61it/s]"
     ]
    },
    {
     "name": "stdout",
     "output_type": "stream",
     "text": [
      "EXCEPTION occured\n"
     ]
    },
    {
     "name": "stderr",
     "output_type": "stream",
     "text": [
      " 88%|████████████████████████████████████████████████████████████████████████████████████████████             | 101055/115319 [36:46<06:09, 38.56it/s]"
     ]
    },
    {
     "name": "stdout",
     "output_type": "stream",
     "text": [
      "EXCEPTION occured\n"
     ]
    },
    {
     "name": "stderr",
     "output_type": "stream",
     "text": [
      " 88%|████████████████████████████████████████████████████████████████████████████████████████████▌            | 101718/115319 [37:04<06:42, 33.78it/s]"
     ]
    },
    {
     "name": "stdout",
     "output_type": "stream",
     "text": [
      "EXCEPTION occured\n"
     ]
    },
    {
     "name": "stderr",
     "output_type": "stream",
     "text": [
      " 93%|█████████████████████████████████████████████████████████████████████████████████████████████████▊       | 107364/115319 [39:17<03:34, 37.10it/s]"
     ]
    },
    {
     "name": "stdout",
     "output_type": "stream",
     "text": [
      "EXCEPTION occured\n"
     ]
    },
    {
     "name": "stderr",
     "output_type": "stream",
     "text": [
      " 93%|█████████████████████████████████████████████████████████████████████████████████████████████████▊       | 107380/115319 [39:17<03:03, 43.15it/s]"
     ]
    },
    {
     "name": "stdout",
     "output_type": "stream",
     "text": [
      "EXCEPTION occured\n"
     ]
    },
    {
     "name": "stderr",
     "output_type": "stream",
     "text": [
      " 96%|████████████████████████████████████████████████████████████████████████████████████████████████████▊    | 110761/115319 [40:28<01:20, 56.47it/s]"
     ]
    },
    {
     "name": "stdout",
     "output_type": "stream",
     "text": [
      "EXCEPTION occured\n"
     ]
    },
    {
     "name": "stderr",
     "output_type": "stream",
     "text": [
      "100%|█████████████████████████████████████████████████████████████████████████████████████████████████████████| 115319/115319 [42:05<00:00, 45.67it/s]\n"
     ]
    },
    {
     "name": "stdout",
     "output_type": "stream",
     "text": [
      "            id  parent_id  summarized  \\\n",
      "0      hm5iqwj  t3_r2nmvy           1   \n",
      "1      hm5jftd  t3_r2npa3           0   \n",
      "2      hm5kaqv  t3_r2nmvy           0   \n",
      "3      hm5kddu  t3_r2nylj           0   \n",
      "4      hm5kig9  t3_r2nylj           1   \n",
      "...        ...        ...         ...   \n",
      "73072  gxxue6y  t3_n8vd4o           1   \n",
      "73073  gxxw0kr  t3_n8vd4o           1   \n",
      "73074  gxxyb0d  t3_n8vd4o           0   \n",
      "73075  gxy5eus  t3_n8vd4o           1   \n",
      "73076  gxyb84x  t3_n8vd4o           1   \n",
      "\n",
      "                                                    text  length  \n",
      "0                  Conscious Club is campy in a good way       8  \n",
      "1      I take one to two hours a day where I listen t...      24  \n",
      "2                                  I like Scary Pockets.       5  \n",
      "3       what keeps me calm is my prescription medication       8  \n",
      "4                         Wow you're amazingly talented.       6  \n",
      "...                                                  ...     ...  \n",
      "73072                                    Happy birthday!       3  \n",
      "73073              I hope you had a marvelous day today!       9  \n",
      "73074                                  Happy birthday 🎈🎂       4  \n",
      "73075                              Happy birthday, love!       5  \n",
      "73076               Aw a little late but Happy Birthday!       8  \n",
      "\n",
      "[73077 rows x 5 columns]\n",
      "(114924, 10)\n",
      "(42727, 10)\n"
     ]
    },
    {
     "name": "stderr",
     "output_type": "stream",
     "text": [
      "  7%|███████▌                                                                                                    | 2991/42727 [01:03<10:52, 60.88it/s]"
     ]
    },
    {
     "name": "stdout",
     "output_type": "stream",
     "text": [
      "EXCEPTION occured\n"
     ]
    },
    {
     "name": "stderr",
     "output_type": "stream",
     "text": [
      " 38%|████████████████████████████████████████▏                                                                  | 16035/42727 [05:53<13:50, 32.14it/s]"
     ]
    },
    {
     "name": "stdout",
     "output_type": "stream",
     "text": [
      "EXCEPTION occured\n"
     ]
    },
    {
     "name": "stderr",
     "output_type": "stream",
     "text": [
      " 49%|███████████████████████████████████████████████████▉                                                       | 20741/42727 [07:43<06:45, 54.22it/s]"
     ]
    },
    {
     "name": "stdout",
     "output_type": "stream",
     "text": [
      "EXCEPTION occured\n"
     ]
    },
    {
     "name": "stderr",
     "output_type": "stream",
     "text": [
      " 63%|██████████████████████████████████████████████████████████████████▉                                        | 26748/42727 [10:02<06:39, 40.04it/s]"
     ]
    },
    {
     "name": "stdout",
     "output_type": "stream",
     "text": [
      "EXCEPTION occured\n"
     ]
    },
    {
     "name": "stderr",
     "output_type": "stream",
     "text": [
      " 70%|██████████████████████████████████████████████████████████████████████████▉                                | 29939/42727 [11:19<04:32, 46.85it/s]"
     ]
    },
    {
     "name": "stdout",
     "output_type": "stream",
     "text": [
      "EXCEPTION occured\n"
     ]
    },
    {
     "name": "stderr",
     "output_type": "stream",
     "text": [
      " 88%|██████████████████████████████████████████████████████████████████████████████████████████████▎            | 37671/42727 [14:17<01:34, 53.28it/s]"
     ]
    },
    {
     "name": "stdout",
     "output_type": "stream",
     "text": [
      "EXCEPTION occured\n"
     ]
    },
    {
     "name": "stderr",
     "output_type": "stream",
     "text": [
      " 94%|█████████████████████████████████████████████████████████████████████████████████████████████████████      | 40356/42727 [15:13<01:00, 39.44it/s]"
     ]
    },
    {
     "name": "stdout",
     "output_type": "stream",
     "text": [
      "EXCEPTION occured\n"
     ]
    },
    {
     "name": "stderr",
     "output_type": "stream",
     "text": [
      "100%|███████████████████████████████████████████████████████████████████████████████████████████████████████████| 42727/42727 [16:06<00:00, 44.20it/s]\n"
     ]
    },
    {
     "name": "stdout",
     "output_type": "stream",
     "text": [
      "            id  parent_id  summarized  \\\n",
      "0      gwf045x  t3_n1sfco           0   \n",
      "1      gwf5mh6  t3_n1sfco           0   \n",
      "2      gwfb4d6  t3_n1tcdm           1   \n",
      "3      gwfbai3  t3_n1ty7y           1   \n",
      "4      gwfc9tc  t3_n1udg9           0   \n",
      "...        ...        ...         ...   \n",
      "28275  ghsyhye  t3_ko5lhn           0   \n",
      "28276  ght38a3  t3_ko8gtg           1   \n",
      "28277  ghtc1uk  t3_ko6ed4           1   \n",
      "28278  ghu1o5x  t3_ko43wi           1   \n",
      "28279  ghuln2t  t3_ko6ed4           1   \n",
      "\n",
      "                                                    text  length  \n",
      "0      yep I accidentally used my ex toothbrush a cou...      17  \n",
      "1                                           She be aight       3  \n",
      "2                 One way or the another it gets leaked.       9  \n",
      "3      Kind of like how the Internet makes it so easy...      35  \n",
      "4                  I hear lemon essence or vinegar helps       7  \n",
      "...                                                  ...     ...  \n",
      "28275                                 Congratulations 🎊🎉       3  \n",
      "28276                          Cheers to good neighbors!       5  \n",
      "28277                                    Save save save.       4  \n",
      "28278  Love this great new year situation, I agree it...      15  \n",
      "28279    Then I actually read the text, good for you man      11  \n",
      "\n",
      "[28280 rows x 5 columns]\n",
      "(936414, 10)\n",
      "(296980, 10)\n"
     ]
    },
    {
     "name": "stderr",
     "output_type": "stream",
     "text": [
      "  1%|▊                                                                                                        | 2266/296980 [00:47<1:42:10, 48.08it/s]"
     ]
    },
    {
     "name": "stdout",
     "output_type": "stream",
     "text": [
      "EXCEPTION occured\n"
     ]
    },
    {
     "name": "stderr",
     "output_type": "stream",
     "text": [
      "  1%|█▏                                                                                                       | 3403/296980 [01:10<1:08:26, 71.49it/s]"
     ]
    },
    {
     "name": "stdout",
     "output_type": "stream",
     "text": [
      "EXCEPTION occured\n"
     ]
    },
    {
     "name": "stderr",
     "output_type": "stream",
     "text": [
      "  3%|██▋                                                                                                      | 7683/296980 [02:52<3:43:54, 21.53it/s]"
     ]
    },
    {
     "name": "stdout",
     "output_type": "stream",
     "text": [
      "EXCEPTION occured\n"
     ]
    },
    {
     "name": "stderr",
     "output_type": "stream",
     "text": [
      "  3%|███▍                                                                                                     | 9647/296980 [03:29<1:49:46, 43.63it/s]"
     ]
    },
    {
     "name": "stdout",
     "output_type": "stream",
     "text": [
      "EXCEPTION occured\n"
     ]
    },
    {
     "name": "stderr",
     "output_type": "stream",
     "text": [
      "  3%|███▍                                                                                                     | 9735/296980 [03:31<1:41:54, 46.98it/s]"
     ]
    },
    {
     "name": "stdout",
     "output_type": "stream",
     "text": [
      "EXCEPTION occured\n"
     ]
    },
    {
     "name": "stderr",
     "output_type": "stream",
     "text": [
      "  4%|████▏                                                                                                   | 11935/296980 [04:18<2:47:38, 28.34it/s]"
     ]
    },
    {
     "name": "stdout",
     "output_type": "stream",
     "text": [
      "EXCEPTION occured\n"
     ]
    },
    {
     "name": "stderr",
     "output_type": "stream",
     "text": [
      "  8%|███████▉                                                                                                | 22830/296980 [08:26<1:35:23, 47.90it/s]"
     ]
    },
    {
     "name": "stdout",
     "output_type": "stream",
     "text": [
      "EXCEPTION occured\n"
     ]
    },
    {
     "name": "stderr",
     "output_type": "stream",
     "text": [
      " 10%|██████████▊                                                                                             | 30824/296980 [11:26<1:56:52, 37.95it/s]"
     ]
    },
    {
     "name": "stdout",
     "output_type": "stream",
     "text": [
      "EXCEPTION occured\n"
     ]
    },
    {
     "name": "stderr",
     "output_type": "stream",
     "text": [
      " 12%|████████████▏                                                                                           | 34806/296980 [13:02<2:00:48, 36.17it/s]"
     ]
    },
    {
     "name": "stdout",
     "output_type": "stream",
     "text": [
      "EXCEPTION occured\n"
     ]
    },
    {
     "name": "stderr",
     "output_type": "stream",
     "text": [
      " 12%|████████████▋                                                                                           | 36398/296980 [13:40<1:36:46, 44.87it/s]"
     ]
    },
    {
     "name": "stdout",
     "output_type": "stream",
     "text": [
      "EXCEPTION occured\n"
     ]
    },
    {
     "name": "stderr",
     "output_type": "stream",
     "text": [
      " 15%|███████████████▊                                                                                        | 45063/296980 [16:48<1:20:10, 52.37it/s]"
     ]
    },
    {
     "name": "stdout",
     "output_type": "stream",
     "text": [
      "EXCEPTION occured\n"
     ]
    },
    {
     "name": "stderr",
     "output_type": "stream",
     "text": [
      " 16%|████████████████▊                                                                                       | 48166/296980 [17:54<1:13:36, 56.34it/s]"
     ]
    },
    {
     "name": "stdout",
     "output_type": "stream",
     "text": [
      "EXCEPTION occured\n"
     ]
    },
    {
     "name": "stderr",
     "output_type": "stream",
     "text": [
      " 17%|█████████████████▉                                                                                      | 51098/296980 [18:57<1:02:17, 65.79it/s]"
     ]
    },
    {
     "name": "stdout",
     "output_type": "stream",
     "text": [
      "EXCEPTION occured\n"
     ]
    },
    {
     "name": "stderr",
     "output_type": "stream",
     "text": [
      " 20%|████████████████████▍                                                                                   | 58531/296980 [21:39<2:05:00, 31.79it/s]"
     ]
    },
    {
     "name": "stdout",
     "output_type": "stream",
     "text": [
      "EXCEPTION occured\n"
     ]
    },
    {
     "name": "stderr",
     "output_type": "stream",
     "text": [
      " 20%|████████████████████▋                                                                                   | 59217/296980 [21:54<1:59:28, 33.17it/s]"
     ]
    },
    {
     "name": "stdout",
     "output_type": "stream",
     "text": [
      "EXCEPTION occured\n"
     ]
    },
    {
     "name": "stderr",
     "output_type": "stream",
     "text": [
      " 21%|█████████████████████▌                                                                                  | 61448/296980 [22:47<1:18:14, 50.18it/s]"
     ]
    },
    {
     "name": "stdout",
     "output_type": "stream",
     "text": [
      "EXCEPTION occured\n"
     ]
    },
    {
     "name": "stderr",
     "output_type": "stream",
     "text": [
      " 22%|██████████████████████▉                                                                                 | 65449/296980 [24:03<1:19:28, 48.56it/s]"
     ]
    },
    {
     "name": "stdout",
     "output_type": "stream",
     "text": [
      "EXCEPTION occured\n"
     ]
    },
    {
     "name": "stderr",
     "output_type": "stream",
     "text": [
      " 23%|████████████████████████▎                                                                                 | 68077/296980 [24:57<53:59, 70.65it/s]"
     ]
    },
    {
     "name": "stdout",
     "output_type": "stream",
     "text": [
      "EXCEPTION occured\n"
     ]
    },
    {
     "name": "stderr",
     "output_type": "stream",
     "text": [
      " 24%|████████████████████████▌                                                                               | 70087/296980 [25:43<1:24:10, 44.92it/s]"
     ]
    },
    {
     "name": "stdout",
     "output_type": "stream",
     "text": [
      "EXCEPTION occured\n"
     ]
    },
    {
     "name": "stderr",
     "output_type": "stream",
     "text": [
      " 26%|███████████████████████████▌                                                                            | 78616/296980 [28:32<1:22:41, 44.01it/s]"
     ]
    },
    {
     "name": "stdout",
     "output_type": "stream",
     "text": [
      "EXCEPTION occured\n"
     ]
    },
    {
     "name": "stderr",
     "output_type": "stream",
     "text": [
      " 27%|███████████████████████████▋                                                                            | 79202/296980 [28:47<1:23:40, 43.38it/s]"
     ]
    },
    {
     "name": "stdout",
     "output_type": "stream",
     "text": [
      "EXCEPTION occured\n"
     ]
    },
    {
     "name": "stderr",
     "output_type": "stream",
     "text": [
      " 29%|██████████████████████████████▎                                                                         | 86639/296980 [31:30<1:47:33, 32.59it/s]"
     ]
    },
    {
     "name": "stdout",
     "output_type": "stream",
     "text": [
      "EXCEPTION occured\n"
     ]
    },
    {
     "name": "stderr",
     "output_type": "stream",
     "text": [
      " 30%|███████████████████████████████▍                                                                        | 89738/296980 [32:40<1:34:25, 36.58it/s]"
     ]
    },
    {
     "name": "stdout",
     "output_type": "stream",
     "text": [
      "EXCEPTION occured\n"
     ]
    },
    {
     "name": "stderr",
     "output_type": "stream",
     "text": [
      " 32%|█████████████████████████████████▏                                                                      | 94899/296980 [34:27<1:23:14, 40.46it/s]"
     ]
    },
    {
     "name": "stdout",
     "output_type": "stream",
     "text": [
      "EXCEPTION occured\n"
     ]
    },
    {
     "name": "stderr",
     "output_type": "stream",
     "text": [
      " 33%|██████████████████████████████████                                                                      | 97114/296980 [35:15<1:04:54, 51.32it/s]"
     ]
    },
    {
     "name": "stdout",
     "output_type": "stream",
     "text": [
      "EXCEPTION occured\n"
     ]
    },
    {
     "name": "stderr",
     "output_type": "stream",
     "text": [
      " 33%|███████████████████████████████████                                                                       | 98332/296980 [35:37<55:12, 59.97it/s]"
     ]
    },
    {
     "name": "stdout",
     "output_type": "stream",
     "text": [
      "EXCEPTION occured\n"
     ]
    },
    {
     "name": "stderr",
     "output_type": "stream",
     "text": [
      " 33%|███████████████████████████████████▍                                                                      | 99143/296980 [35:54<44:50, 73.54it/s]"
     ]
    },
    {
     "name": "stdout",
     "output_type": "stream",
     "text": [
      "EXCEPTION occured\n"
     ]
    },
    {
     "name": "stderr",
     "output_type": "stream",
     "text": [
      " 34%|███████████████████████████████████                                                                    | 101057/296980 [36:36<1:11:04, 45.95it/s]"
     ]
    },
    {
     "name": "stdout",
     "output_type": "stream",
     "text": [
      "EXCEPTION occured\n"
     ]
    },
    {
     "name": "stderr",
     "output_type": "stream",
     "text": [
      " 37%|█████████████████████████████████████▉                                                                 | 109563/296980 [39:57<1:05:32, 47.66it/s]"
     ]
    },
    {
     "name": "stdout",
     "output_type": "stream",
     "text": [
      "EXCEPTION occured\n"
     ]
    },
    {
     "name": "stderr",
     "output_type": "stream",
     "text": [
      " 40%|█████████████████████████████████████████▉                                                               | 118464/296980 [43:20<48:23, 61.49it/s]"
     ]
    },
    {
     "name": "stdout",
     "output_type": "stream",
     "text": [
      "EXCEPTION occured\n"
     ]
    },
    {
     "name": "stderr",
     "output_type": "stream",
     "text": [
      " 41%|███████████████████████████████████████████▍                                                             | 122879/296980 [44:57<39:44, 73.00it/s]"
     ]
    },
    {
     "name": "stdout",
     "output_type": "stream",
     "text": [
      "EXCEPTION occured\n"
     ]
    },
    {
     "name": "stderr",
     "output_type": "stream",
     "text": [
      " 42%|████████████████████████████████████████████▌                                                            | 125958/296980 [46:07<59:03, 48.27it/s]"
     ]
    },
    {
     "name": "stdout",
     "output_type": "stream",
     "text": [
      "EXCEPTION occured\n"
     ]
    },
    {
     "name": "stderr",
     "output_type": "stream",
     "text": [
      " 46%|████████████████████████████████████████████████▋                                                        | 137662/296980 [49:19<45:00, 59.01it/s]"
     ]
    },
    {
     "name": "stdout",
     "output_type": "stream",
     "text": [
      "EXCEPTION occured\n"
     ]
    },
    {
     "name": "stderr",
     "output_type": "stream",
     "text": [
      " 54%|█████████████████████████████████████████████████████████                                                | 161360/296980 [56:31<44:04, 51.29it/s]"
     ]
    },
    {
     "name": "stdout",
     "output_type": "stream",
     "text": [
      "EXCEPTION occured\n"
     ]
    },
    {
     "name": "stderr",
     "output_type": "stream",
     "text": [
      " 54%|█████████████████████████████████████████████████████████                                                | 161419/296980 [56:32<40:31, 55.74it/s]"
     ]
    },
    {
     "name": "stdout",
     "output_type": "stream",
     "text": [
      "EXCEPTION occured\n"
     ]
    },
    {
     "name": "stderr",
     "output_type": "stream",
     "text": [
      " 57%|██████████████████████████████████████████████████████████▋                                            | 169132/296980 [59:22<1:10:36, 30.18it/s]"
     ]
    },
    {
     "name": "stdout",
     "output_type": "stream",
     "text": [
      "EXCEPTION occured\n",
      "EXCEPTION occured\n",
      "EXCEPTION occured\n"
     ]
    },
    {
     "name": "stderr",
     "output_type": "stream",
     "text": [
      " 63%|████████████████████████████████████████████████████████████████▋                                      | 186499/296980 [1:05:39<32:35, 56.51it/s]"
     ]
    },
    {
     "name": "stdout",
     "output_type": "stream",
     "text": [
      "EXCEPTION occured\n"
     ]
    },
    {
     "name": "stderr",
     "output_type": "stream",
     "text": [
      " 64%|██████████████████████████████████████████████████████████████████▏                                    | 190696/296980 [1:07:13<47:29, 37.30it/s]"
     ]
    },
    {
     "name": "stdout",
     "output_type": "stream",
     "text": [
      "EXCEPTION occured\n"
     ]
    },
    {
     "name": "stderr",
     "output_type": "stream",
     "text": [
      " 65%|███████████████████████████████████████████████████████████████████▏                                   | 193890/296980 [1:08:30<35:01, 49.06it/s]"
     ]
    },
    {
     "name": "stdout",
     "output_type": "stream",
     "text": [
      "EXCEPTION occured\n"
     ]
    },
    {
     "name": "stderr",
     "output_type": "stream",
     "text": [
      " 68%|█████████████████████████████████████████████████████████████████████▊                                 | 201248/296980 [1:11:14<34:10, 46.68it/s]"
     ]
    },
    {
     "name": "stdout",
     "output_type": "stream",
     "text": [
      "EXCEPTION occured\n"
     ]
    },
    {
     "name": "stderr",
     "output_type": "stream",
     "text": [
      " 69%|██████████████████████████████████████████████████████████████████████▌                               | 205280/296980 [1:12:31<13:38, 112.03it/s]"
     ]
    },
    {
     "name": "stdout",
     "output_type": "stream",
     "text": [
      "EXCEPTION occured\n"
     ]
    },
    {
     "name": "stderr",
     "output_type": "stream",
     "text": [
      " 78%|████████████████████████████████████████████████████████████████████████████████                       | 230842/296980 [1:21:21<25:56, 42.50it/s]"
     ]
    },
    {
     "name": "stdout",
     "output_type": "stream",
     "text": [
      "EXCEPTION occured\n"
     ]
    },
    {
     "name": "stderr",
     "output_type": "stream",
     "text": [
      " 82%|████████████████████████████████████████████████████████████████████████████████████                   | 242440/296980 [1:25:27<16:07, 56.38it/s]"
     ]
    },
    {
     "name": "stdout",
     "output_type": "stream",
     "text": [
      "EXCEPTION occured\n"
     ]
    },
    {
     "name": "stderr",
     "output_type": "stream",
     "text": [
      " 82%|████████████████████████████████████████████████████████████████████████████████████▏                  | 242645/296980 [1:25:31<18:15, 49.59it/s]"
     ]
    },
    {
     "name": "stdout",
     "output_type": "stream",
     "text": [
      "EXCEPTION occured\n"
     ]
    },
    {
     "name": "stderr",
     "output_type": "stream",
     "text": [
      " 83%|█████████████████████████████████████████████████████████████████████████████████████▏                 | 245527/296980 [1:26:30<13:22, 64.12it/s]"
     ]
    },
    {
     "name": "stdout",
     "output_type": "stream",
     "text": [
      "EXCEPTION occured\n"
     ]
    },
    {
     "name": "stderr",
     "output_type": "stream",
     "text": [
      " 83%|█████████████████████████████████████████████████████████████████████████████████████▎                 | 246087/296980 [1:26:40<16:05, 52.71it/s]"
     ]
    },
    {
     "name": "stdout",
     "output_type": "stream",
     "text": [
      "EXCEPTION occured\n"
     ]
    },
    {
     "name": "stderr",
     "output_type": "stream",
     "text": [
      " 83%|█████████████████████████████████████████████████████████████████████████████████████▌                 | 246673/296980 [1:26:52<12:18, 68.14it/s]"
     ]
    },
    {
     "name": "stdout",
     "output_type": "stream",
     "text": [
      "EXCEPTION occured\n"
     ]
    },
    {
     "name": "stderr",
     "output_type": "stream",
     "text": [
      " 83%|█████████████████████████████████████████████████████████████████████████████████████▊                 | 247322/296980 [1:27:06<23:08, 35.75it/s]"
     ]
    },
    {
     "name": "stdout",
     "output_type": "stream",
     "text": [
      "EXCEPTION occured\n"
     ]
    },
    {
     "name": "stderr",
     "output_type": "stream",
     "text": [
      " 84%|██████████████████████████████████████████████████████████████████████████████████████▌                | 249538/296980 [1:27:58<33:24, 23.67it/s]"
     ]
    },
    {
     "name": "stdout",
     "output_type": "stream",
     "text": [
      "EXCEPTION occured\n"
     ]
    },
    {
     "name": "stderr",
     "output_type": "stream",
     "text": [
      " 86%|████████████████████████████████████████████████████████████████████████████████████████▊              | 256247/296980 [1:30:15<12:35, 53.90it/s]"
     ]
    },
    {
     "name": "stdout",
     "output_type": "stream",
     "text": [
      "EXCEPTION occured\n"
     ]
    },
    {
     "name": "stderr",
     "output_type": "stream",
     "text": [
      " 93%|███████████████████████████████████████████████████████████████████████████████████████████████▌       | 275711/296980 [1:37:19<06:03, 58.46it/s]"
     ]
    },
    {
     "name": "stdout",
     "output_type": "stream",
     "text": [
      "EXCEPTION occured\n"
     ]
    },
    {
     "name": "stderr",
     "output_type": "stream",
     "text": [
      " 97%|███████████████████████████████████████████████████████████████████████████████████████████████████▍   | 286839/296980 [1:41:11<03:53, 43.40it/s]"
     ]
    },
    {
     "name": "stdout",
     "output_type": "stream",
     "text": [
      "EXCEPTION occured\n"
     ]
    },
    {
     "name": "stderr",
     "output_type": "stream",
     "text": [
      "100%|███████████████████████████████████████████████████████████████████████████████████████████████████████| 296980/296980 [1:44:59<00:00, 47.14it/s]\n"
     ]
    },
    {
     "name": "stdout",
     "output_type": "stream",
     "text": [
      "             id  parent_id  summarized  \\\n",
      "0       ghm0f6y  t3_knrh1n           0   \n",
      "1       ghm5z0i  t3_kns4dy           1   \n",
      "2       ghm6vjh  t3_kns4dy           0   \n",
      "3       ghm6z42  t3_knsp11           1   \n",
      "4       ghm7hon  t3_knsp11           0   \n",
      "...         ...        ...         ...   \n",
      "194406  fcpa4r8  t3_eicgrr           1   \n",
      "194407  fcpbln7  t3_eidode           1   \n",
      "194408  fcpbudl  t3_eicskc           1   \n",
      "194409  fcpwter  t3_eid0ht           1   \n",
      "194410  fcsox0q  t3_eidiyb           0   \n",
      "\n",
      "                                                     text  length  \n",
      "0       2020 was the only way that you would be doing ...      19  \n",
      "1       I personally am excited for the new year becau...      21  \n",
      "2                 I just wanna travel internationally lol       6  \n",
      "3                                     Still waiting here.       4  \n",
      "4                                         Happy new year!       4  \n",
      "...                                                   ...     ...  \n",
      "194406  Fuck those people that don’t give any attentio...      12  \n",
      "194407                            Oh boy that sounds sad.       6  \n",
      "194408  Sounds like you won’t learn your lesson until ...      13  \n",
      "194409                     Children really are beautiful.       5  \n",
      "194410                                    I love potatoes       3  \n",
      "\n",
      "[194411 rows x 5 columns]\n",
      "(765173, 10)\n",
      "(250599, 10)\n"
     ]
    },
    {
     "name": "stderr",
     "output_type": "stream",
     "text": [
      "  1%|▉                                                                                                        | 2099/250599 [00:42<1:22:03, 50.47it/s]"
     ]
    },
    {
     "name": "stdout",
     "output_type": "stream",
     "text": [
      "EXCEPTION occured\n"
     ]
    },
    {
     "name": "stderr",
     "output_type": "stream",
     "text": [
      "  2%|█▋                                                                                                         | 4059/250599 [01:17<51:03, 80.48it/s]"
     ]
    },
    {
     "name": "stdout",
     "output_type": "stream",
     "text": [
      "EXCEPTION occured\n"
     ]
    },
    {
     "name": "stderr",
     "output_type": "stream",
     "text": [
      "  3%|███▌                                                                                                     | 8540/250599 [03:11<1:52:05, 35.99it/s]"
     ]
    },
    {
     "name": "stdout",
     "output_type": "stream",
     "text": [
      "EXCEPTION occured\n"
     ]
    },
    {
     "name": "stderr",
     "output_type": "stream",
     "text": [
      "  4%|███▋                                                                                                     | 8919/250599 [03:24<1:14:27, 54.10it/s]"
     ]
    },
    {
     "name": "stdout",
     "output_type": "stream",
     "text": [
      "EXCEPTION occured\n"
     ]
    },
    {
     "name": "stderr",
     "output_type": "stream",
     "text": [
      "  4%|████▍                                                                                                   | 10723/250599 [04:00<1:58:32, 33.73it/s]"
     ]
    },
    {
     "name": "stdout",
     "output_type": "stream",
     "text": [
      "EXCEPTION occured\n"
     ]
    },
    {
     "name": "stderr",
     "output_type": "stream",
     "text": [
      "  8%|███████▉                                                                                                | 19033/250599 [06:52<1:05:25, 58.99it/s]"
     ]
    },
    {
     "name": "stdout",
     "output_type": "stream",
     "text": [
      "EXCEPTION occured\n"
     ]
    },
    {
     "name": "stderr",
     "output_type": "stream",
     "text": [
      "  8%|████████▍                                                                                               | 20448/250599 [07:28<1:05:00, 59.00it/s]"
     ]
    },
    {
     "name": "stdout",
     "output_type": "stream",
     "text": [
      "EXCEPTION occured\n"
     ]
    },
    {
     "name": "stderr",
     "output_type": "stream",
     "text": [
      "  8%|████████▋                                                                                               | 20877/250599 [07:37<1:19:55, 47.91it/s]"
     ]
    },
    {
     "name": "stdout",
     "output_type": "stream",
     "text": [
      "EXCEPTION occured\n"
     ]
    },
    {
     "name": "stderr",
     "output_type": "stream",
     "text": [
      " 10%|██████████▊                                                                                             | 25942/250599 [09:28<1:06:01, 56.71it/s]"
     ]
    },
    {
     "name": "stdout",
     "output_type": "stream",
     "text": [
      "EXCEPTION occured\n"
     ]
    },
    {
     "name": "stderr",
     "output_type": "stream",
     "text": [
      " 11%|███████████▍                                                                                            | 27431/250599 [09:59<1:01:53, 60.10it/s]"
     ]
    },
    {
     "name": "stdout",
     "output_type": "stream",
     "text": [
      "EXCEPTION occured\n"
     ]
    },
    {
     "name": "stderr",
     "output_type": "stream",
     "text": [
      " 15%|███████████████▌                                                                                        | 37422/250599 [13:31<1:13:21, 48.43it/s]"
     ]
    },
    {
     "name": "stdout",
     "output_type": "stream",
     "text": [
      "EXCEPTION occured\n"
     ]
    },
    {
     "name": "stderr",
     "output_type": "stream",
     "text": [
      " 16%|████████████████▌                                                                                       | 39964/250599 [14:22<1:10:16, 49.96it/s]"
     ]
    },
    {
     "name": "stdout",
     "output_type": "stream",
     "text": [
      "EXCEPTION occured\n"
     ]
    },
    {
     "name": "stderr",
     "output_type": "stream",
     "text": [
      " 17%|█████████████████▌                                                                                      | 42304/250599 [15:06<1:04:19, 53.97it/s]"
     ]
    },
    {
     "name": "stdout",
     "output_type": "stream",
     "text": [
      "EXCEPTION occured\n"
     ]
    },
    {
     "name": "stderr",
     "output_type": "stream",
     "text": [
      " 19%|████████████████████▏                                                                                   | 48563/250599 [17:27<1:44:41, 32.17it/s]"
     ]
    },
    {
     "name": "stdout",
     "output_type": "stream",
     "text": [
      "EXCEPTION occured\n"
     ]
    },
    {
     "name": "stderr",
     "output_type": "stream",
     "text": [
      " 20%|█████████████████████▏                                                                                    | 50156/250599 [17:59<58:26, 57.16it/s]"
     ]
    },
    {
     "name": "stdout",
     "output_type": "stream",
     "text": [
      "EXCEPTION occured\n"
     ]
    },
    {
     "name": "stderr",
     "output_type": "stream",
     "text": [
      " 23%|████████████████████████                                                                                | 57894/250599 [20:52<1:13:58, 43.42it/s]"
     ]
    },
    {
     "name": "stdout",
     "output_type": "stream",
     "text": [
      "EXCEPTION occured\n"
     ]
    },
    {
     "name": "stderr",
     "output_type": "stream",
     "text": [
      " 25%|█████████████████████████▉                                                                                | 61463/250599 [22:11<56:55, 55.38it/s]"
     ]
    },
    {
     "name": "stdout",
     "output_type": "stream",
     "text": [
      "EXCEPTION occured\n"
     ]
    },
    {
     "name": "stderr",
     "output_type": "stream",
     "text": [
      " 29%|██████████████████████████████▏                                                                         | 72778/250599 [26:20<1:56:15, 25.49it/s]"
     ]
    },
    {
     "name": "stdout",
     "output_type": "stream",
     "text": [
      "EXCEPTION occured\n"
     ]
    },
    {
     "name": "stderr",
     "output_type": "stream",
     "text": [
      " 30%|███████████████████████████████▉                                                                          | 75374/250599 [27:17<52:17, 55.86it/s]"
     ]
    },
    {
     "name": "stdout",
     "output_type": "stream",
     "text": [
      "EXCEPTION occured\n"
     ]
    },
    {
     "name": "stderr",
     "output_type": "stream",
     "text": [
      " 38%|███████████████████████████████████████▏                                                                | 94559/250599 [34:11<1:03:42, 40.82it/s]"
     ]
    },
    {
     "name": "stdout",
     "output_type": "stream",
     "text": [
      "EXCEPTION occured\n"
     ]
    },
    {
     "name": "stderr",
     "output_type": "stream",
     "text": [
      " 40%|██████████████████████████████████████████▏                                                               | 99884/250599 [36:15<55:02, 45.63it/s]"
     ]
    },
    {
     "name": "stdout",
     "output_type": "stream",
     "text": [
      "EXCEPTION occured\n"
     ]
    },
    {
     "name": "stderr",
     "output_type": "stream",
     "text": [
      " 47%|█████████████████████████████████████████████████▊                                                       | 118822/250599 [43:38<51:59, 42.25it/s]"
     ]
    },
    {
     "name": "stdout",
     "output_type": "stream",
     "text": [
      "EXCEPTION occured\n"
     ]
    },
    {
     "name": "stderr",
     "output_type": "stream",
     "text": [
      " 50%|███████████████████████████████████████████████████▌                                                   | 125492/250599 [45:49<1:27:31, 23.82it/s]"
     ]
    },
    {
     "name": "stdout",
     "output_type": "stream",
     "text": [
      "EXCEPTION occured\n"
     ]
    },
    {
     "name": "stderr",
     "output_type": "stream",
     "text": [
      " 54%|████████████████████████████████████████████████████████▍                                                | 134702/250599 [49:04<31:37, 61.09it/s]"
     ]
    },
    {
     "name": "stdout",
     "output_type": "stream",
     "text": [
      "EXCEPTION occured\n"
     ]
    },
    {
     "name": "stderr",
     "output_type": "stream",
     "text": [
      " 57%|████████████████████████████████████████████████████████████▏                                            | 143795/250599 [52:35<45:01, 39.54it/s]"
     ]
    },
    {
     "name": "stdout",
     "output_type": "stream",
     "text": [
      "EXCEPTION occured\n"
     ]
    },
    {
     "name": "stderr",
     "output_type": "stream",
     "text": [
      " 58%|████████████████████████████████████████████████████████████▉                                            | 145418/250599 [53:26<42:35, 41.17it/s]"
     ]
    },
    {
     "name": "stdout",
     "output_type": "stream",
     "text": [
      "EXCEPTION occured\n"
     ]
    },
    {
     "name": "stderr",
     "output_type": "stream",
     "text": [
      " 59%|████████████████████████████████████████████████████████████▎                                          | 146726/250599 [54:06<1:25:54, 20.15it/s]"
     ]
    },
    {
     "name": "stdout",
     "output_type": "stream",
     "text": [
      "EXCEPTION occured\n"
     ]
    },
    {
     "name": "stderr",
     "output_type": "stream",
     "text": [
      " 61%|████████████████████████████████████████████████████████████████                                         | 152971/250599 [56:24<29:38, 54.89it/s]"
     ]
    },
    {
     "name": "stdout",
     "output_type": "stream",
     "text": [
      "EXCEPTION occured\n"
     ]
    },
    {
     "name": "stderr",
     "output_type": "stream",
     "text": [
      " 64%|██████████████████████████████████████████████████████████████████▊                                      | 159378/250599 [58:48<24:18, 62.55it/s]"
     ]
    },
    {
     "name": "stdout",
     "output_type": "stream",
     "text": [
      "EXCEPTION occured\n"
     ]
    },
    {
     "name": "stderr",
     "output_type": "stream",
     "text": [
      " 67%|████████████████████████████████████████████████████████████████████▋                                  | 167072/250599 [1:01:52<28:16, 49.24it/s]"
     ]
    },
    {
     "name": "stdout",
     "output_type": "stream",
     "text": [
      "EXCEPTION occured\n"
     ]
    },
    {
     "name": "stderr",
     "output_type": "stream",
     "text": [
      " 68%|█████████████████████████████████████████████████████████████████████▊                                 | 169703/250599 [1:02:51<21:36, 62.42it/s]"
     ]
    },
    {
     "name": "stdout",
     "output_type": "stream",
     "text": [
      "EXCEPTION occured\n"
     ]
    },
    {
     "name": "stderr",
     "output_type": "stream",
     "text": [
      " 69%|██████████████████████████████████████████████████████████████████████▊                                | 172136/250599 [1:03:45<25:53, 50.51it/s]"
     ]
    },
    {
     "name": "stdout",
     "output_type": "stream",
     "text": [
      "EXCEPTION occured\n"
     ]
    },
    {
     "name": "stderr",
     "output_type": "stream",
     "text": [
      " 71%|████████████████████████████████████████████████████████████████████████▉                              | 177366/250599 [1:05:53<19:43, 61.90it/s]"
     ]
    },
    {
     "name": "stdout",
     "output_type": "stream",
     "text": [
      "EXCEPTION occured\n"
     ]
    },
    {
     "name": "stderr",
     "output_type": "stream",
     "text": [
      " 75%|████████████████████████████████████████████████████████████████████████████▉                          | 187280/250599 [1:10:03<19:27, 54.21it/s]"
     ]
    },
    {
     "name": "stdout",
     "output_type": "stream",
     "text": [
      "EXCEPTION occured\n"
     ]
    },
    {
     "name": "stderr",
     "output_type": "stream",
     "text": [
      " 76%|██████████████████████████████████████████████████████████████████████████████▌                        | 191087/250599 [1:11:36<25:35, 38.76it/s]"
     ]
    },
    {
     "name": "stdout",
     "output_type": "stream",
     "text": [
      "EXCEPTION occured\n"
     ]
    },
    {
     "name": "stderr",
     "output_type": "stream",
     "text": [
      " 78%|████████████████████████████████████████████████████████████████████████████████                       | 194718/250599 [1:13:06<24:12, 38.47it/s]"
     ]
    },
    {
     "name": "stdout",
     "output_type": "stream",
     "text": [
      "EXCEPTION occured\n"
     ]
    },
    {
     "name": "stderr",
     "output_type": "stream",
     "text": [
      " 80%|██████████████████████████████████████████████████████████████████████████████████                     | 199624/250599 [1:14:57<31:44, 26.76it/s]"
     ]
    },
    {
     "name": "stdout",
     "output_type": "stream",
     "text": [
      "EXCEPTION occured\n"
     ]
    },
    {
     "name": "stderr",
     "output_type": "stream",
     "text": [
      " 80%|██████████████████████████████████████████████████████████████████████████████████▊                    | 201446/250599 [1:15:40<16:50, 48.66it/s]"
     ]
    },
    {
     "name": "stdout",
     "output_type": "stream",
     "text": [
      "EXCEPTION occured\n"
     ]
    },
    {
     "name": "stderr",
     "output_type": "stream",
     "text": [
      " 83%|█████████████████████████████████████████████████████████████████████████████████████▊                 | 208726/250599 [1:18:33<14:58, 46.58it/s]"
     ]
    },
    {
     "name": "stdout",
     "output_type": "stream",
     "text": [
      "EXCEPTION occured\n"
     ]
    },
    {
     "name": "stderr",
     "output_type": "stream",
     "text": [
      " 86%|████████████████████████████████████████████████████████████████████████████████████████▏              | 214415/250599 [1:20:38<16:56, 35.61it/s]"
     ]
    },
    {
     "name": "stdout",
     "output_type": "stream",
     "text": [
      "EXCEPTION occured\n"
     ]
    },
    {
     "name": "stderr",
     "output_type": "stream",
     "text": [
      " 88%|██████████████████████████████████████████████████████████████████████████████████████████▊            | 220968/250599 [1:22:52<10:18, 47.92it/s]"
     ]
    },
    {
     "name": "stdout",
     "output_type": "stream",
     "text": [
      "EXCEPTION occured\n"
     ]
    },
    {
     "name": "stderr",
     "output_type": "stream",
     "text": [
      " 90%|████████████████████████████████████████████████████████████████████████████████████████████▍          | 224842/250599 [1:24:15<14:09, 30.33it/s]"
     ]
    },
    {
     "name": "stdout",
     "output_type": "stream",
     "text": [
      "EXCEPTION occured\n"
     ]
    },
    {
     "name": "stderr",
     "output_type": "stream",
     "text": [
      " 90%|█████████████████████████████████████████████████████████████████████████████████████████████▏         | 226769/250599 [1:24:55<16:42, 23.77it/s]"
     ]
    },
    {
     "name": "stdout",
     "output_type": "stream",
     "text": [
      "EXCEPTION occured\n"
     ]
    },
    {
     "name": "stderr",
     "output_type": "stream",
     "text": [
      " 91%|█████████████████████████████████████████████████████████████████████████████████████████████▍         | 227233/250599 [1:25:05<06:27, 60.27it/s]"
     ]
    },
    {
     "name": "stdout",
     "output_type": "stream",
     "text": [
      "EXCEPTION occured\n"
     ]
    },
    {
     "name": "stderr",
     "output_type": "stream",
     "text": [
      " 91%|█████████████████████████████████████████████████████████████████████████████████████████████▉         | 228655/250599 [1:25:37<06:27, 56.68it/s]"
     ]
    },
    {
     "name": "stdout",
     "output_type": "stream",
     "text": [
      "EXCEPTION occured\n"
     ]
    },
    {
     "name": "stderr",
     "output_type": "stream",
     "text": [
      " 92%|██████████████████████████████████████████████████████████████████████████████████████████████▍        | 229895/250599 [1:26:07<06:31, 52.87it/s]"
     ]
    },
    {
     "name": "stdout",
     "output_type": "stream",
     "text": [
      "EXCEPTION occured\n"
     ]
    },
    {
     "name": "stderr",
     "output_type": "stream",
     "text": [
      " 92%|██████████████████████████████████████████████████████████████████████████████████████████████▉        | 231112/250599 [1:26:31<07:18, 44.43it/s]"
     ]
    },
    {
     "name": "stdout",
     "output_type": "stream",
     "text": [
      "EXCEPTION occured\n"
     ]
    },
    {
     "name": "stderr",
     "output_type": "stream",
     "text": [
      " 96%|██████████████████████████████████████████████████████████████████████████████████████████████████▊    | 240324/250599 [1:29:57<03:53, 43.96it/s]"
     ]
    },
    {
     "name": "stdout",
     "output_type": "stream",
     "text": [
      "EXCEPTION occured\n"
     ]
    },
    {
     "name": "stderr",
     "output_type": "stream",
     "text": [
      " 98%|█████████████████████████████████████████████████████████████████████████████████████████████████████▎ | 246432/250599 [1:32:07<01:58, 35.10it/s]"
     ]
    },
    {
     "name": "stdout",
     "output_type": "stream",
     "text": [
      "EXCEPTION occured\n"
     ]
    },
    {
     "name": "stderr",
     "output_type": "stream",
     "text": [
      "100%|███████████████████████████████████████████████████████████████████████████████████████████████████████| 250599/250599 [1:33:41<00:00, 44.58it/s]\n"
     ]
    },
    {
     "name": "stdout",
     "output_type": "stream",
     "text": [
      "             id  parent_id  summarized  \\\n",
      "0       fco4eej  t3_ei8adu           0   \n",
      "1       fco4k05  t3_ei8b9x           0   \n",
      "2       fco4pcc  t3_ei8b9x           0   \n",
      "3       fco4rd4  t3_ei8b9x           0   \n",
      "4       fco580r  t3_ei8b9x           0   \n",
      "...         ...        ...         ...   \n",
      "165939  eczmpig  t3_abd2kg           1   \n",
      "165940  eczo6x4  t3_abdlxy           1   \n",
      "165941  eczojeb  t3_abd9m2           0   \n",
      "165942  ed0j6ui  t3_abd9m2           1   \n",
      "165943  ed27b08  t3_abdlxy           0   \n",
      "\n",
      "                                                     text  length  \n",
      "0       Lol I feel you I only eat like once a day on t...      36  \n",
      "1       The Sims 3 and/or The Sims 4 are games I highl...      13  \n",
      "2                    Have you had a go at Stardew Valley?       9  \n",
      "3                                          Hollow Knight.       3  \n",
      "4                                  Fallout is pretty good       4  \n",
      "...                                                   ...     ...  \n",
      "165939                                      Go somewhere!       3  \n",
      "165940                     Thank you for your submission!       6  \n",
      "165941  A cold delicious beer is definitely one of my ...      14  \n",
      "165942  I like sipping beers and getting a bit buzzed,...      14  \n",
      "165943                               LMFAO thanks man & &       5  \n",
      "\n",
      "[165944 rows x 5 columns]\n"
     ]
    },
    {
     "name": "stderr",
     "output_type": "stream",
     "text": [
      "/tmp/ipykernel_2438/1172373423.py:5: DtypeWarning: Columns (9) have mixed types. Specify dtype option on import or set low_memory=False.\n",
      "  comment_df = pd.read_csv('../data/reddit/raw/casual_conv_comments_{}.csv'.format(date_suffix))\n"
     ]
    },
    {
     "name": "stdout",
     "output_type": "stream",
     "text": [
      "(1051149, 10)\n",
      "(303421, 10)\n"
     ]
    },
    {
     "name": "stderr",
     "output_type": "stream",
     "text": [
      "  0%|▏                                                                                                         | 681/303421 [00:13<1:58:55, 42.43it/s]"
     ]
    },
    {
     "name": "stdout",
     "output_type": "stream",
     "text": [
      "EXCEPTION occured\n"
     ]
    },
    {
     "name": "stderr",
     "output_type": "stream",
     "text": [
      "  0%|▌                                                                                                        | 1451/303421 [00:30<2:18:43, 36.28it/s]"
     ]
    },
    {
     "name": "stdout",
     "output_type": "stream",
     "text": [
      "EXCEPTION occured\n"
     ]
    },
    {
     "name": "stderr",
     "output_type": "stream",
     "text": [
      "  2%|██▏                                                                                                      | 6304/303421 [02:17<2:09:53, 38.12it/s]"
     ]
    },
    {
     "name": "stdout",
     "output_type": "stream",
     "text": [
      "EXCEPTION occured\n"
     ]
    },
    {
     "name": "stderr",
     "output_type": "stream",
     "text": [
      "  2%|██▌                                                                                                      | 7518/303421 [02:48<2:14:44, 36.60it/s]"
     ]
    },
    {
     "name": "stdout",
     "output_type": "stream",
     "text": [
      "EXCEPTION occured\n"
     ]
    },
    {
     "name": "stderr",
     "output_type": "stream",
     "text": [
      "  3%|███                                                                                                      | 8931/303421 [03:24<2:06:18, 38.86it/s]"
     ]
    },
    {
     "name": "stdout",
     "output_type": "stream",
     "text": [
      "EXCEPTION occured\n"
     ]
    },
    {
     "name": "stderr",
     "output_type": "stream",
     "text": [
      "  4%|███▊                                                                                                    | 11052/303421 [04:16<2:31:12, 32.23it/s]"
     ]
    },
    {
     "name": "stdout",
     "output_type": "stream",
     "text": [
      "EXCEPTION occured\n"
     ]
    },
    {
     "name": "stderr",
     "output_type": "stream",
     "text": [
      "  8%|███████▊                                                                                                | 22773/303421 [08:40<1:18:30, 59.58it/s]"
     ]
    },
    {
     "name": "stdout",
     "output_type": "stream",
     "text": [
      "EXCEPTION occured\n"
     ]
    },
    {
     "name": "stderr",
     "output_type": "stream",
     "text": [
      "  8%|████████▋                                                                                               | 25432/303421 [09:36<1:55:38, 40.07it/s]"
     ]
    },
    {
     "name": "stdout",
     "output_type": "stream",
     "text": [
      "EXCEPTION occured\n"
     ]
    },
    {
     "name": "stderr",
     "output_type": "stream",
     "text": [
      "  9%|█████████▌                                                                                              | 27984/303421 [10:29<1:12:10, 63.60it/s]"
     ]
    },
    {
     "name": "stdout",
     "output_type": "stream",
     "text": [
      "EXCEPTION occured\n"
     ]
    },
    {
     "name": "stderr",
     "output_type": "stream",
     "text": [
      " 12%|████████████                                                                                            | 35209/303421 [13:16<1:58:21, 37.77it/s]"
     ]
    },
    {
     "name": "stdout",
     "output_type": "stream",
     "text": [
      "EXCEPTION occured\n"
     ]
    },
    {
     "name": "stderr",
     "output_type": "stream",
     "text": [
      " 14%|██████████████▎                                                                                         | 41725/303421 [15:49<1:23:44, 52.09it/s]"
     ]
    },
    {
     "name": "stdout",
     "output_type": "stream",
     "text": [
      "EXCEPTION occured\n"
     ]
    },
    {
     "name": "stderr",
     "output_type": "stream",
     "text": [
      " 20%|█████████████████████                                                                                     | 60178/303421 [23:03<53:04, 76.38it/s]"
     ]
    },
    {
     "name": "stdout",
     "output_type": "stream",
     "text": [
      "EXCEPTION occured\n"
     ]
    },
    {
     "name": "stderr",
     "output_type": "stream",
     "text": [
      " 22%|██████████████████████▊                                                                                 | 66610/303421 [25:33<1:28:59, 44.35it/s]"
     ]
    },
    {
     "name": "stdout",
     "output_type": "stream",
     "text": [
      "EXCEPTION occured\n"
     ]
    },
    {
     "name": "stderr",
     "output_type": "stream",
     "text": [
      " 25%|██████████████████████████                                                                              | 76145/303421 [28:59<1:32:26, 40.97it/s]"
     ]
    },
    {
     "name": "stdout",
     "output_type": "stream",
     "text": [
      "EXCEPTION occured\n"
     ]
    },
    {
     "name": "stderr",
     "output_type": "stream",
     "text": [
      " 27%|████████████████████████████▌                                                                           | 83371/303421 [31:51<1:06:13, 55.37it/s]"
     ]
    },
    {
     "name": "stdout",
     "output_type": "stream",
     "text": [
      "EXCEPTION occured\n"
     ]
    },
    {
     "name": "stderr",
     "output_type": "stream",
     "text": [
      " 28%|█████████████████████████████▎                                                                          | 85493/303421 [32:41<1:09:30, 52.26it/s]"
     ]
    },
    {
     "name": "stdout",
     "output_type": "stream",
     "text": [
      "EXCEPTION occured\n"
     ]
    },
    {
     "name": "stderr",
     "output_type": "stream",
     "text": [
      " 32%|█████████████████████████████████▏                                                                      | 96942/303421 [37:07<1:21:43, 42.11it/s]"
     ]
    },
    {
     "name": "stdout",
     "output_type": "stream",
     "text": [
      "EXCEPTION occured\n"
     ]
    },
    {
     "name": "stderr",
     "output_type": "stream",
     "text": [
      " 33%|██████████████████████████████████                                                                     | 100479/303421 [38:40<1:13:57, 45.73it/s]"
     ]
    },
    {
     "name": "stdout",
     "output_type": "stream",
     "text": [
      "EXCEPTION occured\n"
     ]
    },
    {
     "name": "stderr",
     "output_type": "stream",
     "text": [
      " 35%|███████████████████████████████████▌                                                                   | 104751/303421 [40:33<1:34:39, 34.98it/s]"
     ]
    },
    {
     "name": "stdout",
     "output_type": "stream",
     "text": [
      "EXCEPTION occured\n"
     ]
    },
    {
     "name": "stderr",
     "output_type": "stream",
     "text": [
      " 39%|███████████████████████████████████████▊                                                               | 117159/303421 [46:08<1:27:35, 35.44it/s]"
     ]
    },
    {
     "name": "stdout",
     "output_type": "stream",
     "text": [
      "EXCEPTION occured\n"
     ]
    },
    {
     "name": "stderr",
     "output_type": "stream",
     "text": [
      " 39%|████████████████████████████████████████▍                                                              | 119171/303421 [47:00<1:58:45, 25.86it/s]"
     ]
    },
    {
     "name": "stdout",
     "output_type": "stream",
     "text": [
      "EXCEPTION occured\n"
     ]
    },
    {
     "name": "stderr",
     "output_type": "stream",
     "text": [
      " 40%|█████████████████████████████████████████                                                              | 120853/303421 [47:44<1:33:28, 32.55it/s]"
     ]
    },
    {
     "name": "stdout",
     "output_type": "stream",
     "text": [
      "EXCEPTION occured\n"
     ]
    },
    {
     "name": "stderr",
     "output_type": "stream",
     "text": [
      " 40%|█████████████████████████████████████████▍                                                             | 122046/303421 [48:21<1:41:46, 29.70it/s]"
     ]
    },
    {
     "name": "stdout",
     "output_type": "stream",
     "text": [
      "EXCEPTION occured\n"
     ]
    },
    {
     "name": "stderr",
     "output_type": "stream",
     "text": [
      " 41%|██████████████████████████████████████████▏                                                            | 124261/303421 [49:13<1:11:54, 41.53it/s]"
     ]
    },
    {
     "name": "stdout",
     "output_type": "stream",
     "text": [
      "EXCEPTION occured\n"
     ]
    },
    {
     "name": "stderr",
     "output_type": "stream",
     "text": [
      " 42%|███████████████████████████████████████████▊                                                             | 126568/303421 [50:14<59:06, 49.87it/s]"
     ]
    },
    {
     "name": "stdout",
     "output_type": "stream",
     "text": [
      "EXCEPTION occured\n"
     ]
    },
    {
     "name": "stderr",
     "output_type": "stream",
     "text": [
      " 42%|███████████████████████████████████████████▏                                                           | 127213/303421 [50:32<1:03:58, 45.90it/s]"
     ]
    },
    {
     "name": "stdout",
     "output_type": "stream",
     "text": [
      "EXCEPTION occured\n"
     ]
    },
    {
     "name": "stderr",
     "output_type": "stream",
     "text": [
      " 42%|████████████████████████████████████████████▏                                                            | 127703/303421 [50:44<57:59, 50.50it/s]"
     ]
    },
    {
     "name": "stdout",
     "output_type": "stream",
     "text": [
      "EXCEPTION occured\n"
     ]
    },
    {
     "name": "stderr",
     "output_type": "stream",
     "text": [
      " 43%|███████████████████████████████████████████▉                                                           | 129298/303421 [51:22<1:11:02, 40.85it/s]"
     ]
    },
    {
     "name": "stdout",
     "output_type": "stream",
     "text": [
      "EXCEPTION occured\n"
     ]
    },
    {
     "name": "stderr",
     "output_type": "stream",
     "text": [
      " 43%|████████████████████████████████████████████                                                           | 129902/303421 [51:39<3:04:37, 15.66it/s]"
     ]
    },
    {
     "name": "stdout",
     "output_type": "stream",
     "text": [
      "EXCEPTION occured\n"
     ]
    },
    {
     "name": "stderr",
     "output_type": "stream",
     "text": [
      " 44%|█████████████████████████████████████████████▏                                                         | 133163/303421 [53:07<2:14:59, 21.02it/s]"
     ]
    },
    {
     "name": "stdout",
     "output_type": "stream",
     "text": [
      "EXCEPTION occured\n"
     ]
    },
    {
     "name": "stderr",
     "output_type": "stream",
     "text": [
      " 44%|█████████████████████████████████████████████▍                                                         | 133745/303421 [53:23<1:10:10, 40.30it/s]"
     ]
    },
    {
     "name": "stdout",
     "output_type": "stream",
     "text": [
      "EXCEPTION occured\n"
     ]
    },
    {
     "name": "stderr",
     "output_type": "stream",
     "text": [
      " 45%|██████████████████████████████████████████████▎                                                        | 136427/303421 [54:33<1:36:10, 28.94it/s]"
     ]
    },
    {
     "name": "stdout",
     "output_type": "stream",
     "text": [
      "EXCEPTION occured\n"
     ]
    },
    {
     "name": "stderr",
     "output_type": "stream",
     "text": [
      " 47%|█████████████████████████████████████████████████▍                                                       | 142875/303421 [57:18<55:36, 48.12it/s]"
     ]
    },
    {
     "name": "stdout",
     "output_type": "stream",
     "text": [
      "EXCEPTION occured\n"
     ]
    },
    {
     "name": "stderr",
     "output_type": "stream",
     "text": [
      " 49%|█████████████████████████████████████████████████▋                                                   | 149165/303421 [1:00:06<1:10:27, 36.49it/s]"
     ]
    },
    {
     "name": "stdout",
     "output_type": "stream",
     "text": [
      "EXCEPTION occured\n"
     ]
    },
    {
     "name": "stderr",
     "output_type": "stream",
     "text": [
      " 51%|███████████████████████████████████████████████████▊                                                 | 155738/303421 [1:02:47<1:10:01, 35.15it/s]"
     ]
    },
    {
     "name": "stdout",
     "output_type": "stream",
     "text": [
      "EXCEPTION occured\n"
     ]
    },
    {
     "name": "stderr",
     "output_type": "stream",
     "text": [
      " 51%|████████████████████████████████████████████████████▊                                                  | 155750/303421 [1:02:47<56:09, 43.82it/s]"
     ]
    },
    {
     "name": "stdout",
     "output_type": "stream",
     "text": [
      "EXCEPTION occured\n"
     ]
    },
    {
     "name": "stderr",
     "output_type": "stream",
     "text": [
      " 54%|██████████████████████████████████████████████████████▏                                              | 162911/303421 [1:06:00<1:09:57, 33.47it/s]"
     ]
    },
    {
     "name": "stdout",
     "output_type": "stream",
     "text": [
      "EXCEPTION occured\n"
     ]
    },
    {
     "name": "stderr",
     "output_type": "stream",
     "text": [
      " 54%|██████████████████████████████████████████████████████▊                                              | 164631/303421 [1:06:45<1:00:09, 38.45it/s]"
     ]
    },
    {
     "name": "stdout",
     "output_type": "stream",
     "text": [
      "EXCEPTION occured\n"
     ]
    },
    {
     "name": "stderr",
     "output_type": "stream",
     "text": [
      " 59%|███████████████████████████████████████████████████████████▍                                         | 178646/303421 [1:12:45<1:15:33, 27.52it/s]"
     ]
    },
    {
     "name": "stdout",
     "output_type": "stream",
     "text": [
      "EXCEPTION occured\n"
     ]
    },
    {
     "name": "stderr",
     "output_type": "stream",
     "text": [
      " 60%|████████████████████████████████████████████████████████████▏                                        | 180930/303421 [1:13:44<1:08:15, 29.91it/s]"
     ]
    },
    {
     "name": "stdout",
     "output_type": "stream",
     "text": [
      "EXCEPTION occured\n"
     ]
    },
    {
     "name": "stderr",
     "output_type": "stream",
     "text": [
      " 60%|█████████████████████████████████████████████████████████████▍                                         | 180972/303421 [1:13:45<40:38, 50.22it/s]"
     ]
    },
    {
     "name": "stdout",
     "output_type": "stream",
     "text": [
      "EXCEPTION occured\n"
     ]
    },
    {
     "name": "stderr",
     "output_type": "stream",
     "text": [
      " 61%|██████████████████████████████████████████████████████████████▉                                        | 185477/303421 [1:15:40<38:38, 50.88it/s]"
     ]
    },
    {
     "name": "stdout",
     "output_type": "stream",
     "text": [
      "EXCEPTION occured\n"
     ]
    },
    {
     "name": "stderr",
     "output_type": "stream",
     "text": [
      " 62%|████████████████████████████████████████████████████████████████▎                                      | 189414/303421 [1:17:12<50:47, 37.42it/s]"
     ]
    },
    {
     "name": "stdout",
     "output_type": "stream",
     "text": [
      "EXCEPTION occured\n"
     ]
    },
    {
     "name": "stderr",
     "output_type": "stream",
     "text": [
      " 63%|████████████████████████████████████████████████████████████████▌                                      | 190277/303421 [1:17:36<37:53, 49.77it/s]"
     ]
    },
    {
     "name": "stdout",
     "output_type": "stream",
     "text": [
      "EXCEPTION occured\n"
     ]
    },
    {
     "name": "stderr",
     "output_type": "stream",
     "text": [
      " 67%|████████████████████████████████████████████████████████████████████▊                                  | 202644/303421 [1:22:24<30:58, 54.22it/s]"
     ]
    },
    {
     "name": "stdout",
     "output_type": "stream",
     "text": [
      "EXCEPTION occured\n"
     ]
    },
    {
     "name": "stderr",
     "output_type": "stream",
     "text": [
      " 67%|████████████████████████████████████████████████████████████████████▉                                  | 202990/303421 [1:22:34<53:35, 31.24it/s]"
     ]
    },
    {
     "name": "stdout",
     "output_type": "stream",
     "text": [
      "EXCEPTION occured\n"
     ]
    },
    {
     "name": "stderr",
     "output_type": "stream",
     "text": [
      " 69%|███████████████████████████████████████████████████████████████████████▎                               | 210069/303421 [1:25:37<47:20, 32.87it/s]"
     ]
    },
    {
     "name": "stdout",
     "output_type": "stream",
     "text": [
      "EXCEPTION occured\n"
     ]
    },
    {
     "name": "stderr",
     "output_type": "stream",
     "text": [
      " 71%|████████████████████████████████████████████████████████████████████████▌                              | 213915/303421 [1:27:15<34:59, 42.64it/s]"
     ]
    },
    {
     "name": "stdout",
     "output_type": "stream",
     "text": [
      "EXCEPTION occured\n"
     ]
    },
    {
     "name": "stderr",
     "output_type": "stream",
     "text": [
      " 71%|███████████████████████████████████████████████████████████████████████▋                             | 215527/303421 [1:27:56<1:03:16, 23.15it/s]"
     ]
    },
    {
     "name": "stdout",
     "output_type": "stream",
     "text": [
      "EXCEPTION occured\n"
     ]
    },
    {
     "name": "stderr",
     "output_type": "stream",
     "text": [
      " 74%|████████████████████████████████████████████████████████████████████████████▎                          | 224971/303421 [1:32:04<32:11, 40.62it/s]"
     ]
    },
    {
     "name": "stdout",
     "output_type": "stream",
     "text": [
      "EXCEPTION occured\n"
     ]
    },
    {
     "name": "stderr",
     "output_type": "stream",
     "text": [
      " 75%|████████████████████████████████████████████████████████████████████████████▉                          | 226515/303421 [1:32:42<32:37, 39.29it/s]"
     ]
    },
    {
     "name": "stdout",
     "output_type": "stream",
     "text": [
      "EXCEPTION occured\n"
     ]
    },
    {
     "name": "stderr",
     "output_type": "stream",
     "text": [
      " 75%|█████████████████████████████████████████████████████████████████████████████▍                         | 228276/303421 [1:33:34<28:48, 43.47it/s]"
     ]
    },
    {
     "name": "stdout",
     "output_type": "stream",
     "text": [
      "EXCEPTION occured\n"
     ]
    },
    {
     "name": "stderr",
     "output_type": "stream",
     "text": [
      " 79%|█████████████████████████████████████████████████████████████████████████████████                      | 238751/303421 [1:37:47<19:45, 54.56it/s]"
     ]
    },
    {
     "name": "stdout",
     "output_type": "stream",
     "text": [
      "EXCEPTION occured\n"
     ]
    },
    {
     "name": "stderr",
     "output_type": "stream",
     "text": [
      " 79%|█████████████████████████████████████████████████████████████████████████████████▌                     | 240405/303421 [1:38:30<19:24, 54.10it/s]"
     ]
    },
    {
     "name": "stdout",
     "output_type": "stream",
     "text": [
      "EXCEPTION occured\n"
     ]
    },
    {
     "name": "stderr",
     "output_type": "stream",
     "text": [
      " 81%|███████████████████████████████████████████████████████████████████████████████████▌                   | 246246/303421 [1:40:54<26:41, 35.70it/s]"
     ]
    },
    {
     "name": "stdout",
     "output_type": "stream",
     "text": [
      "EXCEPTION occured\n"
     ]
    },
    {
     "name": "stderr",
     "output_type": "stream",
     "text": [
      " 81%|███████████████████████████████████████████████████████████████████████████████████▉                   | 247133/303421 [1:41:14<29:45, 31.52it/s]"
     ]
    },
    {
     "name": "stdout",
     "output_type": "stream",
     "text": [
      "EXCEPTION occured\n"
     ]
    },
    {
     "name": "stderr",
     "output_type": "stream",
     "text": [
      " 83%|█████████████████████████████████████████████████████████████████████████████████████▋                 | 252556/303421 [1:43:34<15:18, 55.37it/s]"
     ]
    },
    {
     "name": "stdout",
     "output_type": "stream",
     "text": [
      "EXCEPTION occured\n"
     ]
    },
    {
     "name": "stderr",
     "output_type": "stream",
     "text": [
      " 84%|██████████████████████████████████████████████████████████████████████████████████████▍                | 254805/303421 [1:44:24<16:43, 48.45it/s]"
     ]
    },
    {
     "name": "stdout",
     "output_type": "stream",
     "text": [
      "EXCEPTION occured\n"
     ]
    },
    {
     "name": "stderr",
     "output_type": "stream",
     "text": [
      " 85%|███████████████████████████████████████████████████████████████████████████████████████▊               | 258770/303421 [1:46:11<27:38, 26.91it/s]"
     ]
    },
    {
     "name": "stdout",
     "output_type": "stream",
     "text": [
      "EXCEPTION occured\n"
     ]
    },
    {
     "name": "stderr",
     "output_type": "stream",
     "text": [
      " 88%|██████████████████████████████████████████████████████████████████████████████████████████▌            | 266934/303421 [1:49:25<12:36, 48.25it/s]"
     ]
    },
    {
     "name": "stdout",
     "output_type": "stream",
     "text": [
      "EXCEPTION occured\n"
     ]
    },
    {
     "name": "stderr",
     "output_type": "stream",
     "text": [
      " 89%|███████████████████████████████████████████████████████████████████████████████████████████▍           | 269472/303421 [1:50:29<22:36, 25.03it/s]"
     ]
    },
    {
     "name": "stdout",
     "output_type": "stream",
     "text": [
      "EXCEPTION occured\n"
     ]
    },
    {
     "name": "stderr",
     "output_type": "stream",
     "text": [
      " 90%|█████████████████████████████████████████████████████████████████████████████████████████████          | 274097/303421 [1:52:28<08:00, 60.98it/s]"
     ]
    },
    {
     "name": "stdout",
     "output_type": "stream",
     "text": [
      "EXCEPTION occured\n"
     ]
    },
    {
     "name": "stderr",
     "output_type": "stream",
     "text": [
      " 91%|█████████████████████████████████████████████████████████████████████████████████████████████▊         | 276286/303421 [1:53:24<12:57, 34.90it/s]"
     ]
    },
    {
     "name": "stdout",
     "output_type": "stream",
     "text": [
      "EXCEPTION occured\n"
     ]
    },
    {
     "name": "stderr",
     "output_type": "stream",
     "text": [
      " 91%|█████████████████████████████████████████████████████████████████████████████████████████████▉         | 276624/303421 [1:53:35<10:45, 41.53it/s]"
     ]
    },
    {
     "name": "stdout",
     "output_type": "stream",
     "text": [
      "EXCEPTION occured\n"
     ]
    },
    {
     "name": "stderr",
     "output_type": "stream",
     "text": [
      " 91%|██████████████████████████████████████████████████████████████████████████████████████████████         | 277202/303421 [1:53:49<08:59, 48.62it/s]"
     ]
    },
    {
     "name": "stdout",
     "output_type": "stream",
     "text": [
      "EXCEPTION occured\n"
     ]
    },
    {
     "name": "stderr",
     "output_type": "stream",
     "text": [
      " 92%|██████████████████████████████████████████████████████████████████████████████████████████████▊        | 279332/303421 [1:54:42<05:34, 72.11it/s]"
     ]
    },
    {
     "name": "stdout",
     "output_type": "stream",
     "text": [
      "EXCEPTION occured\n"
     ]
    },
    {
     "name": "stderr",
     "output_type": "stream",
     "text": [
      " 93%|███████████████████████████████████████████████████████████████████████████████████████████████▊       | 282351/303421 [1:55:50<07:42, 45.59it/s]"
     ]
    },
    {
     "name": "stdout",
     "output_type": "stream",
     "text": [
      "EXCEPTION occured\n"
     ]
    },
    {
     "name": "stderr",
     "output_type": "stream",
     "text": [
      " 94%|████████████████████████████████████████████████████████████████████████████████████████████████▍      | 284259/303421 [1:56:33<06:53, 46.38it/s]"
     ]
    },
    {
     "name": "stdout",
     "output_type": "stream",
     "text": [
      "EXCEPTION occured\n"
     ]
    },
    {
     "name": "stderr",
     "output_type": "stream",
     "text": [
      " 95%|█████████████████████████████████████████████████████████████████████████████████████████████████▍     | 287030/303421 [1:57:47<05:28, 49.92it/s]"
     ]
    },
    {
     "name": "stdout",
     "output_type": "stream",
     "text": [
      "EXCEPTION occured\n"
     ]
    },
    {
     "name": "stderr",
     "output_type": "stream",
     "text": [
      "100%|███████████████████████████████████████████████████████████████████████████████████████████████████████| 303421/303421 [2:04:43<00:00, 40.55it/s]\n"
     ]
    },
    {
     "name": "stdout",
     "output_type": "stream",
     "text": [
      "             id  parent_id  summarized  \\\n",
      "0       ecyoxpd  t3_aba9kt           1   \n",
      "1       ecypsb2  t3_abadvk           1   \n",
      "2       ecyqaf8  t3_abadvk           1   \n",
      "3       ecyra3n  t3_abadvk           1   \n",
      "4       ecyrh6q  t3_abadvk           1   \n",
      "...         ...        ...         ...   \n",
      "203258  ds0yawc  t3_7nc8k5           1   \n",
      "203259  ds139pg  t3_7ncafx           1   \n",
      "203260  ds1573m  t3_7ncaro           1   \n",
      "203261  ds16j13  t3_7nc8k5           1   \n",
      "203262  ds19dod  t3_7nc8k5           1   \n",
      "\n",
      "                                                     text  length  \n",
      "0                           First of all, happy new year!       8  \n",
      "1       I am THRILLED that I get to spend the night ha...      19  \n",
      "2       You should consider listening to Morrissey and...      13  \n",
      "3                                         Happy new year!       4  \n",
      "4       Mostly the summer holidays and going to Michig...      20  \n",
      "...                                                   ...     ...  \n",
      "203258  My suggestion is take this new year to focus o...      12  \n",
      "203259  Honestly, marriage can make it hard to keep on...      16  \n",
      "203260  Young you has never seen or experienced anythi...      12  \n",
      "203261  That means your giving her ALOT of power, in f...      19  \n",
      "203262  Amazing work man seriously with that attitude ...      17  \n",
      "\n",
      "[203263 rows x 5 columns]\n",
      "(967407, 10)\n",
      "(246046, 10)\n"
     ]
    },
    {
     "name": "stderr",
     "output_type": "stream",
     "text": [
      "  2%|█▊                                                                                                       | 4315/246046 [01:51<1:26:23, 46.63it/s]"
     ]
    },
    {
     "name": "stdout",
     "output_type": "stream",
     "text": [
      "EXCEPTION occured\n"
     ]
    },
    {
     "name": "stderr",
     "output_type": "stream",
     "text": [
      "  6%|██████▎                                                                                                 | 14889/246046 [06:00<1:54:32, 33.64it/s]"
     ]
    },
    {
     "name": "stdout",
     "output_type": "stream",
     "text": [
      "EXCEPTION occured\n"
     ]
    },
    {
     "name": "stderr",
     "output_type": "stream",
     "text": [
      "  7%|██████▊                                                                                                 | 16025/246046 [06:34<1:23:46, 45.76it/s]"
     ]
    },
    {
     "name": "stdout",
     "output_type": "stream",
     "text": [
      "EXCEPTION occured\n"
     ]
    },
    {
     "name": "stderr",
     "output_type": "stream",
     "text": [
      "  8%|████████▏                                                                                               | 19356/246046 [08:00<1:18:53, 47.89it/s]"
     ]
    },
    {
     "name": "stdout",
     "output_type": "stream",
     "text": [
      "EXCEPTION occured\n"
     ]
    },
    {
     "name": "stderr",
     "output_type": "stream",
     "text": [
      " 13%|█████████████▌                                                                                          | 31963/246046 [13:16<1:31:30, 38.99it/s]"
     ]
    },
    {
     "name": "stdout",
     "output_type": "stream",
     "text": [
      "EXCEPTION occured\n"
     ]
    },
    {
     "name": "stderr",
     "output_type": "stream",
     "text": [
      " 13%|█████████████▌                                                                                          | 32040/246046 [13:18<1:07:11, 53.08it/s]"
     ]
    },
    {
     "name": "stdout",
     "output_type": "stream",
     "text": [
      "EXCEPTION occured\n"
     ]
    },
    {
     "name": "stderr",
     "output_type": "stream",
     "text": [
      " 18%|██████████████████▋                                                                                       | 43433/246046 [17:43<48:58, 68.94it/s]"
     ]
    },
    {
     "name": "stdout",
     "output_type": "stream",
     "text": [
      "EXCEPTION occured\n"
     ]
    },
    {
     "name": "stderr",
     "output_type": "stream",
     "text": [
      " 18%|██████████████████▉                                                                                     | 44829/246046 [18:13<1:25:32, 39.20it/s]"
     ]
    },
    {
     "name": "stdout",
     "output_type": "stream",
     "text": [
      "EXCEPTION occured\n"
     ]
    },
    {
     "name": "stderr",
     "output_type": "stream",
     "text": [
      " 21%|█████████████████████▍                                                                                  | 50576/246046 [20:29<1:38:12, 33.17it/s]"
     ]
    },
    {
     "name": "stdout",
     "output_type": "stream",
     "text": [
      "EXCEPTION occured\n"
     ]
    },
    {
     "name": "stderr",
     "output_type": "stream",
     "text": [
      " 21%|██████████████████████▏                                                                                 | 52381/246046 [21:12<3:03:41, 17.57it/s]"
     ]
    },
    {
     "name": "stdout",
     "output_type": "stream",
     "text": [
      "EXCEPTION occured\n"
     ]
    },
    {
     "name": "stderr",
     "output_type": "stream",
     "text": [
      " 31%|█████████████████████████████████▏                                                                        | 76974/246046 [30:44<45:01, 62.59it/s]"
     ]
    },
    {
     "name": "stdout",
     "output_type": "stream",
     "text": [
      "EXCEPTION occured\n"
     ]
    },
    {
     "name": "stderr",
     "output_type": "stream",
     "text": [
      " 34%|███████████████████████████████████▌                                                                      | 82589/246046 [32:51<51:25, 52.97it/s]"
     ]
    },
    {
     "name": "stdout",
     "output_type": "stream",
     "text": [
      "EXCEPTION occured\n"
     ]
    },
    {
     "name": "stderr",
     "output_type": "stream",
     "text": [
      " 34%|███████████████████████████████████▋                                                                      | 82911/246046 [32:58<58:18, 46.63it/s]"
     ]
    },
    {
     "name": "stdout",
     "output_type": "stream",
     "text": [
      "EXCEPTION occured\n"
     ]
    },
    {
     "name": "stderr",
     "output_type": "stream",
     "text": [
      " 34%|████████████████████████████████████▏                                                                     | 84006/246046 [33:24<37:55, 71.20it/s]"
     ]
    },
    {
     "name": "stdout",
     "output_type": "stream",
     "text": [
      "EXCEPTION occured\n"
     ]
    },
    {
     "name": "stderr",
     "output_type": "stream",
     "text": [
      " 34%|████████████████████████████████████▎                                                                     | 84296/246046 [33:32<58:22, 46.18it/s]"
     ]
    },
    {
     "name": "stdout",
     "output_type": "stream",
     "text": [
      "EXCEPTION occured\n"
     ]
    },
    {
     "name": "stderr",
     "output_type": "stream",
     "text": [
      " 35%|████████████████████████████████████▊                                                                   | 87232/246046 [34:39<1:44:41, 25.28it/s]"
     ]
    },
    {
     "name": "stdout",
     "output_type": "stream",
     "text": [
      "EXCEPTION occured\n"
     ]
    },
    {
     "name": "stderr",
     "output_type": "stream",
     "text": [
      " 36%|████████████████████████████████████▉                                                                   | 87480/246046 [34:46<1:13:30, 35.95it/s]"
     ]
    },
    {
     "name": "stdout",
     "output_type": "stream",
     "text": [
      "EXCEPTION occured\n"
     ]
    },
    {
     "name": "stderr",
     "output_type": "stream",
     "text": [
      " 36%|█████████████████████████████████████▊                                                                  | 89320/246046 [35:30<1:02:45, 41.62it/s]"
     ]
    },
    {
     "name": "stdout",
     "output_type": "stream",
     "text": [
      "EXCEPTION occured\n"
     ]
    },
    {
     "name": "stderr",
     "output_type": "stream",
     "text": [
      " 37%|██████████████████████████████████████▊                                                                 | 91830/246046 [36:26<1:05:30, 39.24it/s]"
     ]
    },
    {
     "name": "stdout",
     "output_type": "stream",
     "text": [
      "EXCEPTION occured\n"
     ]
    },
    {
     "name": "stderr",
     "output_type": "stream",
     "text": [
      " 39%|█████████████████████████████████████████▏                                                                | 95697/246046 [37:46<28:29, 87.94it/s]"
     ]
    },
    {
     "name": "stdout",
     "output_type": "stream",
     "text": [
      "EXCEPTION occured\n"
     ]
    },
    {
     "name": "stderr",
     "output_type": "stream",
     "text": [
      " 43%|█████████████████████████████████████████████▌                                                           | 106852/246046 [42:01<36:46, 63.09it/s]"
     ]
    },
    {
     "name": "stdout",
     "output_type": "stream",
     "text": [
      "EXCEPTION occured\n"
     ]
    },
    {
     "name": "stderr",
     "output_type": "stream",
     "text": [
      " 44%|█████████████████████████████████████████████▉                                                           | 107765/246046 [42:21<50:12, 45.90it/s]"
     ]
    },
    {
     "name": "stdout",
     "output_type": "stream",
     "text": [
      "EXCEPTION occured\n"
     ]
    },
    {
     "name": "stderr",
     "output_type": "stream",
     "text": [
      " 45%|███████████████████████████████████████████████▌                                                         | 111322/246046 [43:34<47:54, 46.87it/s]"
     ]
    },
    {
     "name": "stdout",
     "output_type": "stream",
     "text": [
      "EXCEPTION occured\n"
     ]
    },
    {
     "name": "stderr",
     "output_type": "stream",
     "text": [
      " 46%|██████████████████████████████████████████████▊                                                        | 111961/246046 [43:49<1:12:42, 30.74it/s]"
     ]
    },
    {
     "name": "stdout",
     "output_type": "stream",
     "text": [
      "EXCEPTION occured\n"
     ]
    },
    {
     "name": "stderr",
     "output_type": "stream",
     "text": [
      " 46%|██████████████████████████████████████████████▉                                                        | 112129/246046 [43:55<1:02:51, 35.51it/s]"
     ]
    },
    {
     "name": "stdout",
     "output_type": "stream",
     "text": [
      "EXCEPTION occured\n"
     ]
    },
    {
     "name": "stderr",
     "output_type": "stream",
     "text": [
      " 47%|████████████████████████████████████████████████▌                                                      | 115881/246046 [45:29<1:03:25, 34.20it/s]"
     ]
    },
    {
     "name": "stdout",
     "output_type": "stream",
     "text": [
      "EXCEPTION occured\n"
     ]
    },
    {
     "name": "stderr",
     "output_type": "stream",
     "text": [
      " 59%|██████████████████████████████████████████████████████████████▍                                          | 146205/246046 [56:53<46:43, 35.61it/s]"
     ]
    },
    {
     "name": "stdout",
     "output_type": "stream",
     "text": [
      "EXCEPTION occured\n"
     ]
    },
    {
     "name": "stderr",
     "output_type": "stream",
     "text": [
      " 60%|███████████████████████████████████████████████████████████████▎                                         | 148222/246046 [57:41<35:05, 46.47it/s]"
     ]
    },
    {
     "name": "stdout",
     "output_type": "stream",
     "text": [
      "EXCEPTION occured\n"
     ]
    },
    {
     "name": "stderr",
     "output_type": "stream",
     "text": [
      " 61%|███████████████████████████████████████████████████████████████▊                                         | 149572/246046 [58:12<38:47, 41.46it/s]"
     ]
    },
    {
     "name": "stdout",
     "output_type": "stream",
     "text": [
      "EXCEPTION occured\n"
     ]
    },
    {
     "name": "stderr",
     "output_type": "stream",
     "text": [
      " 61%|███████████████████████████████████████████████████████████████▉                                         | 149848/246046 [58:19<37:04, 43.25it/s]"
     ]
    },
    {
     "name": "stdout",
     "output_type": "stream",
     "text": [
      "EXCEPTION occured\n"
     ]
    },
    {
     "name": "stderr",
     "output_type": "stream",
     "text": [
      " 62%|████████████████████████████████████████████████████████████████▉                                        | 152086/246046 [59:10<17:11, 91.08it/s]"
     ]
    },
    {
     "name": "stdout",
     "output_type": "stream",
     "text": [
      "EXCEPTION occured\n"
     ]
    },
    {
     "name": "stderr",
     "output_type": "stream",
     "text": [
      " 66%|████████████████████████████████████████████████████████████████████▏                                  | 162906/246046 [1:03:51<33:21, 41.54it/s]"
     ]
    },
    {
     "name": "stdout",
     "output_type": "stream",
     "text": [
      "EXCEPTION occured\n"
     ]
    },
    {
     "name": "stderr",
     "output_type": "stream",
     "text": [
      " 71%|█████████████████████████████████████████████████████████████████████████                              | 174597/246046 [1:08:51<26:16, 45.32it/s]"
     ]
    },
    {
     "name": "stdout",
     "output_type": "stream",
     "text": [
      "EXCEPTION occured\n"
     ]
    },
    {
     "name": "stderr",
     "output_type": "stream",
     "text": [
      " 72%|█████████████████████████████████████████████████████████████████████████▉                             | 176764/246046 [1:09:46<22:26, 51.47it/s]"
     ]
    },
    {
     "name": "stdout",
     "output_type": "stream",
     "text": [
      "EXCEPTION occured\n"
     ]
    },
    {
     "name": "stderr",
     "output_type": "stream",
     "text": [
      " 74%|████████████████████████████████████████████████████████████████████████████▎                          | 182183/246046 [1:11:52<32:52, 32.37it/s]"
     ]
    },
    {
     "name": "stdout",
     "output_type": "stream",
     "text": [
      "EXCEPTION occured\n"
     ]
    },
    {
     "name": "stderr",
     "output_type": "stream",
     "text": [
      " 75%|█████████████████████████████████████████████████████████████████████████████▏                         | 184350/246046 [1:12:43<29:20, 35.04it/s]"
     ]
    },
    {
     "name": "stdout",
     "output_type": "stream",
     "text": [
      "EXCEPTION occured\n"
     ]
    },
    {
     "name": "stderr",
     "output_type": "stream",
     "text": [
      " 75%|█████████████████████████████████████████████████████████████████████████████▎                         | 184762/246046 [1:12:52<34:20, 29.75it/s]"
     ]
    },
    {
     "name": "stdout",
     "output_type": "stream",
     "text": [
      "EXCEPTION occured\n"
     ]
    },
    {
     "name": "stderr",
     "output_type": "stream",
     "text": [
      " 77%|██████████████████████████████████████████████████████████████████████████████▉                        | 188435/246046 [1:14:24<19:06, 50.27it/s]"
     ]
    },
    {
     "name": "stdout",
     "output_type": "stream",
     "text": [
      "EXCEPTION occured\n"
     ]
    },
    {
     "name": "stderr",
     "output_type": "stream",
     "text": [
      " 77%|███████████████████████████████████████████████████████████████████████████████                        | 188867/246046 [1:14:36<23:43, 40.16it/s]"
     ]
    },
    {
     "name": "stdout",
     "output_type": "stream",
     "text": [
      "EXCEPTION occured\n"
     ]
    },
    {
     "name": "stderr",
     "output_type": "stream",
     "text": [
      " 81%|███████████████████████████████████████████████████████████████████████████████████▏                   | 198822/246046 [1:18:26<21:49, 36.06it/s]"
     ]
    },
    {
     "name": "stdout",
     "output_type": "stream",
     "text": [
      "EXCEPTION occured\n"
     ]
    },
    {
     "name": "stderr",
     "output_type": "stream",
     "text": [
      " 81%|███████████████████████████████████████████████████████████████████████████████████▍                   | 199229/246046 [1:18:35<16:58, 45.95it/s]"
     ]
    },
    {
     "name": "stdout",
     "output_type": "stream",
     "text": [
      "EXCEPTION occured\n"
     ]
    },
    {
     "name": "stderr",
     "output_type": "stream",
     "text": [
      " 82%|████████████████████████████████████████████████████████████████████████████████████▋                  | 202419/246046 [1:19:47<15:29, 46.94it/s]"
     ]
    },
    {
     "name": "stdout",
     "output_type": "stream",
     "text": [
      "EXCEPTION occured\n"
     ]
    },
    {
     "name": "stderr",
     "output_type": "stream",
     "text": [
      " 84%|██████████████████████████████████████████████████████████████████████████████████████                 | 205573/246046 [1:20:59<13:28, 50.07it/s]"
     ]
    },
    {
     "name": "stdout",
     "output_type": "stream",
     "text": [
      "EXCEPTION occured\n"
     ]
    },
    {
     "name": "stderr",
     "output_type": "stream",
     "text": [
      " 85%|███████████████████████████████████████████████████████████████████████████████████████▊               | 209897/246046 [1:22:45<10:25, 57.83it/s]"
     ]
    },
    {
     "name": "stdout",
     "output_type": "stream",
     "text": [
      "EXCEPTION occured\n"
     ]
    },
    {
     "name": "stderr",
     "output_type": "stream",
     "text": [
      " 92%|██████████████████████████████████████████████████████████████████████████████████████████████▍        | 225549/246046 [1:28:49<07:04, 48.31it/s]"
     ]
    },
    {
     "name": "stdout",
     "output_type": "stream",
     "text": [
      "EXCEPTION occured\n"
     ]
    },
    {
     "name": "stderr",
     "output_type": "stream",
     "text": [
      " 92%|███████████████████████████████████████████████████████████████████████████████████████████████        | 226959/246046 [1:29:23<05:06, 62.27it/s]"
     ]
    },
    {
     "name": "stdout",
     "output_type": "stream",
     "text": [
      "EXCEPTION occured\n"
     ]
    },
    {
     "name": "stderr",
     "output_type": "stream",
     "text": [
      " 92%|███████████████████████████████████████████████████████████████████████████████████████████████        | 227168/246046 [1:29:26<04:34, 68.75it/s]"
     ]
    },
    {
     "name": "stdout",
     "output_type": "stream",
     "text": [
      "EXCEPTION occured\n"
     ]
    },
    {
     "name": "stderr",
     "output_type": "stream",
     "text": [
      " 94%|████████████████████████████████████████████████████████████████████████████████████████████████▋      | 230925/246046 [1:30:48<05:12, 48.38it/s]"
     ]
    },
    {
     "name": "stdout",
     "output_type": "stream",
     "text": [
      "EXCEPTION occured\n"
     ]
    },
    {
     "name": "stderr",
     "output_type": "stream",
     "text": [
      " 97%|███████████████████████████████████████████████████████████████████████████████████████████████████▉   | 238872/246046 [1:33:40<02:16, 52.64it/s]"
     ]
    },
    {
     "name": "stdout",
     "output_type": "stream",
     "text": [
      "EXCEPTION occured\n"
     ]
    },
    {
     "name": "stderr",
     "output_type": "stream",
     "text": [
      "100%|███████████████████████████████████████████████████████████████████████████████████████████████████████| 246046/246046 [1:36:23<00:00, 42.54it/s]\n"
     ]
    },
    {
     "name": "stdout",
     "output_type": "stream",
     "text": [
      "             id  parent_id  summarized  \\\n",
      "0       ds021wm  t3_7n9jvs           0   \n",
      "1       ds025kc  t3_7n9jvs           1   \n",
      "2       ds02aay  t3_7n9jvs           1   \n",
      "3       ds02coq  t3_7n9jvs           0   \n",
      "4       ds02ksr  t3_7n9jvs           1   \n",
      "...         ...        ...         ...   \n",
      "171230  dbv7exv  t3_5ldl3q           1   \n",
      "171231  dbv7lns  t3_5ld63x           0   \n",
      "171232  dbvdday  t3_5ldlxh           1   \n",
      "171233  dbvzszy  t3_5ldlxh           1   \n",
      "171234  dbwnr63  t3_5ldln5           1   \n",
      "\n",
      "                                                     text  length  \n",
      "0                                          I feel ya, bro       5  \n",
      "1                 I just completed watching Black Mirror.       7  \n",
      "2                                       Alone in a crowd.       5  \n",
      "3           Playing DOOM all night long, and alone too :)      10  \n",
      "4                                          Happy new year       3  \n",
      "...                                                   ...     ...  \n",
      "171230                         All musicians use monitors       4  \n",
      "171231                     Still getting over a break up.       7  \n",
      "171232    I love board games, but nothing Milton Bradley.      10  \n",
      "171233                             I have yet to win one.       7  \n",
      "171234  What with all the things we need to be dealing...      21  \n",
      "\n",
      "[171235 rows x 5 columns]\n",
      "(6400, 9)\n",
      "(93, 9)\n"
     ]
    },
    {
     "name": "stderr",
     "output_type": "stream",
     "text": [
      "100%|█████████████████████████████████████████████████████████████████████████████████████████████████████████████████| 93/93 [00:01<00:00, 48.93it/s]\n"
     ]
    },
    {
     "name": "stdout",
     "output_type": "stream",
     "text": [
      "         id  parent_id  summarized  \\\n",
      "0   dbumpog  t3_5lcee8           1   \n",
      "1   dbumrm1  t3_5lce7x           1   \n",
      "2   dbun0y4  t3_5lce7x           1   \n",
      "3   dbundan  t3_5lce7x           1   \n",
      "4   dbuo53y  t3_5l3q41           1   \n",
      "..      ...        ...         ...   \n",
      "62  dc6qxsl  t3_4ze20k           1   \n",
      "63  dc9ec7n  t3_50ya8p           0   \n",
      "64  dcvb5mp  t3_50mj2d           0   \n",
      "65  de08pei  t3_539irb           1   \n",
      "66  dehvel6  t3_51qxh2           1   \n",
      "\n",
      "                                                 text  length  \n",
      "0                                   Stay safe though.       4  \n",
      "1                                             HOORAY!       2  \n",
      "2            Hope that you're having a nice time too.      10  \n",
      "3                                     Happy new year!       4  \n",
      "4                         Check out the wiki for info       6  \n",
      "..                                                ...     ...  \n",
      "62                    \"Peep Show\" gets me every time.       9  \n",
      "63  Around the World in 80 Days is my all time fav...      37  \n",
      "64  I feel you brother Go check out Conflicts new ...      18  \n",
      "65                             I hate when cars stop.       6  \n",
      "66      I bought a hat that I wear from time to time.      12  \n",
      "\n",
      "[67 rows x 5 columns]\n"
     ]
    }
   ],
   "source": [
    "date_suffices = ['20210501_20211231', '20210101_20210430', '20200101_20201231',\n",
    "                 '20190101_20191231', '20180101_20181231', '20170101_20171231',\n",
    "                 '20160101_20161231']\n",
    "for date_suffix in date_suffices:\n",
    "    comment_df = pd.read_csv('../data/reddit/raw/casual_conv_comments_{}.csv'.format(date_suffix))\n",
    "    print(comment_df.shape)\n",
    "    submission_filtered_df = pd.read_csv('../data/reddit/filtered_q/casual_conv_submissions_{}.csv'.format(date_suffix))\n",
    "    submission_filtered_ids = submission_filtered_df['id'].tolist()\n",
    "    submission_filtered_ids = ['t3_' + x for x in submission_filtered_ids]\n",
    "    comment_df = comment_df[comment_df['parent_id'].isin(submission_filtered_ids)]\n",
    "    print(comment_df.shape)\n",
    "    comment_filtered_cols = ['id', 'parent_id', 'summarized', 'text', 'length']\n",
    "    comment_filtered_dict = {col: [] for col in comment_filtered_cols}\n",
    "    for i in tqdm(range(comment_df.shape[0])):\n",
    "        comment_id = comment_df.iloc[i]['id']\n",
    "        parent_id = comment_df.iloc[i]['parent_id']\n",
    "        body = comment_df.iloc[i]['body']\n",
    "        preprocessed_body = preprocess_raw(body)\n",
    "        summarized_body = summarize(preprocessed_body, dialog_turn = 2)\n",
    "        if summarized_body is not None:\n",
    "            comment_filtered_dict['id'].append(comment_id)\n",
    "            comment_filtered_dict['parent_id'].append(parent_id)\n",
    "            comment_filtered_dict['summarized'].append(summarized_body['summarized'])\n",
    "            comment_filtered_dict['text'].append(summarized_body['text'])\n",
    "            comment_filtered_dict['length'].append(summarized_body['length'])\n",
    "    comment_filtered_df = pd.DataFrame(comment_filtered_dict)\n",
    "    print(comment_filtered_df)\n",
    "    comment_filtered_df.to_csv('../data/reddit/filtered_q/casual_conv_comments_{}.csv'.format(date_suffix), index = False)"
   ]
  },
  {
   "cell_type": "markdown",
   "id": "14db501a",
   "metadata": {},
   "source": [
    "# Finalize the Submissions and Comments"
   ]
  },
  {
   "cell_type": "code",
   "execution_count": 38,
   "id": "afdd82c4",
   "metadata": {},
   "outputs": [],
   "source": [
    "submission_filtered_df = pd.read_csv('../data/reddit/filtered/casual_conv_submissions_{}.csv'.format(date_suffix))"
   ]
  },
  {
   "cell_type": "code",
   "execution_count": 39,
   "id": "f52ad8eb",
   "metadata": {},
   "outputs": [],
   "source": [
    "comment_filtered_df = pd.read_csv('../data/reddit/filtered/casual_conv_comments_{}.csv'.format(date_suffix))\n",
    "comment_filtered_parent_ids = comment_filtered_df['parent_id'].tolist()\n",
    "comment_filtered_parent_ids = [x[3:] for x in comment_filtered_parent_ids]"
   ]
  },
  {
   "cell_type": "code",
   "execution_count": 40,
   "id": "cb6aad85",
   "metadata": {},
   "outputs": [
    {
     "data": {
      "text/plain": [
       "(7941, 6)"
      ]
     },
     "execution_count": 40,
     "metadata": {},
     "output_type": "execute_result"
    }
   ],
   "source": [
    "submission_filtered_df = submission_filtered_df[submission_filtered_df['id'].isin(comment_filtered_parent_ids)]\n",
    "submission_filtered_df.shape"
   ]
  },
  {
   "cell_type": "code",
   "execution_count": 41,
   "id": "6c7f6ecf",
   "metadata": {},
   "outputs": [],
   "source": [
    "final_cols = ['sub_id', 'sub_summarized', 'sub_from', 'sub_text', 'sub_root', 'sub_length',\n",
    "              'com_id', 'com_summarized', 'com_text', 'com_length']\n",
    "final_dict = {col: [] for col in final_cols}"
   ]
  },
  {
   "cell_type": "code",
   "execution_count": 42,
   "id": "5c847a0c",
   "metadata": {},
   "outputs": [
    {
     "name": "stderr",
     "output_type": "stream",
     "text": [
      "100%|████████████████████████████████████████████████████████████████████████████████████████████████████████████| 7941/7941 [00:46<00:00, 170.12it/s]\n"
     ]
    }
   ],
   "source": [
    "for i in tqdm(range(submission_filtered_df.shape[0])):\n",
    "    sub_id = submission_filtered_df.iloc[i]['id']\n",
    "    sub_summarized = submission_filtered_df.iloc[i]['summarized']\n",
    "    sub_from = submission_filtered_df.iloc[i]['from']\n",
    "    sub_text = submission_filtered_df.iloc[i]['text']\n",
    "    sub_root = submission_filtered_df.iloc[i]['root']\n",
    "    sub_length = submission_filtered_df.iloc[i]['length']\n",
    "\n",
    "    comment_filtered_df_sub = comment_filtered_df[comment_filtered_df['parent_id'] == 't3_' + sub_id]\n",
    "    for j in range(comment_filtered_df_sub.shape[0]):\n",
    "        final_dict['sub_id'].append(sub_id)\n",
    "        final_dict['sub_summarized'].append(sub_summarized)\n",
    "        final_dict['sub_from'].append(sub_from)\n",
    "        final_dict['sub_text'].append(sub_text)\n",
    "        final_dict['sub_root'].append(sub_root)\n",
    "        final_dict['sub_length'].append(sub_length)\n",
    "        final_dict['com_id'].append(comment_filtered_df_sub.iloc[j]['id'])\n",
    "        final_dict['com_summarized'].append(comment_filtered_df_sub.iloc[j]['summarized'])\n",
    "        final_dict['com_text'].append(comment_filtered_df_sub.iloc[j]['text'])\n",
    "        final_dict['com_length'].append(comment_filtered_df_sub.iloc[j]['length'])"
   ]
  },
  {
   "cell_type": "code",
   "execution_count": 43,
   "id": "f84b0dda",
   "metadata": {},
   "outputs": [],
   "source": [
    "final_df = pd.DataFrame(final_dict)"
   ]
  },
  {
   "cell_type": "code",
   "execution_count": 44,
   "id": "6bc9c26c",
   "metadata": {},
   "outputs": [
    {
     "data": {
      "text/html": [
       "<div>\n",
       "<style scoped>\n",
       "    .dataframe tbody tr th:only-of-type {\n",
       "        vertical-align: middle;\n",
       "    }\n",
       "\n",
       "    .dataframe tbody tr th {\n",
       "        vertical-align: top;\n",
       "    }\n",
       "\n",
       "    .dataframe thead th {\n",
       "        text-align: right;\n",
       "    }\n",
       "</style>\n",
       "<table border=\"1\" class=\"dataframe\">\n",
       "  <thead>\n",
       "    <tr style=\"text-align: right;\">\n",
       "      <th></th>\n",
       "      <th>sub_id</th>\n",
       "      <th>sub_summarized</th>\n",
       "      <th>sub_from</th>\n",
       "      <th>sub_text</th>\n",
       "      <th>sub_root</th>\n",
       "      <th>sub_length</th>\n",
       "      <th>com_id</th>\n",
       "      <th>com_summarized</th>\n",
       "      <th>com_text</th>\n",
       "      <th>com_length</th>\n",
       "    </tr>\n",
       "  </thead>\n",
       "  <tbody>\n",
       "    <tr>\n",
       "      <th>0</th>\n",
       "      <td>r2v7x0</td>\n",
       "      <td>0</td>\n",
       "      <td>title</td>\n",
       "      <td>My boss told me that during the time my hair w...</td>\n",
       "      <td>make</td>\n",
       "      <td>21</td>\n",
       "      <td>hm6trwr</td>\n",
       "      <td>1</td>\n",
       "      <td>Take it as a compliment.</td>\n",
       "      <td>6</td>\n",
       "    </tr>\n",
       "    <tr>\n",
       "      <th>1</th>\n",
       "      <td>r2v7x0</td>\n",
       "      <td>0</td>\n",
       "      <td>title</td>\n",
       "      <td>My boss told me that during the time my hair w...</td>\n",
       "      <td>make</td>\n",
       "      <td>21</td>\n",
       "      <td>hm6tw3v</td>\n",
       "      <td>1</td>\n",
       "      <td>However working at a bar where sex-charged men...</td>\n",
       "      <td>14</td>\n",
       "    </tr>\n",
       "    <tr>\n",
       "      <th>2</th>\n",
       "      <td>r2v7x0</td>\n",
       "      <td>0</td>\n",
       "      <td>title</td>\n",
       "      <td>My boss told me that during the time my hair w...</td>\n",
       "      <td>make</td>\n",
       "      <td>21</td>\n",
       "      <td>hm6uegk</td>\n",
       "      <td>1</td>\n",
       "      <td>Why do people get bent out of shape about hair...</td>\n",
       "      <td>15</td>\n",
       "    </tr>\n",
       "    <tr>\n",
       "      <th>3</th>\n",
       "      <td>r2v7x0</td>\n",
       "      <td>0</td>\n",
       "      <td>title</td>\n",
       "      <td>My boss told me that during the time my hair w...</td>\n",
       "      <td>make</td>\n",
       "      <td>21</td>\n",
       "      <td>hm6xlf7</td>\n",
       "      <td>1</td>\n",
       "      <td>Will appearing more attractive to customers in...</td>\n",
       "      <td>16</td>\n",
       "    </tr>\n",
       "    <tr>\n",
       "      <th>4</th>\n",
       "      <td>r2v7x0</td>\n",
       "      <td>0</td>\n",
       "      <td>title</td>\n",
       "      <td>My boss told me that during the time my hair w...</td>\n",
       "      <td>make</td>\n",
       "      <td>21</td>\n",
       "      <td>hm6zt2c</td>\n",
       "      <td>1</td>\n",
       "      <td>are you suggesting that its a problem for peop...</td>\n",
       "      <td>28</td>\n",
       "    </tr>\n",
       "    <tr>\n",
       "      <th>...</th>\n",
       "      <td>...</td>\n",
       "      <td>...</td>\n",
       "      <td>...</td>\n",
       "      <td>...</td>\n",
       "      <td>...</td>\n",
       "      <td>...</td>\n",
       "      <td>...</td>\n",
       "      <td>...</td>\n",
       "      <td>...</td>\n",
       "      <td>...</td>\n",
       "    </tr>\n",
       "    <tr>\n",
       "      <th>53689</th>\n",
       "      <td>n8sdhl</td>\n",
       "      <td>0</td>\n",
       "      <td>selftext</td>\n",
       "      <td>I never really got to do things like this when...</td>\n",
       "      <td>get</td>\n",
       "      <td>36</td>\n",
       "      <td>gxkseja</td>\n",
       "      <td>1</td>\n",
       "      <td>Nice man</td>\n",
       "      <td>2</td>\n",
       "    </tr>\n",
       "    <tr>\n",
       "      <th>53690</th>\n",
       "      <td>n8sdhl</td>\n",
       "      <td>0</td>\n",
       "      <td>selftext</td>\n",
       "      <td>I never really got to do things like this when...</td>\n",
       "      <td>get</td>\n",
       "      <td>36</td>\n",
       "      <td>gxocvzh</td>\n",
       "      <td>1</td>\n",
       "      <td>I've never lived anywhere with fireflies, and ...</td>\n",
       "      <td>18</td>\n",
       "    </tr>\n",
       "    <tr>\n",
       "      <th>53691</th>\n",
       "      <td>n8sbcb</td>\n",
       "      <td>0</td>\n",
       "      <td>title</td>\n",
       "      <td>After the worst 4 years of my life during coll...</td>\n",
       "      <td>move</td>\n",
       "      <td>22</td>\n",
       "      <td>gxk4z84</td>\n",
       "      <td>0</td>\n",
       "      <td>Not a bad place to live if you can solve for COL</td>\n",
       "      <td>12</td>\n",
       "    </tr>\n",
       "    <tr>\n",
       "      <th>53692</th>\n",
       "      <td>n8sbcb</td>\n",
       "      <td>0</td>\n",
       "      <td>title</td>\n",
       "      <td>After the worst 4 years of my life during coll...</td>\n",
       "      <td>move</td>\n",
       "      <td>22</td>\n",
       "      <td>gxk5bpg</td>\n",
       "      <td>1</td>\n",
       "      <td>Good luck on your new adventure!</td>\n",
       "      <td>7</td>\n",
       "    </tr>\n",
       "    <tr>\n",
       "      <th>53693</th>\n",
       "      <td>n8sbcb</td>\n",
       "      <td>0</td>\n",
       "      <td>title</td>\n",
       "      <td>After the worst 4 years of my life during coll...</td>\n",
       "      <td>move</td>\n",
       "      <td>22</td>\n",
       "      <td>gxk9wzm</td>\n",
       "      <td>1</td>\n",
       "      <td>I also only took what could fit in my car.</td>\n",
       "      <td>11</td>\n",
       "    </tr>\n",
       "  </tbody>\n",
       "</table>\n",
       "<p>53694 rows × 10 columns</p>\n",
       "</div>"
      ],
      "text/plain": [
       "       sub_id  sub_summarized  sub_from  \\\n",
       "0      r2v7x0               0     title   \n",
       "1      r2v7x0               0     title   \n",
       "2      r2v7x0               0     title   \n",
       "3      r2v7x0               0     title   \n",
       "4      r2v7x0               0     title   \n",
       "...       ...             ...       ...   \n",
       "53689  n8sdhl               0  selftext   \n",
       "53690  n8sdhl               0  selftext   \n",
       "53691  n8sbcb               0     title   \n",
       "53692  n8sbcb               0     title   \n",
       "53693  n8sbcb               0     title   \n",
       "\n",
       "                                                sub_text sub_root  sub_length  \\\n",
       "0      My boss told me that during the time my hair w...     make          21   \n",
       "1      My boss told me that during the time my hair w...     make          21   \n",
       "2      My boss told me that during the time my hair w...     make          21   \n",
       "3      My boss told me that during the time my hair w...     make          21   \n",
       "4      My boss told me that during the time my hair w...     make          21   \n",
       "...                                                  ...      ...         ...   \n",
       "53689  I never really got to do things like this when...      get          36   \n",
       "53690  I never really got to do things like this when...      get          36   \n",
       "53691  After the worst 4 years of my life during coll...     move          22   \n",
       "53692  After the worst 4 years of my life during coll...     move          22   \n",
       "53693  After the worst 4 years of my life during coll...     move          22   \n",
       "\n",
       "        com_id  com_summarized  \\\n",
       "0      hm6trwr               1   \n",
       "1      hm6tw3v               1   \n",
       "2      hm6uegk               1   \n",
       "3      hm6xlf7               1   \n",
       "4      hm6zt2c               1   \n",
       "...        ...             ...   \n",
       "53689  gxkseja               1   \n",
       "53690  gxocvzh               1   \n",
       "53691  gxk4z84               0   \n",
       "53692  gxk5bpg               1   \n",
       "53693  gxk9wzm               1   \n",
       "\n",
       "                                                com_text  com_length  \n",
       "0                               Take it as a compliment.           6  \n",
       "1      However working at a bar where sex-charged men...          14  \n",
       "2      Why do people get bent out of shape about hair...          15  \n",
       "3      Will appearing more attractive to customers in...          16  \n",
       "4      are you suggesting that its a problem for peop...          28  \n",
       "...                                                  ...         ...  \n",
       "53689                                           Nice man           2  \n",
       "53690  I've never lived anywhere with fireflies, and ...          18  \n",
       "53691   Not a bad place to live if you can solve for COL          12  \n",
       "53692                   Good luck on your new adventure!           7  \n",
       "53693         I also only took what could fit in my car.          11  \n",
       "\n",
       "[53694 rows x 10 columns]"
      ]
     },
     "execution_count": 44,
     "metadata": {},
     "output_type": "execute_result"
    }
   ],
   "source": [
    "final_df"
   ]
  },
  {
   "cell_type": "code",
   "execution_count": 45,
   "id": "20cf3ac1",
   "metadata": {},
   "outputs": [],
   "source": [
    "final_df.to_csv('../data/reddit/matched/casual_conv_{}.csv'.format(date_suffix), index = False)"
   ]
  },
  {
   "cell_type": "markdown",
   "id": "77027056",
   "metadata": {},
   "source": [
    "## Batch Process"
   ]
  },
  {
   "cell_type": "code",
   "execution_count": 44,
   "id": "fc64ca31",
   "metadata": {},
   "outputs": [
    {
     "name": "stdout",
     "output_type": "stream",
     "text": [
      "(10084, 6)\n"
     ]
    },
    {
     "name": "stderr",
     "output_type": "stream",
     "text": [
      "100%|██████████████████████████████████████████████████████████████████████████████████████████████████████████| 10084/10084 [01:11<00:00, 141.93it/s]\n"
     ]
    },
    {
     "name": "stdout",
     "output_type": "stream",
     "text": [
      "(73077, 10)\n",
      "(4738, 6)\n"
     ]
    },
    {
     "name": "stderr",
     "output_type": "stream",
     "text": [
      "100%|████████████████████████████████████████████████████████████████████████████████████████████████████████████| 4738/4738 [00:20<00:00, 233.32it/s]\n"
     ]
    },
    {
     "name": "stdout",
     "output_type": "stream",
     "text": [
      "(28280, 10)\n",
      "(35337, 6)\n"
     ]
    },
    {
     "name": "stderr",
     "output_type": "stream",
     "text": [
      "100%|███████████████████████████████████████████████████████████████████████████████████████████████████████████| 35337/35337 [08:02<00:00, 73.31it/s]\n"
     ]
    },
    {
     "name": "stdout",
     "output_type": "stream",
     "text": [
      "(194411, 10)\n",
      "(30205, 6)\n"
     ]
    },
    {
     "name": "stderr",
     "output_type": "stream",
     "text": [
      "100%|███████████████████████████████████████████████████████████████████████████████████████████████████████████| 30205/30205 [05:56<00:00, 84.74it/s]\n"
     ]
    },
    {
     "name": "stdout",
     "output_type": "stream",
     "text": [
      "(165944, 10)\n",
      "(32628, 6)\n"
     ]
    },
    {
     "name": "stderr",
     "output_type": "stream",
     "text": [
      "100%|███████████████████████████████████████████████████████████████████████████████████████████████████████████| 32628/32628 [08:16<00:00, 65.66it/s]\n"
     ]
    },
    {
     "name": "stdout",
     "output_type": "stream",
     "text": [
      "(203263, 10)\n",
      "(27209, 6)\n"
     ]
    },
    {
     "name": "stderr",
     "output_type": "stream",
     "text": [
      "100%|███████████████████████████████████████████████████████████████████████████████████████████████████████████| 27209/27209 [05:48<00:00, 78.10it/s]\n"
     ]
    },
    {
     "name": "stdout",
     "output_type": "stream",
     "text": [
      "(171235, 10)\n",
      "(46, 6)\n"
     ]
    },
    {
     "name": "stderr",
     "output_type": "stream",
     "text": [
      "100%|████████████████████████████████████████████████████████████████████████████████████████████████████████████████| 46/46 [00:00<00:00, 807.78it/s]"
     ]
    },
    {
     "name": "stdout",
     "output_type": "stream",
     "text": [
      "(67, 10)\n"
     ]
    },
    {
     "name": "stderr",
     "output_type": "stream",
     "text": [
      "\n"
     ]
    }
   ],
   "source": [
    "date_suffices = ['20210501_20211231', '20210101_20210430', '20200101_20201231',\n",
    "                 '20190101_20191231', '20180101_20181231', '20170101_20171231',\n",
    "                 '20160101_20161231']\n",
    "for date_suffix in date_suffices:\n",
    "    submission_filtered_df = pd.read_csv('../data/reddit/filtered_q/casual_conv_submissions_{}.csv'.format(date_suffix))\n",
    "    comment_filtered_df = pd.read_csv('../data/reddit/filtered_q/casual_conv_comments_{}.csv'.format(date_suffix))\n",
    "    comment_filtered_parent_ids = comment_filtered_df['parent_id'].tolist()\n",
    "    comment_filtered_parent_ids = [x[3:] for x in comment_filtered_parent_ids]\n",
    "    submission_filtered_df = submission_filtered_df[submission_filtered_df['id'].isin(comment_filtered_parent_ids)]\n",
    "    print(submission_filtered_df.shape)\n",
    "    final_cols = ['sub_id', 'sub_summarized', 'sub_from', 'sub_text', 'sub_root', 'sub_length',\n",
    "                  'com_id', 'com_summarized', 'com_text', 'com_length']\n",
    "    final_dict = {col: [] for col in final_cols}\n",
    "    for i in tqdm(range(submission_filtered_df.shape[0])):\n",
    "        sub_id = submission_filtered_df.iloc[i]['id']\n",
    "        sub_summarized = submission_filtered_df.iloc[i]['summarized']\n",
    "        sub_from = submission_filtered_df.iloc[i]['from']\n",
    "        sub_text = submission_filtered_df.iloc[i]['text']\n",
    "        sub_root = submission_filtered_df.iloc[i]['root']\n",
    "        sub_length = submission_filtered_df.iloc[i]['length']\n",
    "\n",
    "        comment_filtered_df_sub = comment_filtered_df[comment_filtered_df['parent_id'] == 't3_' + sub_id]\n",
    "        for j in range(comment_filtered_df_sub.shape[0]):\n",
    "            final_dict['sub_id'].append(sub_id)\n",
    "            final_dict['sub_summarized'].append(sub_summarized)\n",
    "            final_dict['sub_from'].append(sub_from)\n",
    "            final_dict['sub_text'].append(sub_text)\n",
    "            final_dict['sub_root'].append(sub_root)\n",
    "            final_dict['sub_length'].append(sub_length)\n",
    "            final_dict['com_id'].append(comment_filtered_df_sub.iloc[j]['id'])\n",
    "            final_dict['com_summarized'].append(comment_filtered_df_sub.iloc[j]['summarized'])\n",
    "            final_dict['com_text'].append(comment_filtered_df_sub.iloc[j]['text'])\n",
    "            final_dict['com_length'].append(comment_filtered_df_sub.iloc[j]['length'])\n",
    "    final_df = pd.DataFrame(final_dict)\n",
    "    print(final_df.shape)\n",
    "    final_df.to_csv('../data/reddit/matched_q/casual_conv_{}.csv'.format(date_suffix), index = False)"
   ]
  },
  {
   "cell_type": "markdown",
   "id": "a8bdb7c6",
   "metadata": {},
   "source": [
    "# Sample Some Pairs"
   ]
  },
  {
   "cell_type": "code",
   "execution_count": 31,
   "id": "664af3b6",
   "metadata": {},
   "outputs": [],
   "source": [
    "N = final_df.shape[0]\n",
    "indices = np.sort(np.random.choice(N, 1000, replace = False))\n",
    "final_df_sample = final_df.iloc[indices]\n",
    "final_df_sample.to_csv('pushshift/final/casual_conv_20200101_20201231_sample.csv', index = False)"
   ]
  },
  {
   "cell_type": "markdown",
   "id": "f87ec622",
   "metadata": {},
   "source": [
    "# Some Tests"
   ]
  },
  {
   "cell_type": "code",
   "execution_count": 13,
   "id": "e73146b2",
   "metadata": {},
   "outputs": [],
   "source": [
    "nlp = spacy.load('en_core_web_sm')"
   ]
  },
  {
   "cell_type": "code",
   "execution_count": 23,
   "id": "31badb5c",
   "metadata": {},
   "outputs": [
    {
     "name": "stdout",
     "output_type": "stream",
     "text": [
      "question\n",
      "NOUN\n"
     ]
    }
   ],
   "source": [
    "doc = nlp(\"A silly question\")\n",
    "for sent in doc.sents:\n",
    "    print(sent.root)\n",
    "    print(sent.root.pos_)"
   ]
  },
  {
   "cell_type": "code",
   "execution_count": 25,
   "id": "2209f31c",
   "metadata": {},
   "outputs": [
    {
     "name": "stdout",
     "output_type": "stream",
     "text": [
      "am\n",
      "AUX\n"
     ]
    }
   ],
   "source": [
    "doc = nlp(\"I am happy about it.\")\n",
    "for sent in doc.sents:\n",
    "    print(sent.root)\n",
    "    print(sent.root.pos_)"
   ]
  },
  {
   "cell_type": "code",
   "execution_count": 26,
   "id": "6800f49e",
   "metadata": {},
   "outputs": [
    {
     "name": "stdout",
     "output_type": "stream",
     "text": [
      "went\n",
      "VERB\n"
     ]
    }
   ],
   "source": [
    "doc = nlp(\"I went to the market today\")\n",
    "for sent in doc.sents:\n",
    "    print(sent.root)\n",
    "    print(sent.root.pos_)"
   ]
  },
  {
   "cell_type": "code",
   "execution_count": 27,
   "id": "f8c9bb45",
   "metadata": {},
   "outputs": [
    {
     "name": "stdout",
     "output_type": "stream",
     "text": [
      "worked\n",
      "VERB\n"
     ]
    }
   ],
   "source": [
    "doc = nlp(\"Just worked more than I ever have in my life\")\n",
    "for sent in doc.sents:\n",
    "    print(sent.root)\n",
    "    print(sent.root.pos_)"
   ]
  },
  {
   "cell_type": "code",
   "execution_count": 29,
   "id": "4622c830",
   "metadata": {},
   "outputs": [
    {
     "name": "stdout",
     "output_type": "stream",
     "text": [
      "Year\n",
      "PROPN\n"
     ]
    }
   ],
   "source": [
    "doc = nlp(\"Happy New Year!\")\n",
    "for sent in doc.sents:\n",
    "    print(sent.root)\n",
    "    print(sent.root.pos_)"
   ]
  },
  {
   "cell_type": "code",
   "execution_count": 46,
   "id": "ef2229f1",
   "metadata": {},
   "outputs": [
    {
     "name": "stdout",
     "output_type": "stream",
     "text": [
      "done\n",
      "VERB\n",
      "have\n",
      "Has have AUX\n",
      "she -PRON- PRON\n",
      "done do VERB\n",
      "your -PRON- DET\n",
      "homework homework NOUN\n"
     ]
    }
   ],
   "source": [
    "doc = nlp(\"Has she done your homework\")\n",
    "for sent in doc.sents:\n",
    "    print(sent.root)\n",
    "    print(sent.root.pos_)\n",
    "    print(sent[0].lemma_)\n",
    "    for token in sent:\n",
    "        print(token, token.lemma_, token.pos_)"
   ]
  },
  {
   "cell_type": "code",
   "execution_count": 35,
   "id": "59dcb4d5",
   "metadata": {},
   "outputs": [
    {
     "name": "stdout",
     "output_type": "stream",
     "text": [
      "Did you finish your homework\n",
      "VERB\n",
      "do\n"
     ]
    }
   ],
   "source": [
    "doc = nlp(\"Did you finish your homework\")\n",
    "sents = [sent for sent in doc.sents]\n",
    "sent = sents[0]\n",
    "print(sent)\n",
    "print(sent.root.pos_)\n",
    "print(sent[0].lemma_)"
   ]
  },
  {
   "cell_type": "code",
   "execution_count": 25,
   "id": "bd72543a",
   "metadata": {},
   "outputs": [
    {
     "name": "stdout",
     "output_type": "stream",
     "text": [
      "6 gave VERB give\n",
      "-PRON- PRON\n"
     ]
    }
   ],
   "source": [
    "doc = nlp(\"I just gave you the paper\")\n",
    "sents = [sent for sent in doc.sents]\n",
    "sent = sents[0]\n",
    "print(len(sent), sent.root, sent.root.pos_, sent.root.lemma_)\n",
    "print(sent[0].lemma_, sent[0].pos_)"
   ]
  },
  {
   "cell_type": "code",
   "execution_count": 13,
   "id": "423e7377",
   "metadata": {},
   "outputs": [
    {
     "name": "stdout",
     "output_type": "stream",
     "text": [
      "None\n"
     ]
    }
   ],
   "source": [
    "r_pattern = re.compile(r'(^| )\\/?r\\/[^ ]*')\n",
    "print(r_pattern.search('ashjs/r/haha__ ss'))"
   ]
  },
  {
   "cell_type": "code",
   "execution_count": 18,
   "id": "6fe702d9",
   "metadata": {},
   "outputs": [
    {
     "data": {
      "text/plain": [
       "'how about  and and ['"
      ]
     },
     "execution_count": 18,
     "metadata": {},
     "output_type": "execute_result"
    }
   ],
   "source": [
    "re.sub(r'(\\([^\\(\\)]*\\))|(\\[[^\\[\\]]*\\])', '', 'how about [ashs] and and [[ss]')"
   ]
  },
  {
   "cell_type": "code",
   "execution_count": null,
   "id": "6c2938ce",
   "metadata": {},
   "outputs": [],
   "source": []
  }
 ],
 "metadata": {
  "kernelspec": {
   "display_name": "Python 3 (ipykernel)",
   "language": "python",
   "name": "python3"
  },
  "language_info": {
   "codemirror_mode": {
    "name": "ipython",
    "version": 3
   },
   "file_extension": ".py",
   "mimetype": "text/x-python",
   "name": "python",
   "nbconvert_exporter": "python",
   "pygments_lexer": "ipython3",
   "version": "3.8.9"
  }
 },
 "nbformat": 4,
 "nbformat_minor": 5
}
