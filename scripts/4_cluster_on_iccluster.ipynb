{
 "cells": [
  {
   "cell_type": "code",
   "execution_count": 1,
   "id": "ecaffccb",
   "metadata": {},
   "outputs": [],
   "source": [
    "import os\n",
    "import csv\n",
    "import time\n",
    "import pickle\n",
    "import numpy as np\n",
    "import pandas as pd\n",
    "from tqdm import tqdm\n",
    "from sentence_transformers import SentenceTransformer, util"
   ]
  },
  {
   "cell_type": "markdown",
   "id": "9b6155a2",
   "metadata": {},
   "source": [
    "# Read Encoded Data"
   ]
  },
  {
   "cell_type": "code",
   "execution_count": 2,
   "id": "6c36ed95",
   "metadata": {},
   "outputs": [],
   "source": [
    "all_posts_embed = np.load('../data/merged_q/all_posts_max_len_40_embed.npy')\n",
    "all_replies_embed = np.load('../data/merged_q/all_replies_max_len_40_embed.npy')"
   ]
  },
  {
   "cell_type": "code",
   "execution_count": 3,
   "id": "8973c64d",
   "metadata": {},
   "outputs": [
    {
     "name": "stdout",
     "output_type": "stream",
     "text": [
      "all_posts_embed shape: (152680, 768)\n",
      "all_replies_embed shape: (838785, 768)\n"
     ]
    }
   ],
   "source": [
    "print('all_posts_embed shape:', all_posts_embed.shape)\n",
    "print('all_replies_embed shape:', all_replies_embed.shape)"
   ]
  },
  {
   "cell_type": "markdown",
   "id": "8c91aaaa",
   "metadata": {},
   "source": [
    "# Clustering Thresholds"
   ]
  },
  {
   "cell_type": "code",
   "execution_count": 4,
   "id": "2365763f",
   "metadata": {},
   "outputs": [],
   "source": [
    "thresholds = [0.95, 0.9, 0.85, 0.8, 0.75, 0.7, 0.65, 0.6, 0.55, 0.5]"
   ]
  },
  {
   "cell_type": "markdown",
   "id": "09b71f2b",
   "metadata": {},
   "source": [
    "# Cluster the Posts"
   ]
  },
  {
   "cell_type": "code",
   "execution_count": 5,
   "id": "2150e35a",
   "metadata": {},
   "outputs": [],
   "source": [
    "all_posts_clusters = {}"
   ]
  },
  {
   "cell_type": "code",
   "execution_count": 6,
   "id": "d09d08f8",
   "metadata": {},
   "outputs": [
    {
     "name": "stdout",
     "output_type": "stream",
     "text": [
      "Clustering with threshold = 0.95...\n",
      "Done after 42.39 sec\n",
      "Clustering with threshold = 0.9...\n",
      "Done after 61.19 sec\n",
      "Clustering with threshold = 0.85...\n",
      "Done after 71.40 sec\n",
      "Clustering with threshold = 0.8...\n",
      "Done after 84.41 sec\n",
      "Clustering with threshold = 0.75...\n",
      "Done after 104.51 sec\n",
      "Clustering with threshold = 0.7...\n",
      "Done after 136.67 sec\n",
      "Clustering with threshold = 0.65...\n",
      "Done after 168.56 sec\n",
      "Clustering with threshold = 0.6...\n",
      "Done after 201.43 sec\n"
     ]
    }
   ],
   "source": [
    "for threshold in thresholds:\n",
    "    print('Clustering with threshold = {}...'.format(threshold))\n",
    "    start_time = time.time()\n",
    "    all_posts_clusters[threshold] = util.community_detection(all_posts_embed,\n",
    "                                                             min_community_size = 2,\n",
    "                                                             threshold = threshold)\n",
    "    print('Done after {:.2f} sec'.format(time.time() - start_time))"
   ]
  },
  {
   "cell_type": "code",
   "execution_count": 9,
   "id": "0bedd38d",
   "metadata": {},
   "outputs": [
    {
     "name": "stdout",
     "output_type": "stream",
     "text": [
      "----- Threshold = 0.95 -----\n",
      "Num clusters = 3421\n",
      "Num posts clustered = 10748\n",
      "Remaining num posts = 141932\n",
      "Total num post nodes = 145353\n",
      "\n",
      "----- Threshold = 0.9 -----\n",
      "Num clusters = 5024\n",
      "Num posts clustered = 17180\n",
      "Remaining num posts = 135500\n",
      "Total num post nodes = 140524\n",
      "\n",
      "----- Threshold = 0.85 -----\n",
      "Num clusters = 6902\n",
      "Num posts clustered = 25521\n",
      "Remaining num posts = 127159\n",
      "Total num post nodes = 134061\n",
      "\n",
      "----- Threshold = 0.8 -----\n",
      "Num clusters = 9095\n",
      "Num posts clustered = 36613\n",
      "Remaining num posts = 116067\n",
      "Total num post nodes = 125162\n",
      "\n",
      "----- Threshold = 0.75 -----\n",
      "Num clusters = 11138\n",
      "Num posts clustered = 49482\n",
      "Remaining num posts = 103198\n",
      "Total num post nodes = 114336\n",
      "\n",
      "----- Threshold = 0.7 -----\n",
      "Num clusters = 12786\n",
      "Num posts clustered = 62681\n",
      "Remaining num posts = 89999\n",
      "Total num post nodes = 102785\n",
      "\n",
      "----- Threshold = 0.65 -----\n",
      "Num clusters = 12848\n",
      "Num posts clustered = 72830\n",
      "Remaining num posts = 79850\n",
      "Total num post nodes = 92698\n",
      "\n",
      "----- Threshold = 0.6 -----\n",
      "Num clusters = 11099\n",
      "Num posts clustered = 76265\n",
      "Remaining num posts = 76415\n",
      "Total num post nodes = 87514\n",
      "\n"
     ]
    }
   ],
   "source": [
    "for threshold in thresholds:\n",
    "    print('----- Threshold = {} -----'.format(threshold))\n",
    "    num_posts_clustered = 0\n",
    "    for c in all_posts_clusters[threshold]:\n",
    "        num_posts_clustered += len(c)\n",
    "    print('Num clusters = {}'.format(len(all_posts_clusters[threshold])))\n",
    "    print('Num posts clustered = {}'.format(num_posts_clustered))\n",
    "    print('Remaining num posts = {}'.format(all_posts_embed.shape[0] - num_posts_clustered))\n",
    "    print('Total num post nodes = {}'.format(all_posts_embed.shape[0] - num_posts_clustered + len(all_posts_clusters[threshold])))\n",
    "    print()"
   ]
  },
  {
   "cell_type": "code",
   "execution_count": 10,
   "id": "4dcba1e2",
   "metadata": {},
   "outputs": [],
   "source": [
    "with open('../data/merged_q/all_posts_max_len_40_clusters.pickle', 'wb') as f:\n",
    "    pickle.dump(all_posts_clusters, f)"
   ]
  },
  {
   "cell_type": "markdown",
   "id": "9f2fc0c9",
   "metadata": {},
   "source": [
    "### More"
   ]
  },
  {
   "cell_type": "code",
   "execution_count": 5,
   "id": "5f5ba549",
   "metadata": {},
   "outputs": [],
   "source": [
    "with open('../data/merged_q/all_posts_max_len_40_clusters.pickle', 'rb') as f:\n",
    "    all_posts_clusters = pickle.load(f)"
   ]
  },
  {
   "cell_type": "code",
   "execution_count": 6,
   "id": "795a7290",
   "metadata": {},
   "outputs": [
    {
     "name": "stdout",
     "output_type": "stream",
     "text": [
      "Clustering with threshold = 0.55...\n",
      "Done after 241.90 sec\n",
      "Clustering with threshold = 0.5...\n",
      "Done after 323.48 sec\n"
     ]
    }
   ],
   "source": [
    "for threshold in thresholds:\n",
    "    print('Clustering with threshold = {}...'.format(threshold))\n",
    "    start_time = time.time()\n",
    "    all_posts_clusters[threshold] = util.community_detection(all_posts_embed,\n",
    "                                                             min_community_size = 2,\n",
    "                                                             threshold = threshold)\n",
    "    print('Done after {:.2f} sec'.format(time.time() - start_time))"
   ]
  },
  {
   "cell_type": "code",
   "execution_count": 7,
   "id": "f0b16f9f",
   "metadata": {},
   "outputs": [
    {
     "name": "stdout",
     "output_type": "stream",
     "text": [
      "----- Threshold = 0.55 -----\n",
      "Num clusters = 7942\n",
      "Num posts clustered = 72628\n",
      "Remaining num posts = 80052\n",
      "Total num post nodes = 87994\n",
      "\n",
      "----- Threshold = 0.5 -----\n",
      "Num clusters = 4767\n",
      "Num posts clustered = 64103\n",
      "Remaining num posts = 88577\n",
      "Total num post nodes = 93344\n",
      "\n"
     ]
    }
   ],
   "source": [
    "for threshold in thresholds:\n",
    "    print('----- Threshold = {} -----'.format(threshold))\n",
    "    num_posts_clustered = 0\n",
    "    for c in all_posts_clusters[threshold]:\n",
    "        num_posts_clustered += len(c)\n",
    "    print('Num clusters = {}'.format(len(all_posts_clusters[threshold])))\n",
    "    print('Num posts clustered = {}'.format(num_posts_clustered))\n",
    "    print('Remaining num posts = {}'.format(all_posts_embed.shape[0] - num_posts_clustered))\n",
    "    print('Total num post nodes = {}'.format(all_posts_embed.shape[0] - num_posts_clustered + len(all_posts_clusters[threshold])))\n",
    "    print()"
   ]
  },
  {
   "cell_type": "code",
   "execution_count": 8,
   "id": "e5ebc357",
   "metadata": {},
   "outputs": [],
   "source": [
    "with open('../data/merged_q/all_posts_max_len_40_clusters.pickle', 'wb') as f:\n",
    "    pickle.dump(all_posts_clusters, f)"
   ]
  },
  {
   "cell_type": "markdown",
   "id": "14df65b8",
   "metadata": {},
   "source": [
    "# Cluster the Replies (1/2)"
   ]
  },
  {
   "cell_type": "code",
   "execution_count": 5,
   "id": "a92f3608",
   "metadata": {},
   "outputs": [],
   "source": [
    "N = all_replies_embed.shape[0]"
   ]
  },
  {
   "cell_type": "code",
   "execution_count": 6,
   "id": "8cd99610",
   "metadata": {},
   "outputs": [
    {
     "name": "stdout",
     "output_type": "stream",
     "text": [
      "all_replies_embed_1 shape: (419392, 768)\n"
     ]
    }
   ],
   "source": [
    "all_replies_embed_1 = all_replies_embed[:N//2,:]\n",
    "print('all_replies_embed_1 shape:', all_replies_embed_1.shape)"
   ]
  },
  {
   "cell_type": "code",
   "execution_count": 15,
   "id": "c20713b0",
   "metadata": {},
   "outputs": [],
   "source": [
    "all_replies_clusters_1 = {}"
   ]
  },
  {
   "cell_type": "code",
   "execution_count": 16,
   "id": "0bff4ef7",
   "metadata": {},
   "outputs": [
    {
     "name": "stdout",
     "output_type": "stream",
     "text": [
      "Clustering with threshold = 0.95...\n",
      "Done after 596.98 sec\n",
      "Clustering with threshold = 0.9...\n",
      "Done after 694.03 sec\n",
      "Clustering with threshold = 0.85...\n",
      "Done after 896.21 sec\n",
      "Clustering with threshold = 0.8...\n",
      "Done after 941.83 sec\n",
      "Clustering with threshold = 0.75...\n",
      "Done after 1138.90 sec\n",
      "Clustering with threshold = 0.7...\n",
      "Done after 1340.64 sec\n",
      "Clustering with threshold = 0.65...\n",
      "Done after 1547.62 sec\n",
      "Clustering with threshold = 0.6...\n",
      "Done after 1890.49 sec\n"
     ]
    }
   ],
   "source": [
    "for threshold in thresholds:\n",
    "    print('Clustering with threshold = {}...'.format(threshold))\n",
    "    start_time = time.time()\n",
    "    all_replies_clusters_1[threshold] = util.community_detection(all_replies_embed_1,\n",
    "                                                                 min_community_size = 2,\n",
    "                                                                 threshold = threshold)\n",
    "    print('Done after {:.2f} sec'.format(time.time() - start_time))"
   ]
  },
  {
   "cell_type": "code",
   "execution_count": 17,
   "id": "fa57af64",
   "metadata": {},
   "outputs": [
    {
     "name": "stdout",
     "output_type": "stream",
     "text": [
      "----- Threshold = 0.95 -----\n",
      "Num clusters = 9421\n",
      "Num replies clustered = 57781\n",
      "Remaining num replies = 361611\n",
      "Total num replies nodes = 371032\n",
      "\n",
      "----- Threshold = 0.9 -----\n",
      "Num clusters = 11597\n",
      "Num replies clustered = 69355\n",
      "Remaining num replies = 350037\n",
      "Total num replies nodes = 361634\n",
      "\n",
      "----- Threshold = 0.85 -----\n",
      "Num clusters = 14885\n",
      "Num replies clustered = 85384\n",
      "Remaining num replies = 334008\n",
      "Total num replies nodes = 348893\n",
      "\n",
      "----- Threshold = 0.8 -----\n",
      "Num clusters = 19777\n",
      "Num replies clustered = 107965\n",
      "Remaining num replies = 311427\n",
      "Total num replies nodes = 331204\n",
      "\n",
      "----- Threshold = 0.75 -----\n",
      "Num clusters = 26190\n",
      "Num replies clustered = 141081\n",
      "Remaining num replies = 278311\n",
      "Total num replies nodes = 304501\n",
      "\n",
      "----- Threshold = 0.7 -----\n",
      "Num clusters = 31740\n",
      "Num replies clustered = 178557\n",
      "Remaining num replies = 240835\n",
      "Total num replies nodes = 272575\n",
      "\n",
      "----- Threshold = 0.65 -----\n",
      "Num clusters = 33543\n",
      "Num replies clustered = 210632\n",
      "Remaining num replies = 208760\n",
      "Total num replies nodes = 242303\n",
      "\n",
      "----- Threshold = 0.6 -----\n",
      "Num clusters = 29613\n",
      "Num replies clustered = 223701\n",
      "Remaining num replies = 195691\n",
      "Total num replies nodes = 225304\n",
      "\n"
     ]
    }
   ],
   "source": [
    "for threshold in thresholds:\n",
    "    print('----- Threshold = {} -----'.format(threshold))\n",
    "    num_replies_clustered = 0\n",
    "    for c in all_replies_clusters_1[threshold]:\n",
    "        num_replies_clustered += len(c)\n",
    "    print('Num clusters = {}'.format(len(all_replies_clusters_1[threshold])))\n",
    "    print('Num replies clustered = {}'.format(num_replies_clustered))\n",
    "    print('Remaining num replies = {}'.format(all_replies_embed_1.shape[0] - num_replies_clustered))\n",
    "    print('Total num replies nodes = {}'.format(all_replies_embed_1.shape[0] - num_replies_clustered + len(all_replies_clusters_1[threshold])))\n",
    "    print()"
   ]
  },
  {
   "cell_type": "code",
   "execution_count": 18,
   "id": "7c15091c",
   "metadata": {},
   "outputs": [],
   "source": [
    "with open('../data/merged_q/all_replies_max_len_40_clusters/all_replies_clusters_1.pickle', 'wb') as f:\n",
    "    pickle.dump(all_replies_clusters_1, f)"
   ]
  },
  {
   "cell_type": "markdown",
   "id": "79351141",
   "metadata": {},
   "source": [
    "### More"
   ]
  },
  {
   "cell_type": "code",
   "execution_count": 9,
   "id": "84f25d14",
   "metadata": {},
   "outputs": [
    {
     "name": "stdout",
     "output_type": "stream",
     "text": [
      "all_replies_embed_1 shape: (419392, 768)\n"
     ]
    }
   ],
   "source": [
    "N = all_replies_embed.shape[0]\n",
    "all_replies_embed_1 = all_replies_embed[:N//2,:]\n",
    "print('all_replies_embed_1 shape:', all_replies_embed_1.shape)"
   ]
  },
  {
   "cell_type": "code",
   "execution_count": 7,
   "id": "dd13df17",
   "metadata": {},
   "outputs": [],
   "source": [
    "with open('../data/merged_q/all_replies_max_len_40_clusters/all_replies_clusters_1.pickle', 'rb') as f:\n",
    "    all_replies_clusters_1 = pickle.load(f)"
   ]
  },
  {
   "cell_type": "code",
   "execution_count": 11,
   "id": "a9d6c88d",
   "metadata": {},
   "outputs": [
    {
     "name": "stdout",
     "output_type": "stream",
     "text": [
      "Clustering with threshold = 0.55...\n",
      "Done after 2193.91 sec\n",
      "Clustering with threshold = 0.5...\n",
      "Done after 2467.25 sec\n"
     ]
    }
   ],
   "source": [
    "for threshold in thresholds:\n",
    "    print('Clustering with threshold = {}...'.format(threshold))\n",
    "    start_time = time.time()\n",
    "    all_replies_clusters_1[threshold] = util.community_detection(all_replies_embed_1,\n",
    "                                                                 min_community_size = 2,\n",
    "                                                                 threshold = threshold)\n",
    "    print('Done after {:.2f} sec'.format(time.time() - start_time))"
   ]
  },
  {
   "cell_type": "code",
   "execution_count": 12,
   "id": "03222326",
   "metadata": {},
   "outputs": [
    {
     "name": "stdout",
     "output_type": "stream",
     "text": [
      "----- Threshold = 0.55 -----\n",
      "Num clusters = 20189\n",
      "Num replies clustered = 213364\n",
      "Remaining num replies = 206028\n",
      "Total num replies nodes = 226217\n",
      "\n",
      "----- Threshold = 0.5 -----\n",
      "Num clusters = 10693\n",
      "Num replies clustered = 182362\n",
      "Remaining num replies = 237030\n",
      "Total num replies nodes = 247723\n",
      "\n"
     ]
    }
   ],
   "source": [
    "for threshold in thresholds:\n",
    "    print('----- Threshold = {} -----'.format(threshold))\n",
    "    num_replies_clustered = 0\n",
    "    for c in all_replies_clusters_1[threshold]:\n",
    "        num_replies_clustered += len(c)\n",
    "    print('Num clusters = {}'.format(len(all_replies_clusters_1[threshold])))\n",
    "    print('Num replies clustered = {}'.format(num_replies_clustered))\n",
    "    print('Remaining num replies = {}'.format(all_replies_embed_1.shape[0] - num_replies_clustered))\n",
    "    print('Total num replies nodes = {}'.format(all_replies_embed_1.shape[0] - num_replies_clustered + len(all_replies_clusters_1[threshold])))\n",
    "    print()"
   ]
  },
  {
   "cell_type": "code",
   "execution_count": 13,
   "id": "d509c223",
   "metadata": {},
   "outputs": [],
   "source": [
    "with open('../data/merged_q/all_replies_max_len_40_clusters/all_replies_clusters_1.pickle', 'wb') as f:\n",
    "    pickle.dump(all_replies_clusters_1, f)"
   ]
  },
  {
   "cell_type": "markdown",
   "id": "9359de4c",
   "metadata": {},
   "source": [
    "# Cluster the Replies (2/2)"
   ]
  },
  {
   "cell_type": "code",
   "execution_count": 8,
   "id": "f82a7cfd",
   "metadata": {},
   "outputs": [],
   "source": [
    "N = all_replies_embed.shape[0]"
   ]
  },
  {
   "cell_type": "code",
   "execution_count": 9,
   "id": "9d411ad4",
   "metadata": {},
   "outputs": [
    {
     "name": "stdout",
     "output_type": "stream",
     "text": [
      "all_replies_embed_2 shape: (419393, 768)\n"
     ]
    }
   ],
   "source": [
    "all_replies_embed_2 = all_replies_embed[N//2:,:]\n",
    "print('all_replies_embed_2 shape:', all_replies_embed_2.shape)"
   ]
  },
  {
   "cell_type": "code",
   "execution_count": 21,
   "id": "cb55a44e",
   "metadata": {},
   "outputs": [],
   "source": [
    "all_replies_clusters_2 = {}"
   ]
  },
  {
   "cell_type": "code",
   "execution_count": 22,
   "id": "e82825b0",
   "metadata": {},
   "outputs": [
    {
     "name": "stdout",
     "output_type": "stream",
     "text": [
      "Clustering with threshold = 0.95...\n",
      "Done after 634.72 sec\n",
      "Clustering with threshold = 0.9...\n",
      "Done after 646.88 sec\n",
      "Clustering with threshold = 0.85...\n",
      "Done after 733.77 sec\n",
      "Clustering with threshold = 0.8...\n",
      "Done after 858.22 sec\n",
      "Clustering with threshold = 0.75...\n",
      "Done after 1042.77 sec\n",
      "Clustering with threshold = 0.7...\n",
      "Done after 1247.28 sec\n",
      "Clustering with threshold = 0.65...\n",
      "Done after 1489.71 sec\n",
      "Clustering with threshold = 0.6...\n",
      "Done after 1459.54 sec\n"
     ]
    }
   ],
   "source": [
    "for threshold in thresholds:\n",
    "    print('Clustering with threshold = {}...'.format(threshold))\n",
    "    start_time = time.time()\n",
    "    all_replies_clusters_2[threshold] = util.community_detection(all_replies_embed_2,\n",
    "                                                                 min_community_size = 2,\n",
    "                                                                 threshold = threshold)\n",
    "    print('Done after {:.2f} sec'.format(time.time() - start_time))"
   ]
  },
  {
   "cell_type": "code",
   "execution_count": 23,
   "id": "15795553",
   "metadata": {},
   "outputs": [
    {
     "name": "stdout",
     "output_type": "stream",
     "text": [
      "----- Threshold = 0.95 -----\n",
      "Num clusters = 9219\n",
      "Num replies clustered = 47244\n",
      "Remaining num replies = 372149\n",
      "Total num replies nodes = 381368\n",
      "\n",
      "----- Threshold = 0.9 -----\n",
      "Num clusters = 11644\n",
      "Num replies clustered = 58180\n",
      "Remaining num replies = 361213\n",
      "Total num replies nodes = 372857\n",
      "\n",
      "----- Threshold = 0.85 -----\n",
      "Num clusters = 15530\n",
      "Num replies clustered = 74747\n",
      "Remaining num replies = 344646\n",
      "Total num replies nodes = 360176\n",
      "\n",
      "----- Threshold = 0.8 -----\n",
      "Num clusters = 21082\n",
      "Num replies clustered = 100087\n",
      "Remaining num replies = 319306\n",
      "Total num replies nodes = 340388\n",
      "\n",
      "----- Threshold = 0.75 -----\n",
      "Num clusters = 27880\n",
      "Num replies clustered = 134660\n",
      "Remaining num replies = 284733\n",
      "Total num replies nodes = 312613\n",
      "\n",
      "----- Threshold = 0.7 -----\n",
      "Num clusters = 33544\n",
      "Num replies clustered = 174781\n",
      "Remaining num replies = 244612\n",
      "Total num replies nodes = 278156\n",
      "\n",
      "----- Threshold = 0.65 -----\n",
      "Num clusters = 35281\n",
      "Num replies clustered = 207180\n",
      "Remaining num replies = 212213\n",
      "Total num replies nodes = 247494\n",
      "\n",
      "----- Threshold = 0.6 -----\n",
      "Num clusters = 30064\n",
      "Num replies clustered = 218664\n",
      "Remaining num replies = 200729\n",
      "Total num replies nodes = 230793\n",
      "\n"
     ]
    }
   ],
   "source": [
    "for threshold in thresholds:\n",
    "    print('----- Threshold = {} -----'.format(threshold))\n",
    "    num_replies_clustered = 0\n",
    "    for c in all_replies_clusters_2[threshold]:\n",
    "        num_replies_clustered += len(c)\n",
    "    print('Num clusters = {}'.format(len(all_replies_clusters_2[threshold])))\n",
    "    print('Num replies clustered = {}'.format(num_replies_clustered))\n",
    "    print('Remaining num replies = {}'.format(all_replies_embed_2.shape[0] - num_replies_clustered))\n",
    "    print('Total num replies nodes = {}'.format(all_replies_embed_2.shape[0] - num_replies_clustered + len(all_replies_clusters_2[threshold])))\n",
    "    print()"
   ]
  },
  {
   "cell_type": "code",
   "execution_count": 24,
   "id": "2a746da1",
   "metadata": {},
   "outputs": [],
   "source": [
    "with open('../data/merged_q/all_replies_max_len_40_clusters/all_replies_clusters_2.pickle', 'wb') as f:\n",
    "    pickle.dump(all_replies_clusters_2, f)"
   ]
  },
  {
   "cell_type": "markdown",
   "id": "5ee2e6fa",
   "metadata": {},
   "source": [
    "### More"
   ]
  },
  {
   "cell_type": "code",
   "execution_count": 14,
   "id": "ede6d5a8",
   "metadata": {},
   "outputs": [
    {
     "name": "stdout",
     "output_type": "stream",
     "text": [
      "all_replies_embed_2 shape: (419393, 768)\n"
     ]
    }
   ],
   "source": [
    "N = all_replies_embed.shape[0]\n",
    "all_replies_embed_2 = all_replies_embed[N//2:,:]\n",
    "print('all_replies_embed_2 shape:', all_replies_embed_2.shape)"
   ]
  },
  {
   "cell_type": "code",
   "execution_count": 10,
   "id": "504bdd34",
   "metadata": {},
   "outputs": [],
   "source": [
    "with open('../data/merged_q/all_replies_max_len_40_clusters/all_replies_clusters_2.pickle', 'rb') as f:\n",
    "    all_replies_clusters_2 = pickle.load(f)"
   ]
  },
  {
   "cell_type": "code",
   "execution_count": 16,
   "id": "c3cb227a",
   "metadata": {},
   "outputs": [
    {
     "name": "stdout",
     "output_type": "stream",
     "text": [
      "Clustering with threshold = 0.55...\n",
      "Done after 1775.09 sec\n",
      "Clustering with threshold = 0.5...\n",
      "Done after 2218.94 sec\n"
     ]
    }
   ],
   "source": [
    "for threshold in thresholds:\n",
    "    print('Clustering with threshold = {}...'.format(threshold))\n",
    "    start_time = time.time()\n",
    "    all_replies_clusters_2[threshold] = util.community_detection(all_replies_embed_2,\n",
    "                                                                 min_community_size = 2,\n",
    "                                                                 threshold = threshold)\n",
    "    print('Done after {:.2f} sec'.format(time.time() - start_time))"
   ]
  },
  {
   "cell_type": "code",
   "execution_count": 17,
   "id": "22954f83",
   "metadata": {},
   "outputs": [
    {
     "name": "stdout",
     "output_type": "stream",
     "text": [
      "----- Threshold = 0.55 -----\n",
      "Num clusters = 20437\n",
      "Num replies clustered = 206356\n",
      "Remaining num replies = 213037\n",
      "Total num replies nodes = 233474\n",
      "\n",
      "----- Threshold = 0.5 -----\n",
      "Num clusters = 10627\n",
      "Num replies clustered = 176834\n",
      "Remaining num replies = 242559\n",
      "Total num replies nodes = 253186\n",
      "\n"
     ]
    }
   ],
   "source": [
    "for threshold in thresholds:\n",
    "    print('----- Threshold = {} -----'.format(threshold))\n",
    "    num_replies_clustered = 0\n",
    "    for c in all_replies_clusters_2[threshold]:\n",
    "        num_replies_clustered += len(c)\n",
    "    print('Num clusters = {}'.format(len(all_replies_clusters_2[threshold])))\n",
    "    print('Num replies clustered = {}'.format(num_replies_clustered))\n",
    "    print('Remaining num replies = {}'.format(all_replies_embed_2.shape[0] - num_replies_clustered))\n",
    "    print('Total num replies nodes = {}'.format(all_replies_embed_2.shape[0] - num_replies_clustered + len(all_replies_clusters_2[threshold])))\n",
    "    print()"
   ]
  },
  {
   "cell_type": "code",
   "execution_count": 18,
   "id": "7bb17726",
   "metadata": {},
   "outputs": [],
   "source": [
    "with open('../data/merged_q/all_replies_max_len_40_clusters/all_replies_clusters_2.pickle', 'wb') as f:\n",
    "    pickle.dump(all_replies_clusters_2, f)"
   ]
  },
  {
   "cell_type": "markdown",
   "id": "d910f67d",
   "metadata": {},
   "source": [
    "# Cluster the Replies (Centroids)"
   ]
  },
  {
   "cell_type": "code",
   "execution_count": 11,
   "id": "73d3dace",
   "metadata": {},
   "outputs": [],
   "source": [
    "all_replies_clusters = {}"
   ]
  },
  {
   "cell_type": "code",
   "execution_count": 12,
   "id": "3604639e",
   "metadata": {},
   "outputs": [
    {
     "name": "stdout",
     "output_type": "stream",
     "text": [
      "----- Threshold = 0.95 -----\n",
      "replies_embed shape: (18640, 768)\n",
      "Num clusters: 15723\n",
      "Done after 5.57 sec\n",
      "\n",
      "----- Threshold = 0.9 -----\n",
      "replies_embed shape: (23241, 768)\n",
      "Num clusters: 19873\n",
      "Done after 7.99 sec\n",
      "\n",
      "----- Threshold = 0.85 -----\n",
      "replies_embed shape: (30415, 768)\n",
      "Num clusters: 26368\n",
      "Done after 11.52 sec\n",
      "\n",
      "----- Threshold = 0.8 -----\n",
      "replies_embed shape: (40859, 768)\n",
      "Num clusters: 35542\n",
      "Done after 23.52 sec\n",
      "\n",
      "----- Threshold = 0.75 -----\n",
      "replies_embed shape: (54070, 768)\n",
      "Num clusters: 46987\n",
      "Done after 36.73 sec\n",
      "\n",
      "----- Threshold = 0.7 -----\n",
      "replies_embed shape: (65284, 768)\n",
      "Num clusters: 56529\n",
      "Done after 54.63 sec\n",
      "\n",
      "----- Threshold = 0.65 -----\n",
      "replies_embed shape: (68824, 768)\n",
      "Num clusters: 59409\n",
      "Done after 58.33 sec\n",
      "\n",
      "----- Threshold = 0.6 -----\n",
      "replies_embed shape: (59677, 768)\n",
      "Num clusters: 51610\n",
      "Done after 45.79 sec\n",
      "\n",
      "----- Threshold = 0.55 -----\n",
      "replies_embed shape: (40626, 768)\n",
      "Num clusters: 35326\n",
      "Done after 22.33 sec\n",
      "\n",
      "----- Threshold = 0.5 -----\n",
      "replies_embed shape: (21320, 768)\n",
      "Num clusters: 18747\n",
      "Done after 7.28 sec\n",
      "\n"
     ]
    }
   ],
   "source": [
    "for threshold in thresholds:\n",
    "    print('----- Threshold = {} -----'.format(threshold))\n",
    "    start_time = time.time()\n",
    "    replies_embed = []\n",
    "    for c in all_replies_clusters_1[threshold]:\n",
    "        replies_embed.append(all_replies_embed_1[c[0]])\n",
    "    for c in all_replies_clusters_2[threshold]:\n",
    "        replies_embed.append(all_replies_embed_2[c[0]])\n",
    "    replies_embed = np.array(replies_embed)\n",
    "    print('replies_embed shape:', replies_embed.shape)\n",
    "    all_replies_clusters[threshold] = util.community_detection(replies_embed,\n",
    "                                                               min_community_size = 1,\n",
    "                                                               threshold = threshold)\n",
    "    print('Num clusters:', len(all_replies_clusters[threshold]))\n",
    "    print('Done after {:.2f} sec'.format(time.time() - start_time))\n",
    "    print()"
   ]
  },
  {
   "cell_type": "code",
   "execution_count": 13,
   "id": "e613dd44",
   "metadata": {},
   "outputs": [],
   "source": [
    "all_replies_clusters_combine_1 = {}"
   ]
  },
  {
   "cell_type": "code",
   "execution_count": 14,
   "id": "d5a7ebe3",
   "metadata": {},
   "outputs": [
    {
     "data": {
      "text/plain": [
       "419392"
      ]
     },
     "execution_count": 14,
     "metadata": {},
     "output_type": "execute_result"
    }
   ],
   "source": [
    "N_1 = all_replies_embed_1.shape[0]\n",
    "N_1"
   ]
  },
  {
   "cell_type": "code",
   "execution_count": 15,
   "id": "2b00dfe5",
   "metadata": {},
   "outputs": [
    {
     "name": "stdout",
     "output_type": "stream",
     "text": [
      "Threshold = 0.95, num clusters = 15723\n",
      "Threshold = 0.9, num clusters = 19873\n",
      "Threshold = 0.85, num clusters = 26368\n",
      "Threshold = 0.8, num clusters = 35542\n",
      "Threshold = 0.75, num clusters = 46987\n",
      "Threshold = 0.7, num clusters = 56529\n",
      "Threshold = 0.65, num clusters = 59409\n",
      "Threshold = 0.6, num clusters = 51610\n",
      "Threshold = 0.55, num clusters = 35326\n",
      "Threshold = 0.5, num clusters = 18747\n"
     ]
    }
   ],
   "source": [
    "for threshold in thresholds:\n",
    "    clusters_1 = all_replies_clusters_1[threshold]\n",
    "    clusters_2 = all_replies_clusters_2[threshold]\n",
    "    clusters = []\n",
    "    for c in all_replies_clusters[threshold]:\n",
    "        cluster = []\n",
    "        for i in c:\n",
    "            if i < len(clusters_1):\n",
    "                cluster += clusters_1[i]\n",
    "            else:\n",
    "                cluster += [j+N_1 for j in clusters_2[i-len(clusters_1)]]\n",
    "        clusters.append(cluster)\n",
    "    all_replies_clusters_combine_1[threshold] = clusters\n",
    "    print('Threshold = {}, num clusters = {}'.format(threshold, len(clusters)))"
   ]
  },
  {
   "cell_type": "code",
   "execution_count": 16,
   "id": "fb730429",
   "metadata": {},
   "outputs": [],
   "source": [
    "with open('../data/merged_q/all_replies_max_len_40_clusters/all_replies_clusters_combine_1_centroid.pickle', 'wb') as f:\n",
    "    pickle.dump(all_replies_clusters_combine_1, f)"
   ]
  },
  {
   "cell_type": "markdown",
   "id": "9f7be80d",
   "metadata": {},
   "source": [
    "# Cluster the Replies (Mean)"
   ]
  },
  {
   "cell_type": "code",
   "execution_count": 17,
   "id": "04c32a80",
   "metadata": {},
   "outputs": [],
   "source": [
    "all_replies_clusters = {}"
   ]
  },
  {
   "cell_type": "code",
   "execution_count": 18,
   "id": "414d082e",
   "metadata": {},
   "outputs": [
    {
     "name": "stdout",
     "output_type": "stream",
     "text": [
      "----- Threshold = 0.95 -----\n",
      "replies_embed shape: (18640, 768)\n",
      "Num clusters: 15592\n",
      "Done after 6.21 sec\n",
      "\n",
      "----- Threshold = 0.9 -----\n",
      "replies_embed shape: (23241, 768)\n",
      "Num clusters: 18902\n",
      "Done after 8.93 sec\n",
      "\n",
      "----- Threshold = 0.85 -----\n",
      "replies_embed shape: (30415, 768)\n",
      "Num clusters: 23223\n",
      "Done after 13.06 sec\n",
      "\n",
      "----- Threshold = 0.8 -----\n",
      "replies_embed shape: (40859, 768)\n",
      "Num clusters: 27346\n",
      "Done after 25.07 sec\n",
      "\n",
      "----- Threshold = 0.75 -----\n",
      "replies_embed shape: (54070, 768)\n",
      "Num clusters: 28542\n",
      "Done after 38.09 sec\n",
      "\n",
      "----- Threshold = 0.7 -----\n",
      "replies_embed shape: (65284, 768)\n",
      "Num clusters: 24995\n",
      "Done after 52.84 sec\n",
      "\n",
      "----- Threshold = 0.65 -----\n",
      "replies_embed shape: (68824, 768)\n",
      "Num clusters: 18302\n",
      "Done after 57.22 sec\n",
      "\n",
      "----- Threshold = 0.6 -----\n",
      "replies_embed shape: (59677, 768)\n",
      "Num clusters: 11309\n",
      "Done after 50.00 sec\n",
      "\n",
      "----- Threshold = 0.55 -----\n",
      "replies_embed shape: (40626, 768)\n",
      "Num clusters: 5872\n",
      "Done after 24.98 sec\n",
      "\n",
      "----- Threshold = 0.5 -----\n",
      "replies_embed shape: (21320, 768)\n",
      "Num clusters: 2486\n",
      "Done after 7.99 sec\n",
      "\n"
     ]
    }
   ],
   "source": [
    "for threshold in thresholds:\n",
    "    print('----- Threshold = {} -----'.format(threshold))\n",
    "    start_time = time.time()\n",
    "    replies_embed = []\n",
    "    for c in all_replies_clusters_1[threshold]:\n",
    "        replies_embed.append(np.mean(all_replies_embed_1[c], axis = 0))\n",
    "    for c in all_replies_clusters_2[threshold]:\n",
    "        replies_embed.append(np.mean(all_replies_embed_2[c], axis = 0))\n",
    "    replies_embed = np.array(replies_embed)\n",
    "    print('replies_embed shape:', replies_embed.shape)\n",
    "    all_replies_clusters[threshold] = util.community_detection(replies_embed,\n",
    "                                                               min_community_size = 1,\n",
    "                                                               threshold = threshold)\n",
    "    print('Num clusters:', len(all_replies_clusters[threshold]))\n",
    "    print('Done after {:.2f} sec'.format(time.time() - start_time))\n",
    "    print()"
   ]
  },
  {
   "cell_type": "code",
   "execution_count": 19,
   "id": "ea7ea8ab",
   "metadata": {},
   "outputs": [],
   "source": [
    "all_replies_clusters_combine_1 = {}"
   ]
  },
  {
   "cell_type": "code",
   "execution_count": 20,
   "id": "7af79228",
   "metadata": {},
   "outputs": [
    {
     "data": {
      "text/plain": [
       "419392"
      ]
     },
     "execution_count": 20,
     "metadata": {},
     "output_type": "execute_result"
    }
   ],
   "source": [
    "N_1 = all_replies_embed_1.shape[0]\n",
    "N_1"
   ]
  },
  {
   "cell_type": "code",
   "execution_count": 21,
   "id": "eb464354",
   "metadata": {},
   "outputs": [
    {
     "name": "stdout",
     "output_type": "stream",
     "text": [
      "Threshold = 0.95, num clusters = 15592\n",
      "Threshold = 0.9, num clusters = 18902\n",
      "Threshold = 0.85, num clusters = 23223\n",
      "Threshold = 0.8, num clusters = 27346\n",
      "Threshold = 0.75, num clusters = 28542\n",
      "Threshold = 0.7, num clusters = 24995\n",
      "Threshold = 0.65, num clusters = 18302\n",
      "Threshold = 0.6, num clusters = 11309\n",
      "Threshold = 0.55, num clusters = 5872\n",
      "Threshold = 0.5, num clusters = 2486\n"
     ]
    }
   ],
   "source": [
    "for threshold in thresholds:\n",
    "    clusters_1 = all_replies_clusters_1[threshold]\n",
    "    clusters_2 = all_replies_clusters_2[threshold]\n",
    "    clusters = []\n",
    "    for c in all_replies_clusters[threshold]:\n",
    "        cluster = []\n",
    "        for i in c:\n",
    "            if i < len(clusters_1):\n",
    "                cluster += clusters_1[i]\n",
    "            else:\n",
    "                cluster += [j+N_1 for j in clusters_2[i-len(clusters_1)]]\n",
    "        clusters.append(cluster)\n",
    "    all_replies_clusters_combine_1[threshold] = clusters\n",
    "    print('Threshold = {}, num clusters = {}'.format(threshold, len(clusters)))"
   ]
  },
  {
   "cell_type": "code",
   "execution_count": 22,
   "id": "afcb1f3d",
   "metadata": {},
   "outputs": [],
   "source": [
    "with open('../data/merged_q/all_replies_max_len_40_clusters/all_replies_clusters_combine_1_mean.pickle', 'wb') as f:\n",
    "    pickle.dump(all_replies_clusters_combine_1, f)"
   ]
  },
  {
   "cell_type": "markdown",
   "id": "47edab2f",
   "metadata": {},
   "source": [
    "# Check"
   ]
  },
  {
   "cell_type": "code",
   "execution_count": 23,
   "id": "e1de9877",
   "metadata": {},
   "outputs": [],
   "source": [
    "all_replies_df = pd.read_csv('../data/merged_q/all_replies_max_len_40.csv')"
   ]
  },
  {
   "cell_type": "code",
   "execution_count": 24,
   "id": "5cc5cab0",
   "metadata": {},
   "outputs": [],
   "source": [
    "with open('../data/merged_q/all_replies_max_len_40_clusters/all_replies_clusters_combine_1_mean.pickle', 'rb') as f:\n",
    "    all_replies_clusters_combine_1_mean = pickle.load(f)"
   ]
  },
  {
   "cell_type": "code",
   "execution_count": 28,
   "id": "f288d512",
   "metadata": {},
   "outputs": [],
   "source": [
    "for threshold in thresholds:\n",
    "    mean_sample_df = []\n",
    "    clusters = all_replies_clusters_combine_1_mean[threshold]\n",
    "    all_idx = [i for i in range(len(clusters)) if len(clusters[i]) >= 10]\n",
    "    idx = np.random.choice(all_idx, 10, replace = False)\n",
    "    for i in idx:\n",
    "        cluster = clusters[i]\n",
    "        rows = np.random.choice(cluster, 10, replace = False)\n",
    "        mean_sample_df.append(all_replies_df.iloc[rows])\n",
    "    mean_sample_df = pd.concat(mean_sample_df)\n",
    "    mean_sample_df.to_csv('../data/merged_q/all_replies_max_len_40_clusters/samples/mean_sample_df_{:.2f}.csv'.format(threshold), index = False)"
   ]
  },
  {
   "cell_type": "code",
   "execution_count": 29,
   "id": "33d8b066",
   "metadata": {},
   "outputs": [],
   "source": [
    "with open('../data/merged_q/all_replies_max_len_40_clusters/all_replies_clusters_combine_1_centroid.pickle', 'rb') as f:\n",
    "    all_replies_clusters_combine_1_centroid = pickle.load(f)"
   ]
  },
  {
   "cell_type": "code",
   "execution_count": 30,
   "id": "b12e9455",
   "metadata": {},
   "outputs": [],
   "source": [
    "for threshold in thresholds:\n",
    "    centroid_sample_df = []\n",
    "    clusters = all_replies_clusters_combine_1_centroid[threshold]\n",
    "    all_idx = [i for i in range(len(clusters)) if len(clusters[i]) >= 10]\n",
    "    idx = np.random.choice(all_idx, 10, replace = False)\n",
    "    for i in idx:\n",
    "        cluster = clusters[i]\n",
    "        rows = np.random.choice(cluster, 10, replace = False)\n",
    "        centroid_sample_df.append(all_replies_df.iloc[rows])\n",
    "    centroid_sample_df = pd.concat(centroid_sample_df)\n",
    "    centroid_sample_df.to_csv('../data/merged_q/all_replies_max_len_40_clusters/samples/centroid_sample_df_{:.2f}.csv'.format(threshold), index = False)"
   ]
  },
  {
   "cell_type": "code",
   "execution_count": 31,
   "id": "b813cb32",
   "metadata": {},
   "outputs": [],
   "source": [
    "all_posts_df = pd.read_csv('../data/merged_q/all_posts_max_len_40.csv')"
   ]
  },
  {
   "cell_type": "code",
   "execution_count": 32,
   "id": "72c1f6b4",
   "metadata": {},
   "outputs": [],
   "source": [
    "with open('../data/merged_q/all_posts_max_len_40_clusters/all_posts_clusters.pickle', 'rb') as f:\n",
    "    all_posts_clusters = pickle.load(f)"
   ]
  },
  {
   "cell_type": "code",
   "execution_count": 34,
   "id": "75e4f1d7",
   "metadata": {},
   "outputs": [],
   "source": [
    "for threshold in thresholds:\n",
    "    sample_df = []\n",
    "    clusters = all_posts_clusters[threshold]\n",
    "    all_idx = [i for i in range(len(clusters)) if len(clusters[i]) >= 10]\n",
    "    idx = np.random.choice(all_idx, 10, replace = False)\n",
    "    for i in idx:\n",
    "        cluster = clusters[i]\n",
    "        rows = np.random.choice(cluster, 10, replace = False)\n",
    "        sample_df.append(all_posts_df.iloc[rows])\n",
    "    sample_df = pd.concat(sample_df)\n",
    "    sample_df.to_csv('../data/merged_q/all_posts_max_len_40_clusters/samples/sample_df_{:.2f}.csv'.format(threshold), index = False)"
   ]
  },
  {
   "cell_type": "code",
   "execution_count": null,
   "id": "cb5b0f0f",
   "metadata": {},
   "outputs": [],
   "source": []
  }
 ],
 "metadata": {
  "kernelspec": {
   "display_name": "Python 3 (ipykernel)",
   "language": "python",
   "name": "python3"
  },
  "language_info": {
   "codemirror_mode": {
    "name": "ipython",
    "version": 3
   },
   "file_extension": ".py",
   "mimetype": "text/x-python",
   "name": "python",
   "nbconvert_exporter": "python",
   "pygments_lexer": "ipython3",
   "version": "3.8.9"
  }
 },
 "nbformat": 4,
 "nbformat_minor": 5
}
