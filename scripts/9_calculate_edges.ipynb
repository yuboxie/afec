{
 "cells": [
  {
   "cell_type": "code",
   "execution_count": 1,
   "id": "e1e9d012",
   "metadata": {},
   "outputs": [],
   "source": [
    "import os\n",
    "import random\n",
    "import numpy as np\n",
    "import pandas as pd\n",
    "from tqdm import tqdm\n",
    "import matplotlib.pyplot as plt\n",
    "from collections import Counter\n",
    "import pickle"
   ]
  },
  {
   "cell_type": "code",
   "execution_count": 2,
   "id": "548b13b1",
   "metadata": {},
   "outputs": [],
   "source": [
    "all_posts_df = pd.read_csv('../data/merged_q/all_posts_max_len_40.csv')\n",
    "all_replies_df = pd.read_csv('../data/merged_q/all_replies_max_len_40.csv')"
   ]
  },
  {
   "cell_type": "code",
   "execution_count": 3,
   "id": "9384bd0c",
   "metadata": {},
   "outputs": [
    {
     "name": "stdout",
     "output_type": "stream",
     "text": [
      "Avg speaker len: 11.687843856431753\n"
     ]
    }
   ],
   "source": [
    "print('Avg speaker len:', np.mean(all_posts_df['length'].values))"
   ]
  },
  {
   "cell_type": "code",
   "execution_count": 4,
   "id": "d375f107",
   "metadata": {},
   "outputs": [
    {
     "name": "stdout",
     "output_type": "stream",
     "text": [
      "Avg listener len: 11.202826707678367\n"
     ]
    }
   ],
   "source": [
    "print('Avg listener len:', np.mean(all_replies_df['length'].values))"
   ]
  },
  {
   "cell_type": "code",
   "execution_count": 4,
   "id": "944f048c",
   "metadata": {},
   "outputs": [
    {
     "data": {
      "text/html": [
       "<div>\n",
       "<style scoped>\n",
       "    .dataframe tbody tr th:only-of-type {\n",
       "        vertical-align: middle;\n",
       "    }\n",
       "\n",
       "    .dataframe tbody tr th {\n",
       "        vertical-align: top;\n",
       "    }\n",
       "\n",
       "    .dataframe thead th {\n",
       "        text-align: right;\n",
       "    }\n",
       "</style>\n",
       "<table border=\"1\" class=\"dataframe\">\n",
       "  <thead>\n",
       "    <tr style=\"text-align: right;\">\n",
       "      <th></th>\n",
       "      <th>id</th>\n",
       "      <th>summarized</th>\n",
       "      <th>text</th>\n",
       "      <th>root</th>\n",
       "      <th>length</th>\n",
       "    </tr>\n",
       "  </thead>\n",
       "  <tbody>\n",
       "    <tr>\n",
       "      <th>0</th>\n",
       "      <td>r2wyka</td>\n",
       "      <td>0</td>\n",
       "      <td>Can you learn to be less afraid?</td>\n",
       "      <td>learn</td>\n",
       "      <td>8</td>\n",
       "    </tr>\n",
       "    <tr>\n",
       "      <th>1</th>\n",
       "      <td>r2wc2q</td>\n",
       "      <td>0</td>\n",
       "      <td>Why doesn't Activia use the word \"yogurt\" on t...</td>\n",
       "      <td>use</td>\n",
       "      <td>14</td>\n",
       "    </tr>\n",
       "    <tr>\n",
       "      <th>2</th>\n",
       "      <td>r2w43k</td>\n",
       "      <td>0</td>\n",
       "      <td>Do you ever feel like everyone else has it tog...</td>\n",
       "      <td>feel</td>\n",
       "      <td>13</td>\n",
       "    </tr>\n",
       "    <tr>\n",
       "      <th>3</th>\n",
       "      <td>r2vbm3</td>\n",
       "      <td>0</td>\n",
       "      <td>Does pressing keyboard keys reflect your perso...</td>\n",
       "      <td>reflect</td>\n",
       "      <td>8</td>\n",
       "    </tr>\n",
       "    <tr>\n",
       "      <th>4</th>\n",
       "      <td>r2v7x0</td>\n",
       "      <td>0</td>\n",
       "      <td>My boss told me that during the time my hair w...</td>\n",
       "      <td>make</td>\n",
       "      <td>21</td>\n",
       "    </tr>\n",
       "  </tbody>\n",
       "</table>\n",
       "</div>"
      ],
      "text/plain": [
       "       id  summarized                                               text  \\\n",
       "0  r2wyka           0                   Can you learn to be less afraid?   \n",
       "1  r2wc2q           0  Why doesn't Activia use the word \"yogurt\" on t...   \n",
       "2  r2w43k           0  Do you ever feel like everyone else has it tog...   \n",
       "3  r2vbm3           0  Does pressing keyboard keys reflect your perso...   \n",
       "4  r2v7x0           0  My boss told me that during the time my hair w...   \n",
       "\n",
       "      root  length  \n",
       "0    learn       8  \n",
       "1      use      14  \n",
       "2     feel      13  \n",
       "3  reflect       8  \n",
       "4     make      21  "
      ]
     },
     "execution_count": 4,
     "metadata": {},
     "output_type": "execute_result"
    }
   ],
   "source": [
    "all_posts_df.head()"
   ]
  },
  {
   "cell_type": "code",
   "execution_count": 5,
   "id": "fbfd0eb6",
   "metadata": {},
   "outputs": [
    {
     "data": {
      "text/html": [
       "<div>\n",
       "<style scoped>\n",
       "    .dataframe tbody tr th:only-of-type {\n",
       "        vertical-align: middle;\n",
       "    }\n",
       "\n",
       "    .dataframe tbody tr th {\n",
       "        vertical-align: top;\n",
       "    }\n",
       "\n",
       "    .dataframe thead th {\n",
       "        text-align: right;\n",
       "    }\n",
       "</style>\n",
       "<table border=\"1\" class=\"dataframe\">\n",
       "  <thead>\n",
       "    <tr style=\"text-align: right;\">\n",
       "      <th></th>\n",
       "      <th>id</th>\n",
       "      <th>parent_id</th>\n",
       "      <th>summarized</th>\n",
       "      <th>text</th>\n",
       "      <th>length</th>\n",
       "    </tr>\n",
       "  </thead>\n",
       "  <tbody>\n",
       "    <tr>\n",
       "      <th>0</th>\n",
       "      <td>hm5iqwj</td>\n",
       "      <td>r2nmvy</td>\n",
       "      <td>1</td>\n",
       "      <td>Conscious Club is campy in a good way</td>\n",
       "      <td>8</td>\n",
       "    </tr>\n",
       "    <tr>\n",
       "      <th>1</th>\n",
       "      <td>hm5jftd</td>\n",
       "      <td>r2npa3</td>\n",
       "      <td>0</td>\n",
       "      <td>I take one to two hours a day where I listen t...</td>\n",
       "      <td>24</td>\n",
       "    </tr>\n",
       "    <tr>\n",
       "      <th>2</th>\n",
       "      <td>hm5kaqv</td>\n",
       "      <td>r2nmvy</td>\n",
       "      <td>0</td>\n",
       "      <td>I like Scary Pockets.</td>\n",
       "      <td>5</td>\n",
       "    </tr>\n",
       "    <tr>\n",
       "      <th>3</th>\n",
       "      <td>hm5kddu</td>\n",
       "      <td>r2nylj</td>\n",
       "      <td>0</td>\n",
       "      <td>what keeps me calm is my prescription medication</td>\n",
       "      <td>8</td>\n",
       "    </tr>\n",
       "    <tr>\n",
       "      <th>4</th>\n",
       "      <td>hm5kig9</td>\n",
       "      <td>r2nylj</td>\n",
       "      <td>1</td>\n",
       "      <td>Wow you're amazingly talented.</td>\n",
       "      <td>6</td>\n",
       "    </tr>\n",
       "  </tbody>\n",
       "</table>\n",
       "</div>"
      ],
      "text/plain": [
       "        id parent_id  summarized  \\\n",
       "0  hm5iqwj    r2nmvy           1   \n",
       "1  hm5jftd    r2npa3           0   \n",
       "2  hm5kaqv    r2nmvy           0   \n",
       "3  hm5kddu    r2nylj           0   \n",
       "4  hm5kig9    r2nylj           1   \n",
       "\n",
       "                                                text  length  \n",
       "0              Conscious Club is campy in a good way       8  \n",
       "1  I take one to two hours a day where I listen t...      24  \n",
       "2                              I like Scary Pockets.       5  \n",
       "3   what keeps me calm is my prescription medication       8  \n",
       "4                     Wow you're amazingly talented.       6  "
      ]
     },
     "execution_count": 5,
     "metadata": {},
     "output_type": "execute_result"
    }
   ],
   "source": [
    "all_replies_df.head()"
   ]
  },
  {
   "cell_type": "code",
   "execution_count": 6,
   "id": "16cd6dc5",
   "metadata": {},
   "outputs": [
    {
     "name": "stdout",
     "output_type": "stream",
     "text": [
      "(152680, 5) (838785, 5)\n"
     ]
    }
   ],
   "source": [
    "print(all_posts_df.shape, all_replies_df.shape)"
   ]
  },
  {
   "cell_type": "code",
   "execution_count": 7,
   "id": "a08c26b4",
   "metadata": {},
   "outputs": [
    {
     "name": "stdout",
     "output_type": "stream",
     "text": [
      "6902\n"
     ]
    }
   ],
   "source": [
    "with open('../data/merged_q/all_posts_max_len_40_clusters/all_posts_clusters.pickle', 'rb') as f:\n",
    "    all_posts_clusters = pickle.load(f)\n",
    "print(len(all_posts_clusters[0.85]))"
   ]
  },
  {
   "cell_type": "code",
   "execution_count": 8,
   "id": "ab95bb30",
   "metadata": {},
   "outputs": [
    {
     "name": "stdout",
     "output_type": "stream",
     "text": [
      "35542\n"
     ]
    }
   ],
   "source": [
    "with open('../data/merged_q/all_replies_max_len_40_clusters/all_replies_clusters_combine_1_centroid.pickle', 'rb') as f:\n",
    "    all_replies_clusters = pickle.load(f)\n",
    "print(len(all_replies_clusters[0.8]))"
   ]
  },
  {
   "cell_type": "code",
   "execution_count": 9,
   "id": "fbcb02c3",
   "metadata": {},
   "outputs": [
    {
     "name": "stdout",
     "output_type": "stream",
     "text": [
      "207740 207740\n",
      "666587\n"
     ]
    }
   ],
   "source": [
    "num = 0\n",
    "a = []\n",
    "for c in all_replies_clusters[0.8]:\n",
    "    num += len(c)\n",
    "    a += c\n",
    "print(num, len(set(a)))\n",
    "print(all_replies_df.shape[0] - num + len(all_replies_clusters[0.8]))"
   ]
  },
  {
   "cell_type": "code",
   "execution_count": 10,
   "id": "db113c02",
   "metadata": {},
   "outputs": [
    {
     "name": "stdout",
     "output_type": "stream",
     "text": [
      "25521 25521\n",
      "134061\n"
     ]
    }
   ],
   "source": [
    "num = 0\n",
    "a = []\n",
    "for c in all_posts_clusters[0.85]:\n",
    "    num += len(c)\n",
    "    a += c\n",
    "print(num, len(set(a)))\n",
    "print(all_posts_df.shape[0] - num + len(all_posts_clusters[0.85]))"
   ]
  },
  {
   "cell_type": "code",
   "execution_count": null,
   "id": "e5abe5c8",
   "metadata": {},
   "outputs": [],
   "source": [
    "print('Number of post nodes: 134061')\n",
    "print('Number of reply nodes: 666587')"
   ]
  },
  {
   "cell_type": "code",
   "execution_count": 14,
   "id": "b17b0ea5",
   "metadata": {},
   "outputs": [
    {
     "name": "stdout",
     "output_type": "stream",
     "text": [
      "25521\n",
      "152680 134061\n"
     ]
    }
   ],
   "source": [
    "post_idx_to_cluster_id = {}\n",
    "for i, c in enumerate(all_posts_clusters[0.85]):\n",
    "    for idx in c:\n",
    "        post_idx_to_cluster_id[idx] = i\n",
    "print(len(post_idx_to_cluster_id))\n",
    "\n",
    "cluster_id = len(all_posts_clusters[0.85])\n",
    "for idx in range(all_posts_df.shape[0]):\n",
    "    if idx not in post_idx_to_cluster_id:\n",
    "        post_idx_to_cluster_id[idx] = cluster_id\n",
    "        cluster_id += 1\n",
    "print(len(post_idx_to_cluster_id), cluster_id)"
   ]
  },
  {
   "cell_type": "code",
   "execution_count": 15,
   "id": "94000f24",
   "metadata": {},
   "outputs": [
    {
     "name": "stdout",
     "output_type": "stream",
     "text": [
      "207740\n",
      "838785 666587\n"
     ]
    }
   ],
   "source": [
    "reply_idx_to_cluster_id = {}\n",
    "for i, c in enumerate(all_replies_clusters[0.8]):\n",
    "    for idx in c:\n",
    "        reply_idx_to_cluster_id[idx] = i\n",
    "print(len(reply_idx_to_cluster_id))\n",
    "\n",
    "cluster_id = len(all_replies_clusters[0.8])\n",
    "for idx in range(all_replies_df.shape[0]):\n",
    "    if idx not in reply_idx_to_cluster_id:\n",
    "        reply_idx_to_cluster_id[idx] = cluster_id\n",
    "        cluster_id += 1\n",
    "print(len(reply_idx_to_cluster_id), cluster_id)"
   ]
  },
  {
   "cell_type": "code",
   "execution_count": 16,
   "id": "49127c6b",
   "metadata": {},
   "outputs": [],
   "source": [
    "post_id_to_post_idx = {}\n",
    "for idx in range(all_posts_df.shape[0]):\n",
    "    post_id = all_posts_df.iloc[idx]['id']\n",
    "    post_id_to_post_idx[post_id] = idx"
   ]
  },
  {
   "cell_type": "code",
   "execution_count": 17,
   "id": "ed9b7dad",
   "metadata": {},
   "outputs": [],
   "source": [
    "adj = np.zeros((134061, 666587), dtype=bool)"
   ]
  },
  {
   "cell_type": "code",
   "execution_count": 18,
   "id": "3bd406bd",
   "metadata": {},
   "outputs": [
    {
     "name": "stderr",
     "output_type": "stream",
     "text": [
      "100%|████████████████████████████████████████████████████████████████████████████████████████████████████████████████████████████████████| 838785/838785 [00:51<00:00, 16299.44it/s]\n"
     ]
    }
   ],
   "source": [
    "for reply_idx in tqdm(range(all_replies_df.shape[0])):\n",
    "    post_id = all_replies_df.iloc[reply_idx]['parent_id']\n",
    "    post_idx = post_id_to_post_idx[post_id]\n",
    "    adj[post_idx_to_cluster_id[post_idx], reply_idx_to_cluster_id[reply_idx]] = 1"
   ]
  },
  {
   "cell_type": "code",
   "execution_count": 19,
   "id": "58a79af3",
   "metadata": {},
   "outputs": [
    {
     "name": "stdout",
     "output_type": "stream",
     "text": [
      "804700\n"
     ]
    }
   ],
   "source": [
    "print(np.sum(adj))"
   ]
  },
  {
   "cell_type": "code",
   "execution_count": 21,
   "id": "ba19867a",
   "metadata": {},
   "outputs": [
    {
     "name": "stdout",
     "output_type": "stream",
     "text": [
      "Avg degree of speaker nodes: 6.002491403167215\n"
     ]
    }
   ],
   "source": [
    "print('Avg degree of speaker nodes:', np.mean(np.sum(adj, axis = 1)))"
   ]
  },
  {
   "cell_type": "code",
   "execution_count": 22,
   "id": "52a2a7a3",
   "metadata": {},
   "outputs": [
    {
     "name": "stdout",
     "output_type": "stream",
     "text": [
      "Avg degree of listener nodes: 1.207194259714036\n"
     ]
    }
   ],
   "source": [
    "print('Avg degree of listener nodes:', np.mean(np.sum(adj, axis = 0)))"
   ]
  },
  {
   "cell_type": "markdown",
   "id": "e926e265",
   "metadata": {},
   "source": [
    "# Profanity Check"
   ]
  },
  {
   "cell_type": "code",
   "execution_count": 1,
   "id": "f7ff66cf",
   "metadata": {},
   "outputs": [
    {
     "name": "stderr",
     "output_type": "stream",
     "text": [
      "/home/hci/venvs/ml/lib/python3.6/site-packages/sklearn/externals/joblib/__init__.py:15: FutureWarning: sklearn.externals.joblib is deprecated in 0.21 and will be removed in 0.23. Please import this functionality directly from joblib, which can be installed with: pip install joblib. If this warning is raised when loading pickled models, you may need to re-serialize those models with scikit-learn 0.21+.\n",
      "  warnings.warn(msg, category=FutureWarning)\n",
      "/home/hci/venvs/ml/lib/python3.6/site-packages/sklearn/base.py:318: UserWarning: Trying to unpickle estimator CountVectorizer from version 0.20.2 when using version 0.22. This might lead to breaking code or invalid results. Use at your own risk.\n",
      "  UserWarning)\n",
      "/home/hci/venvs/ml/lib/python3.6/site-packages/sklearn/utils/deprecation.py:144: FutureWarning: The sklearn.svm.classes module is  deprecated in version 0.22 and will be removed in version 0.24. The corresponding classes / functions should instead be imported from sklearn.svm. Anything that cannot be imported from sklearn.svm is now part of the private API.\n",
      "  warnings.warn(message, FutureWarning)\n",
      "/home/hci/venvs/ml/lib/python3.6/site-packages/sklearn/base.py:318: UserWarning: Trying to unpickle estimator LinearSVC from version 0.20.2 when using version 0.22. This might lead to breaking code or invalid results. Use at your own risk.\n",
      "  UserWarning)\n",
      "/home/hci/venvs/ml/lib/python3.6/site-packages/sklearn/utils/deprecation.py:144: FutureWarning: The sklearn.preprocessing.label module is  deprecated in version 0.22 and will be removed in version 0.24. The corresponding classes / functions should instead be imported from sklearn.preprocessing. Anything that cannot be imported from sklearn.preprocessing is now part of the private API.\n",
      "  warnings.warn(message, FutureWarning)\n",
      "/home/hci/venvs/ml/lib/python3.6/site-packages/sklearn/base.py:318: UserWarning: Trying to unpickle estimator LabelEncoder from version 0.20.2 when using version 0.22. This might lead to breaking code or invalid results. Use at your own risk.\n",
      "  UserWarning)\n",
      "/home/hci/venvs/ml/lib/python3.6/site-packages/sklearn/base.py:318: UserWarning: Trying to unpickle estimator _SigmoidCalibration from version 0.20.2 when using version 0.22. This might lead to breaking code or invalid results. Use at your own risk.\n",
      "  UserWarning)\n",
      "/home/hci/venvs/ml/lib/python3.6/site-packages/sklearn/base.py:318: UserWarning: Trying to unpickle estimator CalibratedClassifierCV from version 0.20.2 when using version 0.22. This might lead to breaking code or invalid results. Use at your own risk.\n",
      "  UserWarning)\n"
     ]
    }
   ],
   "source": [
    "import os\n",
    "import random\n",
    "import numpy as np\n",
    "import pandas as pd\n",
    "from tqdm import tqdm\n",
    "import pickle\n",
    "from profanity_check import predict, predict_prob"
   ]
  },
  {
   "cell_type": "code",
   "execution_count": 2,
   "id": "06cd2fa3",
   "metadata": {},
   "outputs": [],
   "source": [
    "all_posts_df = pd.read_csv('../data/merged_q/all_posts_max_len_40.csv')\n",
    "all_replies_df = pd.read_csv('../data/merged_q/all_replies_max_len_40.csv')"
   ]
  },
  {
   "cell_type": "code",
   "execution_count": 3,
   "id": "0d7f2cab",
   "metadata": {},
   "outputs": [
    {
     "name": "stderr",
     "output_type": "stream",
     "text": [
      "100%|██████████| 152680/152680 [02:15<00:00, 1127.82it/s]"
     ]
    },
    {
     "name": "stdout",
     "output_type": "stream",
     "text": [
      "2526 152680\n"
     ]
    },
    {
     "name": "stderr",
     "output_type": "stream",
     "text": [
      "\n"
     ]
    }
   ],
   "source": [
    "profanity_idx_speaker = []\n",
    "for i in tqdm(range(all_posts_df.shape[0])):\n",
    "    profanity = predict([all_posts_df.iloc[i]['text']])\n",
    "    if profanity == 1:\n",
    "        profanity_idx_speaker.append(i)\n",
    "print(len(profanity_idx_speaker), all_posts_df.shape[0])"
   ]
  },
  {
   "cell_type": "code",
   "execution_count": 4,
   "id": "dd7ab47d",
   "metadata": {},
   "outputs": [],
   "source": [
    "np.save('../data/merged_q/profanity_check/profanity_idx_speaker.npy', np.array(profanity_idx_speaker))"
   ]
  },
  {
   "cell_type": "code",
   "execution_count": 5,
   "id": "8129fa62",
   "metadata": {},
   "outputs": [
    {
     "data": {
      "text/html": [
       "<div>\n",
       "<style scoped>\n",
       "    .dataframe tbody tr th:only-of-type {\n",
       "        vertical-align: middle;\n",
       "    }\n",
       "\n",
       "    .dataframe tbody tr th {\n",
       "        vertical-align: top;\n",
       "    }\n",
       "\n",
       "    .dataframe thead th {\n",
       "        text-align: right;\n",
       "    }\n",
       "</style>\n",
       "<table border=\"1\" class=\"dataframe\">\n",
       "  <thead>\n",
       "    <tr style=\"text-align: right;\">\n",
       "      <th></th>\n",
       "      <th>id</th>\n",
       "      <th>summarized</th>\n",
       "      <th>text</th>\n",
       "      <th>root</th>\n",
       "      <th>length</th>\n",
       "    </tr>\n",
       "  </thead>\n",
       "  <tbody>\n",
       "    <tr>\n",
       "      <th>37</th>\n",
       "      <td>r20yh9</td>\n",
       "      <td>0</td>\n",
       "      <td>I suck at talking</td>\n",
       "      <td>suck</td>\n",
       "      <td>4</td>\n",
       "    </tr>\n",
       "    <tr>\n",
       "      <th>51</th>\n",
       "      <td>r1tw9i</td>\n",
       "      <td>0</td>\n",
       "      <td>Seasonal depression is kicking my ass</td>\n",
       "      <td>kick</td>\n",
       "      <td>6</td>\n",
       "    </tr>\n",
       "    <tr>\n",
       "      <th>62</th>\n",
       "      <td>r1ocla</td>\n",
       "      <td>0</td>\n",
       "      <td>Holy shit, I’m going to therapy for the first ...</td>\n",
       "      <td>go</td>\n",
       "      <td>15</td>\n",
       "    </tr>\n",
       "    <tr>\n",
       "      <th>180</th>\n",
       "      <td>qz47mf</td>\n",
       "      <td>1</td>\n",
       "      <td>Now I feel stupid</td>\n",
       "      <td>feel</td>\n",
       "      <td>4</td>\n",
       "    </tr>\n",
       "    <tr>\n",
       "      <th>208</th>\n",
       "      <td>qync94</td>\n",
       "      <td>1</td>\n",
       "      <td>I’m a full ass grown adult and moved back home...</td>\n",
       "      <td>be</td>\n",
       "      <td>24</td>\n",
       "    </tr>\n",
       "    <tr>\n",
       "      <th>...</th>\n",
       "      <td>...</td>\n",
       "      <td>...</td>\n",
       "      <td>...</td>\n",
       "      <td>...</td>\n",
       "      <td>...</td>\n",
       "    </tr>\n",
       "    <tr>\n",
       "      <th>151332</th>\n",
       "      <td>hit:11928_conv:23856_uttr:1</td>\n",
       "      <td>0</td>\n",
       "      <td>... starving once again, this feeling sucks, i...</td>\n",
       "      <td>get</td>\n",
       "      <td>25</td>\n",
       "    </tr>\n",
       "    <tr>\n",
       "      <th>151382</th>\n",
       "      <td>hit:12165_conv:24330_uttr:1</td>\n",
       "      <td>0</td>\n",
       "      <td>My neighbor sits out on his balcony butt naked...</td>\n",
       "      <td>sit</td>\n",
       "      <td>11</td>\n",
       "    </tr>\n",
       "    <tr>\n",
       "      <th>151592</th>\n",
       "      <td>hit:2150_conv:4301_uttr:1</td>\n",
       "      <td>1</td>\n",
       "      <td>I always say i hate when other moms shame each...</td>\n",
       "      <td>say</td>\n",
       "      <td>15</td>\n",
       "    </tr>\n",
       "    <tr>\n",
       "      <th>151604</th>\n",
       "      <td>hit:2542_conv:5084_uttr:1</td>\n",
       "      <td>0</td>\n",
       "      <td>My aggressive pet rat attacked the baby rat an...</td>\n",
       "      <td>attack</td>\n",
       "      <td>18</td>\n",
       "    </tr>\n",
       "    <tr>\n",
       "      <th>152299</th>\n",
       "      <td>hit:9559_conv:19118_uttr:1</td>\n",
       "      <td>0</td>\n",
       "      <td>i really hate when my kids leave their dirty c...</td>\n",
       "      <td>hate</td>\n",
       "      <td>13</td>\n",
       "    </tr>\n",
       "  </tbody>\n",
       "</table>\n",
       "<p>2526 rows × 5 columns</p>\n",
       "</div>"
      ],
      "text/plain": [
       "                                 id  summarized  \\\n",
       "37                           r20yh9           0   \n",
       "51                           r1tw9i           0   \n",
       "62                           r1ocla           0   \n",
       "180                          qz47mf           1   \n",
       "208                          qync94           1   \n",
       "...                             ...         ...   \n",
       "151332  hit:11928_conv:23856_uttr:1           0   \n",
       "151382  hit:12165_conv:24330_uttr:1           0   \n",
       "151592    hit:2150_conv:4301_uttr:1           1   \n",
       "151604    hit:2542_conv:5084_uttr:1           0   \n",
       "152299   hit:9559_conv:19118_uttr:1           0   \n",
       "\n",
       "                                                     text    root  length  \n",
       "37                                      I suck at talking    suck       4  \n",
       "51                  Seasonal depression is kicking my ass    kick       6  \n",
       "62      Holy shit, I’m going to therapy for the first ...      go      15  \n",
       "180                                     Now I feel stupid    feel       4  \n",
       "208     I’m a full ass grown adult and moved back home...      be      24  \n",
       "...                                                   ...     ...     ...  \n",
       "151332  ... starving once again, this feeling sucks, i...     get      25  \n",
       "151382  My neighbor sits out on his balcony butt naked...     sit      11  \n",
       "151592  I always say i hate when other moms shame each...     say      15  \n",
       "151604  My aggressive pet rat attacked the baby rat an...  attack      18  \n",
       "152299  i really hate when my kids leave their dirty c...    hate      13  \n",
       "\n",
       "[2526 rows x 5 columns]"
      ]
     },
     "execution_count": 5,
     "metadata": {},
     "output_type": "execute_result"
    }
   ],
   "source": [
    "all_posts_df.iloc[profanity_idx_speaker]"
   ]
  },
  {
   "cell_type": "code",
   "execution_count": 6,
   "id": "ae5eac09",
   "metadata": {},
   "outputs": [
    {
     "name": "stderr",
     "output_type": "stream",
     "text": [
      "100%|██████████| 838785/838785 [12:17<00:00, 1136.88it/s]"
     ]
    },
    {
     "name": "stdout",
     "output_type": "stream",
     "text": [
      "22024 838785\n"
     ]
    },
    {
     "name": "stderr",
     "output_type": "stream",
     "text": [
      "\n"
     ]
    }
   ],
   "source": [
    "profanity_idx_listener = []\n",
    "for i in tqdm(range(all_replies_df.shape[0])):\n",
    "    profanity = predict([all_replies_df.iloc[i]['text']])\n",
    "    if profanity == 1:\n",
    "        profanity_idx_listener.append(i)\n",
    "print(len(profanity_idx_listener), all_replies_df.shape[0])"
   ]
  },
  {
   "cell_type": "code",
   "execution_count": 7,
   "id": "b30a156e",
   "metadata": {},
   "outputs": [],
   "source": [
    "np.save('../data/merged_q/profanity_check/profanity_idx_listener.npy', np.array(profanity_idx_listener))"
   ]
  },
  {
   "cell_type": "code",
   "execution_count": 7,
   "id": "41a128a2",
   "metadata": {},
   "outputs": [
    {
     "data": {
      "text/plain": [
       "0.026257026532424878"
      ]
     },
     "execution_count": 7,
     "metadata": {},
     "output_type": "execute_result"
    }
   ],
   "source": [
    "22024/838785"
   ]
  },
  {
   "cell_type": "code",
   "execution_count": 8,
   "id": "83fc1510",
   "metadata": {},
   "outputs": [
    {
     "data": {
      "text/plain": [
       "0.01654440660204349"
      ]
     },
     "execution_count": 8,
     "metadata": {},
     "output_type": "execute_result"
    }
   ],
   "source": [
    "2526/152680"
   ]
  },
  {
   "cell_type": "markdown",
   "id": "04ec0a26",
   "metadata": {},
   "source": [
    "## Calculate New Nodes and Edges"
   ]
  },
  {
   "cell_type": "code",
   "execution_count": 1,
   "id": "5bbf1181",
   "metadata": {},
   "outputs": [],
   "source": [
    "import os\n",
    "import random\n",
    "import numpy as np\n",
    "import pandas as pd\n",
    "from tqdm import tqdm\n",
    "import pickle"
   ]
  },
  {
   "cell_type": "code",
   "execution_count": 2,
   "id": "d8c81d27",
   "metadata": {},
   "outputs": [],
   "source": [
    "all_posts_df = pd.read_csv('../data/merged_q/all_posts_max_len_40.csv')\n",
    "all_replies_df = pd.read_csv('../data/merged_q/all_replies_max_len_40.csv')"
   ]
  },
  {
   "cell_type": "code",
   "execution_count": 3,
   "id": "883f6ccb",
   "metadata": {},
   "outputs": [],
   "source": [
    "profanity_idx_speaker = np.load('../data/merged_q/profanity_check/profanity_idx_speaker.npy')\n",
    "profanity_idx_listener = np.load('../data/merged_q/profanity_check/profanity_idx_listener.npy')"
   ]
  },
  {
   "cell_type": "code",
   "execution_count": null,
   "id": "8fc529ea",
   "metadata": {},
   "outputs": [],
   "source": [
    "# cache = set(profanity_idx_speaker)\n",
    "# post_idx_filtered = [i for i in range(all_posts_df.shape[0]) if i not in cache]\n",
    "# print(len(post_idx_filtered))"
   ]
  },
  {
   "cell_type": "code",
   "execution_count": 4,
   "id": "894835af",
   "metadata": {},
   "outputs": [
    {
     "name": "stderr",
     "output_type": "stream",
     "text": [
      "100%|████████████████████████████████████████████████████████████████████████████████████████████████████████████████████████████████████| 838785/838785 [00:49<00:00, 16851.54it/s]"
     ]
    },
    {
     "name": "stdout",
     "output_type": "stream",
     "text": [
      "803320\n"
     ]
    },
    {
     "name": "stderr",
     "output_type": "stream",
     "text": [
      "\n"
     ]
    }
   ],
   "source": [
    "cache = set(profanity_idx_listener)\n",
    "profane_speaker_id = set([all_posts_df.iloc[i]['id'] for i in profanity_idx_speaker])\n",
    "reply_idx_filtered = []\n",
    "for i in tqdm(range(all_replies_df.shape[0])):\n",
    "    if i in cache or all_replies_df.iloc[i]['parent_id'] in profane_speaker_id:\n",
    "        continue\n",
    "    reply_idx_filtered.append(i)\n",
    "print(len(reply_idx_filtered))"
   ]
  },
  {
   "cell_type": "code",
   "execution_count": 5,
   "id": "31dc37ef",
   "metadata": {},
   "outputs": [
    {
     "name": "stderr",
     "output_type": "stream",
     "text": [
      "100%|████████████████████████████████████████████████████████████████████████████████████████████████████████████████████████████████████| 152680/152680 [00:09<00:00, 16550.87it/s]"
     ]
    },
    {
     "name": "stdout",
     "output_type": "stream",
     "text": [
      "149332\n"
     ]
    },
    {
     "name": "stderr",
     "output_type": "stream",
     "text": [
      "\n"
     ]
    }
   ],
   "source": [
    "cache = set(profanity_idx_speaker)\n",
    "good_speaker_id = set(all_replies_df.iloc[reply_idx_filtered]['parent_id'].tolist())\n",
    "post_idx_filtered = []\n",
    "for i in tqdm(range(all_posts_df.shape[0])):\n",
    "    if i in cache:\n",
    "        continue\n",
    "    if all_posts_df.iloc[i]['id'] not in good_speaker_id:\n",
    "        continue\n",
    "    post_idx_filtered.append(i)\n",
    "print(len(post_idx_filtered))"
   ]
  },
  {
   "cell_type": "code",
   "execution_count": null,
   "id": "56c85cb2",
   "metadata": {},
   "outputs": [],
   "source": [
    "# np.save('../data/merged_q/profanity_check/post_idx_filtered.npy', np.array(post_idx_filtered))\n",
    "# np.save('../data/merged_q/profanity_check/reply_idx_filtered.npy', np.array(reply_idx_filtered))"
   ]
  },
  {
   "cell_type": "code",
   "execution_count": null,
   "id": "67ee74fa",
   "metadata": {},
   "outputs": [],
   "source": [
    "# post_df_filtered = all_posts_df.iloc[post_idx_filtered]\n",
    "# post_df_filtered"
   ]
  },
  {
   "cell_type": "code",
   "execution_count": null,
   "id": "c9d0aaac",
   "metadata": {},
   "outputs": [],
   "source": [
    "# reply_df_filtered = all_replies_df.iloc[reply_idx_filtered]\n",
    "# reply_df_filtered"
   ]
  },
  {
   "cell_type": "code",
   "execution_count": 6,
   "id": "3e33aa45",
   "metadata": {},
   "outputs": [
    {
     "name": "stdout",
     "output_type": "stream",
     "text": [
      "6902\n"
     ]
    }
   ],
   "source": [
    "with open('../data/merged_q/all_posts_max_len_40_clusters/all_posts_clusters.pickle', 'rb') as f:\n",
    "    all_posts_clusters = pickle.load(f)\n",
    "print(len(all_posts_clusters[0.85]))"
   ]
  },
  {
   "cell_type": "code",
   "execution_count": 7,
   "id": "b52e26ec",
   "metadata": {},
   "outputs": [
    {
     "name": "stdout",
     "output_type": "stream",
     "text": [
      "35542\n"
     ]
    }
   ],
   "source": [
    "with open('../data/merged_q/all_replies_max_len_40_clusters/all_replies_clusters_combine_1_centroid.pickle', 'rb') as f:\n",
    "    all_replies_clusters = pickle.load(f)\n",
    "print(len(all_replies_clusters[0.8]))"
   ]
  },
  {
   "cell_type": "code",
   "execution_count": 8,
   "id": "72089ca4",
   "metadata": {},
   "outputs": [
    {
     "name": "stderr",
     "output_type": "stream",
     "text": [
      "100%|███████████████████████████████████████████████████████████████████████████████████████████████████████████████████████████████████████| 6902/6902 [00:00<00:00, 988698.30it/s]"
     ]
    },
    {
     "name": "stdout",
     "output_type": "stream",
     "text": [
      "6842\n"
     ]
    },
    {
     "name": "stderr",
     "output_type": "stream",
     "text": [
      "\n"
     ]
    }
   ],
   "source": [
    "post_cache = set(post_idx_filtered)\n",
    "post_clusters = []\n",
    "for c in tqdm(all_posts_clusters[0.85]):\n",
    "    cc = [idx for idx in c if idx in post_cache]\n",
    "    if len(cc) > 0:\n",
    "        post_clusters.append(cc)\n",
    "print(len(post_clusters))"
   ]
  },
  {
   "cell_type": "code",
   "execution_count": 9,
   "id": "5282528c",
   "metadata": {},
   "outputs": [
    {
     "name": "stderr",
     "output_type": "stream",
     "text": [
      "100%|█████████████████████████████████████████████████████████████████████████████████████████████████████████████████████████████████████| 35542/35542 [00:00<00:00, 548459.20it/s]"
     ]
    },
    {
     "name": "stdout",
     "output_type": "stream",
     "text": [
      "35067\n"
     ]
    },
    {
     "name": "stderr",
     "output_type": "stream",
     "text": [
      "\n"
     ]
    }
   ],
   "source": [
    "reply_cache = set(reply_idx_filtered)\n",
    "reply_clusters = []\n",
    "for c in tqdm(all_replies_clusters[0.8]):\n",
    "    cc = [idx for idx in c if idx in reply_cache]\n",
    "    if len(cc) > 0:\n",
    "        reply_clusters.append(cc)\n",
    "print(len(reply_clusters))"
   ]
  },
  {
   "cell_type": "code",
   "execution_count": 10,
   "id": "a5a6e18c",
   "metadata": {},
   "outputs": [
    {
     "name": "stdout",
     "output_type": "stream",
     "text": [
      "131038 <- 149332 149332\n"
     ]
    }
   ],
   "source": [
    "post_idx_to_cluster_id = {}\n",
    "for i, c in enumerate(post_clusters):\n",
    "    for idx in c:\n",
    "        post_idx_to_cluster_id[idx] = i\n",
    "\n",
    "cluster_id = len(post_clusters)\n",
    "for idx in range(all_posts_df.shape[0]):\n",
    "    if idx not in post_cache:\n",
    "        continue\n",
    "    if idx not in post_idx_to_cluster_id:\n",
    "        post_idx_to_cluster_id[idx] = cluster_id\n",
    "        cluster_id += 1\n",
    "print(cluster_id, '<-', len(post_idx_to_cluster_id), len(post_cache))"
   ]
  },
  {
   "cell_type": "code",
   "execution_count": 11,
   "id": "017df44f",
   "metadata": {},
   "outputs": [
    {
     "name": "stdout",
     "output_type": "stream",
     "text": [
      "131038\n"
     ]
    }
   ],
   "source": [
    "print(149332 - sum(len(c) for c in post_clusters) + len(post_clusters))"
   ]
  },
  {
   "cell_type": "code",
   "execution_count": 12,
   "id": "c539cbf8",
   "metadata": {},
   "outputs": [
    {
     "name": "stdout",
     "output_type": "stream",
     "text": [
      "637628 <- 803320 803320\n"
     ]
    }
   ],
   "source": [
    "reply_idx_to_cluster_id = {}\n",
    "for i, c in enumerate(reply_clusters):\n",
    "    for idx in c:\n",
    "        reply_idx_to_cluster_id[idx] = i\n",
    "\n",
    "cluster_id = len(reply_clusters)\n",
    "for idx in range(all_replies_df.shape[0]):\n",
    "    if idx not in reply_cache:\n",
    "        continue\n",
    "    if idx not in reply_idx_to_cluster_id:\n",
    "        reply_idx_to_cluster_id[idx] = cluster_id\n",
    "        cluster_id += 1\n",
    "print(cluster_id, '<-', len(reply_idx_to_cluster_id), len(reply_cache))"
   ]
  },
  {
   "cell_type": "code",
   "execution_count": 13,
   "id": "b019260a",
   "metadata": {},
   "outputs": [
    {
     "name": "stdout",
     "output_type": "stream",
     "text": [
      "637628\n"
     ]
    }
   ],
   "source": [
    "print(803320 - sum(len(c) for c in reply_clusters) + len(reply_clusters))"
   ]
  },
  {
   "cell_type": "code",
   "execution_count": 14,
   "id": "be27fe24",
   "metadata": {},
   "outputs": [
    {
     "name": "stderr",
     "output_type": "stream",
     "text": [
      "100%|████████████████████████████████████████████████████████████████████████████████████████████████████████████████████████████████████| 152680/152680 [00:09<00:00, 16714.67it/s]\n"
     ]
    }
   ],
   "source": [
    "post_id_to_post_idx = {}\n",
    "for idx in tqdm(range(all_posts_df.shape[0])):\n",
    "    if idx not in post_cache:\n",
    "        continue\n",
    "    post_id = all_posts_df.iloc[idx]['id']\n",
    "    post_id_to_post_idx[post_id] = idx"
   ]
  },
  {
   "cell_type": "code",
   "execution_count": 15,
   "id": "947d95f4",
   "metadata": {
    "scrolled": true
   },
   "outputs": [],
   "source": [
    "adj = np.zeros((131038, 637628), dtype=bool)"
   ]
  },
  {
   "cell_type": "code",
   "execution_count": 16,
   "id": "00e898ea",
   "metadata": {},
   "outputs": [
    {
     "name": "stderr",
     "output_type": "stream",
     "text": [
      "100%|████████████████████████████████████████████████████████████████████████████████████████████████████████████████████████████████████| 838785/838785 [00:50<00:00, 16620.62it/s]\n"
     ]
    }
   ],
   "source": [
    "for reply_idx in tqdm(range(all_replies_df.shape[0])):\n",
    "    if reply_idx not in reply_cache:\n",
    "        continue\n",
    "    post_id = all_replies_df.iloc[reply_idx]['parent_id']\n",
    "    post_idx = post_id_to_post_idx[post_id]\n",
    "    adj[post_idx_to_cluster_id[post_idx], reply_idx_to_cluster_id[reply_idx]] = 1"
   ]
  },
  {
   "cell_type": "code",
   "execution_count": 17,
   "id": "71300274",
   "metadata": {},
   "outputs": [
    {
     "name": "stdout",
     "output_type": "stream",
     "text": [
      "Number of edges: 770192\n"
     ]
    }
   ],
   "source": [
    "print('Number of edges:', np.sum(adj))"
   ]
  },
  {
   "cell_type": "code",
   "execution_count": 18,
   "id": "8d1ac088",
   "metadata": {},
   "outputs": [
    {
     "name": "stdout",
     "output_type": "stream",
     "text": [
      "Avg degree of speaker nodes: 5.87762328484867\n"
     ]
    }
   ],
   "source": [
    "print('Avg degree of speaker nodes:', np.mean(np.sum(adj, axis = 1)))"
   ]
  },
  {
   "cell_type": "code",
   "execution_count": 19,
   "id": "c41b8f39",
   "metadata": {},
   "outputs": [
    {
     "name": "stdout",
     "output_type": "stream",
     "text": [
      "Avg degree of listener nodes: 1.2079017859943415\n"
     ]
    }
   ],
   "source": [
    "print('Avg degree of listener nodes:', np.mean(np.sum(adj, axis = 0)))"
   ]
  },
  {
   "cell_type": "code",
   "execution_count": null,
   "id": "225c3e65",
   "metadata": {},
   "outputs": [],
   "source": [
    "print('Number of speaker nodes: 131038')\n",
    "print('Number of listener nodes: 637628')"
   ]
  }
 ],
 "metadata": {
  "kernelspec": {
   "display_name": "Python 3 (ipykernel)",
   "language": "python",
   "name": "python3"
  },
  "language_info": {
   "codemirror_mode": {
    "name": "ipython",
    "version": 3
   },
   "file_extension": ".py",
   "mimetype": "text/x-python",
   "name": "python",
   "nbconvert_exporter": "python",
   "pygments_lexer": "ipython3",
   "version": "3.8.9"
  }
 },
 "nbformat": 4,
 "nbformat_minor": 5
}
