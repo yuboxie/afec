{
 "cells": [
  {
   "cell_type": "code",
   "execution_count": 1,
   "metadata": {},
   "outputs": [],
   "source": [
    "import os\n",
    "import time\n",
    "import json\n",
    "import random\n",
    "import requests\n",
    "import numpy as np\n",
    "import pandas as pd\n",
    "from tqdm import tqdm\n",
    "from datetime import datetime\n",
    "from datetime import timezone"
   ]
  },
  {
   "cell_type": "markdown",
   "metadata": {},
   "source": [
    "# Test"
   ]
  },
  {
   "cell_type": "code",
   "execution_count": 2,
   "metadata": {},
   "outputs": [
    {
     "name": "stdout",
     "output_type": "stream",
     "text": [
      "1619827200.0\n"
     ]
    }
   ],
   "source": [
    "dt = datetime(2021, 5, 1)\n",
    "timestamp = dt.replace(tzinfo = timezone.utc).timestamp()\n",
    "print(timestamp)"
   ]
  },
  {
   "cell_type": "code",
   "execution_count": 3,
   "metadata": {},
   "outputs": [],
   "source": [
    "url = 'https://api.pushshift.io/reddit/search/submission/'"
   ]
  },
  {
   "cell_type": "code",
   "execution_count": 4,
   "metadata": {},
   "outputs": [],
   "source": [
    "params = {\n",
    "    'subreddit': 'CasualConversation',\n",
    "    'sort': 'desc',\n",
    "    'sort_type': 'created_utc',\n",
    "    'after': str(int(timestamp)),  # Exclusive!\n",
    "    'before': str(int(timestamp + 3600)),  # Exclusive!\n",
    "    'size': '1000'\n",
    "}"
   ]
  },
  {
   "cell_type": "code",
   "execution_count": 5,
   "metadata": {},
   "outputs": [],
   "source": [
    "res = requests.get(url, params = params)"
   ]
  },
  {
   "cell_type": "code",
   "execution_count": 6,
   "metadata": {},
   "outputs": [
    {
     "data": {
      "text/plain": [
       "8"
      ]
     },
     "execution_count": 6,
     "metadata": {},
     "output_type": "execute_result"
    }
   ],
   "source": [
    "len(res.json()['data'])"
   ]
  },
  {
   "cell_type": "code",
   "execution_count": null,
   "metadata": {},
   "outputs": [],
   "source": [
    "comment_ids = []\n",
    "for i in tqdm(range(200)):\n",
    "    url = 'https://api.pushshift.io/reddit/submission/comment_ids/{}'.format(submission_df.iloc[i]['id'])\n",
    "    res = requests.get(url)\n",
    "    comment_ids += res.json()['data']\n",
    "print(len(comment_ids))"
   ]
  },
  {
   "cell_type": "code",
   "execution_count": 58,
   "metadata": {},
   "outputs": [
    {
     "name": "stdout",
     "output_type": "stream",
     "text": [
      "<Response [200]>\n"
     ]
    }
   ],
   "source": [
    "url = 'https://api.pushshift.io/reddit/comment/search?ids={}'.format(','.join(comment_ids[:1000]))\n",
    "res = requests.get(url)\n",
    "print(res)"
   ]
  },
  {
   "cell_type": "code",
   "execution_count": 59,
   "metadata": {},
   "outputs": [
    {
     "data": {
      "text/plain": [
       "1000"
      ]
     },
     "execution_count": 59,
     "metadata": {},
     "output_type": "execute_result"
    }
   ],
   "source": [
    "len(res.json()['data'])"
   ]
  },
  {
   "cell_type": "markdown",
   "metadata": {},
   "source": [
    "# Crawl Submissions from r/CasualConversation"
   ]
  },
  {
   "cell_type": "code",
   "execution_count": 2,
   "metadata": {},
   "outputs": [
    {
     "name": "stdout",
     "output_type": "stream",
     "text": [
      "2022-01-01 00:00:00 1640995200.0\n"
     ]
    }
   ],
   "source": [
    "end_date = datetime(2022, 1, 1)\n",
    "end_timestamp = end_date.replace(tzinfo = timezone.utc).timestamp()\n",
    "print(end_date, end_timestamp)"
   ]
  },
  {
   "cell_type": "code",
   "execution_count": 3,
   "metadata": {},
   "outputs": [
    {
     "name": "stdout",
     "output_type": "stream",
     "text": [
      "2021-05-01 00:00:00 1619827200.0\n"
     ]
    }
   ],
   "source": [
    "start_date = datetime(2021, 5, 1)\n",
    "start_timestamp = start_date.replace(tzinfo = timezone.utc).timestamp()\n",
    "print(start_date, start_timestamp)"
   ]
  },
  {
   "cell_type": "code",
   "execution_count": 4,
   "metadata": {},
   "outputs": [],
   "source": [
    "submission_cols = ['id', 'created_utc', 'title', 'selftext', 'num_comments', 'subreddit', 'subreddit_id']\n",
    "submission_cols_opt = ['score', 'author_fullname', 'link_flair_text']"
   ]
  },
  {
   "cell_type": "code",
   "execution_count": 5,
   "metadata": {},
   "outputs": [],
   "source": [
    "submission_dict = {col: [] for col in submission_cols + submission_cols_opt}"
   ]
  },
  {
   "cell_type": "code",
   "execution_count": 6,
   "metadata": {},
   "outputs": [],
   "source": [
    "def is_json(json_data):\n",
    "    try:\n",
    "        json_object = json.loads(json_data)\n",
    "    except:\n",
    "        return False\n",
    "    return True"
   ]
  },
  {
   "cell_type": "code",
   "execution_count": 9,
   "metadata": {},
   "outputs": [
    {
     "data": {
      "text/plain": [
       "1622390400.0"
      ]
     },
     "execution_count": 9,
     "metadata": {},
     "output_type": "execute_result"
    }
   ],
   "source": [
    "current_timestamp"
   ]
  },
  {
   "cell_type": "code",
   "execution_count": 10,
   "metadata": {},
   "outputs": [
    {
     "name": "stdout",
     "output_type": "stream",
     "text": [
      "Crawling from 2021-05-29 00:00:00+00:00 to 2021-05-30 00:00:00+00:00...\n",
      "Crawling from 2021-05-28 00:00:00+00:00 to 2021-05-29 00:00:00+00:00...\n",
      "Crawling from 2021-05-27 00:00:00+00:00 to 2021-05-28 00:00:00+00:00...\n",
      "Crawling from 2021-05-26 00:00:00+00:00 to 2021-05-27 00:00:00+00:00...\n",
      "Crawling from 2021-05-25 00:00:00+00:00 to 2021-05-26 00:00:00+00:00...\n",
      "Crawling from 2021-05-24 00:00:00+00:00 to 2021-05-25 00:00:00+00:00...\n",
      "Crawling from 2021-05-23 00:00:00+00:00 to 2021-05-24 00:00:00+00:00...\n",
      "Crawling from 2021-05-22 00:00:00+00:00 to 2021-05-23 00:00:00+00:00...\n",
      "Crawling from 2021-05-21 00:00:00+00:00 to 2021-05-22 00:00:00+00:00...\n",
      "Crawling from 2021-05-20 00:00:00+00:00 to 2021-05-21 00:00:00+00:00...\n",
      "Crawling from 2021-05-19 00:00:00+00:00 to 2021-05-20 00:00:00+00:00...\n",
      "Crawling from 2021-05-18 00:00:00+00:00 to 2021-05-19 00:00:00+00:00...\n",
      "Crawling from 2021-05-17 00:00:00+00:00 to 2021-05-18 00:00:00+00:00...\n",
      "Crawling from 2021-05-16 00:00:00+00:00 to 2021-05-17 00:00:00+00:00...\n",
      "Crawling from 2021-05-15 00:00:00+00:00 to 2021-05-16 00:00:00+00:00...\n",
      "Crawling from 2021-05-14 00:00:00+00:00 to 2021-05-15 00:00:00+00:00...\n",
      "Crawling from 2021-05-13 00:00:00+00:00 to 2021-05-14 00:00:00+00:00...\n",
      "Crawling from 2021-05-12 00:00:00+00:00 to 2021-05-13 00:00:00+00:00...\n",
      "Crawling from 2021-05-11 00:00:00+00:00 to 2021-05-12 00:00:00+00:00...\n",
      "Crawling from 2021-05-10 00:00:00+00:00 to 2021-05-11 00:00:00+00:00...\n",
      "Crawling from 2021-05-09 00:00:00+00:00 to 2021-05-10 00:00:00+00:00...\n",
      "Crawling from 2021-05-08 00:00:00+00:00 to 2021-05-09 00:00:00+00:00...\n",
      "Crawling from 2021-05-07 00:00:00+00:00 to 2021-05-08 00:00:00+00:00...\n",
      "Crawling from 2021-05-06 00:00:00+00:00 to 2021-05-07 00:00:00+00:00...\n",
      "Crawling from 2021-05-05 00:00:00+00:00 to 2021-05-06 00:00:00+00:00...\n",
      "Crawling from 2021-05-04 00:00:00+00:00 to 2021-05-05 00:00:00+00:00...\n",
      "Crawling from 2021-05-03 00:00:00+00:00 to 2021-05-04 00:00:00+00:00...\n",
      "Crawling from 2021-05-02 00:00:00+00:00 to 2021-05-03 00:00:00+00:00...\n",
      "Crawling from 2021-05-01 00:00:00+00:00 to 2021-05-02 00:00:00+00:00...\n"
     ]
    }
   ],
   "source": [
    "# current_timestamp = end_timestamp\n",
    "# url = 'https://api.pushshift.io/reddit/search/submission/'\n",
    "while current_timestamp > start_timestamp:\n",
    "    if (current_timestamp - end_timestamp) % 86400 == 0:\n",
    "        date_1 = datetime.fromtimestamp(current_timestamp - 86400, timezone.utc)\n",
    "        date_2 = datetime.fromtimestamp(current_timestamp, timezone.utc)\n",
    "        print('Crawling from {} to {}...'.format(date_1, date_2))\n",
    "    params = {\n",
    "        'subreddit': 'CasualConversation',\n",
    "        'sort': 'desc',\n",
    "        'sort_type': 'created_utc',\n",
    "        'after': str(int(current_timestamp - 3600 - 1)),\n",
    "        'before': str(int(current_timestamp)),\n",
    "        'size': '100'\n",
    "    }\n",
    "    res = requests.get(url, params = params)\n",
    "    if is_json(res.text):\n",
    "        submissions = res.json()['data']\n",
    "        for submission in submissions:\n",
    "\n",
    "            all_cols_exist = True\n",
    "            for col in submission_cols:\n",
    "                if col not in submission:\n",
    "                    all_cols_exist = False\n",
    "                    break\n",
    "            if not all_cols_exist:\n",
    "                continue\n",
    "\n",
    "            for col in submission_cols:\n",
    "                submission_dict[col].append(submission[col])\n",
    "\n",
    "            for col in submission_cols_opt:\n",
    "                if col in submission:\n",
    "                    submission_dict[col].append(submission[col])\n",
    "                else:\n",
    "                    submission_dict[col].append(None)\n",
    "\n",
    "    current_timestamp = current_timestamp - 3600"
   ]
  },
  {
   "cell_type": "code",
   "execution_count": 11,
   "metadata": {},
   "outputs": [
    {
     "name": "stdout",
     "output_type": "stream",
     "text": [
      "33428 33428\n"
     ]
    }
   ],
   "source": [
    "print(len(submission_dict['id']), len(set(submission_dict['id'])))"
   ]
  },
  {
   "cell_type": "code",
   "execution_count": 12,
   "metadata": {},
   "outputs": [],
   "source": [
    "submission_df = pd.DataFrame(submission_dict)"
   ]
  },
  {
   "cell_type": "code",
   "execution_count": 13,
   "metadata": {},
   "outputs": [
    {
     "data": {
      "text/html": [
       "<div>\n",
       "<style scoped>\n",
       "    .dataframe tbody tr th:only-of-type {\n",
       "        vertical-align: middle;\n",
       "    }\n",
       "\n",
       "    .dataframe tbody tr th {\n",
       "        vertical-align: top;\n",
       "    }\n",
       "\n",
       "    .dataframe thead th {\n",
       "        text-align: right;\n",
       "    }\n",
       "</style>\n",
       "<table border=\"1\" class=\"dataframe\">\n",
       "  <thead>\n",
       "    <tr style=\"text-align: right;\">\n",
       "      <th></th>\n",
       "      <th>id</th>\n",
       "      <th>created_utc</th>\n",
       "      <th>title</th>\n",
       "      <th>selftext</th>\n",
       "      <th>num_comments</th>\n",
       "      <th>subreddit</th>\n",
       "      <th>subreddit_id</th>\n",
       "      <th>score</th>\n",
       "      <th>author_fullname</th>\n",
       "      <th>link_flair_text</th>\n",
       "    </tr>\n",
       "  </thead>\n",
       "  <tbody>\n",
       "    <tr>\n",
       "      <th>0</th>\n",
       "      <td>rt6lc0</td>\n",
       "      <td>1640994901</td>\n",
       "      <td>Utterly alone on New Year’s Eve, as has been t...</td>\n",
       "      <td>The last time I celebrated New Year’s I went t...</td>\n",
       "      <td>0</td>\n",
       "      <td>CasualConversation</td>\n",
       "      <td>t5_323oy</td>\n",
       "      <td>1</td>\n",
       "      <td>t2_6ie2sdjz</td>\n",
       "      <td>:chat: Just Chatting</td>\n",
       "    </tr>\n",
       "    <tr>\n",
       "      <th>1</th>\n",
       "      <td>rt6km3</td>\n",
       "      <td>1640994833</td>\n",
       "      <td>Rest in Peace Betty White</td>\n",
       "      <td>[removed]</td>\n",
       "      <td>1</td>\n",
       "      <td>CasualConversation</td>\n",
       "      <td>t5_323oy</td>\n",
       "      <td>1</td>\n",
       "      <td>t2_d7ujoy14</td>\n",
       "      <td>:chat: Just Chatting</td>\n",
       "    </tr>\n",
       "    <tr>\n",
       "      <th>2</th>\n",
       "      <td>rt6igm</td>\n",
       "      <td>1640994650</td>\n",
       "      <td>RIP Betty White</td>\n",
       "      <td>[removed]</td>\n",
       "      <td>1</td>\n",
       "      <td>CasualConversation</td>\n",
       "      <td>t5_323oy</td>\n",
       "      <td>1</td>\n",
       "      <td>t2_d7ujoy14</td>\n",
       "      <td>no context⇢</td>\n",
       "    </tr>\n",
       "    <tr>\n",
       "      <th>3</th>\n",
       "      <td>rt6hfy</td>\n",
       "      <td>1640994559</td>\n",
       "      <td>Off to a fresh start!</td>\n",
       "      <td>[removed]</td>\n",
       "      <td>0</td>\n",
       "      <td>CasualConversation</td>\n",
       "      <td>t5_323oy</td>\n",
       "      <td>1</td>\n",
       "      <td>t2_i4drbzzc</td>\n",
       "      <td>:chat: Just Chatting</td>\n",
       "    </tr>\n",
       "    <tr>\n",
       "      <th>4</th>\n",
       "      <td>rt6hal</td>\n",
       "      <td>1640994543</td>\n",
       "      <td>Does anyone remember the name of this multi-co...</td>\n",
       "      <td>When I was younger, I used this cookie dough s...</td>\n",
       "      <td>0</td>\n",
       "      <td>CasualConversation</td>\n",
       "      <td>t5_323oy</td>\n",
       "      <td>2</td>\n",
       "      <td>t2_408k9r0a</td>\n",
       "      <td>:food: Food &amp;amp; Drinks</td>\n",
       "    </tr>\n",
       "    <tr>\n",
       "      <th>...</th>\n",
       "      <td>...</td>\n",
       "      <td>...</td>\n",
       "      <td>...</td>\n",
       "      <td>...</td>\n",
       "      <td>...</td>\n",
       "      <td>...</td>\n",
       "      <td>...</td>\n",
       "      <td>...</td>\n",
       "      <td>...</td>\n",
       "      <td>...</td>\n",
       "    </tr>\n",
       "    <tr>\n",
       "      <th>33423</th>\n",
       "      <td>n28al4</td>\n",
       "      <td>1619832785</td>\n",
       "      <td>I was thrown a really nice birthday party but ...</td>\n",
       "      <td>It’s really hard for me to like things. It’s n...</td>\n",
       "      <td>1</td>\n",
       "      <td>CasualConversation</td>\n",
       "      <td>t5_323oy</td>\n",
       "      <td>1</td>\n",
       "      <td>t2_4fcntziq</td>\n",
       "      <td>:chat: Just Chatting</td>\n",
       "    </tr>\n",
       "    <tr>\n",
       "      <th>33424</th>\n",
       "      <td>n289pw</td>\n",
       "      <td>1619832696</td>\n",
       "      <td>I'm a Christian let's talk I'm bored</td>\n",
       "      <td>[removed]</td>\n",
       "      <td>1</td>\n",
       "      <td>CasualConversation</td>\n",
       "      <td>t5_323oy</td>\n",
       "      <td>1</td>\n",
       "      <td>t2_3qx10vn1</td>\n",
       "      <td>:chat: Just Chatting</td>\n",
       "    </tr>\n",
       "    <tr>\n",
       "      <th>33425</th>\n",
       "      <td>n289b2</td>\n",
       "      <td>1619832652</td>\n",
       "      <td>My bus driver calls me big guy almost every ti...</td>\n",
       "      <td>It's nice. I was a real scrawny kid and I've o...</td>\n",
       "      <td>167</td>\n",
       "      <td>CasualConversation</td>\n",
       "      <td>t5_323oy</td>\n",
       "      <td>1</td>\n",
       "      <td>t2_42tqbxjo</td>\n",
       "      <td>None</td>\n",
       "    </tr>\n",
       "    <tr>\n",
       "      <th>33426</th>\n",
       "      <td>n285ek</td>\n",
       "      <td>1619832240</td>\n",
       "      <td>Ever notice youre a human being and suddenly e...</td>\n",
       "      <td>Im not sure if a fish knows its a fish and is ...</td>\n",
       "      <td>9</td>\n",
       "      <td>CasualConversation</td>\n",
       "      <td>t5_323oy</td>\n",
       "      <td>1</td>\n",
       "      <td>t2_ab978iz7</td>\n",
       "      <td>None</td>\n",
       "    </tr>\n",
       "    <tr>\n",
       "      <th>33427</th>\n",
       "      <td>n284tf</td>\n",
       "      <td>1619832178</td>\n",
       "      <td>My wife was just diagnosed with Thyroid cancer...</td>\n",
       "      <td>[removed]</td>\n",
       "      <td>1</td>\n",
       "      <td>CasualConversation</td>\n",
       "      <td>t5_323oy</td>\n",
       "      <td>1</td>\n",
       "      <td>t2_1cotxs70</td>\n",
       "      <td>None</td>\n",
       "    </tr>\n",
       "  </tbody>\n",
       "</table>\n",
       "<p>33428 rows × 10 columns</p>\n",
       "</div>"
      ],
      "text/plain": [
       "           id  created_utc                                              title  \\\n",
       "0      rt6lc0   1640994901  Utterly alone on New Year’s Eve, as has been t...   \n",
       "1      rt6km3   1640994833                          Rest in Peace Betty White   \n",
       "2      rt6igm   1640994650                                    RIP Betty White   \n",
       "3      rt6hfy   1640994559                              Off to a fresh start!   \n",
       "4      rt6hal   1640994543  Does anyone remember the name of this multi-co...   \n",
       "...       ...          ...                                                ...   \n",
       "33423  n28al4   1619832785  I was thrown a really nice birthday party but ...   \n",
       "33424  n289pw   1619832696               I'm a Christian let's talk I'm bored   \n",
       "33425  n289b2   1619832652  My bus driver calls me big guy almost every ti...   \n",
       "33426  n285ek   1619832240  Ever notice youre a human being and suddenly e...   \n",
       "33427  n284tf   1619832178  My wife was just diagnosed with Thyroid cancer...   \n",
       "\n",
       "                                                selftext  num_comments  \\\n",
       "0      The last time I celebrated New Year’s I went t...             0   \n",
       "1                                              [removed]             1   \n",
       "2                                              [removed]             1   \n",
       "3                                              [removed]             0   \n",
       "4      When I was younger, I used this cookie dough s...             0   \n",
       "...                                                  ...           ...   \n",
       "33423  It’s really hard for me to like things. It’s n...             1   \n",
       "33424                                          [removed]             1   \n",
       "33425  It's nice. I was a real scrawny kid and I've o...           167   \n",
       "33426  Im not sure if a fish knows its a fish and is ...             9   \n",
       "33427                                          [removed]             1   \n",
       "\n",
       "                subreddit subreddit_id  score author_fullname  \\\n",
       "0      CasualConversation     t5_323oy      1     t2_6ie2sdjz   \n",
       "1      CasualConversation     t5_323oy      1     t2_d7ujoy14   \n",
       "2      CasualConversation     t5_323oy      1     t2_d7ujoy14   \n",
       "3      CasualConversation     t5_323oy      1     t2_i4drbzzc   \n",
       "4      CasualConversation     t5_323oy      2     t2_408k9r0a   \n",
       "...                   ...          ...    ...             ...   \n",
       "33423  CasualConversation     t5_323oy      1     t2_4fcntziq   \n",
       "33424  CasualConversation     t5_323oy      1     t2_3qx10vn1   \n",
       "33425  CasualConversation     t5_323oy      1     t2_42tqbxjo   \n",
       "33426  CasualConversation     t5_323oy      1     t2_ab978iz7   \n",
       "33427  CasualConversation     t5_323oy      1     t2_1cotxs70   \n",
       "\n",
       "                link_flair_text  \n",
       "0          :chat: Just Chatting  \n",
       "1          :chat: Just Chatting  \n",
       "2                   no context⇢  \n",
       "3          :chat: Just Chatting  \n",
       "4      :food: Food &amp; Drinks  \n",
       "...                         ...  \n",
       "33423      :chat: Just Chatting  \n",
       "33424      :chat: Just Chatting  \n",
       "33425                      None  \n",
       "33426                      None  \n",
       "33427                      None  \n",
       "\n",
       "[33428 rows x 10 columns]"
      ]
     },
     "execution_count": 13,
     "metadata": {},
     "output_type": "execute_result"
    }
   ],
   "source": [
    "submission_df"
   ]
  },
  {
   "cell_type": "code",
   "execution_count": 14,
   "metadata": {},
   "outputs": [],
   "source": [
    "submission_df.to_csv('../data/reddit/raw/casual_conv_submissions_20210501_20211231.csv', index = False)"
   ]
  },
  {
   "cell_type": "markdown",
   "metadata": {},
   "source": [
    "# Crawl Comments According to the Submissions"
   ]
  },
  {
   "cell_type": "code",
   "execution_count": 15,
   "metadata": {},
   "outputs": [],
   "source": [
    "submission_df = pd.read_csv('../data/reddit/raw/casual_conv_submissions_20210501_20211231.csv')"
   ]
  },
  {
   "cell_type": "code",
   "execution_count": 16,
   "metadata": {},
   "outputs": [
    {
     "data": {
      "text/html": [
       "<div>\n",
       "<style scoped>\n",
       "    .dataframe tbody tr th:only-of-type {\n",
       "        vertical-align: middle;\n",
       "    }\n",
       "\n",
       "    .dataframe tbody tr th {\n",
       "        vertical-align: top;\n",
       "    }\n",
       "\n",
       "    .dataframe thead th {\n",
       "        text-align: right;\n",
       "    }\n",
       "</style>\n",
       "<table border=\"1\" class=\"dataframe\">\n",
       "  <thead>\n",
       "    <tr style=\"text-align: right;\">\n",
       "      <th></th>\n",
       "      <th>id</th>\n",
       "      <th>created_utc</th>\n",
       "      <th>title</th>\n",
       "      <th>selftext</th>\n",
       "      <th>num_comments</th>\n",
       "      <th>subreddit</th>\n",
       "      <th>subreddit_id</th>\n",
       "      <th>score</th>\n",
       "      <th>author_fullname</th>\n",
       "      <th>link_flair_text</th>\n",
       "    </tr>\n",
       "  </thead>\n",
       "  <tbody>\n",
       "    <tr>\n",
       "      <th>0</th>\n",
       "      <td>rt6lc0</td>\n",
       "      <td>1640994901</td>\n",
       "      <td>Utterly alone on New Year’s Eve, as has been t...</td>\n",
       "      <td>The last time I celebrated New Year’s I went t...</td>\n",
       "      <td>0</td>\n",
       "      <td>CasualConversation</td>\n",
       "      <td>t5_323oy</td>\n",
       "      <td>1</td>\n",
       "      <td>t2_6ie2sdjz</td>\n",
       "      <td>:chat: Just Chatting</td>\n",
       "    </tr>\n",
       "    <tr>\n",
       "      <th>1</th>\n",
       "      <td>rt6km3</td>\n",
       "      <td>1640994833</td>\n",
       "      <td>Rest in Peace Betty White</td>\n",
       "      <td>[removed]</td>\n",
       "      <td>1</td>\n",
       "      <td>CasualConversation</td>\n",
       "      <td>t5_323oy</td>\n",
       "      <td>1</td>\n",
       "      <td>t2_d7ujoy14</td>\n",
       "      <td>:chat: Just Chatting</td>\n",
       "    </tr>\n",
       "    <tr>\n",
       "      <th>2</th>\n",
       "      <td>rt6igm</td>\n",
       "      <td>1640994650</td>\n",
       "      <td>RIP Betty White</td>\n",
       "      <td>[removed]</td>\n",
       "      <td>1</td>\n",
       "      <td>CasualConversation</td>\n",
       "      <td>t5_323oy</td>\n",
       "      <td>1</td>\n",
       "      <td>t2_d7ujoy14</td>\n",
       "      <td>no context⇢</td>\n",
       "    </tr>\n",
       "    <tr>\n",
       "      <th>3</th>\n",
       "      <td>rt6hfy</td>\n",
       "      <td>1640994559</td>\n",
       "      <td>Off to a fresh start!</td>\n",
       "      <td>[removed]</td>\n",
       "      <td>0</td>\n",
       "      <td>CasualConversation</td>\n",
       "      <td>t5_323oy</td>\n",
       "      <td>1</td>\n",
       "      <td>t2_i4drbzzc</td>\n",
       "      <td>:chat: Just Chatting</td>\n",
       "    </tr>\n",
       "    <tr>\n",
       "      <th>4</th>\n",
       "      <td>rt6hal</td>\n",
       "      <td>1640994543</td>\n",
       "      <td>Does anyone remember the name of this multi-co...</td>\n",
       "      <td>When I was younger, I used this cookie dough s...</td>\n",
       "      <td>0</td>\n",
       "      <td>CasualConversation</td>\n",
       "      <td>t5_323oy</td>\n",
       "      <td>2</td>\n",
       "      <td>t2_408k9r0a</td>\n",
       "      <td>:food: Food &amp;amp; Drinks</td>\n",
       "    </tr>\n",
       "    <tr>\n",
       "      <th>...</th>\n",
       "      <td>...</td>\n",
       "      <td>...</td>\n",
       "      <td>...</td>\n",
       "      <td>...</td>\n",
       "      <td>...</td>\n",
       "      <td>...</td>\n",
       "      <td>...</td>\n",
       "      <td>...</td>\n",
       "      <td>...</td>\n",
       "      <td>...</td>\n",
       "    </tr>\n",
       "    <tr>\n",
       "      <th>33423</th>\n",
       "      <td>n28al4</td>\n",
       "      <td>1619832785</td>\n",
       "      <td>I was thrown a really nice birthday party but ...</td>\n",
       "      <td>It’s really hard for me to like things. It’s n...</td>\n",
       "      <td>1</td>\n",
       "      <td>CasualConversation</td>\n",
       "      <td>t5_323oy</td>\n",
       "      <td>1</td>\n",
       "      <td>t2_4fcntziq</td>\n",
       "      <td>:chat: Just Chatting</td>\n",
       "    </tr>\n",
       "    <tr>\n",
       "      <th>33424</th>\n",
       "      <td>n289pw</td>\n",
       "      <td>1619832696</td>\n",
       "      <td>I'm a Christian let's talk I'm bored</td>\n",
       "      <td>[removed]</td>\n",
       "      <td>1</td>\n",
       "      <td>CasualConversation</td>\n",
       "      <td>t5_323oy</td>\n",
       "      <td>1</td>\n",
       "      <td>t2_3qx10vn1</td>\n",
       "      <td>:chat: Just Chatting</td>\n",
       "    </tr>\n",
       "    <tr>\n",
       "      <th>33425</th>\n",
       "      <td>n289b2</td>\n",
       "      <td>1619832652</td>\n",
       "      <td>My bus driver calls me big guy almost every ti...</td>\n",
       "      <td>It's nice. I was a real scrawny kid and I've o...</td>\n",
       "      <td>167</td>\n",
       "      <td>CasualConversation</td>\n",
       "      <td>t5_323oy</td>\n",
       "      <td>1</td>\n",
       "      <td>t2_42tqbxjo</td>\n",
       "      <td>NaN</td>\n",
       "    </tr>\n",
       "    <tr>\n",
       "      <th>33426</th>\n",
       "      <td>n285ek</td>\n",
       "      <td>1619832240</td>\n",
       "      <td>Ever notice youre a human being and suddenly e...</td>\n",
       "      <td>Im not sure if a fish knows its a fish and is ...</td>\n",
       "      <td>9</td>\n",
       "      <td>CasualConversation</td>\n",
       "      <td>t5_323oy</td>\n",
       "      <td>1</td>\n",
       "      <td>t2_ab978iz7</td>\n",
       "      <td>NaN</td>\n",
       "    </tr>\n",
       "    <tr>\n",
       "      <th>33427</th>\n",
       "      <td>n284tf</td>\n",
       "      <td>1619832178</td>\n",
       "      <td>My wife was just diagnosed with Thyroid cancer...</td>\n",
       "      <td>[removed]</td>\n",
       "      <td>1</td>\n",
       "      <td>CasualConversation</td>\n",
       "      <td>t5_323oy</td>\n",
       "      <td>1</td>\n",
       "      <td>t2_1cotxs70</td>\n",
       "      <td>NaN</td>\n",
       "    </tr>\n",
       "  </tbody>\n",
       "</table>\n",
       "<p>33428 rows × 10 columns</p>\n",
       "</div>"
      ],
      "text/plain": [
       "           id  created_utc                                              title  \\\n",
       "0      rt6lc0   1640994901  Utterly alone on New Year’s Eve, as has been t...   \n",
       "1      rt6km3   1640994833                          Rest in Peace Betty White   \n",
       "2      rt6igm   1640994650                                    RIP Betty White   \n",
       "3      rt6hfy   1640994559                              Off to a fresh start!   \n",
       "4      rt6hal   1640994543  Does anyone remember the name of this multi-co...   \n",
       "...       ...          ...                                                ...   \n",
       "33423  n28al4   1619832785  I was thrown a really nice birthday party but ...   \n",
       "33424  n289pw   1619832696               I'm a Christian let's talk I'm bored   \n",
       "33425  n289b2   1619832652  My bus driver calls me big guy almost every ti...   \n",
       "33426  n285ek   1619832240  Ever notice youre a human being and suddenly e...   \n",
       "33427  n284tf   1619832178  My wife was just diagnosed with Thyroid cancer...   \n",
       "\n",
       "                                                selftext  num_comments  \\\n",
       "0      The last time I celebrated New Year’s I went t...             0   \n",
       "1                                              [removed]             1   \n",
       "2                                              [removed]             1   \n",
       "3                                              [removed]             0   \n",
       "4      When I was younger, I used this cookie dough s...             0   \n",
       "...                                                  ...           ...   \n",
       "33423  It’s really hard for me to like things. It’s n...             1   \n",
       "33424                                          [removed]             1   \n",
       "33425  It's nice. I was a real scrawny kid and I've o...           167   \n",
       "33426  Im not sure if a fish knows its a fish and is ...             9   \n",
       "33427                                          [removed]             1   \n",
       "\n",
       "                subreddit subreddit_id  score author_fullname  \\\n",
       "0      CasualConversation     t5_323oy      1     t2_6ie2sdjz   \n",
       "1      CasualConversation     t5_323oy      1     t2_d7ujoy14   \n",
       "2      CasualConversation     t5_323oy      1     t2_d7ujoy14   \n",
       "3      CasualConversation     t5_323oy      1     t2_i4drbzzc   \n",
       "4      CasualConversation     t5_323oy      2     t2_408k9r0a   \n",
       "...                   ...          ...    ...             ...   \n",
       "33423  CasualConversation     t5_323oy      1     t2_4fcntziq   \n",
       "33424  CasualConversation     t5_323oy      1     t2_3qx10vn1   \n",
       "33425  CasualConversation     t5_323oy      1     t2_42tqbxjo   \n",
       "33426  CasualConversation     t5_323oy      1     t2_ab978iz7   \n",
       "33427  CasualConversation     t5_323oy      1     t2_1cotxs70   \n",
       "\n",
       "                link_flair_text  \n",
       "0          :chat: Just Chatting  \n",
       "1          :chat: Just Chatting  \n",
       "2                   no context⇢  \n",
       "3          :chat: Just Chatting  \n",
       "4      :food: Food &amp; Drinks  \n",
       "...                         ...  \n",
       "33423      :chat: Just Chatting  \n",
       "33424      :chat: Just Chatting  \n",
       "33425                       NaN  \n",
       "33426                       NaN  \n",
       "33427                       NaN  \n",
       "\n",
       "[33428 rows x 10 columns]"
      ]
     },
     "execution_count": 16,
     "metadata": {},
     "output_type": "execute_result"
    }
   ],
   "source": [
    "submission_df"
   ]
  },
  {
   "cell_type": "code",
   "execution_count": 17,
   "metadata": {},
   "outputs": [],
   "source": [
    "def is_json(json_data):\n",
    "    try:\n",
    "        json_object = json.loads(json_data)\n",
    "    except:\n",
    "        return False\n",
    "    return True"
   ]
  },
  {
   "cell_type": "code",
   "execution_count": 18,
   "metadata": {},
   "outputs": [],
   "source": [
    "comment_ids = []"
   ]
  },
  {
   "cell_type": "code",
   "execution_count": null,
   "metadata": {},
   "outputs": [],
   "source": [
    "url = 'https://api.pushshift.io/reddit/submission/comment_ids/{}'.format(submission_df.iloc[33426]['id'])\n",
    "res = requests.get(url)\n",
    "res.text"
   ]
  },
  {
   "cell_type": "code",
   "execution_count": 33,
   "metadata": {},
   "outputs": [
    {
     "name": "stderr",
     "output_type": "stream",
     "text": [
      "100%|████████████████████████████████████████████████████████████████████████████████████████████████████████| 31472/31472 [25:16:57<00:00,  2.89s/it]\n"
     ]
    }
   ],
   "source": [
    "for i in tqdm(range(1956, submission_df.shape[0])):\n",
    "    submission_id = submission_df.iloc[i]['id']\n",
    "    url = 'https://api.pushshift.io/reddit/submission/comment_ids/{}'.format(submission_id)\n",
    "    res = requests.get(url)\n",
    "    if is_json(res.text):\n",
    "        comment_ids += res.json()['data']"
   ]
  },
  {
   "cell_type": "code",
   "execution_count": 34,
   "metadata": {},
   "outputs": [
    {
     "data": {
      "text/plain": [
       "313366"
      ]
     },
     "execution_count": 34,
     "metadata": {},
     "output_type": "execute_result"
    }
   ],
   "source": [
    "len(comment_ids)"
   ]
  },
  {
   "cell_type": "code",
   "execution_count": 35,
   "metadata": {},
   "outputs": [],
   "source": [
    "pd.DataFrame({'id': comment_ids}).to_csv('../data/reddit/raw/casual_conv_comment_ids_20210501_20211231.csv', index = False)"
   ]
  },
  {
   "cell_type": "markdown",
   "metadata": {},
   "source": [
    "### Continue crawling the comment ids"
   ]
  },
  {
   "cell_type": "code",
   "execution_count": 20,
   "metadata": {},
   "outputs": [
    {
     "data": {
      "text/plain": [
       "0"
      ]
     },
     "execution_count": 20,
     "metadata": {},
     "output_type": "execute_result"
    }
   ],
   "source": [
    "len(comment_ids)"
   ]
  },
  {
   "cell_type": "code",
   "execution_count": 169,
   "metadata": {},
   "outputs": [
    {
     "data": {
      "text/plain": [
       "['dc76tfw',\n",
       " 'dd1cdhv',\n",
       " 'dbx20a3',\n",
       " 'dc6qxsl',\n",
       " 'dcosxo6',\n",
       " 'dcow3f7',\n",
       " 'dc5dmfn',\n",
       " 'dcq5plm',\n",
       " 'dc08ifx',\n",
       " 'dbz8074']"
      ]
     },
     "execution_count": 169,
     "metadata": {},
     "output_type": "execute_result"
    }
   ],
   "source": [
    "comment_ids[-10:]"
   ]
  },
  {
   "cell_type": "code",
   "execution_count": 138,
   "metadata": {},
   "outputs": [
    {
     "name": "stdout",
     "output_type": "stream",
     "text": [
      "['djp74h6', 'djp7bjg', 'djp7pzm', 'djp8srl', 'djp9wz0', 'djpac3w', 'djpag5e', 'djpakig', 'djpasvb', 'djpax12', 'djpb54f', 'djpb6rz', 'djpb7h7', 'djpbcl5', 'djpbqrm', 'djpbyrl', 'djpcceq', 'djpd9e4']\n"
     ]
    }
   ],
   "source": [
    "url = 'https://api.pushshift.io/reddit/submission/comment_ids/{}'.format(submission_df.iloc[26182+9702]['id'])\n",
    "res = requests.get(url)\n",
    "print(res.json()['data'])\n",
    "for i in res.json()['data']:\n",
    "    if i in comment_ids:\n",
    "        print(True)"
   ]
  },
  {
   "cell_type": "code",
   "execution_count": 140,
   "metadata": {
    "scrolled": true
   },
   "outputs": [
    {
     "data": {
      "text/plain": [
       "['djp7nh2',\n",
       " 'djp7qbn',\n",
       " 'djp7t1v',\n",
       " 'djp7xyd',\n",
       " 'djp7yfs',\n",
       " 'djp81zg',\n",
       " 'djp82el',\n",
       " 'djp83ct',\n",
       " 'djp8xdp',\n",
       " 'djp9hkd',\n",
       " 'djpa0z3',\n",
       " 'djpeu2c']"
      ]
     },
     "execution_count": 140,
     "metadata": {},
     "output_type": "execute_result"
    }
   ],
   "source": [
    "url = 'https://api.pushshift.io/reddit/submission/comment_ids/{}'.format(submission_df.iloc[26182+9701]['id'])\n",
    "res = requests.get(url)\n",
    "res.json()['data']"
   ]
  },
  {
   "cell_type": "code",
   "execution_count": 141,
   "metadata": {},
   "outputs": [
    {
     "name": "stderr",
     "output_type": "stream",
     "text": [
      "100%|████████████████████████████████████████████████████████| 19659/19659 [12:21:52<00:00,  2.26s/it]\n"
     ]
    }
   ],
   "source": [
    "for i in tqdm(range(26182+9702, submission_df.shape[0])):\n",
    "    submission_id = submission_df.iloc[i]['id']\n",
    "    url = 'https://api.pushshift.io/reddit/submission/comment_ids/{}'.format(submission_id)\n",
    "    res = requests.get(url)\n",
    "    if is_json(res.text):\n",
    "        comment_ids += res.json()['data']"
   ]
  },
  {
   "cell_type": "code",
   "execution_count": 142,
   "metadata": {},
   "outputs": [
    {
     "data": {
      "text/plain": [
       "1017407"
      ]
     },
     "execution_count": 142,
     "metadata": {},
     "output_type": "execute_result"
    }
   ],
   "source": [
    "len(comment_ids)"
   ]
  },
  {
   "cell_type": "code",
   "execution_count": 143,
   "metadata": {},
   "outputs": [],
   "source": [
    "pd.DataFrame({'id': comment_ids}).to_csv('pushshift/casual_conv_comment_ids_20170101_20171231.csv', index = False)"
   ]
  },
  {
   "cell_type": "markdown",
   "metadata": {},
   "source": [
    "--------------------"
   ]
  },
  {
   "cell_type": "code",
   "execution_count": 59,
   "metadata": {},
   "outputs": [],
   "source": [
    "comment_cols = ['id', 'link_id', 'parent_id', 'created_utc', 'body', 'subreddit', 'subreddit_id']\n",
    "comment_cols_opt = ['score', 'author_fullname']"
   ]
  },
  {
   "cell_type": "code",
   "execution_count": 60,
   "metadata": {},
   "outputs": [],
   "source": [
    "comment_dict = {col: [] for col in comment_cols + comment_cols_opt}"
   ]
  },
  {
   "cell_type": "code",
   "execution_count": 61,
   "metadata": {},
   "outputs": [],
   "source": [
    "def crawl_comments(comment_query):\n",
    "    url = 'https://api.pushshift.io/reddit/comment/search?ids={}'.format(comment_query)\n",
    "    res = requests.get(url)\n",
    "    if not is_json(res.text):\n",
    "        return\n",
    "    comments = res.json()['data']\n",
    "\n",
    "    for comment in comments:\n",
    "        all_cols_exist = True\n",
    "        for col in comment_cols:\n",
    "            if col not in comment:\n",
    "                all_cols_exist = False\n",
    "                break\n",
    "        if not all_cols_exist:\n",
    "            continue\n",
    "\n",
    "        for col in comment_cols:\n",
    "            comment_dict[col].append(comment[col])\n",
    "\n",
    "        for col in comment_cols_opt:\n",
    "            if col in comment:\n",
    "                comment_dict[col].append(comment[col])\n",
    "            else:\n",
    "                comment_dict[col].append(None)"
   ]
  },
  {
   "cell_type": "code",
   "execution_count": 62,
   "metadata": {},
   "outputs": [
    {
     "name": "stderr",
     "output_type": "stream",
     "text": [
      "100%|█████████████████████████████████████████████████████████████████████████████████████████████████████████████| 626/626 [1:17:43<00:00,  7.45s/it]\n"
     ]
    }
   ],
   "source": [
    "N = len(comment_ids)\n",
    "batch_size = 500\n",
    "num_batches = N // batch_size\n",
    "\n",
    "for batch in tqdm(range(num_batches)):\n",
    "    s = batch * batch_size\n",
    "    t = s + batch_size\n",
    "    comment_query = ','.join(comment_ids[s:t])\n",
    "    crawl_comments(comment_query)\n",
    "\n",
    "if N % batch_size != 0:\n",
    "    comment_query = ','.join(comment_ids[(num_batches*batch_size):N])\n",
    "    crawl_comments(comment_query)"
   ]
  },
  {
   "cell_type": "code",
   "execution_count": 63,
   "metadata": {},
   "outputs": [],
   "source": [
    "comment_df = pd.DataFrame(comment_dict)"
   ]
  },
  {
   "cell_type": "code",
   "execution_count": 64,
   "metadata": {
    "scrolled": true
   },
   "outputs": [
    {
     "data": {
      "text/html": [
       "<div>\n",
       "<style scoped>\n",
       "    .dataframe tbody tr th:only-of-type {\n",
       "        vertical-align: middle;\n",
       "    }\n",
       "\n",
       "    .dataframe tbody tr th {\n",
       "        vertical-align: top;\n",
       "    }\n",
       "\n",
       "    .dataframe thead th {\n",
       "        text-align: right;\n",
       "    }\n",
       "</style>\n",
       "<table border=\"1\" class=\"dataframe\">\n",
       "  <thead>\n",
       "    <tr style=\"text-align: right;\">\n",
       "      <th></th>\n",
       "      <th>id</th>\n",
       "      <th>link_id</th>\n",
       "      <th>parent_id</th>\n",
       "      <th>created_utc</th>\n",
       "      <th>body</th>\n",
       "      <th>subreddit</th>\n",
       "      <th>subreddit_id</th>\n",
       "      <th>score</th>\n",
       "      <th>author_fullname</th>\n",
       "    </tr>\n",
       "  </thead>\n",
       "  <tbody>\n",
       "    <tr>\n",
       "      <th>0</th>\n",
       "      <td>hm5iqwj</td>\n",
       "      <td>t3_r2nmvy</td>\n",
       "      <td>t3_r2nmvy</td>\n",
       "      <td>1637933885</td>\n",
       "      <td>Yeah, they’re fun! Conscious Club is campy in ...</td>\n",
       "      <td>CasualConversation</td>\n",
       "      <td>t5_323oy</td>\n",
       "      <td>1</td>\n",
       "      <td>t2_5yhjayls</td>\n",
       "    </tr>\n",
       "    <tr>\n",
       "      <th>1</th>\n",
       "      <td>hm5iup9</td>\n",
       "      <td>t3_r2nlu7</td>\n",
       "      <td>t3_r2nlu7</td>\n",
       "      <td>1637933947</td>\n",
       "      <td>Sounds like fate, but also disgusting. I hope ...</td>\n",
       "      <td>CasualConversation</td>\n",
       "      <td>t5_323oy</td>\n",
       "      <td>62</td>\n",
       "      <td>t2_g7sdcvpm</td>\n",
       "    </tr>\n",
       "    <tr>\n",
       "      <th>2</th>\n",
       "      <td>hm5iuth</td>\n",
       "      <td>t3_r2nmvy</td>\n",
       "      <td>t1_hm5iqwj</td>\n",
       "      <td>1637933949</td>\n",
       "      <td>I know!</td>\n",
       "      <td>CasualConversation</td>\n",
       "      <td>t5_323oy</td>\n",
       "      <td>1</td>\n",
       "      <td>t2_dvd2sbpi</td>\n",
       "    </tr>\n",
       "    <tr>\n",
       "      <th>3</th>\n",
       "      <td>hm5iw7v</td>\n",
       "      <td>t3_r2nlu7</td>\n",
       "      <td>t3_r2nlu7</td>\n",
       "      <td>1637933973</td>\n",
       "      <td>That is an amazing story and even bigger coinc...</td>\n",
       "      <td>CasualConversation</td>\n",
       "      <td>t5_323oy</td>\n",
       "      <td>18</td>\n",
       "      <td>t2_xeg58lg</td>\n",
       "    </tr>\n",
       "    <tr>\n",
       "      <th>4</th>\n",
       "      <td>hm5j61n</td>\n",
       "      <td>t3_r2nlu7</td>\n",
       "      <td>t1_hm5iup9</td>\n",
       "      <td>1637934133</td>\n",
       "      <td>He’s a doctor now so I hope he’s grown out of ...</td>\n",
       "      <td>CasualConversation</td>\n",
       "      <td>t5_323oy</td>\n",
       "      <td>66</td>\n",
       "      <td>t2_5t1dsc17</td>\n",
       "    </tr>\n",
       "    <tr>\n",
       "      <th>...</th>\n",
       "      <td>...</td>\n",
       "      <td>...</td>\n",
       "      <td>...</td>\n",
       "      <td>...</td>\n",
       "      <td>...</td>\n",
       "      <td>...</td>\n",
       "      <td>...</td>\n",
       "      <td>...</td>\n",
       "      <td>...</td>\n",
       "    </tr>\n",
       "    <tr>\n",
       "      <th>311179</th>\n",
       "      <td>gxy5eus</td>\n",
       "      <td>t3_n8vd4o</td>\n",
       "      <td>t3_n8vd4o</td>\n",
       "      <td>1620885281</td>\n",
       "      <td>Happy birthday, love! Sending you lots of hugs...</td>\n",
       "      <td>CasualConversation</td>\n",
       "      <td>t5_323oy</td>\n",
       "      <td>1</td>\n",
       "      <td>t2_52mchyz5</td>\n",
       "    </tr>\n",
       "    <tr>\n",
       "      <th>311180</th>\n",
       "      <td>gxyb84x</td>\n",
       "      <td>t3_n8vd4o</td>\n",
       "      <td>t3_n8vd4o</td>\n",
       "      <td>1620890228</td>\n",
       "      <td>Aw a little late but Happy Birthday! 🎉 Sorry t...</td>\n",
       "      <td>CasualConversation</td>\n",
       "      <td>t5_323oy</td>\n",
       "      <td>1</td>\n",
       "      <td>t2_4dpz39jn</td>\n",
       "    </tr>\n",
       "    <tr>\n",
       "      <th>311181</th>\n",
       "      <td>gyf3af4</td>\n",
       "      <td>t3_n8tdxi</td>\n",
       "      <td>t1_gxleuvl</td>\n",
       "      <td>1621235314</td>\n",
       "      <td>Wow...I don't even know what to say. I meet os...</td>\n",
       "      <td>CasualConversation</td>\n",
       "      <td>t5_323oy</td>\n",
       "      <td>1</td>\n",
       "      <td>t2_800dwtbb</td>\n",
       "    </tr>\n",
       "    <tr>\n",
       "      <th>311182</th>\n",
       "      <td>h8yfw7r</td>\n",
       "      <td>t3_n8uq0y</td>\n",
       "      <td>t1_gxkjuf1</td>\n",
       "      <td>1628975848</td>\n",
       "      <td>This is too relatable. My parents divorced whe...</td>\n",
       "      <td>CasualConversation</td>\n",
       "      <td>t5_323oy</td>\n",
       "      <td>1</td>\n",
       "      <td>t2_6bxxuxxo</td>\n",
       "    </tr>\n",
       "    <tr>\n",
       "      <th>311183</th>\n",
       "      <td>h8ygo4q</td>\n",
       "      <td>t3_n8uq0y</td>\n",
       "      <td>t1_gxkj9ik</td>\n",
       "      <td>1628976197</td>\n",
       "      <td>It can be traumatic to be left alone (especial...</td>\n",
       "      <td>CasualConversation</td>\n",
       "      <td>t5_323oy</td>\n",
       "      <td>1</td>\n",
       "      <td>t2_6bxxuxxo</td>\n",
       "    </tr>\n",
       "  </tbody>\n",
       "</table>\n",
       "<p>311184 rows × 9 columns</p>\n",
       "</div>"
      ],
      "text/plain": [
       "             id    link_id   parent_id  created_utc  \\\n",
       "0       hm5iqwj  t3_r2nmvy   t3_r2nmvy   1637933885   \n",
       "1       hm5iup9  t3_r2nlu7   t3_r2nlu7   1637933947   \n",
       "2       hm5iuth  t3_r2nmvy  t1_hm5iqwj   1637933949   \n",
       "3       hm5iw7v  t3_r2nlu7   t3_r2nlu7   1637933973   \n",
       "4       hm5j61n  t3_r2nlu7  t1_hm5iup9   1637934133   \n",
       "...         ...        ...         ...          ...   \n",
       "311179  gxy5eus  t3_n8vd4o   t3_n8vd4o   1620885281   \n",
       "311180  gxyb84x  t3_n8vd4o   t3_n8vd4o   1620890228   \n",
       "311181  gyf3af4  t3_n8tdxi  t1_gxleuvl   1621235314   \n",
       "311182  h8yfw7r  t3_n8uq0y  t1_gxkjuf1   1628975848   \n",
       "311183  h8ygo4q  t3_n8uq0y  t1_gxkj9ik   1628976197   \n",
       "\n",
       "                                                     body           subreddit  \\\n",
       "0       Yeah, they’re fun! Conscious Club is campy in ...  CasualConversation   \n",
       "1       Sounds like fate, but also disgusting. I hope ...  CasualConversation   \n",
       "2                                                 I know!  CasualConversation   \n",
       "3       That is an amazing story and even bigger coinc...  CasualConversation   \n",
       "4       He’s a doctor now so I hope he’s grown out of ...  CasualConversation   \n",
       "...                                                   ...                 ...   \n",
       "311179  Happy birthday, love! Sending you lots of hugs...  CasualConversation   \n",
       "311180  Aw a little late but Happy Birthday! 🎉 Sorry t...  CasualConversation   \n",
       "311181  Wow...I don't even know what to say. I meet os...  CasualConversation   \n",
       "311182  This is too relatable. My parents divorced whe...  CasualConversation   \n",
       "311183  It can be traumatic to be left alone (especial...  CasualConversation   \n",
       "\n",
       "       subreddit_id  score author_fullname  \n",
       "0          t5_323oy      1     t2_5yhjayls  \n",
       "1          t5_323oy     62     t2_g7sdcvpm  \n",
       "2          t5_323oy      1     t2_dvd2sbpi  \n",
       "3          t5_323oy     18      t2_xeg58lg  \n",
       "4          t5_323oy     66     t2_5t1dsc17  \n",
       "...             ...    ...             ...  \n",
       "311179     t5_323oy      1     t2_52mchyz5  \n",
       "311180     t5_323oy      1     t2_4dpz39jn  \n",
       "311181     t5_323oy      1     t2_800dwtbb  \n",
       "311182     t5_323oy      1     t2_6bxxuxxo  \n",
       "311183     t5_323oy      1     t2_6bxxuxxo  \n",
       "\n",
       "[311184 rows x 9 columns]"
      ]
     },
     "execution_count": 64,
     "metadata": {},
     "output_type": "execute_result"
    }
   ],
   "source": [
    "comment_df"
   ]
  },
  {
   "cell_type": "code",
   "execution_count": 65,
   "metadata": {},
   "outputs": [],
   "source": [
    "comment_df.to_csv('../data/reddit/raw/casual_conv_comments_20210501_20211231.csv', index = False)"
   ]
  },
  {
   "cell_type": "code",
   "execution_count": null,
   "metadata": {},
   "outputs": [],
   "source": []
  }
 ],
 "metadata": {
  "kernelspec": {
   "display_name": "Python 3 (ipykernel)",
   "language": "python",
   "name": "python3"
  },
  "language_info": {
   "codemirror_mode": {
    "name": "ipython",
    "version": 3
   },
   "file_extension": ".py",
   "mimetype": "text/x-python",
   "name": "python",
   "nbconvert_exporter": "python",
   "pygments_lexer": "ipython3",
   "version": "3.8.9"
  }
 },
 "nbformat": 4,
 "nbformat_minor": 4
}
